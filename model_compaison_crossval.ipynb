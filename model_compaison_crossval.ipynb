{
  "nbformat": 4,
  "nbformat_minor": 0,
  "metadata": {
    "colab": {
      "provenance": [],
      "authorship_tag": "ABX9TyOgU8sY235PZT/3n9IXyeLx",
      "include_colab_link": true
    },
    "kernelspec": {
      "name": "python3",
      "display_name": "Python 3"
    },
    "language_info": {
      "name": "python"
    }
  },
  "cells": [
    {
      "cell_type": "markdown",
      "metadata": {
        "id": "view-in-github",
        "colab_type": "text"
      },
      "source": [
        "<a href=\"https://colab.research.google.com/github/Entro01/ML-starter/blob/main/model_compaison_crossval.ipynb\" target=\"_parent\"><img src=\"https://colab.research.google.com/assets/colab-badge.svg\" alt=\"Open In Colab\"/></a>"
      ]
    },
    {
      "cell_type": "code",
      "source": [
        "# for eda, refer to 'model_compaison_standardsplit.ipynb'"
      ],
      "metadata": {
        "id": "a3_sdMh8JKmX"
      },
      "execution_count": null,
      "outputs": []
    },
    {
      "cell_type": "code",
      "source": [
        "from sklearn.datasets import load_iris\n",
        "from sklearn.linear_model import LogisticRegression\n",
        "from sklearn.svm import SVC\n",
        "from sklearn.naive_bayes import GaussianNB\n",
        "from sklearn.tree import DecisionTreeClassifier\n",
        "from sklearn.ensemble import RandomForestClassifier\n",
        "from sklearn.model_selection import cross_val_score, cross_val_predict, StratifiedKFold\n",
        "from sklearn.metrics import confusion_matrix\n",
        "\n",
        "iris = load_iris()\n",
        "X = iris.data\n",
        "y = iris.target"
      ],
      "metadata": {
        "id": "KNs4QmR4kXGw"
      },
      "execution_count": 4,
      "outputs": []
    },
    {
      "cell_type": "code",
      "source": [
        "models = {\n",
        "  'Logistic Regression': LogisticRegression(),\n",
        "  'SVM': SVC(),\n",
        "  'Naive Bayes': GaussianNB(),\n",
        "  'Decision Tree': DecisionTreeClassifier(),\n",
        "  'Random Forest': RandomForestClassifier()\n",
        "}\n",
        "\n",
        "cv = StratifiedKFold(n_splits=5)\n",
        "\n",
        "for name, model in models.items():\n",
        " scores = cross_val_score(model, X, y, cv=cv, scoring='accuracy')\n",
        " y_pred = cross_val_predict(model, X, y, cv=cv)\n",
        " cm = confusion_matrix(y, y_pred)\n",
        " print(f'{name} Cross-Validation Score: {scores.mean() * 100} (+/- {scores.std() * 2})')\n",
        " print(f'{name} Confusion Matrix:')\n",
        " print(cm)"
      ],
      "metadata": {
        "colab": {
          "base_uri": "https://localhost:8080/"
        },
        "id": "ED0rb930kqb4",
        "outputId": "6956af56-b647-447e-a339-6f3b29b8c1d6"
      },
      "execution_count": 6,
      "outputs": [
        {
          "output_type": "stream",
          "name": "stderr",
          "text": [
            "/usr/local/lib/python3.10/dist-packages/sklearn/linear_model/_logistic.py:458: ConvergenceWarning: lbfgs failed to converge (status=1):\n",
            "STOP: TOTAL NO. of ITERATIONS REACHED LIMIT.\n",
            "\n",
            "Increase the number of iterations (max_iter) or scale the data as shown in:\n",
            "    https://scikit-learn.org/stable/modules/preprocessing.html\n",
            "Please also refer to the documentation for alternative solver options:\n",
            "    https://scikit-learn.org/stable/modules/linear_model.html#logistic-regression\n",
            "  n_iter_i = _check_optimize_result(\n",
            "/usr/local/lib/python3.10/dist-packages/sklearn/linear_model/_logistic.py:458: ConvergenceWarning: lbfgs failed to converge (status=1):\n",
            "STOP: TOTAL NO. of ITERATIONS REACHED LIMIT.\n",
            "\n",
            "Increase the number of iterations (max_iter) or scale the data as shown in:\n",
            "    https://scikit-learn.org/stable/modules/preprocessing.html\n",
            "Please also refer to the documentation for alternative solver options:\n",
            "    https://scikit-learn.org/stable/modules/linear_model.html#logistic-regression\n",
            "  n_iter_i = _check_optimize_result(\n"
          ]
        },
        {
          "output_type": "stream",
          "name": "stdout",
          "text": [
            "Logistic Regression Cross-Validation Score: 97.33333333333334 (+/- 0.04988876515698588)\n",
            "Logistic Regression Confusion Matrix:\n",
            "[[50  0  0]\n",
            " [ 0 47  3]\n",
            " [ 0  1 49]]\n",
            "SVM Cross-Validation Score: 96.66666666666666 (+/- 0.04216370213557838)\n",
            "SVM Confusion Matrix:\n",
            "[[50  0  0]\n",
            " [ 0 48  2]\n",
            " [ 0  3 47]]\n",
            "Naive Bayes Cross-Validation Score: 95.33333333333334 (+/- 0.05333333333333332)\n",
            "Naive Bayes Confusion Matrix:\n",
            "[[50  0  0]\n",
            " [ 0 47  3]\n",
            " [ 0  4 46]]\n",
            "Decision Tree Cross-Validation Score: 96.66666666666669 (+/- 0.07302967433402213)\n",
            "Decision Tree Confusion Matrix:\n",
            "[[50  0  0]\n",
            " [ 0 48  2]\n",
            " [ 0  3 47]]\n",
            "Random Forest Cross-Validation Score: 96.00000000000001 (+/- 0.06531972647421806)\n",
            "Random Forest Confusion Matrix:\n",
            "[[50  0  0]\n",
            " [ 0 47  3]\n",
            " [ 0  2 48]]\n"
          ]
        }
      ]
    }
  ]
}