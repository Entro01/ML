{
 "cells": [
  {
   "cell_type": "code",
   "execution_count": 1,
   "id": "8a17cad8",
   "metadata": {
    "execution": {
     "iopub.execute_input": "2024-04-18T09:09:50.262453Z",
     "iopub.status.busy": "2024-04-18T09:09:50.261689Z",
     "iopub.status.idle": "2024-04-18T09:09:57.938177Z",
     "shell.execute_reply": "2024-04-18T09:09:57.936571Z"
    },
    "papermill": {
     "duration": 7.686748,
     "end_time": "2024-04-18T09:09:57.940832",
     "exception": false,
     "start_time": "2024-04-18T09:09:50.254084",
     "status": "completed"
    },
    "tags": []
   },
   "outputs": [
    {
     "name": "stdout",
     "output_type": "stream",
     "text": [
      "/kaggle\n",
      "/kaggle/temp/dataset/train\n",
      "\u001b[0m\u001b[01;34mAKIEC\u001b[0m/  \u001b[01;34mBCC\u001b[0m/  \u001b[01;34mBKL\u001b[0m/  \u001b[01;34mDF\u001b[0m/  \u001b[01;34mMEL\u001b[0m/  \u001b[01;34mNV\u001b[0m/  \u001b[01;34mVASC\u001b[0m/\r\n",
      "/kaggle/temp/dataset/val\n",
      "\u001b[0m\u001b[01;34mAKIEC\u001b[0m/  \u001b[01;34mBCC\u001b[0m/  \u001b[01;34mBKL\u001b[0m/  \u001b[01;34mDF\u001b[0m/  \u001b[01;34mMEL\u001b[0m/  \u001b[01;34mNV\u001b[0m/  \u001b[01;34mVASC\u001b[0m/\r\n",
      "/kaggle/temp/dataset/test\n",
      "\u001b[0m\u001b[01;34mAKIEC\u001b[0m/  \u001b[01;34mBCC\u001b[0m/  \u001b[01;34mBKL\u001b[0m/  \u001b[01;34mDF\u001b[0m/  \u001b[01;34mMEL\u001b[0m/  \u001b[01;34mNV\u001b[0m/  \u001b[01;34mVASC\u001b[0m/\r\n",
      "/kaggle/temp\n"
     ]
    }
   ],
   "source": [
    "%cd /kaggle\n",
    "!mkdir -p temp/dataset/train temp/dataset/val temp/dataset/test\n",
    "\n",
    "%cd /kaggle/temp/dataset/train\n",
    "!mkdir MEL NV BCC AKIEC BKL DF VASC \n",
    "%ls\n",
    "\n",
    "%cd /kaggle/temp/dataset/val\n",
    "!mkdir MEL NV BCC AKIEC BKL DF VASC \n",
    "%ls\n",
    "\n",
    "%cd /kaggle/temp/dataset/test\n",
    "!mkdir MEL NV BCC AKIEC BKL DF VASC \n",
    "%ls\n",
    "\n",
    "%cd /kaggle/temp/"
   ]
  },
  {
   "cell_type": "code",
   "execution_count": 2,
   "id": "9563d0ea",
   "metadata": {
    "execution": {
     "iopub.execute_input": "2024-04-18T09:09:57.953711Z",
     "iopub.status.busy": "2024-04-18T09:09:57.953230Z",
     "iopub.status.idle": "2024-04-18T09:10:00.567477Z",
     "shell.execute_reply": "2024-04-18T09:10:00.566424Z"
    },
    "papermill": {
     "duration": 2.62429,
     "end_time": "2024-04-18T09:10:00.570555",
     "exception": false,
     "start_time": "2024-04-18T09:09:57.946265",
     "status": "completed"
    },
    "tags": []
   },
   "outputs": [],
   "source": [
    "from glob import glob\n",
    "import pandas as pd\n",
    "from sklearn.model_selection import train_test_split\n",
    "import shutil"
   ]
  },
  {
   "cell_type": "code",
   "execution_count": 3,
   "id": "254ac6fe",
   "metadata": {
    "execution": {
     "iopub.execute_input": "2024-04-18T09:10:00.583479Z",
     "iopub.status.busy": "2024-04-18T09:10:00.582482Z",
     "iopub.status.idle": "2024-04-18T09:10:00.759112Z",
     "shell.execute_reply": "2024-04-18T09:10:00.757872Z"
    },
    "papermill": {
     "duration": 0.187074,
     "end_time": "2024-04-18T09:10:00.763062",
     "exception": false,
     "start_time": "2024-04-18T09:10:00.575988",
     "status": "completed"
    },
    "tags": []
   },
   "outputs": [],
   "source": [
    "imgs = glob('/kaggle/input/ham1000-segmentation-and-classification/images/*.jpg')"
   ]
  },
  {
   "cell_type": "code",
   "execution_count": 4,
   "id": "cfb28311",
   "metadata": {
    "execution": {
     "iopub.execute_input": "2024-04-18T09:10:00.782776Z",
     "iopub.status.busy": "2024-04-18T09:10:00.782211Z",
     "iopub.status.idle": "2024-04-18T09:10:00.826347Z",
     "shell.execute_reply": "2024-04-18T09:10:00.824991Z"
    },
    "papermill": {
     "duration": 0.059383,
     "end_time": "2024-04-18T09:10:00.830452",
     "exception": false,
     "start_time": "2024-04-18T09:10:00.771069",
     "status": "completed"
    },
    "tags": []
   },
   "outputs": [],
   "source": [
    "annot = pd.read_csv('/kaggle/input/ham1000-segmentation-and-classification/GroundTruth.csv')"
   ]
  },
  {
   "cell_type": "code",
   "execution_count": 5,
   "id": "b528e38e",
   "metadata": {
    "execution": {
     "iopub.execute_input": "2024-04-18T09:10:00.846685Z",
     "iopub.status.busy": "2024-04-18T09:10:00.846193Z",
     "iopub.status.idle": "2024-04-18T09:10:00.862803Z",
     "shell.execute_reply": "2024-04-18T09:10:00.861611Z"
    },
    "papermill": {
     "duration": 0.027638,
     "end_time": "2024-04-18T09:10:00.865674",
     "exception": false,
     "start_time": "2024-04-18T09:10:00.838036",
     "status": "completed"
    },
    "tags": []
   },
   "outputs": [],
   "source": [
    "X_train_val, X_test = train_test_split(annot,train_size =0.9, shuffle = True, random_state = 8)"
   ]
  },
  {
   "cell_type": "code",
   "execution_count": 6,
   "id": "f43dfc70",
   "metadata": {
    "execution": {
     "iopub.execute_input": "2024-04-18T09:10:00.879316Z",
     "iopub.status.busy": "2024-04-18T09:10:00.878430Z",
     "iopub.status.idle": "2024-04-18T09:10:00.887718Z",
     "shell.execute_reply": "2024-04-18T09:10:00.886874Z"
    },
    "papermill": {
     "duration": 0.018918,
     "end_time": "2024-04-18T09:10:00.890094",
     "exception": false,
     "start_time": "2024-04-18T09:10:00.871176",
     "status": "completed"
    },
    "tags": []
   },
   "outputs": [],
   "source": [
    "X_train, X_val = train_test_split(X_train_val,train_size =0.8, shuffle = True, random_state = 8)"
   ]
  },
  {
   "cell_type": "code",
   "execution_count": 7,
   "id": "6587924e",
   "metadata": {
    "execution": {
     "iopub.execute_input": "2024-04-18T09:10:00.902713Z",
     "iopub.status.busy": "2024-04-18T09:10:00.902260Z",
     "iopub.status.idle": "2024-04-18T09:10:00.911072Z",
     "shell.execute_reply": "2024-04-18T09:10:00.909971Z"
    },
    "papermill": {
     "duration": 0.017889,
     "end_time": "2024-04-18T09:10:00.913472",
     "exception": false,
     "start_time": "2024-04-18T09:10:00.895583",
     "status": "completed"
    },
    "tags": []
   },
   "outputs": [
    {
     "data": {
      "text/plain": [
       "Index(['MEL', 'NV', 'BCC', 'AKIEC', 'BKL', 'DF', 'VASC'], dtype='object')"
      ]
     },
     "execution_count": 7,
     "metadata": {},
     "output_type": "execute_result"
    }
   ],
   "source": [
    "cls = X_train.columns[1:]\n",
    "cls"
   ]
  },
  {
   "cell_type": "code",
   "execution_count": 8,
   "id": "be5ab40a",
   "metadata": {
    "execution": {
     "iopub.execute_input": "2024-04-18T09:10:00.927123Z",
     "iopub.status.busy": "2024-04-18T09:10:00.926275Z",
     "iopub.status.idle": "2024-04-18T09:11:16.799359Z",
     "shell.execute_reply": "2024-04-18T09:11:16.798043Z"
    },
    "papermill": {
     "duration": 75.883809,
     "end_time": "2024-04-18T09:11:16.802896",
     "exception": false,
     "start_time": "2024-04-18T09:10:00.919087",
     "status": "completed"
    },
    "tags": []
   },
   "outputs": [],
   "source": [
    "for cl in cls:\n",
    "    imgs_name = X_train[X_train[cl]==1]['image'].to_list()\n",
    "    for img in imgs_name:\n",
    "        shutil.copy(f'/kaggle/input/ham1000-segmentation-and-classification/images/{img}.jpg', \n",
    "                   f'/kaggle/temp/dataset/train/{cl}')\n",
    "        \n",
    "for cl in cls:\n",
    "    imgs_name = X_val[X_val[cl]==1]['image'].to_list()\n",
    "    for img in imgs_name:\n",
    "        shutil.copy(f'/kaggle/input/ham1000-segmentation-and-classification/images/{img}.jpg', \n",
    "                   f'/kaggle/temp/dataset/val/{cl}')\n",
    "\n",
    "for cl in cls:\n",
    "    imgs_name = X_test[X_test[cl]==1]['image'].to_list()\n",
    "    for img in imgs_name:\n",
    "        shutil.copy(f'/kaggle/input/ham1000-segmentation-and-classification/images/{img}.jpg', \n",
    "                   f'/kaggle/temp/dataset/test/{cl}')"
   ]
  },
  {
   "cell_type": "code",
   "execution_count": 9,
   "id": "bfbf29b7",
   "metadata": {
    "execution": {
     "iopub.execute_input": "2024-04-18T09:11:16.817040Z",
     "iopub.status.busy": "2024-04-18T09:11:16.816446Z",
     "iopub.status.idle": "2024-04-18T09:11:20.179285Z",
     "shell.execute_reply": "2024-04-18T09:11:20.177968Z"
    },
    "papermill": {
     "duration": 3.373176,
     "end_time": "2024-04-18T09:11:20.182205",
     "exception": false,
     "start_time": "2024-04-18T09:11:16.809029",
     "status": "completed"
    },
    "tags": []
   },
   "outputs": [
    {
     "name": "stdout",
     "output_type": "stream",
     "text": [
      "7210\r\n",
      "1803\r\n",
      "1002\r\n"
     ]
    }
   ],
   "source": [
    "%ls /kaggle/temp/dataset/train/*/* | wc -l\n",
    "\n",
    "%ls /kaggle/temp/dataset/val/*/* | wc -l\n",
    "\n",
    "%ls /kaggle/temp/dataset/test/*/* | wc -l"
   ]
  },
  {
   "cell_type": "code",
   "execution_count": 10,
   "id": "341cfbe8",
   "metadata": {
    "execution": {
     "iopub.execute_input": "2024-04-18T09:11:20.197017Z",
     "iopub.status.busy": "2024-04-18T09:11:20.196299Z",
     "iopub.status.idle": "2024-04-18T09:11:47.830880Z",
     "shell.execute_reply": "2024-04-18T09:11:47.829761Z"
    },
    "papermill": {
     "duration": 27.645697,
     "end_time": "2024-04-18T09:11:47.834240",
     "exception": false,
     "start_time": "2024-04-18T09:11:20.188543",
     "status": "completed"
    },
    "tags": []
   },
   "outputs": [
    {
     "name": "stdout",
     "output_type": "stream",
     "text": [
      "/kaggle/temp\n",
      "Cloning into 'yolov5'...\r\n",
      "remote: Enumerating objects: 16559, done.\u001b[K\r\n",
      "remote: Counting objects: 100% (37/37), done.\u001b[K\r\n",
      "remote: Compressing objects: 100% (24/24), done.\u001b[K\r\n",
      "remote: Total 16559 (delta 18), reused 29 (delta 13), pack-reused 16522\u001b[K\r\n",
      "Receiving objects: 100% (16559/16559), 15.08 MiB | 23.98 MiB/s, done.\r\n",
      "Resolving deltas: 100% (11375/11375), done.\r\n",
      "/kaggle/temp/yolov5\n",
      "\u001b[31mERROR: pip's dependency resolver does not currently take into account all the packages that are installed. This behaviour is the source of the following dependency conflicts.\r\n",
      "spopt 0.6.0 requires shapely>=2.0.1, but you have shapely 1.8.5.post1 which is incompatible.\r\n",
      "ydata-profiling 4.6.4 requires numpy<1.26,>=1.16.0, but you have numpy 1.26.4 which is incompatible.\u001b[0m\u001b[31m\r\n",
      "\u001b[0m"
     ]
    }
   ],
   "source": [
    "%cd /kaggle/temp/\n",
    "!git clone https://github.com/ultralytics/yolov5.git\n",
    "%cd yolov5\n",
    "!pip install -qr requirements.txt"
   ]
  },
  {
   "cell_type": "code",
   "execution_count": 11,
   "id": "028b2dcb",
   "metadata": {
    "execution": {
     "iopub.execute_input": "2024-04-18T09:11:47.854713Z",
     "iopub.status.busy": "2024-04-18T09:11:47.853896Z",
     "iopub.status.idle": "2024-04-18T09:11:48.958918Z",
     "shell.execute_reply": "2024-04-18T09:11:48.957538Z"
    },
    "papermill": {
     "duration": 1.118695,
     "end_time": "2024-04-18T09:11:48.961755",
     "exception": false,
     "start_time": "2024-04-18T09:11:47.843060",
     "status": "completed"
    },
    "tags": []
   },
   "outputs": [
    {
     "name": "stdout",
     "output_type": "stream",
     "text": [
      "dataset  yolov5\r\n"
     ]
    }
   ],
   "source": [
    "!ls /kaggle/temp/"
   ]
  },
  {
   "cell_type": "code",
   "execution_count": 12,
   "id": "3a69f3b4",
   "metadata": {
    "execution": {
     "iopub.execute_input": "2024-04-18T09:11:48.981687Z",
     "iopub.status.busy": "2024-04-18T09:11:48.981163Z",
     "iopub.status.idle": "2024-04-18T09:40:38.499700Z",
     "shell.execute_reply": "2024-04-18T09:40:38.497798Z"
    },
    "papermill": {
     "duration": 1729.532158,
     "end_time": "2024-04-18T09:40:38.502865",
     "exception": false,
     "start_time": "2024-04-18T09:11:48.970707",
     "status": "completed"
    },
    "tags": []
   },
   "outputs": [
    {
     "name": "stdout",
     "output_type": "stream",
     "text": [
      "\u001b[34m\u001b[1mwandb\u001b[0m: WARNING ⚠️ wandb is deprecated and will be removed in a future release. See supported integrations at https://github.com/ultralytics/yolov5#integrations.\r\n",
      "2024-04-18 09:12:05.044183: E external/local_xla/xla/stream_executor/cuda/cuda_dnn.cc:9261] Unable to register cuDNN factory: Attempting to register factory for plugin cuDNN when one has already been registered\r\n",
      "2024-04-18 09:12:05.044322: E external/local_xla/xla/stream_executor/cuda/cuda_fft.cc:607] Unable to register cuFFT factory: Attempting to register factory for plugin cuFFT when one has already been registered\r\n",
      "2024-04-18 09:12:05.230494: E external/local_xla/xla/stream_executor/cuda/cuda_blas.cc:1515] Unable to register cuBLAS factory: Attempting to register factory for plugin cuBLAS when one has already been registered\r\n",
      "\u001b[34m\u001b[1mwandb\u001b[0m: (1) Create a W&B account\r\n",
      "\u001b[34m\u001b[1mwandb\u001b[0m: (2) Use an existing W&B account\r\n",
      "\u001b[34m\u001b[1mwandb\u001b[0m: (3) Don't visualize my results\r\n",
      "\u001b[34m\u001b[1mwandb\u001b[0m: Enter your choice: (30 second timeout) \r\n",
      "\u001b[34m\u001b[1mwandb\u001b[0m: W&B disabled due to login timeout.\r\n",
      "\u001b[34m\u001b[1mclassify/train: \u001b[0mmodel=yolov5s-cls.pt, data=/kaggle/temp/dataset, epochs=3, batch_size=64, imgsz=224, nosave=False, cache=None, device=, workers=8, project=/kaggle/working/train, name=exp, exist_ok=False, pretrained=False, optimizer=Adam, lr0=0.001, decay=5e-05, label_smoothing=0.1, cutoff=None, dropout=None, verbose=False, seed=0, local_rank=-1\r\n",
      "\u001b[34m\u001b[1mgithub: \u001b[0mup to date with https://github.com/ultralytics/yolov5 ✅\r\n",
      "YOLOv5 🚀 v7.0-304-g22361691 Python-3.10.13 torch-2.1.2+cpu CPU\r\n",
      "\r\n",
      "\u001b[34m\u001b[1mTensorBoard: \u001b[0mStart with 'tensorboard --logdir /kaggle/working/train', view at http://localhost:6006/\r\n",
      "\u001b[34m\u001b[1malbumentations: \u001b[0mRandomResizedCrop(p=1.0, height=224, width=224, scale=(0.08, 1.0), ratio=(0.75, 1.3333333333333333), interpolation=1), HorizontalFlip(p=0.5), ColorJitter(p=0.5, brightness=[0.6, 1.4], contrast=[0.6, 1.4], saturation=[0.6, 1.4], hue=[0, 0]), Normalize(p=1.0, mean=(0.485, 0.456, 0.406), std=(0.229, 0.224, 0.225), max_pixel_value=255.0), ToTensorV2(always_apply=True, p=1.0, transpose_mask=False)\r\n",
      "/opt/conda/lib/python3.10/multiprocessing/popen_fork.py:66: RuntimeWarning: os.fork() was called. os.fork() is incompatible with multithreaded code, and JAX is multithreaded, so this will likely lead to a deadlock.\r\n",
      "  self.pid = os.fork()\r\n",
      "Downloading https://github.com/ultralytics/yolov5/releases/download/v7.0/yolov5s-cls.pt to yolov5s-cls.pt...\r\n",
      "100%|██████████████████████████████████████| 10.5M/10.5M [00:00<00:00, 19.9MB/s]\r\n",
      "\r\n",
      "Model summary: 149 layers, 4181447 parameters, 4181447 gradients, 10.5 GFLOPs\r\n",
      "\u001b[34m\u001b[1moptimizer:\u001b[0m Adam(lr=0.001) with parameter groups 32 weight(decay=0.0), 33 weight(decay=5e-05), 33 bias\r\n",
      "Image sizes 224 train, 224 test\r\n",
      "Using 3 dataloader workers\r\n",
      "Logging results to \u001b[1m/kaggle/working/train/exp\u001b[0m\r\n",
      "Starting yolov5s-cls.pt training on /kaggle/temp/dataset dataset with 7 classes for 3 epochs...\r\n",
      "\r\n",
      "     Epoch   GPU_mem  train_loss   test_loss    top1_acc    top5_acc\r\n",
      "       1/3        0G        1.26        1.27       0.684        0.96: 100%|█████\r\n",
      "       2/3        0G         1.2        1.11       0.683       0.972: 100%|█████\r\n",
      "       3/3        0G        1.16        1.09       0.699       0.973: 100%|█████\r\n",
      "\r\n",
      "Training complete (0.458 hours)\r\n",
      "Results saved to \u001b[1m/kaggle/working/train/exp\u001b[0m\r\n",
      "Predict:         python classify/predict.py --weights /kaggle/working/train/exp/weights/best.pt --source im.jpg\r\n",
      "Validate:        python classify/val.py --weights /kaggle/working/train/exp/weights/best.pt --data /kaggle/temp/dataset\r\n",
      "Export:          python export.py --weights /kaggle/working/train/exp/weights/best.pt --include onnx\r\n",
      "PyTorch Hub:     model = torch.hub.load('ultralytics/yolov5', 'custom', '/kaggle/working/train/exp/weights/best.pt')\r\n",
      "Visualize:       https://netron.app\r\n",
      "\r\n"
     ]
    }
   ],
   "source": [
    "!python classify/train.py --model yolov5s-cls.pt --data /kaggle/temp/dataset --epochs 3 --img 224 \\\n",
    "--project /kaggle/working/train --pretrained 'False'"
   ]
  },
  {
   "cell_type": "code",
   "execution_count": 13,
   "id": "2316b89c",
   "metadata": {
    "execution": {
     "iopub.execute_input": "2024-04-18T09:40:38.598830Z",
     "iopub.status.busy": "2024-04-18T09:40:38.598322Z",
     "iopub.status.idle": "2024-04-18T09:41:25.243685Z",
     "shell.execute_reply": "2024-04-18T09:41:25.241598Z"
    },
    "papermill": {
     "duration": 46.697383,
     "end_time": "2024-04-18T09:41:25.247229",
     "exception": false,
     "start_time": "2024-04-18T09:40:38.549846",
     "status": "completed"
    },
    "tags": []
   },
   "outputs": [
    {
     "name": "stdout",
     "output_type": "stream",
     "text": [
      "\u001b[34m\u001b[1mclassify/val: \u001b[0mdata=/kaggle/temp/dataset, weights=['/kaggle/working/train/exp/weights/best.pt'], batch_size=128, imgsz=224, device=, workers=8, verbose=True, project=runs/val-cls, name=exp, exist_ok=False, half=False, dnn=False\r\n",
      "YOLOv5 🚀 v7.0-304-g22361691 Python-3.10.13 torch-2.1.2+cpu CPU\r\n",
      "\r\n",
      "Fusing layers... \r\n",
      "Model summary: 117 layers, 4175655 parameters, 0 gradients, 10.4 GFLOPs\r\n",
      "/opt/conda/lib/python3.10/multiprocessing/popen_fork.py:66: RuntimeWarning: os.fork() was called. os.fork() is incompatible with multithreaded code, and JAX is multithreaded, so this will likely lead to a deadlock.\r\n",
      "  self.pid = os.fork()\r\n",
      "testing: 100%|██████████| 8/8 [00:34<00:00,  4.35s/it]\r\n",
      "                   Class      Images    top1_acc    top5_acc\r\n",
      "                     all        1002       0.699       0.973\r\n",
      "                   AKIEC          28           0           1\r\n",
      "                     BCC          48           0           1\r\n",
      "                     BKL         116       0.371           1\r\n",
      "                      DF          19           0           0\r\n",
      "                     MEL          97      0.0206           1\r\n",
      "                      NV         685       0.956           1\r\n",
      "                    VASC           9           0       0.111\r\n",
      "Speed: 0.0ms pre-process, 32.1ms inference, 0.0ms post-process per image at shape (1, 3, 224, 224)\r\n",
      "Results saved to \u001b[1mruns/val-cls/exp\u001b[0m\r\n"
     ]
    }
   ],
   "source": [
    "!python classify/val.py --weights /kaggle/working/train/exp/weights/best.pt --data /kaggle/temp/dataset"
   ]
  }
 ],
 "metadata": {
  "kaggle": {
   "accelerator": "none",
   "dataSources": [
    {
     "datasetId": 1370616,
     "sourceId": 2275763,
     "sourceType": "datasetVersion"
    }
   ],
   "dockerImageVersionId": 30684,
   "isGpuEnabled": false,
   "isInternetEnabled": true,
   "language": "python",
   "sourceType": "notebook"
  },
  "kernelspec": {
   "display_name": "Python 3",
   "language": "python",
   "name": "python3"
  },
  "language_info": {
   "codemirror_mode": {
    "name": "ipython",
    "version": 3
   },
   "file_extension": ".py",
   "mimetype": "text/x-python",
   "name": "python",
   "nbconvert_exporter": "python",
   "pygments_lexer": "ipython3",
   "version": "3.10.13"
  },
  "papermill": {
   "default_parameters": {},
   "duration": 1899.132761,
   "end_time": "2024-04-18T09:41:26.227169",
   "environment_variables": {},
   "exception": null,
   "input_path": "__notebook__.ipynb",
   "output_path": "__notebook__.ipynb",
   "parameters": {},
   "start_time": "2024-04-18T09:09:47.094408",
   "version": "2.5.0"
  }
 },
 "nbformat": 4,
 "nbformat_minor": 5
}
