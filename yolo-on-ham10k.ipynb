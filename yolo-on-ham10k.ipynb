{
 "cells": [
  {
   "cell_type": "code",
   "execution_count": 1,
   "id": "0f757d2f",
   "metadata": {
    "execution": {
     "iopub.execute_input": "2024-04-18T06:51:12.263775Z",
     "iopub.status.busy": "2024-04-18T06:51:12.263303Z",
     "iopub.status.idle": "2024-04-18T06:51:19.966349Z",
     "shell.execute_reply": "2024-04-18T06:51:19.964678Z"
    },
    "papermill": {
     "duration": 7.71371,
     "end_time": "2024-04-18T06:51:19.968991",
     "exception": false,
     "start_time": "2024-04-18T06:51:12.255281",
     "status": "completed"
    },
    "tags": []
   },
   "outputs": [
    {
     "name": "stdout",
     "output_type": "stream",
     "text": [
      "/kaggle\n",
      "/kaggle/temp/dataset/train\n",
      "\u001b[0m\u001b[01;34mAKIEC\u001b[0m/  \u001b[01;34mBCC\u001b[0m/  \u001b[01;34mBKL\u001b[0m/  \u001b[01;34mDF\u001b[0m/  \u001b[01;34mMEL\u001b[0m/  \u001b[01;34mNV\u001b[0m/  \u001b[01;34mVASC\u001b[0m/\r\n",
      "/kaggle/temp/dataset/val\n",
      "\u001b[0m\u001b[01;34mAKIEC\u001b[0m/  \u001b[01;34mBCC\u001b[0m/  \u001b[01;34mBKL\u001b[0m/  \u001b[01;34mDF\u001b[0m/  \u001b[01;34mMEL\u001b[0m/  \u001b[01;34mNV\u001b[0m/  \u001b[01;34mVASC\u001b[0m/\r\n",
      "/kaggle/temp/dataset/test\n",
      "\u001b[0m\u001b[01;34mAKIEC\u001b[0m/  \u001b[01;34mBCC\u001b[0m/  \u001b[01;34mBKL\u001b[0m/  \u001b[01;34mDF\u001b[0m/  \u001b[01;34mMEL\u001b[0m/  \u001b[01;34mNV\u001b[0m/  \u001b[01;34mVASC\u001b[0m/\r\n",
      "/kaggle/temp\n"
     ]
    }
   ],
   "source": [
    "%cd /kaggle\n",
    "!mkdir -p temp/dataset/train temp/dataset/val temp/dataset/test\n",
    "\n",
    "%cd /kaggle/temp/dataset/train\n",
    "!mkdir MEL NV BCC AKIEC BKL DF VASC \n",
    "%ls\n",
    "\n",
    "%cd /kaggle/temp/dataset/val\n",
    "!mkdir MEL NV BCC AKIEC BKL DF VASC \n",
    "%ls\n",
    "\n",
    "%cd /kaggle/temp/dataset/test\n",
    "!mkdir MEL NV BCC AKIEC BKL DF VASC \n",
    "%ls\n",
    "\n",
    "%cd /kaggle/temp/"
   ]
  },
  {
   "cell_type": "code",
   "execution_count": 2,
   "id": "556dcea5",
   "metadata": {
    "execution": {
     "iopub.execute_input": "2024-04-18T06:51:19.984299Z",
     "iopub.status.busy": "2024-04-18T06:51:19.983882Z",
     "iopub.status.idle": "2024-04-18T06:51:22.350647Z",
     "shell.execute_reply": "2024-04-18T06:51:22.348976Z"
    },
    "papermill": {
     "duration": 2.378755,
     "end_time": "2024-04-18T06:51:22.354344",
     "exception": false,
     "start_time": "2024-04-18T06:51:19.975589",
     "status": "completed"
    },
    "tags": []
   },
   "outputs": [],
   "source": [
    "from glob import glob\n",
    "import pandas as pd\n",
    "from sklearn.model_selection import train_test_split\n",
    "import shutil"
   ]
  },
  {
   "cell_type": "code",
   "execution_count": 3,
   "id": "376560e6",
   "metadata": {
    "execution": {
     "iopub.execute_input": "2024-04-18T06:51:22.370161Z",
     "iopub.status.busy": "2024-04-18T06:51:22.369566Z",
     "iopub.status.idle": "2024-04-18T06:51:23.575292Z",
     "shell.execute_reply": "2024-04-18T06:51:23.574065Z"
    },
    "papermill": {
     "duration": 1.217021,
     "end_time": "2024-04-18T06:51:23.578306",
     "exception": false,
     "start_time": "2024-04-18T06:51:22.361285",
     "status": "completed"
    },
    "tags": []
   },
   "outputs": [],
   "source": [
    "imgs = glob('/kaggle/input/ham1000-segmentation-and-classification/images/*.jpg')"
   ]
  },
  {
   "cell_type": "code",
   "execution_count": 4,
   "id": "70843a04",
   "metadata": {
    "execution": {
     "iopub.execute_input": "2024-04-18T06:51:23.593387Z",
     "iopub.status.busy": "2024-04-18T06:51:23.592928Z",
     "iopub.status.idle": "2024-04-18T06:51:23.642770Z",
     "shell.execute_reply": "2024-04-18T06:51:23.641476Z"
    },
    "papermill": {
     "duration": 0.061314,
     "end_time": "2024-04-18T06:51:23.646079",
     "exception": false,
     "start_time": "2024-04-18T06:51:23.584765",
     "status": "completed"
    },
    "tags": []
   },
   "outputs": [],
   "source": [
    "annot = pd.read_csv('/kaggle/input/ham1000-segmentation-and-classification/GroundTruth.csv')"
   ]
  },
  {
   "cell_type": "code",
   "execution_count": 5,
   "id": "3b06ad72",
   "metadata": {
    "execution": {
     "iopub.execute_input": "2024-04-18T06:51:23.661081Z",
     "iopub.status.busy": "2024-04-18T06:51:23.660638Z",
     "iopub.status.idle": "2024-04-18T06:51:23.678929Z",
     "shell.execute_reply": "2024-04-18T06:51:23.677738Z"
    },
    "papermill": {
     "duration": 0.028958,
     "end_time": "2024-04-18T06:51:23.681734",
     "exception": false,
     "start_time": "2024-04-18T06:51:23.652776",
     "status": "completed"
    },
    "tags": []
   },
   "outputs": [],
   "source": [
    "X_train_val, X_test = train_test_split(annot,train_size =0.9, shuffle = True, random_state = 8)"
   ]
  },
  {
   "cell_type": "code",
   "execution_count": 6,
   "id": "76f0cfe0",
   "metadata": {
    "execution": {
     "iopub.execute_input": "2024-04-18T06:51:23.697203Z",
     "iopub.status.busy": "2024-04-18T06:51:23.696395Z",
     "iopub.status.idle": "2024-04-18T06:51:23.703993Z",
     "shell.execute_reply": "2024-04-18T06:51:23.703140Z"
    },
    "papermill": {
     "duration": 0.018089,
     "end_time": "2024-04-18T06:51:23.706434",
     "exception": false,
     "start_time": "2024-04-18T06:51:23.688345",
     "status": "completed"
    },
    "tags": []
   },
   "outputs": [],
   "source": [
    "X_train, X_val = train_test_split(X_train_val,train_size =0.8, shuffle = True, random_state = 8)"
   ]
  },
  {
   "cell_type": "code",
   "execution_count": 7,
   "id": "4ce57b87",
   "metadata": {
    "execution": {
     "iopub.execute_input": "2024-04-18T06:51:23.722085Z",
     "iopub.status.busy": "2024-04-18T06:51:23.721280Z",
     "iopub.status.idle": "2024-04-18T06:51:23.730083Z",
     "shell.execute_reply": "2024-04-18T06:51:23.728829Z"
    },
    "papermill": {
     "duration": 0.019582,
     "end_time": "2024-04-18T06:51:23.732836",
     "exception": false,
     "start_time": "2024-04-18T06:51:23.713254",
     "status": "completed"
    },
    "tags": []
   },
   "outputs": [
    {
     "data": {
      "text/plain": [
       "Index(['MEL', 'NV', 'BCC', 'AKIEC', 'BKL', 'DF', 'VASC'], dtype='object')"
      ]
     },
     "execution_count": 7,
     "metadata": {},
     "output_type": "execute_result"
    }
   ],
   "source": [
    "cls = X_train.columns[1:]\n",
    "cls"
   ]
  },
  {
   "cell_type": "code",
   "execution_count": 8,
   "id": "3e6a79da",
   "metadata": {
    "execution": {
     "iopub.execute_input": "2024-04-18T06:51:23.748319Z",
     "iopub.status.busy": "2024-04-18T06:51:23.747928Z",
     "iopub.status.idle": "2024-04-18T06:53:54.140741Z",
     "shell.execute_reply": "2024-04-18T06:53:54.139334Z"
    },
    "papermill": {
     "duration": 150.404341,
     "end_time": "2024-04-18T06:53:54.144025",
     "exception": false,
     "start_time": "2024-04-18T06:51:23.739684",
     "status": "completed"
    },
    "tags": []
   },
   "outputs": [],
   "source": [
    "for cl in cls:\n",
    "    imgs_name = X_train[X_train[cl]==1]['image'].to_list()\n",
    "    for img in imgs_name:\n",
    "        shutil.copy(f'/kaggle/input/ham1000-segmentation-and-classification/images/{img}.jpg', \n",
    "                   f'/kaggle/temp/dataset/train/{cl}')\n",
    "        \n",
    "for cl in cls:\n",
    "    imgs_name = X_val[X_val[cl]==1]['image'].to_list()\n",
    "    for img in imgs_name:\n",
    "        shutil.copy(f'/kaggle/input/ham1000-segmentation-and-classification/images/{img}.jpg', \n",
    "                   f'/kaggle/temp/dataset/val/{cl}')\n",
    "\n",
    "for cl in cls:\n",
    "    imgs_name = X_test[X_test[cl]==1]['image'].to_list()\n",
    "    for img in imgs_name:\n",
    "        shutil.copy(f'/kaggle/input/ham1000-segmentation-and-classification/images/{img}.jpg', \n",
    "                   f'/kaggle/temp/dataset/test/{cl}')"
   ]
  },
  {
   "cell_type": "code",
   "execution_count": 9,
   "id": "0203fb43",
   "metadata": {
    "execution": {
     "iopub.execute_input": "2024-04-18T06:53:54.161353Z",
     "iopub.status.busy": "2024-04-18T06:53:54.160910Z",
     "iopub.status.idle": "2024-04-18T06:53:57.570353Z",
     "shell.execute_reply": "2024-04-18T06:53:57.568974Z"
    },
    "papermill": {
     "duration": 3.421851,
     "end_time": "2024-04-18T06:53:57.573201",
     "exception": false,
     "start_time": "2024-04-18T06:53:54.151350",
     "status": "completed"
    },
    "tags": []
   },
   "outputs": [
    {
     "name": "stdout",
     "output_type": "stream",
     "text": [
      "7210\r\n",
      "1803\r\n",
      "1002\r\n"
     ]
    }
   ],
   "source": [
    "%ls /kaggle/temp/dataset/train/*/* | wc -l\n",
    "\n",
    "%ls /kaggle/temp/dataset/val/*/* | wc -l\n",
    "\n",
    "%ls /kaggle/temp/dataset/test/*/* | wc -l"
   ]
  },
  {
   "cell_type": "code",
   "execution_count": 10,
   "id": "d7468dd0",
   "metadata": {
    "execution": {
     "iopub.execute_input": "2024-04-18T06:53:57.589234Z",
     "iopub.status.busy": "2024-04-18T06:53:57.588762Z",
     "iopub.status.idle": "2024-04-18T06:54:22.519620Z",
     "shell.execute_reply": "2024-04-18T06:54:22.518227Z"
    },
    "papermill": {
     "duration": 24.942275,
     "end_time": "2024-04-18T06:54:22.522528",
     "exception": false,
     "start_time": "2024-04-18T06:53:57.580253",
     "status": "completed"
    },
    "tags": []
   },
   "outputs": [
    {
     "name": "stdout",
     "output_type": "stream",
     "text": [
      "/kaggle/temp\n",
      "Cloning into 'yolov5'...\r\n",
      "remote: Enumerating objects: 16559, done.\u001b[K\r\n",
      "remote: Counting objects: 100% (37/37), done.\u001b[K\r\n",
      "remote: Compressing objects: 100% (24/24), done.\u001b[K\r\n",
      "remote: Total 16559 (delta 18), reused 29 (delta 13), pack-reused 16522\u001b[K\r\n",
      "Receiving objects: 100% (16559/16559), 15.06 MiB | 27.21 MiB/s, done.\r\n",
      "Resolving deltas: 100% (11371/11371), done.\r\n",
      "/kaggle/temp/yolov5\n",
      "\u001b[31mERROR: pip's dependency resolver does not currently take into account all the packages that are installed. This behaviour is the source of the following dependency conflicts.\r\n",
      "spopt 0.6.0 requires shapely>=2.0.1, but you have shapely 1.8.5.post1 which is incompatible.\r\n",
      "ydata-profiling 4.6.4 requires numpy<1.26,>=1.16.0, but you have numpy 1.26.4 which is incompatible.\u001b[0m\u001b[31m\r\n",
      "\u001b[0m"
     ]
    }
   ],
   "source": [
    "%cd /kaggle/temp/\n",
    "!git clone https://github.com/ultralytics/yolov5.git\n",
    "%cd yolov5\n",
    "!pip install -qr requirements.txt"
   ]
  },
  {
   "cell_type": "code",
   "execution_count": 11,
   "id": "77da15e1",
   "metadata": {
    "execution": {
     "iopub.execute_input": "2024-04-18T06:54:22.543530Z",
     "iopub.status.busy": "2024-04-18T06:54:22.543068Z",
     "iopub.status.idle": "2024-04-18T06:54:23.630369Z",
     "shell.execute_reply": "2024-04-18T06:54:23.628992Z"
    },
    "papermill": {
     "duration": 1.1012,
     "end_time": "2024-04-18T06:54:23.633252",
     "exception": false,
     "start_time": "2024-04-18T06:54:22.532052",
     "status": "completed"
    },
    "tags": []
   },
   "outputs": [
    {
     "name": "stdout",
     "output_type": "stream",
     "text": [
      "dataset  yolov5\r\n"
     ]
    }
   ],
   "source": [
    "!ls /kaggle/temp/"
   ]
  },
  {
   "cell_type": "code",
   "execution_count": 12,
   "id": "cb989a2d",
   "metadata": {
    "execution": {
     "iopub.execute_input": "2024-04-18T06:54:23.655111Z",
     "iopub.status.busy": "2024-04-18T06:54:23.654577Z",
     "iopub.status.idle": "2024-04-18T06:54:23.661045Z",
     "shell.execute_reply": "2024-04-18T06:54:23.659830Z"
    },
    "papermill": {
     "duration": 0.02038,
     "end_time": "2024-04-18T06:54:23.663491",
     "exception": false,
     "start_time": "2024-04-18T06:54:23.643111",
     "status": "completed"
    },
    "tags": []
   },
   "outputs": [],
   "source": [
    "import matplotlib.pyplot as plt\n",
    "from sklearn.metrics import precision_score, recall_score, f1_score, confusion_matrix"
   ]
  },
  {
   "cell_type": "code",
   "execution_count": 13,
   "id": "3b38981b",
   "metadata": {
    "execution": {
     "iopub.execute_input": "2024-04-18T06:54:23.684410Z",
     "iopub.status.busy": "2024-04-18T06:54:23.684008Z",
     "iopub.status.idle": "2024-04-18T06:54:23.689982Z",
     "shell.execute_reply": "2024-04-18T06:54:23.688760Z"
    },
    "papermill": {
     "duration": 0.019424,
     "end_time": "2024-04-18T06:54:23.692504",
     "exception": false,
     "start_time": "2024-04-18T06:54:23.673080",
     "status": "completed"
    },
    "tags": []
   },
   "outputs": [],
   "source": [
    "train_loss, train_acc, train_prec, train_rec, train_f1 = [], [], [], [], []\n",
    "val_loss, val_acc, val_prec, val_rec, val_f1 = [], [], [], [], []"
   ]
  },
  {
   "cell_type": "code",
   "execution_count": 14,
   "id": "f181ee0e",
   "metadata": {
    "execution": {
     "iopub.execute_input": "2024-04-18T06:54:23.713362Z",
     "iopub.status.busy": "2024-04-18T06:54:23.712971Z",
     "iopub.status.idle": "2024-04-18T07:40:39.966271Z",
     "shell.execute_reply": "2024-04-18T07:40:39.964257Z"
    },
    "papermill": {
     "duration": 2776.26759,
     "end_time": "2024-04-18T07:40:39.969659",
     "exception": false,
     "start_time": "2024-04-18T06:54:23.702069",
     "status": "completed"
    },
    "tags": []
   },
   "outputs": [
    {
     "name": "stdout",
     "output_type": "stream",
     "text": [
      "\u001b[34m\u001b[1mwandb\u001b[0m: WARNING ⚠️ wandb is deprecated and will be removed in a future release. See supported integrations at https://github.com/ultralytics/yolov5#integrations.\r\n",
      "2024-04-18 06:54:39.289779: E external/local_xla/xla/stream_executor/cuda/cuda_dnn.cc:9261] Unable to register cuDNN factory: Attempting to register factory for plugin cuDNN when one has already been registered\r\n",
      "2024-04-18 06:54:39.289932: E external/local_xla/xla/stream_executor/cuda/cuda_fft.cc:607] Unable to register cuFFT factory: Attempting to register factory for plugin cuFFT when one has already been registered\r\n",
      "2024-04-18 06:54:39.460201: E external/local_xla/xla/stream_executor/cuda/cuda_blas.cc:1515] Unable to register cuBLAS factory: Attempting to register factory for plugin cuBLAS when one has already been registered\r\n",
      "\u001b[34m\u001b[1mwandb\u001b[0m: (1) Create a W&B account\r\n",
      "\u001b[34m\u001b[1mwandb\u001b[0m: (2) Use an existing W&B account\r\n",
      "\u001b[34m\u001b[1mwandb\u001b[0m: (3) Don't visualize my results\r\n",
      "\u001b[34m\u001b[1mwandb\u001b[0m: Enter your choice: (30 second timeout) \r\n",
      "\u001b[34m\u001b[1mwandb\u001b[0m: W&B disabled due to login timeout.\r\n",
      "\u001b[34m\u001b[1mclassify/train: \u001b[0mmodel=yolov5s-cls.pt, data=/kaggle/temp/dataset, epochs=5, batch_size=64, imgsz=224, nosave=False, cache=None, device=, workers=8, project=/kaggle/working/train, name=exp, exist_ok=False, pretrained=False, optimizer=Adam, lr0=0.001, decay=5e-05, label_smoothing=0.1, cutoff=None, dropout=None, verbose=False, seed=0, local_rank=-1\r\n",
      "\u001b[34m\u001b[1mgithub: \u001b[0mup to date with https://github.com/ultralytics/yolov5 ✅\r\n",
      "YOLOv5 🚀 v7.0-304-g22361691 Python-3.10.13 torch-2.1.2+cpu CPU\r\n",
      "\r\n",
      "\u001b[34m\u001b[1mTensorBoard: \u001b[0mStart with 'tensorboard --logdir /kaggle/working/train', view at http://localhost:6006/\r\n",
      "\u001b[34m\u001b[1malbumentations: \u001b[0mRandomResizedCrop(p=1.0, height=224, width=224, scale=(0.08, 1.0), ratio=(0.75, 1.3333333333333333), interpolation=1), HorizontalFlip(p=0.5), ColorJitter(p=0.5, brightness=[0.6, 1.4], contrast=[0.6, 1.4], saturation=[0.6, 1.4], hue=[0, 0]), Normalize(p=1.0, mean=(0.485, 0.456, 0.406), std=(0.229, 0.224, 0.225), max_pixel_value=255.0), ToTensorV2(always_apply=True, p=1.0, transpose_mask=False)\r\n",
      "/opt/conda/lib/python3.10/multiprocessing/popen_fork.py:66: RuntimeWarning: os.fork() was called. os.fork() is incompatible with multithreaded code, and JAX is multithreaded, so this will likely lead to a deadlock.\r\n",
      "  self.pid = os.fork()\r\n",
      "Downloading https://github.com/ultralytics/yolov5/releases/download/v7.0/yolov5s-cls.pt to yolov5s-cls.pt...\r\n",
      "100%|██████████████████████████████████████| 10.5M/10.5M [00:00<00:00, 31.0MB/s]\r\n",
      "\r\n",
      "Model summary: 149 layers, 4181447 parameters, 4181447 gradients, 10.5 GFLOPs\r\n",
      "\u001b[34m\u001b[1moptimizer:\u001b[0m Adam(lr=0.001) with parameter groups 32 weight(decay=0.0), 33 weight(decay=5e-05), 33 bias\r\n",
      "Image sizes 224 train, 224 test\r\n",
      "Using 3 dataloader workers\r\n",
      "Logging results to \u001b[1m/kaggle/working/train/exp\u001b[0m\r\n",
      "Starting yolov5s-cls.pt training on /kaggle/temp/dataset dataset with 7 classes for 5 epochs...\r\n",
      "\r\n",
      "     Epoch   GPU_mem  train_loss   test_loss    top1_acc    top5_acc\r\n",
      "       1/5        0G        1.26        1.27       0.684        0.96: 100%|█████\r\n",
      "       2/5        0G         1.2        1.14       0.687       0.971: 100%|█████\r\n",
      "       3/5        0G        1.17        1.15       0.684       0.973: 100%|█████\r\n",
      "       4/5        0G        1.14        1.17       0.624       0.972: 100%|█████\r\n",
      "       5/5        0G        1.11        1.05       0.706        0.98: 100%|█████\r\n",
      "\r\n",
      "Training complete (0.748 hours)\r\n",
      "Results saved to \u001b[1m/kaggle/working/train/exp\u001b[0m\r\n",
      "Predict:         python classify/predict.py --weights /kaggle/working/train/exp/weights/best.pt --source im.jpg\r\n",
      "Validate:        python classify/val.py --weights /kaggle/working/train/exp/weights/best.pt --data /kaggle/temp/dataset\r\n",
      "Export:          python export.py --weights /kaggle/working/train/exp/weights/best.pt --include onnx\r\n",
      "PyTorch Hub:     model = torch.hub.load('ultralytics/yolov5', 'custom', '/kaggle/working/train/exp/weights/best.pt')\r\n",
      "Visualize:       https://netron.app\r\n",
      "\r\n"
     ]
    }
   ],
   "source": [
    "!python classify/train.py --model yolov5s-cls.pt --data /kaggle/temp/dataset --epochs 5 --img 224 \\\n",
    "--project /kaggle/working/train --pretrained 'False'"
   ]
  },
  {
   "cell_type": "code",
   "execution_count": 15,
   "id": "0714a673",
   "metadata": {
    "execution": {
     "iopub.execute_input": "2024-04-18T07:40:40.112561Z",
     "iopub.status.busy": "2024-04-18T07:40:40.112033Z",
     "iopub.status.idle": "2024-04-18T07:40:53.174562Z",
     "shell.execute_reply": "2024-04-18T07:40:53.173556Z"
    },
    "papermill": {
     "duration": 13.138255,
     "end_time": "2024-04-18T07:40:53.177402",
     "exception": false,
     "start_time": "2024-04-18T07:40:40.039147",
     "status": "completed"
    },
    "tags": []
   },
   "outputs": [
    {
     "name": "stdout",
     "output_type": "stream",
     "text": [
      "\u001b[34m\u001b[1mclassify/val: \u001b[0mdata=/kaggle/temp/dataset, weights=['/kaggle/working/train/exp2/weights/best.pt'], batch_size=128, imgsz=224, device=, workers=8, verbose=True, project=runs/val-cls, name=exp, exist_ok=False, half=False, dnn=False\r\n",
      "YOLOv5 🚀 v7.0-304-g22361691 Python-3.10.13 torch-2.1.2+cpu CPU\r\n",
      "\r\n",
      "Traceback (most recent call last):\r\n",
      "  File \"/kaggle/temp/yolov5/classify/val.py\", line 177, in <module>\r\n",
      "    main(opt)\r\n",
      "  File \"/kaggle/temp/yolov5/classify/val.py\", line 172, in main\r\n",
      "    run(**vars(opt))\r\n",
      "  File \"/opt/conda/lib/python3.10/site-packages/torch/utils/_contextlib.py\", line 115, in decorate_context\r\n",
      "    return func(*args, **kwargs)\r\n",
      "  File \"/kaggle/temp/yolov5/classify/val.py\", line 85, in run\r\n",
      "    model = DetectMultiBackend(weights, device=device, dnn=dnn, fp16=half)\r\n",
      "  File \"/kaggle/temp/yolov5/models/common.py\", line 467, in __init__\r\n",
      "    model = attempt_load(weights if isinstance(weights, list) else w, device=device, inplace=True, fuse=fuse)\r\n",
      "  File \"/kaggle/temp/yolov5/models/experimental.py\", line 98, in attempt_load\r\n",
      "    ckpt = torch.load(attempt_download(w), map_location=\"cpu\")  # load\r\n",
      "  File \"/opt/conda/lib/python3.10/site-packages/torch/serialization.py\", line 986, in load\r\n",
      "    with _open_file_like(f, 'rb') as opened_file:\r\n",
      "  File \"/opt/conda/lib/python3.10/site-packages/torch/serialization.py\", line 435, in _open_file_like\r\n",
      "    return _open_file(name_or_buffer, mode)\r\n",
      "  File \"/opt/conda/lib/python3.10/site-packages/torch/serialization.py\", line 416, in __init__\r\n",
      "    super().__init__(open(name, mode))\r\n",
      "FileNotFoundError: [Errno 2] No such file or directory: '/kaggle/working/train/exp2/weights/best.pt'\r\n"
     ]
    }
   ],
   "source": [
    "!python classify/val.py --weights /kaggle/working/train/exp2/weights/best.pt --data /kaggle/temp/dataset"
   ]
  }
 ],
 "metadata": {
  "kaggle": {
   "accelerator": "none",
   "dataSources": [
    {
     "datasetId": 1370616,
     "sourceId": 2275763,
     "sourceType": "datasetVersion"
    }
   ],
   "dockerImageVersionId": 30684,
   "isGpuEnabled": false,
   "isInternetEnabled": true,
   "language": "python",
   "sourceType": "notebook"
  },
  "kernelspec": {
   "display_name": "Python 3",
   "language": "python",
   "name": "python3"
  },
  "language_info": {
   "codemirror_mode": {
    "name": "ipython",
    "version": 3
   },
   "file_extension": ".py",
   "mimetype": "text/x-python",
   "name": "python",
   "nbconvert_exporter": "python",
   "pygments_lexer": "ipython3",
   "version": "3.10.13"
  },
  "papermill": {
   "default_parameters": {},
   "duration": 2984.807082,
   "end_time": "2024-04-18T07:40:53.977738",
   "environment_variables": {},
   "exception": null,
   "input_path": "__notebook__.ipynb",
   "output_path": "__notebook__.ipynb",
   "parameters": {},
   "start_time": "2024-04-18T06:51:09.170656",
   "version": "2.5.0"
  }
 },
 "nbformat": 4,
 "nbformat_minor": 5
}
