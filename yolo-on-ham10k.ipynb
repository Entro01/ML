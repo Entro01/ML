{
 "cells": [
  {
   "cell_type": "code",
   "execution_count": 1,
   "id": "a1c48b60",
   "metadata": {
    "execution": {
     "iopub.execute_input": "2024-04-19T01:12:04.051404Z",
     "iopub.status.busy": "2024-04-19T01:12:04.051013Z",
     "iopub.status.idle": "2024-04-19T01:12:11.160917Z",
     "shell.execute_reply": "2024-04-19T01:12:11.158856Z"
    },
    "papermill": {
     "duration": 7.118462,
     "end_time": "2024-04-19T01:12:11.163838",
     "exception": false,
     "start_time": "2024-04-19T01:12:04.045376",
     "status": "completed"
    },
    "tags": []
   },
   "outputs": [
    {
     "name": "stdout",
     "output_type": "stream",
     "text": [
      "/kaggle\n",
      "/kaggle/temp/dataset/train\n",
      "\u001b[0m\u001b[01;34mAKIEC\u001b[0m/  \u001b[01;34mBCC\u001b[0m/  \u001b[01;34mBKL\u001b[0m/  \u001b[01;34mDF\u001b[0m/  \u001b[01;34mMEL\u001b[0m/  \u001b[01;34mNV\u001b[0m/  \u001b[01;34mVASC\u001b[0m/\r\n",
      "/kaggle/temp/dataset/val\n",
      "\u001b[0m\u001b[01;34mAKIEC\u001b[0m/  \u001b[01;34mBCC\u001b[0m/  \u001b[01;34mBKL\u001b[0m/  \u001b[01;34mDF\u001b[0m/  \u001b[01;34mMEL\u001b[0m/  \u001b[01;34mNV\u001b[0m/  \u001b[01;34mVASC\u001b[0m/\r\n",
      "/kaggle/temp/dataset/test\n",
      "\u001b[0m\u001b[01;34mAKIEC\u001b[0m/  \u001b[01;34mBCC\u001b[0m/  \u001b[01;34mBKL\u001b[0m/  \u001b[01;34mDF\u001b[0m/  \u001b[01;34mMEL\u001b[0m/  \u001b[01;34mNV\u001b[0m/  \u001b[01;34mVASC\u001b[0m/\r\n",
      "/kaggle/temp\n"
     ]
    }
   ],
   "source": [
    "%cd /kaggle\n",
    "!mkdir -p temp/dataset/train temp/dataset/val temp/dataset/test\n",
    "\n",
    "%cd /kaggle/temp/dataset/train\n",
    "!mkdir MEL NV BCC AKIEC BKL DF VASC \n",
    "%ls\n",
    "\n",
    "%cd /kaggle/temp/dataset/val\n",
    "!mkdir MEL NV BCC AKIEC BKL DF VASC \n",
    "%ls\n",
    "\n",
    "%cd /kaggle/temp/dataset/test\n",
    "!mkdir MEL NV BCC AKIEC BKL DF VASC \n",
    "%ls\n",
    "\n",
    "%cd /kaggle/temp/"
   ]
  },
  {
   "cell_type": "code",
   "execution_count": 2,
   "id": "8988f663",
   "metadata": {
    "execution": {
     "iopub.execute_input": "2024-04-19T01:12:11.175493Z",
     "iopub.status.busy": "2024-04-19T01:12:11.175084Z",
     "iopub.status.idle": "2024-04-19T01:12:13.680544Z",
     "shell.execute_reply": "2024-04-19T01:12:13.679377Z"
    },
    "papermill": {
     "duration": 2.514872,
     "end_time": "2024-04-19T01:12:13.683560",
     "exception": false,
     "start_time": "2024-04-19T01:12:11.168688",
     "status": "completed"
    },
    "tags": []
   },
   "outputs": [],
   "source": [
    "from glob import glob\n",
    "import pandas as pd\n",
    "from sklearn.model_selection import train_test_split\n",
    "import shutil"
   ]
  },
  {
   "cell_type": "code",
   "execution_count": 3,
   "id": "d211f6ff",
   "metadata": {
    "execution": {
     "iopub.execute_input": "2024-04-19T01:12:13.694707Z",
     "iopub.status.busy": "2024-04-19T01:12:13.694125Z",
     "iopub.status.idle": "2024-04-19T01:12:13.917158Z",
     "shell.execute_reply": "2024-04-19T01:12:13.915924Z"
    },
    "papermill": {
     "duration": 0.231701,
     "end_time": "2024-04-19T01:12:13.919940",
     "exception": false,
     "start_time": "2024-04-19T01:12:13.688239",
     "status": "completed"
    },
    "tags": []
   },
   "outputs": [],
   "source": [
    "imgs = glob('/kaggle/input/ham1000-segmentation-and-classification/images/*.jpg')"
   ]
  },
  {
   "cell_type": "code",
   "execution_count": 4,
   "id": "6d6d96db",
   "metadata": {
    "execution": {
     "iopub.execute_input": "2024-04-19T01:12:13.930415Z",
     "iopub.status.busy": "2024-04-19T01:12:13.929733Z",
     "iopub.status.idle": "2024-04-19T01:12:13.971711Z",
     "shell.execute_reply": "2024-04-19T01:12:13.970202Z"
    },
    "papermill": {
     "duration": 0.050214,
     "end_time": "2024-04-19T01:12:13.974432",
     "exception": false,
     "start_time": "2024-04-19T01:12:13.924218",
     "status": "completed"
    },
    "tags": []
   },
   "outputs": [],
   "source": [
    "annot = pd.read_csv('/kaggle/input/ham1000-segmentation-and-classification/GroundTruth.csv')"
   ]
  },
  {
   "cell_type": "code",
   "execution_count": 5,
   "id": "e6519265",
   "metadata": {
    "execution": {
     "iopub.execute_input": "2024-04-19T01:12:13.985016Z",
     "iopub.status.busy": "2024-04-19T01:12:13.984592Z",
     "iopub.status.idle": "2024-04-19T01:12:13.999817Z",
     "shell.execute_reply": "2024-04-19T01:12:13.998700Z"
    },
    "papermill": {
     "duration": 0.023783,
     "end_time": "2024-04-19T01:12:14.002659",
     "exception": false,
     "start_time": "2024-04-19T01:12:13.978876",
     "status": "completed"
    },
    "tags": []
   },
   "outputs": [],
   "source": [
    "X_train_val, X_test = train_test_split(annot,train_size =0.9, shuffle = True, random_state = 8)"
   ]
  },
  {
   "cell_type": "code",
   "execution_count": 6,
   "id": "f873a6e1",
   "metadata": {
    "execution": {
     "iopub.execute_input": "2024-04-19T01:12:14.013081Z",
     "iopub.status.busy": "2024-04-19T01:12:14.012682Z",
     "iopub.status.idle": "2024-04-19T01:12:14.021386Z",
     "shell.execute_reply": "2024-04-19T01:12:14.020533Z"
    },
    "papermill": {
     "duration": 0.0163,
     "end_time": "2024-04-19T01:12:14.023481",
     "exception": false,
     "start_time": "2024-04-19T01:12:14.007181",
     "status": "completed"
    },
    "tags": []
   },
   "outputs": [],
   "source": [
    "X_train, X_val = train_test_split(X_train_val,train_size =0.8, shuffle = True, random_state = 8)"
   ]
  },
  {
   "cell_type": "code",
   "execution_count": 7,
   "id": "bc3af969",
   "metadata": {
    "execution": {
     "iopub.execute_input": "2024-04-19T01:12:14.034418Z",
     "iopub.status.busy": "2024-04-19T01:12:14.033727Z",
     "iopub.status.idle": "2024-04-19T01:12:14.041994Z",
     "shell.execute_reply": "2024-04-19T01:12:14.040798Z"
    },
    "papermill": {
     "duration": 0.016577,
     "end_time": "2024-04-19T01:12:14.044424",
     "exception": false,
     "start_time": "2024-04-19T01:12:14.027847",
     "status": "completed"
    },
    "tags": []
   },
   "outputs": [
    {
     "data": {
      "text/plain": [
       "Index(['MEL', 'NV', 'BCC', 'AKIEC', 'BKL', 'DF', 'VASC'], dtype='object')"
      ]
     },
     "execution_count": 7,
     "metadata": {},
     "output_type": "execute_result"
    }
   ],
   "source": [
    "cls = X_train.columns[1:]\n",
    "cls"
   ]
  },
  {
   "cell_type": "code",
   "execution_count": 8,
   "id": "bde0631f",
   "metadata": {
    "execution": {
     "iopub.execute_input": "2024-04-19T01:12:14.056352Z",
     "iopub.status.busy": "2024-04-19T01:12:14.055697Z",
     "iopub.status.idle": "2024-04-19T01:13:47.703614Z",
     "shell.execute_reply": "2024-04-19T01:13:47.702315Z"
    },
    "papermill": {
     "duration": 93.657585,
     "end_time": "2024-04-19T01:13:47.706811",
     "exception": false,
     "start_time": "2024-04-19T01:12:14.049226",
     "status": "completed"
    },
    "tags": []
   },
   "outputs": [],
   "source": [
    "for cl in cls:\n",
    "    imgs_name = X_train[X_train[cl]==1]['image'].to_list()\n",
    "    for img in imgs_name:\n",
    "        shutil.copy(f'/kaggle/input/ham1000-segmentation-and-classification/images/{img}.jpg', \n",
    "                   f'/kaggle/temp/dataset/train/{cl}')\n",
    "        \n",
    "for cl in cls:\n",
    "    imgs_name = X_val[X_val[cl]==1]['image'].to_list()\n",
    "    for img in imgs_name:\n",
    "        shutil.copy(f'/kaggle/input/ham1000-segmentation-and-classification/images/{img}.jpg', \n",
    "                   f'/kaggle/temp/dataset/val/{cl}')\n",
    "\n",
    "for cl in cls:\n",
    "    imgs_name = X_test[X_test[cl]==1]['image'].to_list()\n",
    "    for img in imgs_name:\n",
    "        shutil.copy(f'/kaggle/input/ham1000-segmentation-and-classification/images/{img}.jpg', \n",
    "                   f'/kaggle/temp/dataset/test/{cl}')"
   ]
  },
  {
   "cell_type": "code",
   "execution_count": 9,
   "id": "a35fbc3f",
   "metadata": {
    "execution": {
     "iopub.execute_input": "2024-04-19T01:13:47.719243Z",
     "iopub.status.busy": "2024-04-19T01:13:47.718194Z",
     "iopub.status.idle": "2024-04-19T01:13:50.844762Z",
     "shell.execute_reply": "2024-04-19T01:13:50.843650Z"
    },
    "papermill": {
     "duration": 3.135435,
     "end_time": "2024-04-19T01:13:50.847340",
     "exception": false,
     "start_time": "2024-04-19T01:13:47.711905",
     "status": "completed"
    },
    "tags": []
   },
   "outputs": [
    {
     "name": "stdout",
     "output_type": "stream",
     "text": [
      "7210\r\n",
      "1803\r\n",
      "1002\r\n"
     ]
    }
   ],
   "source": [
    "%ls /kaggle/temp/dataset/train/*/* | wc -l\n",
    "\n",
    "%ls /kaggle/temp/dataset/val/*/* | wc -l\n",
    "\n",
    "%ls /kaggle/temp/dataset/test/*/* | wc -l"
   ]
  },
  {
   "cell_type": "code",
   "execution_count": 10,
   "id": "5493842b",
   "metadata": {
    "execution": {
     "iopub.execute_input": "2024-04-19T01:13:50.859480Z",
     "iopub.status.busy": "2024-04-19T01:13:50.858806Z",
     "iopub.status.idle": "2024-04-19T01:14:15.711684Z",
     "shell.execute_reply": "2024-04-19T01:14:15.709841Z"
    },
    "papermill": {
     "duration": 24.862787,
     "end_time": "2024-04-19T01:14:15.714934",
     "exception": false,
     "start_time": "2024-04-19T01:13:50.852147",
     "status": "completed"
    },
    "tags": []
   },
   "outputs": [
    {
     "name": "stdout",
     "output_type": "stream",
     "text": [
      "/kaggle/temp\n",
      "Cloning into 'yolov5'...\r\n",
      "remote: Enumerating objects: 16559, done.\u001b[K\r\n",
      "remote: Counting objects: 100% (37/37), done.\u001b[K\r\n",
      "remote: Compressing objects: 100% (24/24), done.\u001b[K\r\n",
      "remote: Total 16559 (delta 18), reused 29 (delta 13), pack-reused 16522\u001b[K\r\n",
      "Receiving objects: 100% (16559/16559), 15.06 MiB | 22.62 MiB/s, done.\r\n",
      "Resolving deltas: 100% (11371/11371), done.\r\n",
      "/kaggle/temp/yolov5\n",
      "\u001b[31mERROR: pip's dependency resolver does not currently take into account all the packages that are installed. This behaviour is the source of the following dependency conflicts.\r\n",
      "spopt 0.6.0 requires shapely>=2.0.1, but you have shapely 1.8.5.post1 which is incompatible.\r\n",
      "ydata-profiling 4.6.4 requires numpy<1.26,>=1.16.0, but you have numpy 1.26.4 which is incompatible.\u001b[0m\u001b[31m\r\n",
      "\u001b[0m"
     ]
    }
   ],
   "source": [
    "%cd /kaggle/temp/\n",
    "!git clone https://github.com/ultralytics/yolov5.git\n",
    "%cd yolov5\n",
    "!pip install -qr requirements.txt"
   ]
  },
  {
   "cell_type": "code",
   "execution_count": 11,
   "id": "d8354002",
   "metadata": {
    "execution": {
     "iopub.execute_input": "2024-04-19T01:14:15.730818Z",
     "iopub.status.busy": "2024-04-19T01:14:15.730337Z",
     "iopub.status.idle": "2024-04-19T01:14:28.409756Z",
     "shell.execute_reply": "2024-04-19T01:14:28.408351Z"
    },
    "papermill": {
     "duration": 12.690848,
     "end_time": "2024-04-19T01:14:28.412801",
     "exception": false,
     "start_time": "2024-04-19T01:14:15.721953",
     "status": "completed"
    },
    "tags": []
   },
   "outputs": [
    {
     "name": "stdout",
     "output_type": "stream",
     "text": [
      "Requirement already satisfied: wandb in /opt/conda/lib/python3.10/site-packages (0.16.5)\r\n",
      "Requirement already satisfied: Click!=8.0.0,>=7.1 in /opt/conda/lib/python3.10/site-packages (from wandb) (8.1.7)\r\n",
      "Requirement already satisfied: GitPython!=3.1.29,>=1.0.0 in /opt/conda/lib/python3.10/site-packages (from wandb) (3.1.41)\r\n",
      "Requirement already satisfied: requests<3,>=2.0.0 in /opt/conda/lib/python3.10/site-packages (from wandb) (2.31.0)\r\n",
      "Requirement already satisfied: psutil>=5.0.0 in /opt/conda/lib/python3.10/site-packages (from wandb) (5.9.3)\r\n",
      "Requirement already satisfied: sentry-sdk>=1.0.0 in /opt/conda/lib/python3.10/site-packages (from wandb) (1.44.1)\r\n",
      "Requirement already satisfied: docker-pycreds>=0.4.0 in /opt/conda/lib/python3.10/site-packages (from wandb) (0.4.0)\r\n",
      "Requirement already satisfied: PyYAML in /opt/conda/lib/python3.10/site-packages (from wandb) (6.0.1)\r\n",
      "Requirement already satisfied: setproctitle in /opt/conda/lib/python3.10/site-packages (from wandb) (1.3.3)\r\n",
      "Requirement already satisfied: setuptools in /opt/conda/lib/python3.10/site-packages (from wandb) (69.0.3)\r\n",
      "Requirement already satisfied: appdirs>=1.4.3 in /opt/conda/lib/python3.10/site-packages (from wandb) (1.4.4)\r\n",
      "Requirement already satisfied: protobuf!=4.21.0,<5,>=3.19.0 in /opt/conda/lib/python3.10/site-packages (from wandb) (3.20.3)\r\n",
      "Requirement already satisfied: six>=1.4.0 in /opt/conda/lib/python3.10/site-packages (from docker-pycreds>=0.4.0->wandb) (1.16.0)\r\n",
      "Requirement already satisfied: gitdb<5,>=4.0.1 in /opt/conda/lib/python3.10/site-packages (from GitPython!=3.1.29,>=1.0.0->wandb) (4.0.11)\r\n",
      "Requirement already satisfied: charset-normalizer<4,>=2 in /opt/conda/lib/python3.10/site-packages (from requests<3,>=2.0.0->wandb) (3.3.2)\r\n",
      "Requirement already satisfied: idna<4,>=2.5 in /opt/conda/lib/python3.10/site-packages (from requests<3,>=2.0.0->wandb) (3.6)\r\n",
      "Requirement already satisfied: urllib3<3,>=1.21.1 in /opt/conda/lib/python3.10/site-packages (from requests<3,>=2.0.0->wandb) (1.26.18)\r\n",
      "Requirement already satisfied: certifi>=2017.4.17 in /opt/conda/lib/python3.10/site-packages (from requests<3,>=2.0.0->wandb) (2024.2.2)\r\n",
      "Requirement already satisfied: smmap<6,>=3.0.1 in /opt/conda/lib/python3.10/site-packages (from gitdb<5,>=4.0.1->GitPython!=3.1.29,>=1.0.0->wandb) (5.0.1)\r\n"
     ]
    }
   ],
   "source": [
    "!pip install wandb"
   ]
  },
  {
   "cell_type": "code",
   "execution_count": 12,
   "id": "25ef771d",
   "metadata": {
    "execution": {
     "iopub.execute_input": "2024-04-19T01:14:28.435839Z",
     "iopub.status.busy": "2024-04-19T01:14:28.435308Z",
     "iopub.status.idle": "2024-04-19T01:14:47.426609Z",
     "shell.execute_reply": "2024-04-19T01:14:47.425643Z"
    },
    "papermill": {
     "duration": 19.003393,
     "end_time": "2024-04-19T01:14:47.429080",
     "exception": false,
     "start_time": "2024-04-19T01:14:28.425687",
     "status": "completed"
    },
    "tags": []
   },
   "outputs": [
    {
     "name": "stderr",
     "output_type": "stream",
     "text": [
      "\u001b[34m\u001b[1mwandb\u001b[0m: W&B API key is configured. Use \u001b[1m`wandb login --relogin`\u001b[0m to force relogin\n",
      "\u001b[34m\u001b[1mwandb\u001b[0m: \u001b[33mWARNING\u001b[0m If you're specifying your api key in code, ensure this code is not shared publicly.\n",
      "\u001b[34m\u001b[1mwandb\u001b[0m: \u001b[33mWARNING\u001b[0m Consider setting the WANDB_API_KEY environment variable, or running `wandb login` from the command line.\n",
      "\u001b[34m\u001b[1mwandb\u001b[0m: Appending key for api.wandb.ai to your netrc file: /root/.netrc\n",
      "\u001b[34m\u001b[1mwandb\u001b[0m: Currently logged in as: \u001b[33mshubham64negi\u001b[0m. Use \u001b[1m`wandb login --relogin`\u001b[0m to force relogin\n",
      "\u001b[34m\u001b[1mwandb\u001b[0m: wandb version 0.16.6 is available!  To upgrade, please run:\n",
      "\u001b[34m\u001b[1mwandb\u001b[0m:  $ pip install wandb --upgrade\n",
      "\u001b[34m\u001b[1mwandb\u001b[0m: Tracking run with wandb version 0.16.5\n",
      "\u001b[34m\u001b[1mwandb\u001b[0m: Run data is saved locally in \u001b[35m\u001b[1m/kaggle/temp/yolov5/wandb/run-20240419_011431-vh8t63w5\u001b[0m\n",
      "\u001b[34m\u001b[1mwandb\u001b[0m: Run \u001b[1m`wandb offline`\u001b[0m to turn off syncing.\n",
      "\u001b[34m\u001b[1mwandb\u001b[0m: Syncing run \u001b[33mdifferent-pond-6\u001b[0m\n",
      "\u001b[34m\u001b[1mwandb\u001b[0m: ⭐️ View project at \u001b[34m\u001b[4mhttps://wandb.ai/shubham64negi/yolov5-classification\u001b[0m\n",
      "\u001b[34m\u001b[1mwandb\u001b[0m: 🚀 View run at \u001b[34m\u001b[4mhttps://wandb.ai/shubham64negi/yolov5-classification/runs/vh8t63w5/workspace\u001b[0m\n"
     ]
    },
    {
     "data": {
      "text/html": [
       "<button onClick=\"this.nextSibling.style.display='block';this.style.display='none';\">Display W&B run</button><iframe src='https://wandb.ai/shubham64negi/yolov5-classification/runs/vh8t63w5?jupyter=true' style='border:none;width:100%;height:420px;display:none;'></iframe>"
      ],
      "text/plain": [
       "<wandb.sdk.wandb_run.Run at 0x797b535c5ab0>"
      ]
     },
     "execution_count": 12,
     "metadata": {},
     "output_type": "execute_result"
    }
   ],
   "source": [
    "import wandb\n",
    "from kaggle_secrets import UserSecretsClient\n",
    "\n",
    "# Create a UserSecretsClient object\n",
    "user_secrets = UserSecretsClient()\n",
    "\n",
    "# Retrieve the wandb API key from Kaggle secrets\n",
    "personal_key_for_api = user_secrets.get_secret(\"api_key\")\n",
    "\n",
    "# Log in to wandb using the retrieved API key\n",
    "wandb.login(key=personal_key_for_api)\n",
    "\n",
    "# Initialize wandb\n",
    "wandb.init(project=\"yolov5-classification\", entity=\"shubham64negi\")\n"
   ]
  },
  {
   "cell_type": "code",
   "execution_count": 13,
   "id": "e929e91b",
   "metadata": {
    "execution": {
     "iopub.execute_input": "2024-04-19T01:14:47.449458Z",
     "iopub.status.busy": "2024-04-19T01:14:47.448801Z",
     "iopub.status.idle": "2024-04-19T01:14:48.473146Z",
     "shell.execute_reply": "2024-04-19T01:14:48.471664Z"
    },
    "papermill": {
     "duration": 1.037777,
     "end_time": "2024-04-19T01:14:48.476049",
     "exception": false,
     "start_time": "2024-04-19T01:14:47.438272",
     "status": "completed"
    },
    "tags": []
   },
   "outputs": [
    {
     "name": "stdout",
     "output_type": "stream",
     "text": [
      "dataset  yolov5\r\n"
     ]
    }
   ],
   "source": [
    "!ls /kaggle/temp/"
   ]
  },
  {
   "cell_type": "code",
   "execution_count": 14,
   "id": "33a03ec7",
   "metadata": {
    "execution": {
     "iopub.execute_input": "2024-04-19T01:14:48.495565Z",
     "iopub.status.busy": "2024-04-19T01:14:48.495070Z",
     "iopub.status.idle": "2024-04-19T03:48:45.472943Z",
     "shell.execute_reply": "2024-04-19T03:48:45.470722Z"
    },
    "papermill": {
     "duration": 9236.99178,
     "end_time": "2024-04-19T03:48:45.476160",
     "exception": false,
     "start_time": "2024-04-19T01:14:48.484380",
     "status": "completed"
    },
    "tags": []
   },
   "outputs": [
    {
     "name": "stdout",
     "output_type": "stream",
     "text": [
      "\u001b[34m\u001b[1mwandb\u001b[0m: WARNING ⚠️ wandb is deprecated and will be removed in a future release. See supported integrations at https://github.com/ultralytics/yolov5#integrations.\r\n",
      "2024-04-19 01:15:03.720697: E external/local_xla/xla/stream_executor/cuda/cuda_dnn.cc:9261] Unable to register cuDNN factory: Attempting to register factory for plugin cuDNN when one has already been registered\r\n",
      "2024-04-19 01:15:03.720831: E external/local_xla/xla/stream_executor/cuda/cuda_fft.cc:607] Unable to register cuFFT factory: Attempting to register factory for plugin cuFFT when one has already been registered\r\n",
      "2024-04-19 01:15:03.886942: E external/local_xla/xla/stream_executor/cuda/cuda_blas.cc:1515] Unable to register cuBLAS factory: Attempting to register factory for plugin cuBLAS when one has already been registered\r\n",
      "\u001b[34m\u001b[1mwandb\u001b[0m: Currently logged in as: \u001b[33mshubham64negi\u001b[0m. Use \u001b[1m`wandb login --relogin`\u001b[0m to force relogin\r\n",
      "\u001b[34m\u001b[1mclassify/train: \u001b[0mmodel=yolov5s-cls.pt, data=/kaggle/temp/dataset, epochs=20, batch_size=64, imgsz=224, nosave=False, cache=None, device=, workers=8, project=yolov5-classification, name=exp, exist_ok=False, pretrained=False, optimizer=Adam, lr0=0.001, decay=5e-05, label_smoothing=0.1, cutoff=None, dropout=None, verbose=False, seed=0, local_rank=-1\r\n",
      "\u001b[34m\u001b[1mgithub: \u001b[0mup to date with https://github.com/ultralytics/yolov5 ✅\r\n",
      "YOLOv5 🚀 v7.0-304-g22361691 Python-3.10.13 torch-2.1.2+cpu CPU\r\n",
      "\r\n",
      "\u001b[34m\u001b[1mTensorBoard: \u001b[0mStart with 'tensorboard --logdir yolov5-classification', view at http://localhost:6006/\r\n",
      "\u001b[34m\u001b[1mwandb\u001b[0m: wandb version 0.16.6 is available!  To upgrade, please run:\r\n",
      "\u001b[34m\u001b[1mwandb\u001b[0m:  $ pip install wandb --upgrade\r\n",
      "\u001b[34m\u001b[1mwandb\u001b[0m: Tracking run with wandb version 0.16.5\r\n",
      "\u001b[34m\u001b[1mwandb\u001b[0m: Run data is saved locally in \u001b[35m\u001b[1m/kaggle/temp/yolov5/wandb/run-20240419_011514-8ux1mzb7\u001b[0m\r\n",
      "\u001b[34m\u001b[1mwandb\u001b[0m: Run \u001b[1m`wandb offline`\u001b[0m to turn off syncing.\r\n",
      "\u001b[34m\u001b[1mwandb\u001b[0m: Syncing run \u001b[33mworldly-field-7\u001b[0m\r\n",
      "\u001b[34m\u001b[1mwandb\u001b[0m: ⭐️ View project at \u001b[34m\u001b[4mhttps://wandb.ai/shubham64negi/yolov5-classification\u001b[0m\r\n",
      "\u001b[34m\u001b[1mwandb\u001b[0m: 🚀 View run at \u001b[34m\u001b[4mhttps://wandb.ai/shubham64negi/yolov5-classification/runs/8ux1mzb7/workspace\u001b[0m\r\n",
      "\u001b[34m\u001b[1malbumentations: \u001b[0mRandomResizedCrop(p=1.0, height=224, width=224, scale=(0.08, 1.0), ratio=(0.75, 1.3333333333333333), interpolation=1), HorizontalFlip(p=0.5), ColorJitter(p=0.5, brightness=[0.6, 1.4], contrast=[0.6, 1.4], saturation=[0.6, 1.4], hue=[0, 0]), Normalize(p=1.0, mean=(0.485, 0.456, 0.406), std=(0.229, 0.224, 0.225), max_pixel_value=255.0), ToTensorV2(always_apply=True, p=1.0, transpose_mask=False)\r\n",
      "/opt/conda/lib/python3.10/multiprocessing/popen_fork.py:66: RuntimeWarning: os.fork() was called. os.fork() is incompatible with multithreaded code, and JAX is multithreaded, so this will likely lead to a deadlock.\r\n",
      "  self.pid = os.fork()\r\n",
      "Downloading https://github.com/ultralytics/yolov5/releases/download/v7.0/yolov5s-cls.pt to yolov5s-cls.pt...\r\n",
      "100%|██████████████████████████████████████| 10.5M/10.5M [00:00<00:00, 64.0MB/s]\r\n",
      "\r\n",
      "Model summary: 149 layers, 4181447 parameters, 4181447 gradients, 10.5 GFLOPs\r\n",
      "\u001b[34m\u001b[1moptimizer:\u001b[0m Adam(lr=0.001) with parameter groups 32 weight(decay=0.0), 33 weight(decay=5e-05), 33 bias\r\n",
      "Image sizes 224 train, 224 test\r\n",
      "Using 3 dataloader workers\r\n",
      "Logging results to \u001b[1myolov5-classification/exp\u001b[0m\r\n",
      "Starting yolov5s-cls.pt training on /kaggle/temp/dataset dataset with 7 classes for 20 epochs...\r\n",
      "\r\n",
      "     Epoch   GPU_mem  train_loss   test_loss    top1_acc    top5_acc\r\n",
      "      1/20        0G        1.26        1.27       0.684        0.96: 100%|█████\r\n",
      "      2/20        0G        1.21        1.17       0.664        0.97: 100%|█████\r\n",
      "      3/20        0G        1.17        1.09       0.695       0.975: 100%|█████\r\n",
      "      4/20        0G        1.15        1.18       0.675       0.968: 100%|█████\r\n",
      "      5/20        0G        1.13        1.08       0.706       0.971: 100%|█████\r\n",
      "      6/20        0G        1.11        1.08       0.695       0.971: 100%|█████\r\n",
      "      7/20        0G        1.12         1.1       0.712       0.972: 100%|█████\r\n",
      "      8/20        0G        1.11        1.06       0.712       0.979: 100%|█████\r\n",
      "      9/20        0G         1.1        1.15       0.685       0.967: 100%|█████\r\n",
      "     10/20        0G         1.1        1.14       0.658       0.974: 100%|█████\r\n",
      "     11/20        0G        1.09        1.07       0.709       0.976: 100%|█████\r\n",
      "     12/20        0G        1.08        1.12       0.695       0.974: 100%|█████\r\n",
      "     13/20        0G        1.08        1.04       0.719       0.979: 100%|█████\r\n",
      "     14/20        0G        1.07        1.04       0.725       0.978: 100%|█████\r\n",
      "     15/20        0G        1.07        1.06       0.708        0.98: 100%|█████\r\n",
      "     16/20        0G        1.05        1.04       0.723       0.982: 100%|█████\r\n",
      "     17/20        0G        1.06        1.03       0.731       0.982: 100%|█████\r\n",
      "     18/20        0G        1.05        1.02       0.738       0.981: 100%|█████\r\n",
      "     19/20        0G        1.05        1.01       0.754       0.982: 100%|█████\r\n",
      "     20/20        0G        1.04        1.01       0.742       0.983: 100%|█████\r\n",
      "\r\n",
      "Training complete (2.549 hours)\r\n",
      "Results saved to \u001b[1myolov5-classification/exp\u001b[0m\r\n",
      "Predict:         python classify/predict.py --weights yolov5-classification/exp/weights/best.pt --source im.jpg\r\n",
      "Validate:        python classify/val.py --weights yolov5-classification/exp/weights/best.pt --data /kaggle/temp/dataset\r\n",
      "Export:          python export.py --weights yolov5-classification/exp/weights/best.pt --include onnx\r\n",
      "PyTorch Hub:     model = torch.hub.load('ultralytics/yolov5', 'custom', 'yolov5-classification/exp/weights/best.pt')\r\n",
      "Visualize:       https://netron.app\r\n",
      "\r\n"
     ]
    }
   ],
   "source": [
    "!python classify/train.py --model yolov5s-cls.pt --data /kaggle/temp/dataset --epochs 20 --img 224 \\\n",
    "--project \"yolov5-classification\" --pretrained 'False'"
   ]
  },
  {
   "cell_type": "code",
   "execution_count": 15,
   "id": "8d864d1d",
   "metadata": {
    "execution": {
     "iopub.execute_input": "2024-04-19T03:48:45.824516Z",
     "iopub.status.busy": "2024-04-19T03:48:45.823906Z",
     "iopub.status.idle": "2024-04-19T03:48:56.422768Z",
     "shell.execute_reply": "2024-04-19T03:48:56.420924Z"
    },
    "papermill": {
     "duration": 10.773693,
     "end_time": "2024-04-19T03:48:56.425589",
     "exception": false,
     "start_time": "2024-04-19T03:48:45.651896",
     "status": "completed"
    },
    "tags": []
   },
   "outputs": [
    {
     "name": "stdout",
     "output_type": "stream",
     "text": [
      "\u001b[34m\u001b[1mclassify/val: \u001b[0mdata=/kaggle/temp/dataset, weights=['/kaggle/working/train/exp/weights/best.pt'], batch_size=128, imgsz=224, device=, workers=8, verbose=True, project=runs/val-cls, name=exp, exist_ok=False, half=False, dnn=False\r\n",
      "YOLOv5 🚀 v7.0-304-g22361691 Python-3.10.13 torch-2.1.2+cpu CPU\r\n",
      "\r\n",
      "Traceback (most recent call last):\r\n",
      "  File \"/kaggle/temp/yolov5/classify/val.py\", line 177, in <module>\r\n",
      "    main(opt)\r\n",
      "  File \"/kaggle/temp/yolov5/classify/val.py\", line 172, in main\r\n",
      "    run(**vars(opt))\r\n",
      "  File \"/opt/conda/lib/python3.10/site-packages/torch/utils/_contextlib.py\", line 115, in decorate_context\r\n",
      "    return func(*args, **kwargs)\r\n",
      "  File \"/kaggle/temp/yolov5/classify/val.py\", line 85, in run\r\n",
      "    model = DetectMultiBackend(weights, device=device, dnn=dnn, fp16=half)\r\n",
      "  File \"/kaggle/temp/yolov5/models/common.py\", line 467, in __init__\r\n",
      "    model = attempt_load(weights if isinstance(weights, list) else w, device=device, inplace=True, fuse=fuse)\r\n",
      "  File \"/kaggle/temp/yolov5/models/experimental.py\", line 98, in attempt_load\r\n",
      "    ckpt = torch.load(attempt_download(w), map_location=\"cpu\")  # load\r\n",
      "  File \"/opt/conda/lib/python3.10/site-packages/torch/serialization.py\", line 986, in load\r\n",
      "    with _open_file_like(f, 'rb') as opened_file:\r\n",
      "  File \"/opt/conda/lib/python3.10/site-packages/torch/serialization.py\", line 435, in _open_file_like\r\n",
      "    return _open_file(name_or_buffer, mode)\r\n",
      "  File \"/opt/conda/lib/python3.10/site-packages/torch/serialization.py\", line 416, in __init__\r\n",
      "    super().__init__(open(name, mode))\r\n",
      "FileNotFoundError: [Errno 2] No such file or directory: '/kaggle/working/train/exp/weights/best.pt'\r\n"
     ]
    }
   ],
   "source": [
    "!python classify/val.py --weights /kaggle/working/train/exp/weights/best.pt --data /kaggle/temp/dataset"
   ]
  }
 ],
 "metadata": {
  "kaggle": {
   "accelerator": "none",
   "dataSources": [
    {
     "datasetId": 1370616,
     "sourceId": 2275763,
     "sourceType": "datasetVersion"
    }
   ],
   "dockerImageVersionId": 30684,
   "isGpuEnabled": false,
   "isInternetEnabled": true,
   "language": "python",
   "sourceType": "notebook"
  },
  "kernelspec": {
   "display_name": "Python 3",
   "language": "python",
   "name": "python3"
  },
  "language_info": {
   "codemirror_mode": {
    "name": "ipython",
    "version": 3
   },
   "file_extension": ".py",
   "mimetype": "text/x-python",
   "name": "python",
   "nbconvert_exporter": "python",
   "pygments_lexer": "ipython3",
   "version": "3.10.13"
  },
  "papermill": {
   "default_parameters": {},
   "duration": 9418.235775,
   "end_time": "2024-04-19T03:48:59.233305",
   "environment_variables": {},
   "exception": null,
   "input_path": "__notebook__.ipynb",
   "output_path": "__notebook__.ipynb",
   "parameters": {},
   "start_time": "2024-04-19T01:12:00.997530",
   "version": "2.5.0"
  }
 },
 "nbformat": 4,
 "nbformat_minor": 5
}
