{
  "nbformat": 4,
  "nbformat_minor": 0,
  "metadata": {
    "colab": {
      "provenance": [],
      "authorship_tag": "ABX9TyPqFcSgJpMkyDvaiAxH2LdI",
      "include_colab_link": true
    },
    "kernelspec": {
      "name": "python3",
      "display_name": "Python 3"
    },
    "language_info": {
      "name": "python"
    }
  },
  "cells": [
    {
      "cell_type": "markdown",
      "metadata": {
        "id": "view-in-github",
        "colab_type": "text"
      },
      "source": [
        "<a href=\"https://colab.research.google.com/github/Entro01/ML-starter/blob/main/model_compaison.ipynb\" target=\"_parent\"><img src=\"https://colab.research.google.com/assets/colab-badge.svg\" alt=\"Open In Colab\"/></a>"
      ]
    },
    {
      "cell_type": "code",
      "execution_count": 20,
      "metadata": {
        "id": "noikPngyHu6v"
      },
      "outputs": [],
      "source": [
        "import pandas as pd\n",
        "from sklearn import datasets\n",
        "from sklearn.model_selection import train_test_split\n",
        "from sklearn.preprocessing import StandardScaler\n",
        "from sklearn.metrics import accuracy_score\n",
        "from sklearn.svm import SVC\n",
        "from sklearn.neighbors import KNeighborsClassifier\n",
        "from sklearn.tree import DecisionTreeClassifier\n",
        "from sklearn.ensemble import RandomForestClassifier\n",
        "from sklearn.linear_model import LogisticRegression\n",
        "from sklearn.model_selection import cross_val_score"
      ]
    },
    {
      "cell_type": "code",
      "source": [
        "from sklearn.datasets import load_iris\n",
        "iris = datasets.load_iris()\n",
        "data = pd.DataFrame(data=iris.data, columns=iris.feature_names)\n",
        "labels = pd.DataFrame(data=iris.target, columns=['target'])"
      ],
      "metadata": {
        "id": "6jXpzmuCUiQU"
      },
      "execution_count": 21,
      "outputs": []
    },
    {
      "cell_type": "code",
      "source": [
        "x_train, x_test, y_train, y_test = train_test_split(data, labels, test_size=0.2, random_state=42)\n",
        "\n",
        "y_train = y_train.values.ravel()\n",
        "y_test = y_test.values.ravel()"
      ],
      "metadata": {
        "id": "rH90obdjUpKY"
      },
      "execution_count": 22,
      "outputs": []
    },
    {
      "cell_type": "code",
      "source": [
        "scaler = StandardScaler()\n",
        "x_train_std = scaler.fit_transform(x_train)\n",
        "x_test_std = scaler.transform(x_test)"
      ],
      "metadata": {
        "id": "cgXS2zGXUyW_"
      },
      "execution_count": 23,
      "outputs": []
    },
    {
      "cell_type": "code",
      "source": [
        "# SVM\n",
        "svm = SVC(kernel='rbf', random_state=0, gamma=.10, C=1.0)\n",
        "scores = cross_val_score(svm, x_train_std, y_train, cv=5)\n",
        "print('SVM: Cross-validated accuracy {:.2f}'.format(scores.mean()*100))\n",
        "\n",
        "# KNN\n",
        "knn = KNeighborsClassifier(n_neighbors = 7, p = 2, metric='minkowski')\n",
        "scores = cross_val_score(knn, x_train_std, y_train, cv=5)\n",
        "print('KNN: Cross-validated accuracy {:.2f}'.format(scores.mean()*100))\n",
        "\n",
        "# Decision Tree\n",
        "decision_tree = DecisionTreeClassifier(criterion='gini')\n",
        "scores = cross_val_score(decision_tree, x_train_std, y_train, cv=5)\n",
        "print('Decision Tree: Cross-validated accuracy {:.2f}'.format(scores.mean()*100))\n",
        "\n",
        "# Random Forest\n",
        "random_forest = RandomForestClassifier()\n",
        "scores = cross_val_score(random_forest, x_train_std, y_train, cv=5)\n",
        "print('Random Forest: Cross-validated accuracy {:.2f}'.format(scores.mean()*100))\n",
        "\n",
        "# Logistic Regression\n",
        "log_reg = LogisticRegression(random_state=0)\n",
        "scores = cross_val_score(log_reg, x_train_std, y_train, cv=5)\n",
        "print('Logistic Regression: Cross-validated accuracy {:.2f}'.format(scores.mean()*100))\n"
      ],
      "metadata": {
        "colab": {
          "base_uri": "https://localhost:8080/"
        },
        "id": "C2B-oSJLb-TF",
        "outputId": "c253ed35-38a3-485d-f526-d13bd896041d"
      },
      "execution_count": 24,
      "outputs": [
        {
          "output_type": "stream",
          "name": "stdout",
          "text": [
            "SVM: Cross-validated accuracy 95.00\n",
            "KNN: Cross-validated accuracy 94.17\n",
            "Decision Tree: Cross-validated accuracy 95.83\n",
            "Random Forest: Cross-validated accuracy 95.00\n",
            "Logistic Regression: Cross-validated accuracy 95.83\n"
          ]
        }
      ]
    },
    {
      "cell_type": "code",
      "source": [
        "# SVM\n",
        "svm = SVC(kernel='rbf', random_state=0, gamma=.10, C=1.0)\n",
        "svm.fit(x_train_std, y_train)\n",
        "svm_train_accuracy = svm.score(x_train_std, y_train)\n",
        "svm_test_accuracy = svm.score(x_test_std, y_test)\n",
        "\n",
        "# KNN\n",
        "knn = KNeighborsClassifier(n_neighbors = 7, p = 2, metric='minkowski')\n",
        "knn.fit(x_train_std, y_train)\n",
        "knn_train_accuracy = knn.score(x_train_std, y_train)\n",
        "knn_test_accuracy = knn.score(x_test_std, y_test)\n",
        "\n",
        "# Decision Tree\n",
        "decision_tree = DecisionTreeClassifier(criterion='gini')\n",
        "decision_tree.fit(x_train_std, y_train)\n",
        "decision_tree_train_accuracy = decision_tree.score(x_train_std, y_train)\n",
        "decision_tree_test_accuracy = decision_tree.score(x_test_std, y_test)\n",
        "\n",
        "# Random Forest\n",
        "random_forest = RandomForestClassifier()\n",
        "random_forest.fit(x_train_std, y_train)\n",
        "random_forest_train_accuracy = random_forest.score(x_train_std, y_train)\n",
        "random_forest_test_accuracy = random_forest.score(x_test_std, y_test)\n",
        "\n",
        "# Logistic Regression\n",
        "log_reg = LogisticRegression(random_state=0)\n",
        "log_reg.fit(x_train_std, y_train)\n",
        "log_reg_train_accuracy = log_reg.score(x_train_std, y_train)\n",
        "log_reg_test_accuracy = log_reg.score(x_test_std, y_test)"
      ],
      "metadata": {
        "id": "zMRhRvm-WU8e"
      },
      "execution_count": 18,
      "outputs": []
    },
    {
      "cell_type": "code",
      "source": [
        "print('SVM: Training accuracy {:.2f}, Testing accuracy {:.2f}'.format(svm_train_accuracy*100, svm_test_accuracy*100))\n",
        "print('KNN: Training accuracy {:.2f}, Testing accuracy {:.2f}'.format(knn_train_accuracy*100, knn_test_accuracy*100))\n",
        "print('Decision Tree: Training accuracy {:.2f}, Testing accuracy {:.2f}'.format(decision_tree_train_accuracy*100, decision_tree_test_accuracy*100))\n",
        "print('Random Forest: Training accuracy {:.2f}, Testing accuracy {:.2f}'.format(random_forest_train_accuracy*100, random_forest_test_accuracy*100))\n",
        "print('Logistic Regression: Training accuracy {:.2f}, Testing accuracy {:.2f}'.format(log_reg_train_accuracy*100, log_reg_test_accuracy*100))\n"
      ],
      "metadata": {
        "colab": {
          "base_uri": "https://localhost:8080/"
        },
        "id": "T4N5u0NbWgnP",
        "outputId": "cb550685-fb56-4563-acf9-8dd8f62d4859"
      },
      "execution_count": 19,
      "outputs": [
        {
          "output_type": "stream",
          "name": "stdout",
          "text": [
            "SVM: Training accuracy 96.67, Testing accuracy 100.00\n",
            "KNN: Training accuracy 95.83, Testing accuracy 100.00\n",
            "Decision Tree: Training accuracy 100.00, Testing accuracy 100.00\n",
            "Random Forest: Training accuracy 100.00, Testing accuracy 100.00\n",
            "Logistic Regression: Training accuracy 96.67, Testing accuracy 100.00\n"
          ]
        }
      ]
    }
  ]
}