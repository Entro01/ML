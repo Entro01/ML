{
 "cells": [
  {
   "cell_type": "code",
   "execution_count": 1,
   "id": "ea658912",
   "metadata": {
    "_cell_guid": "b1076dfc-b9ad-4769-8c92-a6c4dae69d19",
    "_uuid": "8f2839f25d086af736a60e9eeb907d3b93b6e0e5",
    "execution": {
     "iopub.execute_input": "2024-01-04T10:07:56.166961Z",
     "iopub.status.busy": "2024-01-04T10:07:56.166310Z",
     "iopub.status.idle": "2024-01-04T10:07:56.553999Z",
     "shell.execute_reply": "2024-01-04T10:07:56.553270Z"
    },
    "papermill": {
     "duration": 0.39964,
     "end_time": "2024-01-04T10:07:56.556464",
     "exception": false,
     "start_time": "2024-01-04T10:07:56.156824",
     "status": "completed"
    },
    "tags": []
   },
   "outputs": [
    {
     "name": "stdout",
     "output_type": "stream",
     "text": [
      "/kaggle/input/word-difficulty/WordDifficulty.csv\n"
     ]
    }
   ],
   "source": [
    "# This Python 3 environment comes with many helpful analytics libraries installed\n",
    "# It is defined by the kaggle/python Docker image: https://github.com/kaggle/docker-python\n",
    "# For example, here's several helpful packages to load\n",
    "\n",
    "import numpy as np # linear algebra\n",
    "import pandas as pd # data processing, CSV file I/O (e.g. pd.read_csv)\n",
    "\n",
    "# Input data files are available in the read-only \"../input/\" directory\n",
    "# For example, running this (by clicking run or pressing Shift+Enter) will list all files under the input directory\n",
    "\n",
    "import os\n",
    "for dirname, _, filenames in os.walk('/kaggle/input'):\n",
    "    for filename in filenames:\n",
    "        print(os.path.join(dirname, filename))\n",
    "\n",
    "# You can write up to 20GB to the current directory (/kaggle/working/) that gets preserved as output when you create a version using \"Save & Run All\" \n",
    "# You can also write temporary files to /kaggle/temp/, but they won't be saved outside of the current session"
   ]
  },
  {
   "cell_type": "code",
   "execution_count": 2,
   "id": "f3635d81",
   "metadata": {
    "execution": {
     "iopub.execute_input": "2024-01-04T10:07:56.582338Z",
     "iopub.status.busy": "2024-01-04T10:07:56.581792Z",
     "iopub.status.idle": "2024-01-04T10:07:56.585951Z",
     "shell.execute_reply": "2024-01-04T10:07:56.585189Z"
    },
    "papermill": {
     "duration": 0.020747,
     "end_time": "2024-01-04T10:07:56.588078",
     "exception": false,
     "start_time": "2024-01-04T10:07:56.567331",
     "status": "completed"
    },
    "tags": []
   },
   "outputs": [],
   "source": [
    "# following https://github.com/garain/Word-Difficulty-Prediction/blob/master/WORD_DIFFICULTY.pdf"
   ]
  },
  {
   "cell_type": "code",
   "execution_count": 3,
   "id": "f7ab8c8f",
   "metadata": {
    "execution": {
     "iopub.execute_input": "2024-01-04T10:07:56.604863Z",
     "iopub.status.busy": "2024-01-04T10:07:56.604197Z",
     "iopub.status.idle": "2024-01-04T10:07:56.700262Z",
     "shell.execute_reply": "2024-01-04T10:07:56.699518Z"
    },
    "papermill": {
     "duration": 0.106977,
     "end_time": "2024-01-04T10:07:56.702659",
     "exception": false,
     "start_time": "2024-01-04T10:07:56.595682",
     "status": "completed"
    },
    "tags": []
   },
   "outputs": [],
   "source": [
    "df = pd.read_csv('/kaggle/input/word-difficulty/WordDifficulty.csv')"
   ]
  },
  {
   "cell_type": "code",
   "execution_count": 4,
   "id": "eb73bcfc",
   "metadata": {
    "execution": {
     "iopub.execute_input": "2024-01-04T10:07:56.718786Z",
     "iopub.status.busy": "2024-01-04T10:07:56.718261Z",
     "iopub.status.idle": "2024-01-04T10:07:56.733437Z",
     "shell.execute_reply": "2024-01-04T10:07:56.732753Z"
    },
    "papermill": {
     "duration": 0.025721,
     "end_time": "2024-01-04T10:07:56.735432",
     "exception": false,
     "start_time": "2024-01-04T10:07:56.709711",
     "status": "completed"
    },
    "tags": []
   },
   "outputs": [],
   "source": [
    "df = df[['Word', 'I_Zscore']]"
   ]
  },
  {
   "cell_type": "code",
   "execution_count": 5,
   "id": "430bef57",
   "metadata": {
    "execution": {
     "iopub.execute_input": "2024-01-04T10:07:56.751732Z",
     "iopub.status.busy": "2024-01-04T10:07:56.751123Z",
     "iopub.status.idle": "2024-01-04T10:07:56.762807Z",
     "shell.execute_reply": "2024-01-04T10:07:56.761930Z"
    },
    "papermill": {
     "duration": 0.022879,
     "end_time": "2024-01-04T10:07:56.765183",
     "exception": false,
     "start_time": "2024-01-04T10:07:56.742304",
     "status": "completed"
    },
    "tags": []
   },
   "outputs": [],
   "source": [
    "df.dropna(inplace=True)"
   ]
  },
  {
   "cell_type": "code",
   "execution_count": 6,
   "id": "0806ae40",
   "metadata": {
    "execution": {
     "iopub.execute_input": "2024-01-04T10:07:56.782612Z",
     "iopub.status.busy": "2024-01-04T10:07:56.782052Z",
     "iopub.status.idle": "2024-01-04T10:07:56.789401Z",
     "shell.execute_reply": "2024-01-04T10:07:56.788253Z"
    },
    "papermill": {
     "duration": 0.019022,
     "end_time": "2024-01-04T10:07:56.792006",
     "exception": false,
     "start_time": "2024-01-04T10:07:56.772984",
     "status": "completed"
    },
    "tags": []
   },
   "outputs": [
    {
     "data": {
      "text/plain": [
       "(40467, 2)"
      ]
     },
     "execution_count": 6,
     "metadata": {},
     "output_type": "execute_result"
    }
   ],
   "source": [
    "df.shape"
   ]
  },
  {
   "cell_type": "code",
   "execution_count": 7,
   "id": "fd0160c5",
   "metadata": {
    "execution": {
     "iopub.execute_input": "2024-01-04T10:07:56.809736Z",
     "iopub.status.busy": "2024-01-04T10:07:56.808955Z",
     "iopub.status.idle": "2024-01-04T10:07:56.824013Z",
     "shell.execute_reply": "2024-01-04T10:07:56.822979Z"
    },
    "papermill": {
     "duration": 0.026486,
     "end_time": "2024-01-04T10:07:56.826214",
     "exception": false,
     "start_time": "2024-01-04T10:07:56.799728",
     "status": "completed"
    },
    "tags": []
   },
   "outputs": [
    {
     "data": {
      "text/plain": [
       "Word        40467\n",
       "I_Zscore    40467\n",
       "dtype: int64"
      ]
     },
     "execution_count": 7,
     "metadata": {},
     "output_type": "execute_result"
    }
   ],
   "source": [
    "df.isnull().count()"
   ]
  },
  {
   "cell_type": "code",
   "execution_count": 8,
   "id": "33dd7d11",
   "metadata": {
    "execution": {
     "iopub.execute_input": "2024-01-04T10:07:56.844323Z",
     "iopub.status.busy": "2024-01-04T10:07:56.843954Z",
     "iopub.status.idle": "2024-01-04T10:07:56.851602Z",
     "shell.execute_reply": "2024-01-04T10:07:56.850490Z"
    },
    "papermill": {
     "duration": 0.019662,
     "end_time": "2024-01-04T10:07:56.853979",
     "exception": false,
     "start_time": "2024-01-04T10:07:56.834317",
     "status": "completed"
    },
    "tags": []
   },
   "outputs": [],
   "source": [
    "df = df.assign(label=np.where(df['I_Zscore'] <= 0, 0, 1))"
   ]
  },
  {
   "cell_type": "code",
   "execution_count": 9,
   "id": "7d630327",
   "metadata": {
    "execution": {
     "iopub.execute_input": "2024-01-04T10:07:56.872025Z",
     "iopub.status.busy": "2024-01-04T10:07:56.871397Z",
     "iopub.status.idle": "2024-01-04T10:07:56.894164Z",
     "shell.execute_reply": "2024-01-04T10:07:56.893073Z"
    },
    "papermill": {
     "duration": 0.034433,
     "end_time": "2024-01-04T10:07:56.896447",
     "exception": false,
     "start_time": "2024-01-04T10:07:56.862014",
     "status": "completed"
    },
    "tags": []
   },
   "outputs": [],
   "source": [
    "df['Word'] = df['Word'].str.lower()"
   ]
  },
  {
   "cell_type": "code",
   "execution_count": 10,
   "id": "a674d464",
   "metadata": {
    "execution": {
     "iopub.execute_input": "2024-01-04T10:07:56.914263Z",
     "iopub.status.busy": "2024-01-04T10:07:56.913895Z",
     "iopub.status.idle": "2024-01-04T10:07:56.931998Z",
     "shell.execute_reply": "2024-01-04T10:07:56.930917Z"
    },
    "papermill": {
     "duration": 0.02971,
     "end_time": "2024-01-04T10:07:56.934382",
     "exception": false,
     "start_time": "2024-01-04T10:07:56.904672",
     "status": "completed"
    },
    "tags": []
   },
   "outputs": [
    {
     "data": {
      "text/html": [
       "<div>\n",
       "<style scoped>\n",
       "    .dataframe tbody tr th:only-of-type {\n",
       "        vertical-align: middle;\n",
       "    }\n",
       "\n",
       "    .dataframe tbody tr th {\n",
       "        vertical-align: top;\n",
       "    }\n",
       "\n",
       "    .dataframe thead th {\n",
       "        text-align: right;\n",
       "    }\n",
       "</style>\n",
       "<table border=\"1\" class=\"dataframe\">\n",
       "  <thead>\n",
       "    <tr style=\"text-align: right;\">\n",
       "      <th></th>\n",
       "      <th>Word</th>\n",
       "      <th>I_Zscore</th>\n",
       "      <th>label</th>\n",
       "    </tr>\n",
       "  </thead>\n",
       "  <tbody>\n",
       "    <tr>\n",
       "      <th>0</th>\n",
       "      <td>a</td>\n",
       "      <td>-0.01</td>\n",
       "      <td>0</td>\n",
       "    </tr>\n",
       "    <tr>\n",
       "      <th>1</th>\n",
       "      <td>aah</td>\n",
       "      <td>0.21</td>\n",
       "      <td>1</td>\n",
       "    </tr>\n",
       "    <tr>\n",
       "      <th>2</th>\n",
       "      <td>aaron</td>\n",
       "      <td>-0.11</td>\n",
       "      <td>0</td>\n",
       "    </tr>\n",
       "    <tr>\n",
       "      <th>3</th>\n",
       "      <td>aback</td>\n",
       "      <td>0.11</td>\n",
       "      <td>1</td>\n",
       "    </tr>\n",
       "    <tr>\n",
       "      <th>4</th>\n",
       "      <td>abacus</td>\n",
       "      <td>0.65</td>\n",
       "      <td>1</td>\n",
       "    </tr>\n",
       "    <tr>\n",
       "      <th>...</th>\n",
       "      <td>...</td>\n",
       "      <td>...</td>\n",
       "      <td>...</td>\n",
       "    </tr>\n",
       "    <tr>\n",
       "      <th>40476</th>\n",
       "      <td>zooms</td>\n",
       "      <td>-0.48</td>\n",
       "      <td>0</td>\n",
       "    </tr>\n",
       "    <tr>\n",
       "      <th>40477</th>\n",
       "      <td>zucchini</td>\n",
       "      <td>0.24</td>\n",
       "      <td>1</td>\n",
       "    </tr>\n",
       "    <tr>\n",
       "      <th>40478</th>\n",
       "      <td>zurich</td>\n",
       "      <td>0.09</td>\n",
       "      <td>1</td>\n",
       "    </tr>\n",
       "    <tr>\n",
       "      <th>40479</th>\n",
       "      <td>false</td>\n",
       "      <td>-0.16</td>\n",
       "      <td>0</td>\n",
       "    </tr>\n",
       "    <tr>\n",
       "      <th>40480</th>\n",
       "      <td>true</td>\n",
       "      <td>-0.27</td>\n",
       "      <td>0</td>\n",
       "    </tr>\n",
       "  </tbody>\n",
       "</table>\n",
       "<p>40467 rows × 3 columns</p>\n",
       "</div>"
      ],
      "text/plain": [
       "           Word  I_Zscore  label\n",
       "0             a     -0.01      0\n",
       "1           aah      0.21      1\n",
       "2         aaron     -0.11      0\n",
       "3         aback      0.11      1\n",
       "4        abacus      0.65      1\n",
       "...         ...       ...    ...\n",
       "40476     zooms     -0.48      0\n",
       "40477  zucchini      0.24      1\n",
       "40478    zurich      0.09      1\n",
       "40479     false     -0.16      0\n",
       "40480      true     -0.27      0\n",
       "\n",
       "[40467 rows x 3 columns]"
      ]
     },
     "execution_count": 10,
     "metadata": {},
     "output_type": "execute_result"
    }
   ],
   "source": [
    "df"
   ]
  },
  {
   "cell_type": "code",
   "execution_count": 11,
   "id": "b9064d2d",
   "metadata": {
    "execution": {
     "iopub.execute_input": "2024-01-04T10:07:56.952641Z",
     "iopub.status.busy": "2024-01-04T10:07:56.952078Z",
     "iopub.status.idle": "2024-01-04T10:07:56.962088Z",
     "shell.execute_reply": "2024-01-04T10:07:56.961327Z"
    },
    "papermill": {
     "duration": 0.021842,
     "end_time": "2024-01-04T10:07:56.964277",
     "exception": false,
     "start_time": "2024-01-04T10:07:56.942435",
     "status": "completed"
    },
    "tags": []
   },
   "outputs": [
    {
     "data": {
      "text/plain": [
       "label\n",
       "0    22629\n",
       "1    17838\n",
       "Name: count, dtype: int64"
      ]
     },
     "execution_count": 11,
     "metadata": {},
     "output_type": "execute_result"
    }
   ],
   "source": [
    "df['label'].value_counts()"
   ]
  },
  {
   "cell_type": "code",
   "execution_count": 12,
   "id": "28b4934b",
   "metadata": {
    "execution": {
     "iopub.execute_input": "2024-01-04T10:07:56.982742Z",
     "iopub.status.busy": "2024-01-04T10:07:56.982406Z",
     "iopub.status.idle": "2024-01-04T10:08:08.667912Z",
     "shell.execute_reply": "2024-01-04T10:08:08.666999Z"
    },
    "papermill": {
     "duration": 11.698073,
     "end_time": "2024-01-04T10:08:08.670455",
     "exception": false,
     "start_time": "2024-01-04T10:07:56.972382",
     "status": "completed"
    },
    "tags": []
   },
   "outputs": [],
   "source": [
    "from keras.models import Sequential\n",
    "from keras.layers import Dense, Dropout, Flatten\n",
    "from keras.layers import Conv1D\n",
    "from keras.layers import MaxPooling1D\n",
    "from keras.utils import to_categorical\n",
    "import tensorflow as tf"
   ]
  },
  {
   "attachments": {
    "eea3c36f-3d6c-4164-af13-563d47168b3a.png": {
     "image/png": "[encoded data removed]"
    }
   },
   "cell_type": "markdown",
   "id": "41864c3b",
   "metadata": {
    "papermill": {
     "duration": 0.0077,
     "end_time": "2024-01-04T10:08:08.686243",
     "exception": false,
     "start_time": "2024-01-04T10:08:08.678543",
     "status": "completed"
    },
    "tags": []
   },
   "source": [
    "![image.png](attachment:eea3c36f-3d6c-4164-af13-563d47168b3a.png)"
   ]
  },
  {
   "cell_type": "code",
   "execution_count": 13,
   "id": "f718c2ba",
   "metadata": {
    "execution": {
     "iopub.execute_input": "2024-01-04T10:08:08.704417Z",
     "iopub.status.busy": "2024-01-04T10:08:08.703754Z",
     "iopub.status.idle": "2024-01-04T10:08:14.338294Z",
     "shell.execute_reply": "2024-01-04T10:08:14.337342Z"
    },
    "papermill": {
     "duration": 5.645929,
     "end_time": "2024-01-04T10:08:14.340406",
     "exception": false,
     "start_time": "2024-01-04T10:08:08.694477",
     "status": "completed"
    },
    "tags": []
   },
   "outputs": [
    {
     "data": {
      "text/plain": [
       "array([[[1., 0., 0., ..., 0., 0., 0.],\n",
       "        [1., 0., 0., ..., 0., 0., 0.],\n",
       "        [1., 0., 0., ..., 0., 0., 0.],\n",
       "        ...,\n",
       "        [1., 0., 0., ..., 0., 0., 0.],\n",
       "        [1., 0., 0., ..., 0., 0., 0.],\n",
       "        [1., 0., 0., ..., 0., 0., 0.]],\n",
       "\n",
       "       [[1., 0., 0., ..., 0., 0., 0.],\n",
       "        [1., 0., 0., ..., 0., 0., 0.],\n",
       "        [0., 0., 0., ..., 0., 0., 0.],\n",
       "        ...,\n",
       "        [1., 0., 0., ..., 0., 0., 0.],\n",
       "        [1., 0., 0., ..., 0., 0., 0.],\n",
       "        [1., 0., 0., ..., 0., 0., 0.]],\n",
       "\n",
       "       [[1., 0., 0., ..., 0., 0., 0.],\n",
       "        [1., 0., 0., ..., 0., 0., 0.],\n",
       "        [0., 0., 0., ..., 0., 0., 0.],\n",
       "        ...,\n",
       "        [1., 0., 0., ..., 0., 0., 0.],\n",
       "        [1., 0., 0., ..., 0., 0., 0.],\n",
       "        [1., 0., 0., ..., 0., 0., 0.]],\n",
       "\n",
       "       ...,\n",
       "\n",
       "       [[0., 0., 0., ..., 0., 0., 1.],\n",
       "        [0., 0., 0., ..., 0., 0., 0.],\n",
       "        [0., 0., 0., ..., 0., 0., 0.],\n",
       "        ...,\n",
       "        [1., 0., 0., ..., 0., 0., 0.],\n",
       "        [1., 0., 0., ..., 0., 0., 0.],\n",
       "        [1., 0., 0., ..., 0., 0., 0.]],\n",
       "\n",
       "       [[0., 0., 0., ..., 0., 0., 0.],\n",
       "        [1., 0., 0., ..., 0., 0., 0.],\n",
       "        [0., 0., 0., ..., 0., 0., 0.],\n",
       "        ...,\n",
       "        [1., 0., 0., ..., 0., 0., 0.],\n",
       "        [1., 0., 0., ..., 0., 0., 0.],\n",
       "        [1., 0., 0., ..., 0., 0., 0.]],\n",
       "\n",
       "       [[0., 0., 0., ..., 0., 0., 0.],\n",
       "        [0., 0., 0., ..., 0., 0., 0.],\n",
       "        [0., 0., 0., ..., 0., 0., 0.],\n",
       "        ...,\n",
       "        [1., 0., 0., ..., 0., 0., 0.],\n",
       "        [1., 0., 0., ..., 0., 0., 0.],\n",
       "        [1., 0., 0., ..., 0., 0., 0.]]])"
      ]
     },
     "execution_count": 13,
     "metadata": {},
     "output_type": "execute_result"
    }
   ],
   "source": [
    "def char_to_int(char):\n",
    "    if 'a' <= char <= 'z':\n",
    "        return ord(char) - 97\n",
    "    else:\n",
    "        return None\n",
    "\n",
    "def word_to_ints(word, max_len=21):\n",
    "   ints = [char_to_int(char) for char in word[:max_len] if char_to_int(char) is not None]\n",
    "   return ints + [0]*(max_len - len(ints))\n",
    "\n",
    "def one_hot_encode(nums, num_classes=26):\n",
    "  return np.eye(num_classes)[nums]\n",
    "\n",
    "words = df['Word']\n",
    "\n",
    "encoded_words = []\n",
    "for word in words:\n",
    "   ints = word_to_ints(word)\n",
    "   one_hot = [one_hot_encode(num) for num in ints]\n",
    "   encoded_words.append(np.array(one_hot))\n",
    "\n",
    "encoded_words = np.array(encoded_words)\n",
    "encoded_words"
   ]
  },
  {
   "cell_type": "code",
   "execution_count": 14,
   "id": "b6c47cb9",
   "metadata": {
    "execution": {
     "iopub.execute_input": "2024-01-04T10:08:14.359621Z",
     "iopub.status.busy": "2024-01-04T10:08:14.358973Z",
     "iopub.status.idle": "2024-01-04T10:08:14.364679Z",
     "shell.execute_reply": "2024-01-04T10:08:14.363964Z"
    },
    "papermill": {
     "duration": 0.017455,
     "end_time": "2024-01-04T10:08:14.366684",
     "exception": false,
     "start_time": "2024-01-04T10:08:14.349229",
     "status": "completed"
    },
    "tags": []
   },
   "outputs": [
    {
     "data": {
      "text/plain": [
       "(40467, 21, 26)"
      ]
     },
     "execution_count": 14,
     "metadata": {},
     "output_type": "execute_result"
    }
   ],
   "source": [
    "encoded_words.shape"
   ]
  },
  {
   "cell_type": "code",
   "execution_count": 15,
   "id": "586b1c35",
   "metadata": {
    "execution": {
     "iopub.execute_input": "2024-01-04T10:08:14.386450Z",
     "iopub.status.busy": "2024-01-04T10:08:14.385295Z",
     "iopub.status.idle": "2024-01-04T10:08:14.583787Z",
     "shell.execute_reply": "2024-01-04T10:08:14.582861Z"
    },
    "papermill": {
     "duration": 0.211114,
     "end_time": "2024-01-04T10:08:14.586457",
     "exception": false,
     "start_time": "2024-01-04T10:08:14.375343",
     "status": "completed"
    },
    "tags": []
   },
   "outputs": [],
   "source": [
    "model = Sequential()\n",
    "\n",
    "# Convolutional Layer\n",
    "model.add(Conv1D(filters=32, kernel_size=3, activation='relu', input_shape=(21, 26)))\n",
    "\n",
    "# Pooling Layer\n",
    "model.add(MaxPooling1D(pool_size=2))\n",
    "\n",
    "# Flattening Layer\n",
    "model.add(Flatten())\n",
    "\n",
    "# Dense Layer with 256 neurons\n",
    "model.add(Dense(256, activation='relu'))\n",
    "\n",
    "# Dropout Layer\n",
    "model.add(Dropout(0.5))\n",
    "\n",
    "# Output Layer with softmax activation\n",
    "model.add(Dense(2, activation='softmax'))\n",
    "\n",
    "# Compile the model\n",
    "model.compile(optimizer='adam', loss='categorical_crossentropy', metrics=['accuracy'])"
   ]
  },
  {
   "cell_type": "code",
   "execution_count": 16,
   "id": "62f7befd",
   "metadata": {
    "execution": {
     "iopub.execute_input": "2024-01-04T10:08:14.606453Z",
     "iopub.status.busy": "2024-01-04T10:08:14.605647Z",
     "iopub.status.idle": "2024-01-04T10:14:59.927348Z",
     "shell.execute_reply": "2024-01-04T10:14:59.926188Z"
    },
    "papermill": {
     "duration": 405.334194,
     "end_time": "2024-01-04T10:14:59.929627",
     "exception": false,
     "start_time": "2024-01-04T10:08:14.595433",
     "status": "completed"
    },
    "tags": []
   },
   "outputs": [
    {
     "name": "stdout",
     "output_type": "stream",
     "text": [
      "Epoch 1/10\n"
     ]
    },
    {
     "name": "stderr",
     "output_type": "stream",
     "text": [
      "/opt/conda/lib/python3.10/site-packages/tensorflow/python/data/ops/structured_function.py:265: UserWarning: Even though the `tf.config.experimental_run_functions_eagerly` option is set, this option does not apply to tf.data functions. To force eager execution of tf.data functions, please use `tf.data.experimental.enable_debug_mode()`.\n",
      "  warnings.warn(\n"
     ]
    },
    {
     "name": "stdout",
     "output_type": "stream",
     "text": [
      "1012/1012 [==============================] - 40s 39ms/step - loss: 0.5824 - accuracy: 0.6960 - val_loss: 0.5617 - val_accuracy: 0.7083\n",
      "Epoch 2/10\n",
      "1012/1012 [==============================] - 41s 40ms/step - loss: 0.5626 - accuracy: 0.7080 - val_loss: 0.5709 - val_accuracy: 0.7026\n",
      "Epoch 3/10\n",
      "1012/1012 [==============================] - 39s 38ms/step - loss: 0.5524 - accuracy: 0.7185 - val_loss: 0.5484 - val_accuracy: 0.7205\n",
      "Epoch 4/10\n",
      "1012/1012 [==============================] - 39s 39ms/step - loss: 0.5450 - accuracy: 0.7225 - val_loss: 0.5502 - val_accuracy: 0.7218\n",
      "Epoch 5/10\n",
      "1012/1012 [==============================] - 39s 39ms/step - loss: 0.5380 - accuracy: 0.7298 - val_loss: 0.5453 - val_accuracy: 0.7257\n",
      "Epoch 6/10\n",
      "1012/1012 [==============================] - 40s 39ms/step - loss: 0.5300 - accuracy: 0.7343 - val_loss: 0.5453 - val_accuracy: 0.7225\n",
      "Epoch 7/10\n",
      "1012/1012 [==============================] - 41s 41ms/step - loss: 0.5221 - accuracy: 0.7420 - val_loss: 0.5465 - val_accuracy: 0.7292\n",
      "Epoch 8/10\n",
      "1012/1012 [==============================] - 40s 40ms/step - loss: 0.5148 - accuracy: 0.7452 - val_loss: 0.5407 - val_accuracy: 0.7305\n",
      "Epoch 9/10\n",
      "1012/1012 [==============================] - 42s 41ms/step - loss: 0.5070 - accuracy: 0.7501 - val_loss: 0.5453 - val_accuracy: 0.7272\n",
      "Epoch 10/10\n",
      "1012/1012 [==============================] - 40s 39ms/step - loss: 0.4998 - accuracy: 0.7554 - val_loss: 0.5439 - val_accuracy: 0.7288\n",
      "253/253 [==============================] - 3s 13ms/step - loss: 0.5439 - accuracy: 0.7288\n",
      "Test Accuracy:  0.7288114428520203\n"
     ]
    }
   ],
   "source": [
    "from sklearn.model_selection import train_test_split\n",
    "\n",
    "train_data, test_data, train_labels, test_labels = train_test_split(encoded_words, df['label'], test_size=0.2, random_state=42)\n",
    "\n",
    "# Convert target labels to one-hot encoded vectors\n",
    "train_labels = to_categorical(train_labels)\n",
    "test_labels = to_categorical(test_labels)\n",
    "\n",
    "# Force TensorFlow to run functions eagerly\n",
    "tf.config.run_functions_eagerly(True)\n",
    "\n",
    "# Train the model\n",
    "model.fit(train_data, train_labels, epochs=10, validation_data=(test_data, test_labels))\n",
    "\n",
    "# Evaluate the model\n",
    "loss, accuracy = model.evaluate(test_data, test_labels)\n",
    "print(\"Test Accuracy: \", accuracy)"
   ]
  },
  {
   "cell_type": "code",
   "execution_count": null,
   "id": "8136dacd",
   "metadata": {
    "papermill": {
     "duration": 0.457026,
     "end_time": "2024-01-04T10:15:00.850529",
     "exception": false,
     "start_time": "2024-01-04T10:15:00.393503",
     "status": "completed"
    },
    "tags": []
   },
   "outputs": [],
   "source": []
  }
 ],
 "metadata": {
  "kaggle": {
   "accelerator": "none",
   "dataSources": [
    {
     "datasetId": 916740,
     "sourceId": 1553307,
     "sourceType": "datasetVersion"
    }
   ],
   "dockerImageVersionId": 30626,
   "isGpuEnabled": false,
   "isInternetEnabled": true,
   "language": "python",
   "sourceType": "notebook"
  },
  "kernelspec": {
   "display_name": "Python 3",
   "language": "python",
   "name": "python3"
  },
  "language_info": {
   "codemirror_mode": {
    "name": "ipython",
    "version": 3
   },
   "file_extension": ".py",
   "mimetype": "text/x-python",
   "name": "python",
   "nbconvert_exporter": "python",
   "pygments_lexer": "ipython3",
   "version": "3.10.12"
  },
  "papermill": {
   "default_parameters": {},
   "duration": 429.868336,
   "end_time": "2024-01-04T10:15:02.851902",
   "environment_variables": {},
   "exception": null,
   "input_path": "__notebook__.ipynb",
   "output_path": "__notebook__.ipynb",
   "parameters": {},
   "start_time": "2024-01-04T10:07:52.983566",
   "version": "2.4.0"
  }
 },
 "nbformat": 4,
 "nbformat_minor": 5
}
