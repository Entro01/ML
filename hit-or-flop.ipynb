{
 "cells": [
  {
   "cell_type": "code",
   "execution_count": 1,
   "id": "5471d419",
   "metadata": {
    "_cell_guid": "b1076dfc-b9ad-4769-8c92-a6c4dae69d19",
    "_uuid": "8f2839f25d086af736a60e9eeb907d3b93b6e0e5",
    "execution": {
     "iopub.execute_input": "2023-12-26T12:58:03.478920Z",
     "iopub.status.busy": "2023-12-26T12:58:03.478509Z",
     "iopub.status.idle": "2023-12-26T12:58:04.993670Z",
     "shell.execute_reply": "2023-12-26T12:58:04.992206Z"
    },
    "papermill": {
     "duration": 1.532447,
     "end_time": "2023-12-26T12:58:04.996503",
     "exception": false,
     "start_time": "2023-12-26T12:58:03.464056",
     "status": "completed"
    },
    "tags": []
   },
   "outputs": [
    {
     "name": "stdout",
     "output_type": "stream",
     "text": [
      "/kaggle/input/tmdb-movies-dataset/tmdb_movies_data.csv\n"
     ]
    }
   ],
   "source": [
    "# This Python 3 environment comes with many helpful analytics libraries installed\n",
    "# It is defined by the kaggle/python Docker image: https://github.com/kaggle/docker-python\n",
    "# For example, here's several helpful packages to load\n",
    "\n",
    "import numpy as np # linear algebra\n",
    "import pandas as pd # data processing, CSV file I/O (e.g. pd.read_csv)\n",
    "import matplotlib.pyplot as plt\n",
    "import seaborn as sns\n",
    "\n",
    "# Input data files are available in the read-only \"../input/\" directory\n",
    "# For example, running this (by clicking run or pressing Shift+Enter) will list all files under the input directory\n",
    "\n",
    "import os\n",
    "for dirname, _, filenames in os.walk('/kaggle/input'):\n",
    "    for filename in filenames:\n",
    "        print(os.path.join(dirname, filename))\n",
    "\n",
    "# You can write up to 20GB to the current directory (/kaggle/working/) that gets preserved as output when you create a version using \"Save & Run All\" \n",
    "# You can also write temporary files to /kaggle/temp/, but they won't be saved outside of the current session"
   ]
  },
  {
   "cell_type": "code",
   "execution_count": 2,
   "id": "61c040cf",
   "metadata": {
    "execution": {
     "iopub.execute_input": "2023-12-26T12:58:05.025777Z",
     "iopub.status.busy": "2023-12-26T12:58:05.025242Z",
     "iopub.status.idle": "2023-12-26T12:58:05.029522Z",
     "shell.execute_reply": "2023-12-26T12:58:05.028687Z"
    },
    "papermill": {
     "duration": 0.022371,
     "end_time": "2023-12-26T12:58:05.031389",
     "exception": false,
     "start_time": "2023-12-26T12:58:05.009018",
     "status": "completed"
    },
    "tags": []
   },
   "outputs": [],
   "source": [
    "# Im trying to build a model that takes in the name of a cast member, director and genre and predicts weather their next project is going to be a hit or a flop."
   ]
  },
  {
   "cell_type": "code",
   "execution_count": 3,
   "id": "96e24dcf",
   "metadata": {
    "execution": {
     "iopub.execute_input": "2023-12-26T12:58:05.058669Z",
     "iopub.status.busy": "2023-12-26T12:58:05.057890Z",
     "iopub.status.idle": "2023-12-26T12:58:05.329418Z",
     "shell.execute_reply": "2023-12-26T12:58:05.327943Z"
    },
    "papermill": {
     "duration": 0.288029,
     "end_time": "2023-12-26T12:58:05.332344",
     "exception": false,
     "start_time": "2023-12-26T12:58:05.044315",
     "status": "completed"
    },
    "tags": []
   },
   "outputs": [],
   "source": [
    "df = pd.read_csv('/kaggle/input/tmdb-movies-dataset/tmdb_movies_data.csv')"
   ]
  },
  {
   "cell_type": "code",
   "execution_count": 4,
   "id": "70321a6a",
   "metadata": {
    "execution": {
     "iopub.execute_input": "2023-12-26T12:58:05.360503Z",
     "iopub.status.busy": "2023-12-26T12:58:05.360035Z",
     "iopub.status.idle": "2023-12-26T12:58:05.380399Z",
     "shell.execute_reply": "2023-12-26T12:58:05.379152Z"
    },
    "papermill": {
     "duration": 0.036848,
     "end_time": "2023-12-26T12:58:05.382538",
     "exception": false,
     "start_time": "2023-12-26T12:58:05.345690",
     "status": "completed"
    },
    "tags": []
   },
   "outputs": [],
   "source": [
    "#dropping irrelevant columns\n",
    "df = df.drop(['id', 'imdb_id', 'original_title', 'homepage', 'tagline', 'keywords', 'overview', 'runtime', 'production_companies', 'release_date', 'release_year', 'budget_adj', 'revenue_adj'], axis=1)"
   ]
  },
  {
   "cell_type": "code",
   "execution_count": 5,
   "id": "2415599d",
   "metadata": {
    "execution": {
     "iopub.execute_input": "2023-12-26T12:58:05.410592Z",
     "iopub.status.busy": "2023-12-26T12:58:05.410257Z",
     "iopub.status.idle": "2023-12-26T12:58:05.426479Z",
     "shell.execute_reply": "2023-12-26T12:58:05.425853Z"
    },
    "papermill": {
     "duration": 0.032589,
     "end_time": "2023-12-26T12:58:05.428792",
     "exception": false,
     "start_time": "2023-12-26T12:58:05.396203",
     "status": "completed"
    },
    "tags": []
   },
   "outputs": [
    {
     "data": {
      "text/html": [
       "<div>\n",
       "<style scoped>\n",
       "    .dataframe tbody tr th:only-of-type {\n",
       "        vertical-align: middle;\n",
       "    }\n",
       "\n",
       "    .dataframe tbody tr th {\n",
       "        vertical-align: top;\n",
       "    }\n",
       "\n",
       "    .dataframe thead th {\n",
       "        text-align: right;\n",
       "    }\n",
       "</style>\n",
       "<table border=\"1\" class=\"dataframe\">\n",
       "  <thead>\n",
       "    <tr style=\"text-align: right;\">\n",
       "      <th></th>\n",
       "      <th>popularity</th>\n",
       "      <th>budget</th>\n",
       "      <th>revenue</th>\n",
       "      <th>cast</th>\n",
       "      <th>director</th>\n",
       "      <th>genres</th>\n",
       "      <th>vote_count</th>\n",
       "      <th>vote_average</th>\n",
       "    </tr>\n",
       "  </thead>\n",
       "  <tbody>\n",
       "    <tr>\n",
       "      <th>0</th>\n",
       "      <td>32.985763</td>\n",
       "      <td>150000000</td>\n",
       "      <td>1513528810</td>\n",
       "      <td>Chris Pratt|Bryce Dallas Howard|Irrfan Khan|Vi...</td>\n",
       "      <td>Colin Trevorrow</td>\n",
       "      <td>Action|Adventure|Science Fiction|Thriller</td>\n",
       "      <td>5562</td>\n",
       "      <td>6.5</td>\n",
       "    </tr>\n",
       "    <tr>\n",
       "      <th>1</th>\n",
       "      <td>28.419936</td>\n",
       "      <td>150000000</td>\n",
       "      <td>378436354</td>\n",
       "      <td>Tom Hardy|Charlize Theron|Hugh Keays-Byrne|Nic...</td>\n",
       "      <td>George Miller</td>\n",
       "      <td>Action|Adventure|Science Fiction|Thriller</td>\n",
       "      <td>6185</td>\n",
       "      <td>7.1</td>\n",
       "    </tr>\n",
       "    <tr>\n",
       "      <th>2</th>\n",
       "      <td>13.112507</td>\n",
       "      <td>110000000</td>\n",
       "      <td>295238201</td>\n",
       "      <td>Shailene Woodley|Theo James|Kate Winslet|Ansel...</td>\n",
       "      <td>Robert Schwentke</td>\n",
       "      <td>Adventure|Science Fiction|Thriller</td>\n",
       "      <td>2480</td>\n",
       "      <td>6.3</td>\n",
       "    </tr>\n",
       "    <tr>\n",
       "      <th>3</th>\n",
       "      <td>11.173104</td>\n",
       "      <td>200000000</td>\n",
       "      <td>2068178225</td>\n",
       "      <td>Harrison Ford|Mark Hamill|Carrie Fisher|Adam D...</td>\n",
       "      <td>J.J. Abrams</td>\n",
       "      <td>Action|Adventure|Science Fiction|Fantasy</td>\n",
       "      <td>5292</td>\n",
       "      <td>7.5</td>\n",
       "    </tr>\n",
       "    <tr>\n",
       "      <th>4</th>\n",
       "      <td>9.335014</td>\n",
       "      <td>190000000</td>\n",
       "      <td>1506249360</td>\n",
       "      <td>Vin Diesel|Paul Walker|Jason Statham|Michelle ...</td>\n",
       "      <td>James Wan</td>\n",
       "      <td>Action|Crime|Thriller</td>\n",
       "      <td>2947</td>\n",
       "      <td>7.3</td>\n",
       "    </tr>\n",
       "  </tbody>\n",
       "</table>\n",
       "</div>"
      ],
      "text/plain": [
       "   popularity     budget     revenue  \\\n",
       "0   32.985763  150000000  1513528810   \n",
       "1   28.419936  150000000   378436354   \n",
       "2   13.112507  110000000   295238201   \n",
       "3   11.173104  200000000  2068178225   \n",
       "4    9.335014  190000000  1506249360   \n",
       "\n",
       "                                                cast          director  \\\n",
       "0  Chris Pratt|Bryce Dallas Howard|Irrfan Khan|Vi...   Colin Trevorrow   \n",
       "1  Tom Hardy|Charlize Theron|Hugh Keays-Byrne|Nic...     George Miller   \n",
       "2  Shailene Woodley|Theo James|Kate Winslet|Ansel...  Robert Schwentke   \n",
       "3  Harrison Ford|Mark Hamill|Carrie Fisher|Adam D...       J.J. Abrams   \n",
       "4  Vin Diesel|Paul Walker|Jason Statham|Michelle ...         James Wan   \n",
       "\n",
       "                                      genres  vote_count  vote_average  \n",
       "0  Action|Adventure|Science Fiction|Thriller        5562           6.5  \n",
       "1  Action|Adventure|Science Fiction|Thriller        6185           7.1  \n",
       "2         Adventure|Science Fiction|Thriller        2480           6.3  \n",
       "3   Action|Adventure|Science Fiction|Fantasy        5292           7.5  \n",
       "4                      Action|Crime|Thriller        2947           7.3  "
      ]
     },
     "execution_count": 5,
     "metadata": {},
     "output_type": "execute_result"
    }
   ],
   "source": [
    "df.head()"
   ]
  },
  {
   "cell_type": "code",
   "execution_count": 6,
   "id": "d2483722",
   "metadata": {
    "execution": {
     "iopub.execute_input": "2023-12-26T12:58:05.456454Z",
     "iopub.status.busy": "2023-12-26T12:58:05.455874Z",
     "iopub.status.idle": "2023-12-26T12:58:05.465907Z",
     "shell.execute_reply": "2023-12-26T12:58:05.465002Z"
    },
    "papermill": {
     "duration": 0.026057,
     "end_time": "2023-12-26T12:58:05.468084",
     "exception": false,
     "start_time": "2023-12-26T12:58:05.442027",
     "status": "completed"
    },
    "tags": []
   },
   "outputs": [
    {
     "data": {
      "text/plain": [
       "popularity       0\n",
       "budget           0\n",
       "revenue          0\n",
       "cast            76\n",
       "director        44\n",
       "genres          23\n",
       "vote_count       0\n",
       "vote_average     0\n",
       "dtype: int64"
      ]
     },
     "execution_count": 6,
     "metadata": {},
     "output_type": "execute_result"
    }
   ],
   "source": [
    "df.isnull().sum()"
   ]
  },
  {
   "cell_type": "code",
   "execution_count": 7,
   "id": "93179611",
   "metadata": {
    "execution": {
     "iopub.execute_input": "2023-12-26T12:58:05.497698Z",
     "iopub.status.busy": "2023-12-26T12:58:05.497304Z",
     "iopub.status.idle": "2023-12-26T12:58:05.502887Z",
     "shell.execute_reply": "2023-12-26T12:58:05.502100Z"
    },
    "papermill": {
     "duration": 0.023254,
     "end_time": "2023-12-26T12:58:05.505522",
     "exception": false,
     "start_time": "2023-12-26T12:58:05.482268",
     "status": "completed"
    },
    "tags": []
   },
   "outputs": [
    {
     "name": "stdout",
     "output_type": "stream",
     "text": [
      "5696 6016\n"
     ]
    }
   ],
   "source": [
    "print(df['budget'].eq(0).sum(), df['revenue'].eq(0).sum())"
   ]
  },
  {
   "cell_type": "code",
   "execution_count": 8,
   "id": "06331af4",
   "metadata": {
    "execution": {
     "iopub.execute_input": "2023-12-26T12:58:05.535664Z",
     "iopub.status.busy": "2023-12-26T12:58:05.535121Z",
     "iopub.status.idle": "2023-12-26T12:58:05.541702Z",
     "shell.execute_reply": "2023-12-26T12:58:05.541100Z"
    },
    "papermill": {
     "duration": 0.024113,
     "end_time": "2023-12-26T12:58:05.543305",
     "exception": false,
     "start_time": "2023-12-26T12:58:05.519192",
     "status": "completed"
    },
    "tags": []
   },
   "outputs": [],
   "source": [
    "# removing those values from the dataset where the information about budget and revenue are both absent\n",
    "df = df[~(df[['budget', 'revenue']] == 0).all(axis=1)]"
   ]
  },
  {
   "cell_type": "code",
   "execution_count": 9,
   "id": "17989824",
   "metadata": {
    "execution": {
     "iopub.execute_input": "2023-12-26T12:58:05.570393Z",
     "iopub.status.busy": "2023-12-26T12:58:05.569989Z",
     "iopub.status.idle": "2023-12-26T12:58:05.575289Z",
     "shell.execute_reply": "2023-12-26T12:58:05.574697Z"
    },
    "papermill": {
     "duration": 0.022942,
     "end_time": "2023-12-26T12:58:05.579124",
     "exception": false,
     "start_time": "2023-12-26T12:58:05.556182",
     "status": "completed"
    },
    "tags": []
   },
   "outputs": [
    {
     "name": "stdout",
     "output_type": "stream",
     "text": [
      "995 1315\n"
     ]
    }
   ],
   "source": [
    "print(df['budget'].eq(0).sum(), df['revenue'].eq(0).sum())"
   ]
  },
  {
   "cell_type": "code",
   "execution_count": 10,
   "id": "fdcc7f9e",
   "metadata": {
    "execution": {
     "iopub.execute_input": "2023-12-26T12:58:05.609324Z",
     "iopub.status.busy": "2023-12-26T12:58:05.608964Z",
     "iopub.status.idle": "2023-12-26T12:58:05.622704Z",
     "shell.execute_reply": "2023-12-26T12:58:05.620877Z"
    },
    "papermill": {
     "duration": 0.030921,
     "end_time": "2023-12-26T12:58:05.625162",
     "exception": false,
     "start_time": "2023-12-26T12:58:05.594241",
     "status": "completed"
    },
    "tags": []
   },
   "outputs": [
    {
     "data": {
      "text/plain": [
       "count    6.165000e+03\n",
       "mean     2.577824e+07\n",
       "std      3.737512e+07\n",
       "min      0.000000e+00\n",
       "25%      1.700000e+06\n",
       "50%      1.200000e+07\n",
       "75%      3.300000e+07\n",
       "max      4.250000e+08\n",
       "Name: budget, dtype: float64"
      ]
     },
     "execution_count": 10,
     "metadata": {},
     "output_type": "execute_result"
    }
   ],
   "source": [
    "df['budget'].describe()"
   ]
  },
  {
   "cell_type": "code",
   "execution_count": 11,
   "id": "25cf099d",
   "metadata": {
    "execution": {
     "iopub.execute_input": "2023-12-26T12:58:05.725686Z",
     "iopub.status.busy": "2023-12-26T12:58:05.725307Z",
     "iopub.status.idle": "2023-12-26T12:58:05.736806Z",
     "shell.execute_reply": "2023-12-26T12:58:05.735557Z"
    },
    "papermill": {
     "duration": 0.100587,
     "end_time": "2023-12-26T12:58:05.739009",
     "exception": false,
     "start_time": "2023-12-26T12:58:05.638422",
     "status": "completed"
    },
    "tags": []
   },
   "outputs": [
    {
     "data": {
      "text/plain": [
       "count    6.165000e+03\n",
       "mean     7.018981e+07\n",
       "std      1.483194e+08\n",
       "min      0.000000e+00\n",
       "25%      1.184830e+05\n",
       "50%      1.654948e+07\n",
       "75%      7.144125e+07\n",
       "max      2.781506e+09\n",
       "Name: revenue, dtype: float64"
      ]
     },
     "execution_count": 11,
     "metadata": {},
     "output_type": "execute_result"
    }
   ],
   "source": [
    "df['revenue'].describe()"
   ]
  },
  {
   "cell_type": "code",
   "execution_count": 12,
   "id": "3788e268",
   "metadata": {
    "execution": {
     "iopub.execute_input": "2023-12-26T12:58:05.767974Z",
     "iopub.status.busy": "2023-12-26T12:58:05.767622Z",
     "iopub.status.idle": "2023-12-26T12:58:06.052808Z",
     "shell.execute_reply": "2023-12-26T12:58:06.051329Z"
    },
    "papermill": {
     "duration": 0.301951,
     "end_time": "2023-12-26T12:58:06.054897",
     "exception": false,
     "start_time": "2023-12-26T12:58:05.752946",
     "status": "completed"
    },
    "tags": []
   },
   "outputs": [
    {
     "data": {
      "image/png": "[encoded data removed]",
      "text/plain": [
       "<Figure size 640x480 with 1 Axes>"
      ]
     },
     "metadata": {},
     "output_type": "display_data"
    }
   ],
   "source": [
    "plt.hist(df['budget'])\n",
    "plt.title('Distribution of Values in budget')\n",
    "plt.xlabel('Value')\n",
    "plt.ylabel('Frequency')\n",
    "plt.show() "
   ]
  },
  {
   "cell_type": "code",
   "execution_count": 13,
   "id": "446bba26",
   "metadata": {
    "execution": {
     "iopub.execute_input": "2023-12-26T12:58:06.085057Z",
     "iopub.status.busy": "2023-12-26T12:58:06.083589Z",
     "iopub.status.idle": "2023-12-26T12:58:06.430101Z",
     "shell.execute_reply": "2023-12-26T12:58:06.428419Z"
    },
    "papermill": {
     "duration": 0.363965,
     "end_time": "2023-12-26T12:58:06.432510",
     "exception": false,
     "start_time": "2023-12-26T12:58:06.068545",
     "status": "completed"
    },
    "tags": []
   },
   "outputs": [
    {
     "data": {
      "text/plain": [
       "<Axes: >"
      ]
     },
     "execution_count": 13,
     "metadata": {},
     "output_type": "execute_result"
    },
    {
     "data": {
      "image/png": "[encoded data removed]",
      "text/plain": [
       "<Figure size 640x480 with 1 Axes>"
      ]
     },
     "metadata": {},
     "output_type": "display_data"
    }
   ],
   "source": [
    "df[df['budget'] < 2.577824e+07]['budget'].plot.line()"
   ]
  },
  {
   "cell_type": "code",
   "execution_count": 14,
   "id": "0411aadf",
   "metadata": {
    "execution": {
     "iopub.execute_input": "2023-12-26T12:58:06.462702Z",
     "iopub.status.busy": "2023-12-26T12:58:06.461176Z",
     "iopub.status.idle": "2023-12-26T12:58:06.581082Z",
     "shell.execute_reply": "2023-12-26T12:58:06.579746Z"
    },
    "papermill": {
     "duration": 0.137779,
     "end_time": "2023-12-26T12:58:06.583677",
     "exception": false,
     "start_time": "2023-12-26T12:58:06.445898",
     "status": "completed"
    },
    "tags": []
   },
   "outputs": [],
   "source": [
    "# filling in null values for budget and revenue\n",
    "# since we cannot just replace the null values with the mean of the column, we are assuming that these movies made at least as much as their budget\n",
    "\n",
    "df['revenue'] = df.apply(lambda row: row['budget'] if row['revenue'] == 0 else row['revenue'], axis=1)\n",
    "df['budget'] = df.apply(lambda row: row['revenue'] if row['budget'] == 0 else row['budget'], axis=1)\n"
   ]
  },
  {
   "cell_type": "code",
   "execution_count": 15,
   "id": "ba00e9a6",
   "metadata": {
    "execution": {
     "iopub.execute_input": "2023-12-26T12:58:06.611783Z",
     "iopub.status.busy": "2023-12-26T12:58:06.611335Z",
     "iopub.status.idle": "2023-12-26T12:58:06.620312Z",
     "shell.execute_reply": "2023-12-26T12:58:06.618611Z"
    },
    "papermill": {
     "duration": 0.025265,
     "end_time": "2023-12-26T12:58:06.622292",
     "exception": false,
     "start_time": "2023-12-26T12:58:06.597027",
     "status": "completed"
    },
    "tags": []
   },
   "outputs": [
    {
     "name": "stdout",
     "output_type": "stream",
     "text": [
      "0 0\n"
     ]
    }
   ],
   "source": [
    "print(df['budget'].eq(0).sum(), df['revenue'].eq(0).sum())"
   ]
  },
  {
   "cell_type": "code",
   "execution_count": 16,
   "id": "9c07522a",
   "metadata": {
    "execution": {
     "iopub.execute_input": "2023-12-26T12:58:06.652579Z",
     "iopub.status.busy": "2023-12-26T12:58:06.652205Z",
     "iopub.status.idle": "2023-12-26T12:58:06.658114Z",
     "shell.execute_reply": "2023-12-26T12:58:06.657127Z"
    },
    "papermill": {
     "duration": 0.023204,
     "end_time": "2023-12-26T12:58:06.660097",
     "exception": false,
     "start_time": "2023-12-26T12:58:06.636893",
     "status": "completed"
    },
    "tags": []
   },
   "outputs": [],
   "source": [
    "df['profit'] = df['revenue'] / df['budget']"
   ]
  },
  {
   "cell_type": "code",
   "execution_count": 17,
   "id": "d168dc45",
   "metadata": {
    "execution": {
     "iopub.execute_input": "2023-12-26T12:58:06.690301Z",
     "iopub.status.busy": "2023-12-26T12:58:06.689913Z",
     "iopub.status.idle": "2023-12-26T12:58:06.704341Z",
     "shell.execute_reply": "2023-12-26T12:58:06.702874Z"
    },
    "papermill": {
     "duration": 0.032017,
     "end_time": "2023-12-26T12:58:06.706310",
     "exception": false,
     "start_time": "2023-12-26T12:58:06.674293",
     "status": "completed"
    },
    "tags": []
   },
   "outputs": [
    {
     "data": {
      "text/html": [
       "<div>\n",
       "<style scoped>\n",
       "    .dataframe tbody tr th:only-of-type {\n",
       "        vertical-align: middle;\n",
       "    }\n",
       "\n",
       "    .dataframe tbody tr th {\n",
       "        vertical-align: top;\n",
       "    }\n",
       "\n",
       "    .dataframe thead th {\n",
       "        text-align: right;\n",
       "    }\n",
       "</style>\n",
       "<table border=\"1\" class=\"dataframe\">\n",
       "  <thead>\n",
       "    <tr style=\"text-align: right;\">\n",
       "      <th></th>\n",
       "      <th>popularity</th>\n",
       "      <th>budget</th>\n",
       "      <th>revenue</th>\n",
       "      <th>cast</th>\n",
       "      <th>director</th>\n",
       "      <th>genres</th>\n",
       "      <th>vote_count</th>\n",
       "      <th>vote_average</th>\n",
       "      <th>profit</th>\n",
       "    </tr>\n",
       "  </thead>\n",
       "  <tbody>\n",
       "    <tr>\n",
       "      <th>0</th>\n",
       "      <td>32.985763</td>\n",
       "      <td>150000000</td>\n",
       "      <td>1513528810</td>\n",
       "      <td>Chris Pratt|Bryce Dallas Howard|Irrfan Khan|Vi...</td>\n",
       "      <td>Colin Trevorrow</td>\n",
       "      <td>Action|Adventure|Science Fiction|Thriller</td>\n",
       "      <td>5562</td>\n",
       "      <td>6.5</td>\n",
       "      <td>10.090192</td>\n",
       "    </tr>\n",
       "    <tr>\n",
       "      <th>1</th>\n",
       "      <td>28.419936</td>\n",
       "      <td>150000000</td>\n",
       "      <td>378436354</td>\n",
       "      <td>Tom Hardy|Charlize Theron|Hugh Keays-Byrne|Nic...</td>\n",
       "      <td>George Miller</td>\n",
       "      <td>Action|Adventure|Science Fiction|Thriller</td>\n",
       "      <td>6185</td>\n",
       "      <td>7.1</td>\n",
       "      <td>2.522909</td>\n",
       "    </tr>\n",
       "    <tr>\n",
       "      <th>2</th>\n",
       "      <td>13.112507</td>\n",
       "      <td>110000000</td>\n",
       "      <td>295238201</td>\n",
       "      <td>Shailene Woodley|Theo James|Kate Winslet|Ansel...</td>\n",
       "      <td>Robert Schwentke</td>\n",
       "      <td>Adventure|Science Fiction|Thriller</td>\n",
       "      <td>2480</td>\n",
       "      <td>6.3</td>\n",
       "      <td>2.683984</td>\n",
       "    </tr>\n",
       "    <tr>\n",
       "      <th>3</th>\n",
       "      <td>11.173104</td>\n",
       "      <td>200000000</td>\n",
       "      <td>2068178225</td>\n",
       "      <td>Harrison Ford|Mark Hamill|Carrie Fisher|Adam D...</td>\n",
       "      <td>J.J. Abrams</td>\n",
       "      <td>Action|Adventure|Science Fiction|Fantasy</td>\n",
       "      <td>5292</td>\n",
       "      <td>7.5</td>\n",
       "      <td>10.340891</td>\n",
       "    </tr>\n",
       "    <tr>\n",
       "      <th>4</th>\n",
       "      <td>9.335014</td>\n",
       "      <td>190000000</td>\n",
       "      <td>1506249360</td>\n",
       "      <td>Vin Diesel|Paul Walker|Jason Statham|Michelle ...</td>\n",
       "      <td>James Wan</td>\n",
       "      <td>Action|Crime|Thriller</td>\n",
       "      <td>2947</td>\n",
       "      <td>7.3</td>\n",
       "      <td>7.927628</td>\n",
       "    </tr>\n",
       "  </tbody>\n",
       "</table>\n",
       "</div>"
      ],
      "text/plain": [
       "   popularity     budget     revenue  \\\n",
       "0   32.985763  150000000  1513528810   \n",
       "1   28.419936  150000000   378436354   \n",
       "2   13.112507  110000000   295238201   \n",
       "3   11.173104  200000000  2068178225   \n",
       "4    9.335014  190000000  1506249360   \n",
       "\n",
       "                                                cast          director  \\\n",
       "0  Chris Pratt|Bryce Dallas Howard|Irrfan Khan|Vi...   Colin Trevorrow   \n",
       "1  Tom Hardy|Charlize Theron|Hugh Keays-Byrne|Nic...     George Miller   \n",
       "2  Shailene Woodley|Theo James|Kate Winslet|Ansel...  Robert Schwentke   \n",
       "3  Harrison Ford|Mark Hamill|Carrie Fisher|Adam D...       J.J. Abrams   \n",
       "4  Vin Diesel|Paul Walker|Jason Statham|Michelle ...         James Wan   \n",
       "\n",
       "                                      genres  vote_count  vote_average  \\\n",
       "0  Action|Adventure|Science Fiction|Thriller        5562           6.5   \n",
       "1  Action|Adventure|Science Fiction|Thriller        6185           7.1   \n",
       "2         Adventure|Science Fiction|Thriller        2480           6.3   \n",
       "3   Action|Adventure|Science Fiction|Fantasy        5292           7.5   \n",
       "4                      Action|Crime|Thriller        2947           7.3   \n",
       "\n",
       "      profit  \n",
       "0  10.090192  \n",
       "1   2.522909  \n",
       "2   2.683984  \n",
       "3  10.340891  \n",
       "4   7.927628  "
      ]
     },
     "execution_count": 17,
     "metadata": {},
     "output_type": "execute_result"
    }
   ],
   "source": [
    "df.head()"
   ]
  },
  {
   "cell_type": "code",
   "execution_count": 18,
   "id": "31766b0f",
   "metadata": {
    "execution": {
     "iopub.execute_input": "2023-12-26T12:58:06.736108Z",
     "iopub.status.busy": "2023-12-26T12:58:06.735778Z",
     "iopub.status.idle": "2023-12-26T12:58:06.746320Z",
     "shell.execute_reply": "2023-12-26T12:58:06.745164Z"
    },
    "papermill": {
     "duration": 0.028125,
     "end_time": "2023-12-26T12:58:06.748418",
     "exception": false,
     "start_time": "2023-12-26T12:58:06.720293",
     "status": "completed"
    },
    "tags": []
   },
   "outputs": [
    {
     "data": {
      "text/plain": [
       "count    6.165000e+03\n",
       "mean     1.866928e+02\n",
       "std      1.300062e+04\n",
       "min      2.400000e-07\n",
       "25%      1.000000e+00\n",
       "50%      1.000000e+00\n",
       "75%      2.727273e+00\n",
       "max      1.018619e+06\n",
       "Name: profit, dtype: float64"
      ]
     },
     "execution_count": 18,
     "metadata": {},
     "output_type": "execute_result"
    }
   ],
   "source": [
    "df['profit'].describe()"
   ]
  },
  {
   "cell_type": "code",
   "execution_count": 19,
   "id": "419fee11",
   "metadata": {
    "execution": {
     "iopub.execute_input": "2023-12-26T12:58:06.778603Z",
     "iopub.status.busy": "2023-12-26T12:58:06.778242Z",
     "iopub.status.idle": "2023-12-26T12:58:06.791852Z",
     "shell.execute_reply": "2023-12-26T12:58:06.790655Z"
    },
    "papermill": {
     "duration": 0.031827,
     "end_time": "2023-12-26T12:58:06.794715",
     "exception": false,
     "start_time": "2023-12-26T12:58:06.762888",
     "status": "completed"
    },
    "tags": []
   },
   "outputs": [
    {
     "data": {
      "text/html": [
       "<div>\n",
       "<style scoped>\n",
       "    .dataframe tbody tr th:only-of-type {\n",
       "        vertical-align: middle;\n",
       "    }\n",
       "\n",
       "    .dataframe tbody tr th {\n",
       "        vertical-align: top;\n",
       "    }\n",
       "\n",
       "    .dataframe thead th {\n",
       "        text-align: right;\n",
       "    }\n",
       "</style>\n",
       "<table border=\"1\" class=\"dataframe\">\n",
       "  <thead>\n",
       "    <tr style=\"text-align: right;\">\n",
       "      <th></th>\n",
       "      <th>popularity</th>\n",
       "      <th>budget</th>\n",
       "      <th>revenue</th>\n",
       "      <th>cast</th>\n",
       "      <th>director</th>\n",
       "      <th>genres</th>\n",
       "      <th>vote_count</th>\n",
       "      <th>vote_average</th>\n",
       "      <th>profit</th>\n",
       "    </tr>\n",
       "  </thead>\n",
       "  <tbody>\n",
       "    <tr>\n",
       "      <th>10495</th>\n",
       "      <td>0.772494</td>\n",
       "      <td>113</td>\n",
       "      <td>115103979</td>\n",
       "      <td>Ralph Macchio|Pat Morita|Martin Kove|Charlie T...</td>\n",
       "      <td>John G. Avildsen</td>\n",
       "      <td>Adventure|Drama|Action|Romance|Family</td>\n",
       "      <td>211</td>\n",
       "      <td>5.8</td>\n",
       "      <td>1.018619e+06</td>\n",
       "    </tr>\n",
       "  </tbody>\n",
       "</table>\n",
       "</div>"
      ],
      "text/plain": [
       "       popularity  budget    revenue  \\\n",
       "10495    0.772494     113  115103979   \n",
       "\n",
       "                                                    cast          director  \\\n",
       "10495  Ralph Macchio|Pat Morita|Martin Kove|Charlie T...  John G. Avildsen   \n",
       "\n",
       "                                      genres  vote_count  vote_average  \\\n",
       "10495  Adventure|Drama|Action|Romance|Family         211           5.8   \n",
       "\n",
       "             profit  \n",
       "10495  1.018619e+06  "
      ]
     },
     "execution_count": 19,
     "metadata": {},
     "output_type": "execute_result"
    }
   ],
   "source": [
    "df.loc[df['profit'] > 1.0e+06]"
   ]
  },
  {
   "cell_type": "code",
   "execution_count": 20,
   "id": "b7bba188",
   "metadata": {
    "execution": {
     "iopub.execute_input": "2023-12-26T12:58:06.827018Z",
     "iopub.status.busy": "2023-12-26T12:58:06.826684Z",
     "iopub.status.idle": "2023-12-26T12:58:06.831208Z",
     "shell.execute_reply": "2023-12-26T12:58:06.830174Z"
    },
    "papermill": {
     "duration": 0.023072,
     "end_time": "2023-12-26T12:58:06.833181",
     "exception": false,
     "start_time": "2023-12-26T12:58:06.810109",
     "status": "completed"
    },
    "tags": []
   },
   "outputs": [],
   "source": [
    "# we want to remove the erroneous outliers like this one"
   ]
  },
  {
   "cell_type": "code",
   "execution_count": 21,
   "id": "953eee03",
   "metadata": {
    "execution": {
     "iopub.execute_input": "2023-12-26T12:58:06.866767Z",
     "iopub.status.busy": "2023-12-26T12:58:06.865998Z",
     "iopub.status.idle": "2023-12-26T12:58:07.064294Z",
     "shell.execute_reply": "2023-12-26T12:58:07.063627Z"
    },
    "papermill": {
     "duration": 0.217776,
     "end_time": "2023-12-26T12:58:07.066685",
     "exception": false,
     "start_time": "2023-12-26T12:58:06.848909",
     "status": "completed"
    },
    "tags": []
   },
   "outputs": [
    {
     "data": {
      "image/png": "[encoded data removed]",
      "text/plain": [
       "<Figure size 640x480 with 1 Axes>"
      ]
     },
     "metadata": {},
     "output_type": "display_data"
    }
   ],
   "source": [
    "plt.hist(df['profit'])\n",
    "plt.title('Distribution of Values in profit')\n",
    "plt.xlabel('Value')\n",
    "plt.ylabel('Frequency')\n",
    "plt.show() "
   ]
  },
  {
   "cell_type": "code",
   "execution_count": 22,
   "id": "e111edd7",
   "metadata": {
    "execution": {
     "iopub.execute_input": "2023-12-26T12:58:07.098399Z",
     "iopub.status.busy": "2023-12-26T12:58:07.097878Z",
     "iopub.status.idle": "2023-12-26T12:58:07.283452Z",
     "shell.execute_reply": "2023-12-26T12:58:07.281811Z"
    },
    "papermill": {
     "duration": 0.203679,
     "end_time": "2023-12-26T12:58:07.285615",
     "exception": false,
     "start_time": "2023-12-26T12:58:07.081936",
     "status": "completed"
    },
    "tags": []
   },
   "outputs": [
    {
     "data": {
      "text/plain": [
       "<Axes: >"
      ]
     },
     "execution_count": 22,
     "metadata": {},
     "output_type": "execute_result"
    },
    {
     "data": {
      "image/png": "[encoded data removed]",
      "text/plain": [
       "<Figure size 640x480 with 1 Axes>"
      ]
     },
     "metadata": {},
     "output_type": "display_data"
    }
   ],
   "source": [
    "df['profit'].plot.line()"
   ]
  },
  {
   "cell_type": "code",
   "execution_count": 23,
   "id": "c94b9ca3",
   "metadata": {
    "execution": {
     "iopub.execute_input": "2023-12-26T12:58:07.317521Z",
     "iopub.status.busy": "2023-12-26T12:58:07.316344Z",
     "iopub.status.idle": "2023-12-26T12:58:07.324066Z",
     "shell.execute_reply": "2023-12-26T12:58:07.322899Z"
    },
    "papermill": {
     "duration": 0.025886,
     "end_time": "2023-12-26T12:58:07.326052",
     "exception": false,
     "start_time": "2023-12-26T12:58:07.300166",
     "status": "completed"
    },
    "tags": []
   },
   "outputs": [],
   "source": [
    "df.loc[10495, 'profit'] = 1"
   ]
  },
  {
   "cell_type": "code",
   "execution_count": 24,
   "id": "6b5f9d42",
   "metadata": {
    "execution": {
     "iopub.execute_input": "2023-12-26T12:58:07.361374Z",
     "iopub.status.busy": "2023-12-26T12:58:07.360741Z",
     "iopub.status.idle": "2023-12-26T12:58:07.370314Z",
     "shell.execute_reply": "2023-12-26T12:58:07.369435Z"
    },
    "papermill": {
     "duration": 0.029451,
     "end_time": "2023-12-26T12:58:07.372225",
     "exception": false,
     "start_time": "2023-12-26T12:58:07.342774",
     "status": "completed"
    },
    "tags": []
   },
   "outputs": [
    {
     "data": {
      "text/plain": [
       "count    6.165000e+03\n",
       "mean     2.146677e+01\n",
       "std      8.489389e+02\n",
       "min      2.400000e-07\n",
       "25%      1.000000e+00\n",
       "50%      1.000000e+00\n",
       "75%      2.727273e+00\n",
       "max      5.877193e+04\n",
       "Name: profit, dtype: float64"
      ]
     },
     "execution_count": 24,
     "metadata": {},
     "output_type": "execute_result"
    }
   ],
   "source": [
    "df['profit'].describe()"
   ]
  },
  {
   "cell_type": "code",
   "execution_count": 25,
   "id": "349b88ca",
   "metadata": {
    "execution": {
     "iopub.execute_input": "2023-12-26T12:58:07.405658Z",
     "iopub.status.busy": "2023-12-26T12:58:07.405253Z",
     "iopub.status.idle": "2023-12-26T12:58:07.412643Z",
     "shell.execute_reply": "2023-12-26T12:58:07.411685Z"
    },
    "papermill": {
     "duration": 0.026732,
     "end_time": "2023-12-26T12:58:07.414534",
     "exception": false,
     "start_time": "2023-12-26T12:58:07.387802",
     "status": "completed"
    },
    "tags": []
   },
   "outputs": [],
   "source": [
    "# clipping the profit to 500 (the highest roi movie has made 5000 times its budget)\n",
    "df['profit'] = df['profit'].clip(upper=500)\n",
    "df = df.drop(['revenue', 'budget'], axis = 1)"
   ]
  },
  {
   "cell_type": "code",
   "execution_count": 26,
   "id": "315d7d8f",
   "metadata": {
    "execution": {
     "iopub.execute_input": "2023-12-26T12:58:07.448591Z",
     "iopub.status.busy": "2023-12-26T12:58:07.447899Z",
     "iopub.status.idle": "2023-12-26T12:58:07.458166Z",
     "shell.execute_reply": "2023-12-26T12:58:07.457263Z"
    },
    "papermill": {
     "duration": 0.029216,
     "end_time": "2023-12-26T12:58:07.459949",
     "exception": false,
     "start_time": "2023-12-26T12:58:07.430733",
     "status": "completed"
    },
    "tags": []
   },
   "outputs": [
    {
     "data": {
      "text/plain": [
       "count    6.165000e+03\n",
       "mean     4.022804e+00\n",
       "std      2.167214e+01\n",
       "min      2.400000e-07\n",
       "25%      1.000000e+00\n",
       "50%      1.000000e+00\n",
       "75%      2.727273e+00\n",
       "max      5.000000e+02\n",
       "Name: profit, dtype: float64"
      ]
     },
     "execution_count": 26,
     "metadata": {},
     "output_type": "execute_result"
    }
   ],
   "source": [
    "df['profit'].describe()"
   ]
  },
  {
   "cell_type": "code",
   "execution_count": 27,
   "id": "d65fef49",
   "metadata": {
    "execution": {
     "iopub.execute_input": "2023-12-26T12:58:07.494684Z",
     "iopub.status.busy": "2023-12-26T12:58:07.493498Z",
     "iopub.status.idle": "2023-12-26T12:58:07.504498Z",
     "shell.execute_reply": "2023-12-26T12:58:07.503907Z"
    },
    "papermill": {
     "duration": 0.02918,
     "end_time": "2023-12-26T12:58:07.506038",
     "exception": false,
     "start_time": "2023-12-26T12:58:07.476858",
     "status": "completed"
    },
    "tags": []
   },
   "outputs": [
    {
     "data": {
      "text/html": [
       "<div>\n",
       "<style scoped>\n",
       "    .dataframe tbody tr th:only-of-type {\n",
       "        vertical-align: middle;\n",
       "    }\n",
       "\n",
       "    .dataframe tbody tr th {\n",
       "        vertical-align: top;\n",
       "    }\n",
       "\n",
       "    .dataframe thead th {\n",
       "        text-align: right;\n",
       "    }\n",
       "</style>\n",
       "<table border=\"1\" class=\"dataframe\">\n",
       "  <thead>\n",
       "    <tr style=\"text-align: right;\">\n",
       "      <th></th>\n",
       "      <th>popularity</th>\n",
       "      <th>cast</th>\n",
       "      <th>director</th>\n",
       "      <th>genres</th>\n",
       "      <th>vote_count</th>\n",
       "      <th>vote_average</th>\n",
       "      <th>profit</th>\n",
       "    </tr>\n",
       "  </thead>\n",
       "  <tbody>\n",
       "    <tr>\n",
       "      <th>0</th>\n",
       "      <td>32.985763</td>\n",
       "      <td>Chris Pratt|Bryce Dallas Howard|Irrfan Khan|Vi...</td>\n",
       "      <td>Colin Trevorrow</td>\n",
       "      <td>Action|Adventure|Science Fiction|Thriller</td>\n",
       "      <td>5562</td>\n",
       "      <td>6.5</td>\n",
       "      <td>10.090192</td>\n",
       "    </tr>\n",
       "    <tr>\n",
       "      <th>1</th>\n",
       "      <td>28.419936</td>\n",
       "      <td>Tom Hardy|Charlize Theron|Hugh Keays-Byrne|Nic...</td>\n",
       "      <td>George Miller</td>\n",
       "      <td>Action|Adventure|Science Fiction|Thriller</td>\n",
       "      <td>6185</td>\n",
       "      <td>7.1</td>\n",
       "      <td>2.522909</td>\n",
       "    </tr>\n",
       "    <tr>\n",
       "      <th>2</th>\n",
       "      <td>13.112507</td>\n",
       "      <td>Shailene Woodley|Theo James|Kate Winslet|Ansel...</td>\n",
       "      <td>Robert Schwentke</td>\n",
       "      <td>Adventure|Science Fiction|Thriller</td>\n",
       "      <td>2480</td>\n",
       "      <td>6.3</td>\n",
       "      <td>2.683984</td>\n",
       "    </tr>\n",
       "    <tr>\n",
       "      <th>3</th>\n",
       "      <td>11.173104</td>\n",
       "      <td>Harrison Ford|Mark Hamill|Carrie Fisher|Adam D...</td>\n",
       "      <td>J.J. Abrams</td>\n",
       "      <td>Action|Adventure|Science Fiction|Fantasy</td>\n",
       "      <td>5292</td>\n",
       "      <td>7.5</td>\n",
       "      <td>10.340891</td>\n",
       "    </tr>\n",
       "    <tr>\n",
       "      <th>4</th>\n",
       "      <td>9.335014</td>\n",
       "      <td>Vin Diesel|Paul Walker|Jason Statham|Michelle ...</td>\n",
       "      <td>James Wan</td>\n",
       "      <td>Action|Crime|Thriller</td>\n",
       "      <td>2947</td>\n",
       "      <td>7.3</td>\n",
       "      <td>7.927628</td>\n",
       "    </tr>\n",
       "  </tbody>\n",
       "</table>\n",
       "</div>"
      ],
      "text/plain": [
       "   popularity                                               cast  \\\n",
       "0   32.985763  Chris Pratt|Bryce Dallas Howard|Irrfan Khan|Vi...   \n",
       "1   28.419936  Tom Hardy|Charlize Theron|Hugh Keays-Byrne|Nic...   \n",
       "2   13.112507  Shailene Woodley|Theo James|Kate Winslet|Ansel...   \n",
       "3   11.173104  Harrison Ford|Mark Hamill|Carrie Fisher|Adam D...   \n",
       "4    9.335014  Vin Diesel|Paul Walker|Jason Statham|Michelle ...   \n",
       "\n",
       "           director                                     genres  vote_count  \\\n",
       "0   Colin Trevorrow  Action|Adventure|Science Fiction|Thriller        5562   \n",
       "1     George Miller  Action|Adventure|Science Fiction|Thriller        6185   \n",
       "2  Robert Schwentke         Adventure|Science Fiction|Thriller        2480   \n",
       "3       J.J. Abrams   Action|Adventure|Science Fiction|Fantasy        5292   \n",
       "4         James Wan                      Action|Crime|Thriller        2947   \n",
       "\n",
       "   vote_average     profit  \n",
       "0           6.5  10.090192  \n",
       "1           7.1   2.522909  \n",
       "2           6.3   2.683984  \n",
       "3           7.5  10.340891  \n",
       "4           7.3   7.927628  "
      ]
     },
     "execution_count": 27,
     "metadata": {},
     "output_type": "execute_result"
    }
   ],
   "source": [
    "df.head()"
   ]
  },
  {
   "cell_type": "code",
   "execution_count": 28,
   "id": "9559625d",
   "metadata": {
    "execution": {
     "iopub.execute_input": "2023-12-26T12:58:07.538612Z",
     "iopub.status.busy": "2023-12-26T12:58:07.537480Z",
     "iopub.status.idle": "2023-12-26T12:58:07.722180Z",
     "shell.execute_reply": "2023-12-26T12:58:07.721220Z"
    },
    "papermill": {
     "duration": 0.202768,
     "end_time": "2023-12-26T12:58:07.724214",
     "exception": false,
     "start_time": "2023-12-26T12:58:07.521446",
     "status": "completed"
    },
    "tags": []
   },
   "outputs": [
    {
     "data": {
      "text/plain": [
       "<Axes: >"
      ]
     },
     "execution_count": 28,
     "metadata": {},
     "output_type": "execute_result"
    },
    {
     "data": {
      "image/png": "[encoded data removed]",
      "text/plain": [
       "<Figure size 640x480 with 1 Axes>"
      ]
     },
     "metadata": {},
     "output_type": "display_data"
    }
   ],
   "source": [
    "df['profit'].plot.line()"
   ]
  },
  {
   "cell_type": "code",
   "execution_count": 29,
   "id": "a1f01884",
   "metadata": {
    "execution": {
     "iopub.execute_input": "2023-12-26T12:58:07.758189Z",
     "iopub.status.busy": "2023-12-26T12:58:07.757783Z",
     "iopub.status.idle": "2023-12-26T12:58:07.763207Z",
     "shell.execute_reply": "2023-12-26T12:58:07.761971Z"
    },
    "papermill": {
     "duration": 0.02426,
     "end_time": "2023-12-26T12:58:07.765231",
     "exception": false,
     "start_time": "2023-12-26T12:58:07.740971",
     "status": "completed"
    },
    "tags": []
   },
   "outputs": [],
   "source": [
    "# now we have to create a label by taking in account the popularity, vote count, vote average and the profit made by the movies.\n",
    "# the most influential criteria to be considered is profit, typically, a movie must make 2.5x the original budget in order to be considered profitable."
   ]
  },
  {
   "cell_type": "code",
   "execution_count": 30,
   "id": "d56af5a8",
   "metadata": {
    "execution": {
     "iopub.execute_input": "2023-12-26T12:58:07.798236Z",
     "iopub.status.busy": "2023-12-26T12:58:07.797893Z",
     "iopub.status.idle": "2023-12-26T12:58:07.809756Z",
     "shell.execute_reply": "2023-12-26T12:58:07.808024Z"
    },
    "papermill": {
     "duration": 0.030843,
     "end_time": "2023-12-26T12:58:07.811964",
     "exception": false,
     "start_time": "2023-12-26T12:58:07.781121",
     "status": "completed"
    },
    "tags": []
   },
   "outputs": [
    {
     "name": "stdout",
     "output_type": "stream",
     "text": [
      "            popularity  vote_count    profit\n",
      "popularity    1.000000    0.794867  0.046307\n",
      "vote_count    0.794867    1.000000  0.050348\n",
      "profit        0.046307    0.050348  1.000000\n"
     ]
    }
   ],
   "source": [
    "correlation = df[['popularity', 'vote_count', 'profit']].corr()\n",
    "print(correlation)"
   ]
  },
  {
   "cell_type": "code",
   "execution_count": 31,
   "id": "0e2f5779",
   "metadata": {
    "execution": {
     "iopub.execute_input": "2023-12-26T12:58:07.845220Z",
     "iopub.status.busy": "2023-12-26T12:58:07.844814Z",
     "iopub.status.idle": "2023-12-26T12:58:07.849779Z",
     "shell.execute_reply": "2023-12-26T12:58:07.848648Z"
    },
    "papermill": {
     "duration": 0.023873,
     "end_time": "2023-12-26T12:58:07.851602",
     "exception": false,
     "start_time": "2023-12-26T12:58:07.827729",
     "status": "completed"
    },
    "tags": []
   },
   "outputs": [],
   "source": [
    "# as we can see, the profit and popularity columns are not correlated\n",
    "# we expect this to effect the future success of a project involving the same cast and crew\n",
    "# we can expect the rating of a movie to also have an impact on the future success of a project by the cast and crew"
   ]
  },
  {
   "cell_type": "code",
   "execution_count": 32,
   "id": "5b964c68",
   "metadata": {
    "execution": {
     "iopub.execute_input": "2023-12-26T12:58:07.885859Z",
     "iopub.status.busy": "2023-12-26T12:58:07.885494Z",
     "iopub.status.idle": "2023-12-26T12:58:07.896597Z",
     "shell.execute_reply": "2023-12-26T12:58:07.895524Z"
    },
    "papermill": {
     "duration": 0.029669,
     "end_time": "2023-12-26T12:58:07.898478",
     "exception": false,
     "start_time": "2023-12-26T12:58:07.868809",
     "status": "completed"
    },
    "tags": []
   },
   "outputs": [
    {
     "name": "stdout",
     "output_type": "stream",
     "text": [
      "count    6165.000000\n",
      "mean      355.901217\n",
      "std       733.167342\n",
      "min        10.000000\n",
      "25%        31.000000\n",
      "50%        96.000000\n",
      "75%       324.000000\n",
      "max      9767.000000\n",
      "Name: vote_count, dtype: float64\n",
      "count    6165.000000\n",
      "mean        6.038994\n",
      "std         0.872593\n",
      "min         1.500000\n",
      "25%         5.500000\n",
      "50%         6.100000\n",
      "75%         6.600000\n",
      "max         8.400000\n",
      "Name: vote_average, dtype: float64\n"
     ]
    }
   ],
   "source": [
    "print(df['vote_count'].describe())\n",
    "print(df['vote_average'].describe())"
   ]
  },
  {
   "cell_type": "code",
   "execution_count": 33,
   "id": "bb64ab07",
   "metadata": {
    "execution": {
     "iopub.execute_input": "2023-12-26T12:58:07.931013Z",
     "iopub.status.busy": "2023-12-26T12:58:07.930659Z",
     "iopub.status.idle": "2023-12-26T12:58:08.147423Z",
     "shell.execute_reply": "2023-12-26T12:58:08.145709Z"
    },
    "papermill": {
     "duration": 0.235593,
     "end_time": "2023-12-26T12:58:08.149741",
     "exception": false,
     "start_time": "2023-12-26T12:58:07.914148",
     "status": "completed"
    },
    "tags": []
   },
   "outputs": [
    {
     "data": {
      "image/png": "[encoded data removed]",
      "text/plain": [
       "<Figure size 640x480 with 1 Axes>"
      ]
     },
     "metadata": {},
     "output_type": "display_data"
    }
   ],
   "source": [
    "plt.hist(df['vote_average'])\n",
    "plt.title('Distribution of Values in true_vote')\n",
    "plt.xlabel('Value')\n",
    "plt.ylabel('Frequency')\n",
    "plt.show() "
   ]
  },
  {
   "cell_type": "code",
   "execution_count": 34,
   "id": "f2ad40df",
   "metadata": {
    "execution": {
     "iopub.execute_input": "2023-12-26T12:58:08.184891Z",
     "iopub.status.busy": "2023-12-26T12:58:08.184203Z",
     "iopub.status.idle": "2023-12-26T12:58:08.200021Z",
     "shell.execute_reply": "2023-12-26T12:58:08.198971Z"
    },
    "papermill": {
     "duration": 0.036885,
     "end_time": "2023-12-26T12:58:08.202902",
     "exception": false,
     "start_time": "2023-12-26T12:58:08.166017",
     "status": "completed"
    },
    "tags": []
   },
   "outputs": [
    {
     "data": {
      "text/html": [
       "<div>\n",
       "<style scoped>\n",
       "    .dataframe tbody tr th:only-of-type {\n",
       "        vertical-align: middle;\n",
       "    }\n",
       "\n",
       "    .dataframe tbody tr th {\n",
       "        vertical-align: top;\n",
       "    }\n",
       "\n",
       "    .dataframe thead th {\n",
       "        text-align: right;\n",
       "    }\n",
       "</style>\n",
       "<table border=\"1\" class=\"dataframe\">\n",
       "  <thead>\n",
       "    <tr style=\"text-align: right;\">\n",
       "      <th></th>\n",
       "      <th>popularity</th>\n",
       "      <th>cast</th>\n",
       "      <th>director</th>\n",
       "      <th>genres</th>\n",
       "      <th>profit</th>\n",
       "      <th>true_vote</th>\n",
       "    </tr>\n",
       "  </thead>\n",
       "  <tbody>\n",
       "    <tr>\n",
       "      <th>0</th>\n",
       "      <td>32.985763</td>\n",
       "      <td>Chris Pratt|Bryce Dallas Howard|Irrfan Khan|Vi...</td>\n",
       "      <td>Colin Trevorrow</td>\n",
       "      <td>Action|Adventure|Science Fiction|Thriller</td>\n",
       "      <td>10.090192</td>\n",
       "      <td>7.069469</td>\n",
       "    </tr>\n",
       "    <tr>\n",
       "      <th>1</th>\n",
       "      <td>28.419936</td>\n",
       "      <td>Tom Hardy|Charlize Theron|Hugh Keays-Byrne|Nic...</td>\n",
       "      <td>George Miller</td>\n",
       "      <td>Action|Adventure|Science Fiction|Thriller</td>\n",
       "      <td>2.522909</td>\n",
       "      <td>7.733255</td>\n",
       "    </tr>\n",
       "    <tr>\n",
       "      <th>2</th>\n",
       "      <td>13.112507</td>\n",
       "      <td>Shailene Woodley|Theo James|Kate Winslet|Ansel...</td>\n",
       "      <td>Robert Schwentke</td>\n",
       "      <td>Adventure|Science Fiction|Thriller</td>\n",
       "      <td>2.683984</td>\n",
       "      <td>6.553916</td>\n",
       "    </tr>\n",
       "    <tr>\n",
       "      <th>3</th>\n",
       "      <td>11.173104</td>\n",
       "      <td>Harrison Ford|Mark Hamill|Carrie Fisher|Adam D...</td>\n",
       "      <td>J.J. Abrams</td>\n",
       "      <td>Action|Adventure|Science Fiction|Fantasy</td>\n",
       "      <td>10.340891</td>\n",
       "      <td>8.041825</td>\n",
       "    </tr>\n",
       "    <tr>\n",
       "      <th>4</th>\n",
       "      <td>9.335014</td>\n",
       "      <td>Vin Diesel|Paul Walker|Jason Statham|Michelle ...</td>\n",
       "      <td>James Wan</td>\n",
       "      <td>Action|Crime|Thriller</td>\n",
       "      <td>7.927628</td>\n",
       "      <td>7.601730</td>\n",
       "    </tr>\n",
       "  </tbody>\n",
       "</table>\n",
       "</div>"
      ],
      "text/plain": [
       "   popularity                                               cast  \\\n",
       "0   32.985763  Chris Pratt|Bryce Dallas Howard|Irrfan Khan|Vi...   \n",
       "1   28.419936  Tom Hardy|Charlize Theron|Hugh Keays-Byrne|Nic...   \n",
       "2   13.112507  Shailene Woodley|Theo James|Kate Winslet|Ansel...   \n",
       "3   11.173104  Harrison Ford|Mark Hamill|Carrie Fisher|Adam D...   \n",
       "4    9.335014  Vin Diesel|Paul Walker|Jason Statham|Michelle ...   \n",
       "\n",
       "           director                                     genres     profit  \\\n",
       "0   Colin Trevorrow  Action|Adventure|Science Fiction|Thriller  10.090192   \n",
       "1     George Miller  Action|Adventure|Science Fiction|Thriller   2.522909   \n",
       "2  Robert Schwentke         Adventure|Science Fiction|Thriller   2.683984   \n",
       "3       J.J. Abrams   Action|Adventure|Science Fiction|Fantasy  10.340891   \n",
       "4         James Wan                      Action|Crime|Thriller   7.927628   \n",
       "\n",
       "   true_vote  \n",
       "0   7.069469  \n",
       "1   7.733255  \n",
       "2   6.553916  \n",
       "3   8.041825  \n",
       "4   7.601730  "
      ]
     },
     "execution_count": 34,
     "metadata": {},
     "output_type": "execute_result"
    }
   ],
   "source": [
    "# calculating the true rating\n",
    "# we will add a reliability score to every rating on the basis of how many people actually voted for the movie\n",
    "df['true_vote'] = (df['vote_average'] + (df['vote_count'] / df['vote_count'].max()))\n",
    "df = df.drop(['vote_average', 'vote_count'], axis = 1)\n",
    "df.head()"
   ]
  },
  {
   "cell_type": "code",
   "execution_count": 35,
   "id": "bce6d570",
   "metadata": {
    "execution": {
     "iopub.execute_input": "2023-12-26T12:58:08.241116Z",
     "iopub.status.busy": "2023-12-26T12:58:08.239945Z",
     "iopub.status.idle": "2023-12-26T12:58:08.250694Z",
     "shell.execute_reply": "2023-12-26T12:58:08.249229Z"
    },
    "papermill": {
     "duration": 0.032125,
     "end_time": "2023-12-26T12:58:08.252842",
     "exception": false,
     "start_time": "2023-12-26T12:58:08.220717",
     "status": "completed"
    },
    "tags": []
   },
   "outputs": [
    {
     "data": {
      "text/plain": [
       "count    6165.000000\n",
       "mean        6.075433\n",
       "std         0.900579\n",
       "min         1.501536\n",
       "25%         5.512491\n",
       "50%         6.112798\n",
       "75%         6.701331\n",
       "max         8.989127\n",
       "Name: true_vote, dtype: float64"
      ]
     },
     "execution_count": 35,
     "metadata": {},
     "output_type": "execute_result"
    }
   ],
   "source": [
    "df['true_vote'].describe()"
   ]
  },
  {
   "cell_type": "code",
   "execution_count": 36,
   "id": "88af0bbe",
   "metadata": {
    "execution": {
     "iopub.execute_input": "2023-12-26T12:58:08.287381Z",
     "iopub.status.busy": "2023-12-26T12:58:08.286953Z",
     "iopub.status.idle": "2023-12-26T12:58:08.485907Z",
     "shell.execute_reply": "2023-12-26T12:58:08.484710Z"
    },
    "papermill": {
     "duration": 0.219122,
     "end_time": "2023-12-26T12:58:08.487998",
     "exception": false,
     "start_time": "2023-12-26T12:58:08.268876",
     "status": "completed"
    },
    "tags": []
   },
   "outputs": [
    {
     "data": {
      "image/png": "[encoded data removed]",
      "text/plain": [
       "<Figure size 640x480 with 1 Axes>"
      ]
     },
     "metadata": {},
     "output_type": "display_data"
    }
   ],
   "source": [
    "plt.hist(df['true_vote'])\n",
    "plt.title('Distribution of Values in true_vote')\n",
    "plt.xlabel('Value')\n",
    "plt.ylabel('Frequency')\n",
    "plt.show() "
   ]
  },
  {
   "cell_type": "code",
   "execution_count": 37,
   "id": "704bcf2c",
   "metadata": {
    "execution": {
     "iopub.execute_input": "2023-12-26T12:58:08.520589Z",
     "iopub.status.busy": "2023-12-26T12:58:08.520237Z",
     "iopub.status.idle": "2023-12-26T12:58:08.534027Z",
     "shell.execute_reply": "2023-12-26T12:58:08.532808Z"
    },
    "papermill": {
     "duration": 0.032304,
     "end_time": "2023-12-26T12:58:08.536060",
     "exception": false,
     "start_time": "2023-12-26T12:58:08.503756",
     "status": "completed"
    },
    "tags": []
   },
   "outputs": [
    {
     "data": {
      "text/html": [
       "<div>\n",
       "<style scoped>\n",
       "    .dataframe tbody tr th:only-of-type {\n",
       "        vertical-align: middle;\n",
       "    }\n",
       "\n",
       "    .dataframe tbody tr th {\n",
       "        vertical-align: top;\n",
       "    }\n",
       "\n",
       "    .dataframe thead th {\n",
       "        text-align: right;\n",
       "    }\n",
       "</style>\n",
       "<table border=\"1\" class=\"dataframe\">\n",
       "  <thead>\n",
       "    <tr style=\"text-align: right;\">\n",
       "      <th></th>\n",
       "      <th>popularity</th>\n",
       "      <th>cast</th>\n",
       "      <th>director</th>\n",
       "      <th>genres</th>\n",
       "      <th>profit</th>\n",
       "      <th>true_vote</th>\n",
       "    </tr>\n",
       "  </thead>\n",
       "  <tbody>\n",
       "    <tr>\n",
       "      <th>0</th>\n",
       "      <td>32.985763</td>\n",
       "      <td>Chris Pratt|Bryce Dallas Howard|Irrfan Khan|Vi...</td>\n",
       "      <td>Colin Trevorrow</td>\n",
       "      <td>Action|Adventure|Science Fiction|Thriller</td>\n",
       "      <td>10.090192</td>\n",
       "      <td>7.069469</td>\n",
       "    </tr>\n",
       "    <tr>\n",
       "      <th>1</th>\n",
       "      <td>28.419936</td>\n",
       "      <td>Tom Hardy|Charlize Theron|Hugh Keays-Byrne|Nic...</td>\n",
       "      <td>George Miller</td>\n",
       "      <td>Action|Adventure|Science Fiction|Thriller</td>\n",
       "      <td>2.522909</td>\n",
       "      <td>7.733255</td>\n",
       "    </tr>\n",
       "    <tr>\n",
       "      <th>2</th>\n",
       "      <td>13.112507</td>\n",
       "      <td>Shailene Woodley|Theo James|Kate Winslet|Ansel...</td>\n",
       "      <td>Robert Schwentke</td>\n",
       "      <td>Adventure|Science Fiction|Thriller</td>\n",
       "      <td>2.683984</td>\n",
       "      <td>6.553916</td>\n",
       "    </tr>\n",
       "    <tr>\n",
       "      <th>3</th>\n",
       "      <td>11.173104</td>\n",
       "      <td>Harrison Ford|Mark Hamill|Carrie Fisher|Adam D...</td>\n",
       "      <td>J.J. Abrams</td>\n",
       "      <td>Action|Adventure|Science Fiction|Fantasy</td>\n",
       "      <td>10.340891</td>\n",
       "      <td>8.041825</td>\n",
       "    </tr>\n",
       "    <tr>\n",
       "      <th>4</th>\n",
       "      <td>9.335014</td>\n",
       "      <td>Vin Diesel|Paul Walker|Jason Statham|Michelle ...</td>\n",
       "      <td>James Wan</td>\n",
       "      <td>Action|Crime|Thriller</td>\n",
       "      <td>7.927628</td>\n",
       "      <td>7.601730</td>\n",
       "    </tr>\n",
       "  </tbody>\n",
       "</table>\n",
       "</div>"
      ],
      "text/plain": [
       "   popularity                                               cast  \\\n",
       "0   32.985763  Chris Pratt|Bryce Dallas Howard|Irrfan Khan|Vi...   \n",
       "1   28.419936  Tom Hardy|Charlize Theron|Hugh Keays-Byrne|Nic...   \n",
       "2   13.112507  Shailene Woodley|Theo James|Kate Winslet|Ansel...   \n",
       "3   11.173104  Harrison Ford|Mark Hamill|Carrie Fisher|Adam D...   \n",
       "4    9.335014  Vin Diesel|Paul Walker|Jason Statham|Michelle ...   \n",
       "\n",
       "           director                                     genres     profit  \\\n",
       "0   Colin Trevorrow  Action|Adventure|Science Fiction|Thriller  10.090192   \n",
       "1     George Miller  Action|Adventure|Science Fiction|Thriller   2.522909   \n",
       "2  Robert Schwentke         Adventure|Science Fiction|Thriller   2.683984   \n",
       "3       J.J. Abrams   Action|Adventure|Science Fiction|Fantasy  10.340891   \n",
       "4         James Wan                      Action|Crime|Thriller   7.927628   \n",
       "\n",
       "   true_vote  \n",
       "0   7.069469  \n",
       "1   7.733255  \n",
       "2   6.553916  \n",
       "3   8.041825  \n",
       "4   7.601730  "
      ]
     },
     "execution_count": 37,
     "metadata": {},
     "output_type": "execute_result"
    }
   ],
   "source": [
    "df.head()"
   ]
  },
  {
   "cell_type": "code",
   "execution_count": 38,
   "id": "b2139323",
   "metadata": {
    "execution": {
     "iopub.execute_input": "2023-12-26T12:58:08.575676Z",
     "iopub.status.busy": "2023-12-26T12:58:08.574153Z",
     "iopub.status.idle": "2023-12-26T12:58:08.597719Z",
     "shell.execute_reply": "2023-12-26T12:58:08.596582Z"
    },
    "papermill": {
     "duration": 0.044069,
     "end_time": "2023-12-26T12:58:08.599860",
     "exception": false,
     "start_time": "2023-12-26T12:58:08.555791",
     "status": "completed"
    },
    "tags": []
   },
   "outputs": [
    {
     "data": {
      "text/html": [
       "<div>\n",
       "<style scoped>\n",
       "    .dataframe tbody tr th:only-of-type {\n",
       "        vertical-align: middle;\n",
       "    }\n",
       "\n",
       "    .dataframe tbody tr th {\n",
       "        vertical-align: top;\n",
       "    }\n",
       "\n",
       "    .dataframe thead th {\n",
       "        text-align: right;\n",
       "    }\n",
       "</style>\n",
       "<table border=\"1\" class=\"dataframe\">\n",
       "  <thead>\n",
       "    <tr style=\"text-align: right;\">\n",
       "      <th></th>\n",
       "      <th>popularity</th>\n",
       "      <th>cast</th>\n",
       "      <th>director</th>\n",
       "      <th>genres</th>\n",
       "      <th>true_vote</th>\n",
       "      <th>investability</th>\n",
       "    </tr>\n",
       "  </thead>\n",
       "  <tbody>\n",
       "    <tr>\n",
       "      <th>0</th>\n",
       "      <td>32.985763</td>\n",
       "      <td>Chris Pratt|Bryce Dallas Howard|Irrfan Khan|Vi...</td>\n",
       "      <td>Colin Trevorrow</td>\n",
       "      <td>Action|Adventure|Science Fiction|Thriller</td>\n",
       "      <td>7.069469</td>\n",
       "      <td>0.020180</td>\n",
       "    </tr>\n",
       "    <tr>\n",
       "      <th>1</th>\n",
       "      <td>28.419936</td>\n",
       "      <td>Tom Hardy|Charlize Theron|Hugh Keays-Byrne|Nic...</td>\n",
       "      <td>George Miller</td>\n",
       "      <td>Action|Adventure|Science Fiction|Thriller</td>\n",
       "      <td>7.733255</td>\n",
       "      <td>0.005046</td>\n",
       "    </tr>\n",
       "    <tr>\n",
       "      <th>2</th>\n",
       "      <td>13.112507</td>\n",
       "      <td>Shailene Woodley|Theo James|Kate Winslet|Ansel...</td>\n",
       "      <td>Robert Schwentke</td>\n",
       "      <td>Adventure|Science Fiction|Thriller</td>\n",
       "      <td>6.553916</td>\n",
       "      <td>0.005368</td>\n",
       "    </tr>\n",
       "    <tr>\n",
       "      <th>3</th>\n",
       "      <td>11.173104</td>\n",
       "      <td>Harrison Ford|Mark Hamill|Carrie Fisher|Adam D...</td>\n",
       "      <td>J.J. Abrams</td>\n",
       "      <td>Action|Adventure|Science Fiction|Fantasy</td>\n",
       "      <td>8.041825</td>\n",
       "      <td>0.020682</td>\n",
       "    </tr>\n",
       "    <tr>\n",
       "      <th>4</th>\n",
       "      <td>9.335014</td>\n",
       "      <td>Vin Diesel|Paul Walker|Jason Statham|Michelle ...</td>\n",
       "      <td>James Wan</td>\n",
       "      <td>Action|Crime|Thriller</td>\n",
       "      <td>7.601730</td>\n",
       "      <td>0.015855</td>\n",
       "    </tr>\n",
       "  </tbody>\n",
       "</table>\n",
       "</div>"
      ],
      "text/plain": [
       "   popularity                                               cast  \\\n",
       "0   32.985763  Chris Pratt|Bryce Dallas Howard|Irrfan Khan|Vi...   \n",
       "1   28.419936  Tom Hardy|Charlize Theron|Hugh Keays-Byrne|Nic...   \n",
       "2   13.112507  Shailene Woodley|Theo James|Kate Winslet|Ansel...   \n",
       "3   11.173104  Harrison Ford|Mark Hamill|Carrie Fisher|Adam D...   \n",
       "4    9.335014  Vin Diesel|Paul Walker|Jason Statham|Michelle ...   \n",
       "\n",
       "           director                                     genres  true_vote  \\\n",
       "0   Colin Trevorrow  Action|Adventure|Science Fiction|Thriller   7.069469   \n",
       "1     George Miller  Action|Adventure|Science Fiction|Thriller   7.733255   \n",
       "2  Robert Schwentke         Adventure|Science Fiction|Thriller   6.553916   \n",
       "3       J.J. Abrams   Action|Adventure|Science Fiction|Fantasy   8.041825   \n",
       "4         James Wan                      Action|Crime|Thriller   7.601730   \n",
       "\n",
       "   investability  \n",
       "0       0.020180  \n",
       "1       0.005046  \n",
       "2       0.005368  \n",
       "3       0.020682  \n",
       "4       0.015855  "
      ]
     },
     "execution_count": 38,
     "metadata": {},
     "output_type": "execute_result"
    }
   ],
   "source": [
    "# calculating investability \n",
    "# the profits made by a movie will effect the chances of a similar project being funded in the future\n",
    "# subsequently, the amount of funding is correlated to the success of a movie\n",
    "# while calculating this metric, movies will be rated from 1-10 and the movies that made a loss will be rated 0\n",
    "\n",
    "# adjusting the profit by assuming that 25% of the budget (although some movies end up spending more money on marketing than they do on production) \n",
    "df['profit'] = df['profit'] - (df['profit'] * 0.25)\n",
    "\n",
    "# trimming away the movies that made a loss\n",
    "df['profit'] = df['profit'].apply(lambda x: 0 if x < 0 else x)\n",
    "\n",
    "# calculating investability\n",
    "df['investability'] = df['profit'] / df['profit'].max()\n",
    "\n",
    "df = df.drop(['profit'], axis = 1)\n",
    "\n",
    "df.head()"
   ]
  },
  {
   "cell_type": "code",
   "execution_count": 39,
   "id": "195473ce",
   "metadata": {
    "execution": {
     "iopub.execute_input": "2023-12-26T12:58:08.639032Z",
     "iopub.status.busy": "2023-12-26T12:58:08.637269Z",
     "iopub.status.idle": "2023-12-26T12:58:08.851473Z",
     "shell.execute_reply": "2023-12-26T12:58:08.849724Z"
    },
    "papermill": {
     "duration": 0.236579,
     "end_time": "2023-12-26T12:58:08.854162",
     "exception": false,
     "start_time": "2023-12-26T12:58:08.617583",
     "status": "completed"
    },
    "tags": []
   },
   "outputs": [
    {
     "data": {
      "image/png": "[encoded data removed]",
      "text/plain": [
       "<Figure size 640x480 with 1 Axes>"
      ]
     },
     "metadata": {},
     "output_type": "display_data"
    }
   ],
   "source": [
    "plt.hist(df['investability'])\n",
    "plt.title('Distribution of Values in investability')\n",
    "plt.xlabel('Value')\n",
    "plt.ylabel('Frequency')\n",
    "plt.show() "
   ]
  },
  {
   "cell_type": "code",
   "execution_count": 40,
   "id": "559b520f",
   "metadata": {
    "execution": {
     "iopub.execute_input": "2023-12-26T12:58:08.891929Z",
     "iopub.status.busy": "2023-12-26T12:58:08.891526Z",
     "iopub.status.idle": "2023-12-26T12:58:09.086117Z",
     "shell.execute_reply": "2023-12-26T12:58:09.085497Z"
    },
    "papermill": {
     "duration": 0.215222,
     "end_time": "2023-12-26T12:58:09.088477",
     "exception": false,
     "start_time": "2023-12-26T12:58:08.873255",
     "status": "completed"
    },
    "tags": []
   },
   "outputs": [
    {
     "data": {
      "image/png": "[encoded data removed]",
      "text/plain": [
       "<Figure size 640x480 with 1 Axes>"
      ]
     },
     "metadata": {},
     "output_type": "display_data"
    }
   ],
   "source": [
    "plt.hist(df['popularity'])\n",
    "plt.title('Distribution of Values in popularity')\n",
    "plt.xlabel('Value')\n",
    "plt.ylabel('Frequency')\n",
    "plt.show() "
   ]
  },
  {
   "cell_type": "code",
   "execution_count": 41,
   "id": "38b0a5cb",
   "metadata": {
    "execution": {
     "iopub.execute_input": "2023-12-26T12:58:09.126210Z",
     "iopub.status.busy": "2023-12-26T12:58:09.125665Z",
     "iopub.status.idle": "2023-12-26T12:58:09.138556Z",
     "shell.execute_reply": "2023-12-26T12:58:09.137742Z"
    },
    "papermill": {
     "duration": 0.034339,
     "end_time": "2023-12-26T12:58:09.140946",
     "exception": false,
     "start_time": "2023-12-26T12:58:09.106607",
     "status": "completed"
    },
    "tags": []
   },
   "outputs": [
    {
     "data": {
      "text/html": [
       "<div>\n",
       "<style scoped>\n",
       "    .dataframe tbody tr th:only-of-type {\n",
       "        vertical-align: middle;\n",
       "    }\n",
       "\n",
       "    .dataframe tbody tr th {\n",
       "        vertical-align: top;\n",
       "    }\n",
       "\n",
       "    .dataframe thead th {\n",
       "        text-align: right;\n",
       "    }\n",
       "</style>\n",
       "<table border=\"1\" class=\"dataframe\">\n",
       "  <thead>\n",
       "    <tr style=\"text-align: right;\">\n",
       "      <th></th>\n",
       "      <th>popularity</th>\n",
       "      <th>cast</th>\n",
       "      <th>director</th>\n",
       "      <th>genres</th>\n",
       "      <th>true_vote</th>\n",
       "      <th>investability</th>\n",
       "    </tr>\n",
       "  </thead>\n",
       "  <tbody>\n",
       "    <tr>\n",
       "      <th>0</th>\n",
       "      <td>1.000000</td>\n",
       "      <td>Chris Pratt|Bryce Dallas Howard|Irrfan Khan|Vi...</td>\n",
       "      <td>Colin Trevorrow</td>\n",
       "      <td>Action|Adventure|Science Fiction|Thriller</td>\n",
       "      <td>7.069469</td>\n",
       "      <td>0.020180</td>\n",
       "    </tr>\n",
       "    <tr>\n",
       "      <th>1</th>\n",
       "      <td>0.861577</td>\n",
       "      <td>Tom Hardy|Charlize Theron|Hugh Keays-Byrne|Nic...</td>\n",
       "      <td>George Miller</td>\n",
       "      <td>Action|Adventure|Science Fiction|Thriller</td>\n",
       "      <td>7.733255</td>\n",
       "      <td>0.005046</td>\n",
       "    </tr>\n",
       "    <tr>\n",
       "      <th>2</th>\n",
       "      <td>0.397500</td>\n",
       "      <td>Shailene Woodley|Theo James|Kate Winslet|Ansel...</td>\n",
       "      <td>Robert Schwentke</td>\n",
       "      <td>Adventure|Science Fiction|Thriller</td>\n",
       "      <td>6.553916</td>\n",
       "      <td>0.005368</td>\n",
       "    </tr>\n",
       "    <tr>\n",
       "      <th>3</th>\n",
       "      <td>0.338703</td>\n",
       "      <td>Harrison Ford|Mark Hamill|Carrie Fisher|Adam D...</td>\n",
       "      <td>J.J. Abrams</td>\n",
       "      <td>Action|Adventure|Science Fiction|Fantasy</td>\n",
       "      <td>8.041825</td>\n",
       "      <td>0.020682</td>\n",
       "    </tr>\n",
       "    <tr>\n",
       "      <th>4</th>\n",
       "      <td>0.282977</td>\n",
       "      <td>Vin Diesel|Paul Walker|Jason Statham|Michelle ...</td>\n",
       "      <td>James Wan</td>\n",
       "      <td>Action|Crime|Thriller</td>\n",
       "      <td>7.601730</td>\n",
       "      <td>0.015855</td>\n",
       "    </tr>\n",
       "  </tbody>\n",
       "</table>\n",
       "</div>"
      ],
      "text/plain": [
       "   popularity                                               cast  \\\n",
       "0    1.000000  Chris Pratt|Bryce Dallas Howard|Irrfan Khan|Vi...   \n",
       "1    0.861577  Tom Hardy|Charlize Theron|Hugh Keays-Byrne|Nic...   \n",
       "2    0.397500  Shailene Woodley|Theo James|Kate Winslet|Ansel...   \n",
       "3    0.338703  Harrison Ford|Mark Hamill|Carrie Fisher|Adam D...   \n",
       "4    0.282977  Vin Diesel|Paul Walker|Jason Statham|Michelle ...   \n",
       "\n",
       "           director                                     genres  true_vote  \\\n",
       "0   Colin Trevorrow  Action|Adventure|Science Fiction|Thriller   7.069469   \n",
       "1     George Miller  Action|Adventure|Science Fiction|Thriller   7.733255   \n",
       "2  Robert Schwentke         Adventure|Science Fiction|Thriller   6.553916   \n",
       "3       J.J. Abrams   Action|Adventure|Science Fiction|Fantasy   8.041825   \n",
       "4         James Wan                      Action|Crime|Thriller   7.601730   \n",
       "\n",
       "   investability  \n",
       "0       0.020180  \n",
       "1       0.005046  \n",
       "2       0.005368  \n",
       "3       0.020682  \n",
       "4       0.015855  "
      ]
     },
     "execution_count": 41,
     "metadata": {},
     "output_type": "execute_result"
    }
   ],
   "source": [
    "# squishing the popularity column down\n",
    "diff = df['popularity'].max() - df['popularity'].min()\n",
    "df['popularity'] = (df['popularity'] - df['popularity'].min()) / diff\n",
    "\n",
    "df.head()"
   ]
  },
  {
   "cell_type": "code",
   "execution_count": 42,
   "id": "56daca94",
   "metadata": {
    "execution": {
     "iopub.execute_input": "2023-12-26T12:58:09.180981Z",
     "iopub.status.busy": "2023-12-26T12:58:09.180601Z",
     "iopub.status.idle": "2023-12-26T12:58:09.191989Z",
     "shell.execute_reply": "2023-12-26T12:58:09.190849Z"
    },
    "papermill": {
     "duration": 0.033344,
     "end_time": "2023-12-26T12:58:09.194001",
     "exception": false,
     "start_time": "2023-12-26T12:58:09.160657",
     "status": "completed"
    },
    "tags": []
   },
   "outputs": [
    {
     "data": {
      "text/plain": [
       "count    6165.000000\n",
       "mean        0.027536\n",
       "std         0.037616\n",
       "min         0.000000\n",
       "25%         0.009738\n",
       "50%         0.017263\n",
       "75%         0.031817\n",
       "max         1.000000\n",
       "Name: popularity, dtype: float64"
      ]
     },
     "execution_count": 42,
     "metadata": {},
     "output_type": "execute_result"
    }
   ],
   "source": [
    "df['popularity'].describe()"
   ]
  },
  {
   "cell_type": "code",
   "execution_count": 43,
   "id": "597fcbb0",
   "metadata": {
    "execution": {
     "iopub.execute_input": "2023-12-26T12:58:09.232634Z",
     "iopub.status.busy": "2023-12-26T12:58:09.232287Z",
     "iopub.status.idle": "2023-12-26T12:58:09.412245Z",
     "shell.execute_reply": "2023-12-26T12:58:09.410998Z"
    },
    "papermill": {
     "duration": 0.20229,
     "end_time": "2023-12-26T12:58:09.415183",
     "exception": false,
     "start_time": "2023-12-26T12:58:09.212893",
     "status": "completed"
    },
    "tags": []
   },
   "outputs": [
    {
     "data": {
      "image/png": "[encoded data removed]",
      "text/plain": [
       "<Figure size 640x480 with 1 Axes>"
      ]
     },
     "metadata": {},
     "output_type": "display_data"
    }
   ],
   "source": [
    "plt.hist(df['popularity'])\n",
    "plt.title('Distribution of Values in popularity')\n",
    "plt.xlabel('Value')\n",
    "plt.ylabel('Frequency')\n",
    "plt.show() "
   ]
  },
  {
   "cell_type": "code",
   "execution_count": 44,
   "id": "53d65393",
   "metadata": {
    "execution": {
     "iopub.execute_input": "2023-12-26T12:58:09.454388Z",
     "iopub.status.busy": "2023-12-26T12:58:09.454024Z",
     "iopub.status.idle": "2023-12-26T12:58:09.462128Z",
     "shell.execute_reply": "2023-12-26T12:58:09.461128Z"
    },
    "papermill": {
     "duration": 0.030283,
     "end_time": "2023-12-26T12:58:09.464402",
     "exception": false,
     "start_time": "2023-12-26T12:58:09.434119",
     "status": "completed"
    },
    "tags": []
   },
   "outputs": [],
   "source": [
    "# now we will create our label using popularity, true_vote and investability\n",
    "# assuming that popularity has a weightage of 80%, and true_vote and investability have the weightage of 10% respectively.\n",
    "df['label'] = df['popularity'] * 0.8 +  df['true_vote'] * 0.1 + df['investability'] * 0.1\n",
    "df = df.drop(['popularity', 'true_vote', 'investability'], axis = 1)"
   ]
  },
  {
   "cell_type": "code",
   "execution_count": 45,
   "id": "6ce3b2eb",
   "metadata": {
    "execution": {
     "iopub.execute_input": "2023-12-26T12:58:09.502166Z",
     "iopub.status.busy": "2023-12-26T12:58:09.501113Z",
     "iopub.status.idle": "2023-12-26T12:58:09.513820Z",
     "shell.execute_reply": "2023-12-26T12:58:09.513100Z"
    },
    "papermill": {
     "duration": 0.033363,
     "end_time": "2023-12-26T12:58:09.515706",
     "exception": false,
     "start_time": "2023-12-26T12:58:09.482343",
     "status": "completed"
    },
    "tags": []
   },
   "outputs": [
    {
     "data": {
      "text/html": [
       "<div>\n",
       "<style scoped>\n",
       "    .dataframe tbody tr th:only-of-type {\n",
       "        vertical-align: middle;\n",
       "    }\n",
       "\n",
       "    .dataframe tbody tr th {\n",
       "        vertical-align: top;\n",
       "    }\n",
       "\n",
       "    .dataframe thead th {\n",
       "        text-align: right;\n",
       "    }\n",
       "</style>\n",
       "<table border=\"1\" class=\"dataframe\">\n",
       "  <thead>\n",
       "    <tr style=\"text-align: right;\">\n",
       "      <th></th>\n",
       "      <th>cast</th>\n",
       "      <th>director</th>\n",
       "      <th>genres</th>\n",
       "      <th>label</th>\n",
       "    </tr>\n",
       "  </thead>\n",
       "  <tbody>\n",
       "    <tr>\n",
       "      <th>0</th>\n",
       "      <td>Chris Pratt|Bryce Dallas Howard|Irrfan Khan|Vi...</td>\n",
       "      <td>Colin Trevorrow</td>\n",
       "      <td>Action|Adventure|Science Fiction|Thriller</td>\n",
       "      <td>1.508965</td>\n",
       "    </tr>\n",
       "    <tr>\n",
       "      <th>1</th>\n",
       "      <td>Tom Hardy|Charlize Theron|Hugh Keays-Byrne|Nic...</td>\n",
       "      <td>George Miller</td>\n",
       "      <td>Action|Adventure|Science Fiction|Thriller</td>\n",
       "      <td>1.463092</td>\n",
       "    </tr>\n",
       "    <tr>\n",
       "      <th>2</th>\n",
       "      <td>Shailene Woodley|Theo James|Kate Winslet|Ansel...</td>\n",
       "      <td>Robert Schwentke</td>\n",
       "      <td>Adventure|Science Fiction|Thriller</td>\n",
       "      <td>0.973928</td>\n",
       "    </tr>\n",
       "    <tr>\n",
       "      <th>3</th>\n",
       "      <td>Harrison Ford|Mark Hamill|Carrie Fisher|Adam D...</td>\n",
       "      <td>J.J. Abrams</td>\n",
       "      <td>Action|Adventure|Science Fiction|Fantasy</td>\n",
       "      <td>1.077213</td>\n",
       "    </tr>\n",
       "    <tr>\n",
       "      <th>4</th>\n",
       "      <td>Vin Diesel|Paul Walker|Jason Statham|Michelle ...</td>\n",
       "      <td>James Wan</td>\n",
       "      <td>Action|Crime|Thriller</td>\n",
       "      <td>0.988140</td>\n",
       "    </tr>\n",
       "  </tbody>\n",
       "</table>\n",
       "</div>"
      ],
      "text/plain": [
       "                                                cast          director  \\\n",
       "0  Chris Pratt|Bryce Dallas Howard|Irrfan Khan|Vi...   Colin Trevorrow   \n",
       "1  Tom Hardy|Charlize Theron|Hugh Keays-Byrne|Nic...     George Miller   \n",
       "2  Shailene Woodley|Theo James|Kate Winslet|Ansel...  Robert Schwentke   \n",
       "3  Harrison Ford|Mark Hamill|Carrie Fisher|Adam D...       J.J. Abrams   \n",
       "4  Vin Diesel|Paul Walker|Jason Statham|Michelle ...         James Wan   \n",
       "\n",
       "                                      genres     label  \n",
       "0  Action|Adventure|Science Fiction|Thriller  1.508965  \n",
       "1  Action|Adventure|Science Fiction|Thriller  1.463092  \n",
       "2         Adventure|Science Fiction|Thriller  0.973928  \n",
       "3   Action|Adventure|Science Fiction|Fantasy  1.077213  \n",
       "4                      Action|Crime|Thriller  0.988140  "
      ]
     },
     "execution_count": 45,
     "metadata": {},
     "output_type": "execute_result"
    }
   ],
   "source": [
    "df.head()"
   ]
  },
  {
   "cell_type": "code",
   "execution_count": 46,
   "id": "71e1b8f6",
   "metadata": {
    "execution": {
     "iopub.execute_input": "2023-12-26T12:58:09.555100Z",
     "iopub.status.busy": "2023-12-26T12:58:09.553693Z",
     "iopub.status.idle": "2023-12-26T12:58:09.736261Z",
     "shell.execute_reply": "2023-12-26T12:58:09.734168Z"
    },
    "papermill": {
     "duration": 0.204801,
     "end_time": "2023-12-26T12:58:09.739436",
     "exception": false,
     "start_time": "2023-12-26T12:58:09.534635",
     "status": "completed"
    },
    "tags": []
   },
   "outputs": [
    {
     "data": {
      "image/png": "[encoded data removed]",
      "text/plain": [
       "<Figure size 640x480 with 1 Axes>"
      ]
     },
     "metadata": {},
     "output_type": "display_data"
    }
   ],
   "source": [
    "plt.hist(df['label'])\n",
    "plt.title('Distribution of Values in label')\n",
    "plt.xlabel('Value')\n",
    "plt.ylabel('Frequency')\n",
    "plt.show() "
   ]
  },
  {
   "cell_type": "code",
   "execution_count": 47,
   "id": "f20d7f02",
   "metadata": {
    "execution": {
     "iopub.execute_input": "2023-12-26T12:58:09.781909Z",
     "iopub.status.busy": "2023-12-26T12:58:09.781552Z",
     "iopub.status.idle": "2023-12-26T12:58:09.878673Z",
     "shell.execute_reply": "2023-12-26T12:58:09.877343Z"
    },
    "papermill": {
     "duration": 0.121234,
     "end_time": "2023-12-26T12:58:09.881929",
     "exception": false,
     "start_time": "2023-12-26T12:58:09.760695",
     "status": "completed"
    },
    "tags": []
   },
   "outputs": [],
   "source": [
    "# separating the cast and genre names into individual entries\n",
    "df['cast'] = df['cast'].str.split('|')\n",
    "df['director'] = df['director'].str.split('|')\n",
    "df['genres'] = df['genres'].str.split('|')\n",
    "\n",
    "df = df.explode('cast').reset_index(drop=True)\n",
    "df = df.explode('director').reset_index(drop=True)\n",
    "df = df.explode('genres').reset_index(drop=True)\n",
    "\n",
    "df.rename(columns={'genres': 'genre', 'cast': 'actor'}, inplace=True)"
   ]
  },
  {
   "cell_type": "code",
   "execution_count": 48,
   "id": "26348e45",
   "metadata": {
    "execution": {
     "iopub.execute_input": "2023-12-26T12:58:09.923665Z",
     "iopub.status.busy": "2023-12-26T12:58:09.923228Z",
     "iopub.status.idle": "2023-12-26T12:58:09.934538Z",
     "shell.execute_reply": "2023-12-26T12:58:09.933559Z"
    },
    "papermill": {
     "duration": 0.034002,
     "end_time": "2023-12-26T12:58:09.936449",
     "exception": false,
     "start_time": "2023-12-26T12:58:09.902447",
     "status": "completed"
    },
    "tags": []
   },
   "outputs": [
    {
     "data": {
      "text/html": [
       "<div>\n",
       "<style scoped>\n",
       "    .dataframe tbody tr th:only-of-type {\n",
       "        vertical-align: middle;\n",
       "    }\n",
       "\n",
       "    .dataframe tbody tr th {\n",
       "        vertical-align: top;\n",
       "    }\n",
       "\n",
       "    .dataframe thead th {\n",
       "        text-align: right;\n",
       "    }\n",
       "</style>\n",
       "<table border=\"1\" class=\"dataframe\">\n",
       "  <thead>\n",
       "    <tr style=\"text-align: right;\">\n",
       "      <th></th>\n",
       "      <th>actor</th>\n",
       "      <th>director</th>\n",
       "      <th>genre</th>\n",
       "      <th>label</th>\n",
       "    </tr>\n",
       "  </thead>\n",
       "  <tbody>\n",
       "    <tr>\n",
       "      <th>0</th>\n",
       "      <td>Chris Pratt</td>\n",
       "      <td>Colin Trevorrow</td>\n",
       "      <td>Action</td>\n",
       "      <td>1.508965</td>\n",
       "    </tr>\n",
       "    <tr>\n",
       "      <th>1</th>\n",
       "      <td>Chris Pratt</td>\n",
       "      <td>Colin Trevorrow</td>\n",
       "      <td>Adventure</td>\n",
       "      <td>1.508965</td>\n",
       "    </tr>\n",
       "    <tr>\n",
       "      <th>2</th>\n",
       "      <td>Chris Pratt</td>\n",
       "      <td>Colin Trevorrow</td>\n",
       "      <td>Science Fiction</td>\n",
       "      <td>1.508965</td>\n",
       "    </tr>\n",
       "    <tr>\n",
       "      <th>3</th>\n",
       "      <td>Chris Pratt</td>\n",
       "      <td>Colin Trevorrow</td>\n",
       "      <td>Thriller</td>\n",
       "      <td>1.508965</td>\n",
       "    </tr>\n",
       "    <tr>\n",
       "      <th>4</th>\n",
       "      <td>Bryce Dallas Howard</td>\n",
       "      <td>Colin Trevorrow</td>\n",
       "      <td>Action</td>\n",
       "      <td>1.508965</td>\n",
       "    </tr>\n",
       "  </tbody>\n",
       "</table>\n",
       "</div>"
      ],
      "text/plain": [
       "                 actor         director            genre     label\n",
       "0          Chris Pratt  Colin Trevorrow           Action  1.508965\n",
       "1          Chris Pratt  Colin Trevorrow        Adventure  1.508965\n",
       "2          Chris Pratt  Colin Trevorrow  Science Fiction  1.508965\n",
       "3          Chris Pratt  Colin Trevorrow         Thriller  1.508965\n",
       "4  Bryce Dallas Howard  Colin Trevorrow           Action  1.508965"
      ]
     },
     "execution_count": 48,
     "metadata": {},
     "output_type": "execute_result"
    }
   ],
   "source": [
    "df.head()"
   ]
  },
  {
   "cell_type": "code",
   "execution_count": 49,
   "id": "22b45e14",
   "metadata": {
    "execution": {
     "iopub.execute_input": "2023-12-26T12:58:09.990239Z",
     "iopub.status.busy": "2023-12-26T12:58:09.989857Z",
     "iopub.status.idle": "2023-12-26T12:58:10.204907Z",
     "shell.execute_reply": "2023-12-26T12:58:10.204042Z"
    },
    "papermill": {
     "duration": 0.244506,
     "end_time": "2023-12-26T12:58:10.206966",
     "exception": false,
     "start_time": "2023-12-26T12:58:09.962460",
     "status": "completed"
    },
    "tags": []
   },
   "outputs": [],
   "source": [
    "# extracting this dataframe for use in app\n",
    "\n",
    "import pandas as pd\n",
    "\n",
    "df.to_csv('output.csv', index=False)"
   ]
  },
  {
   "cell_type": "code",
   "execution_count": 50,
   "id": "ed91e1e2",
   "metadata": {
    "execution": {
     "iopub.execute_input": "2023-12-26T12:58:10.252950Z",
     "iopub.status.busy": "2023-12-26T12:58:10.251785Z",
     "iopub.status.idle": "2023-12-26T12:58:10.258568Z",
     "shell.execute_reply": "2023-12-26T12:58:10.257000Z"
    },
    "papermill": {
     "duration": 0.035247,
     "end_time": "2023-12-26T12:58:10.260777",
     "exception": false,
     "start_time": "2023-12-26T12:58:10.225530",
     "status": "completed"
    },
    "tags": []
   },
   "outputs": [
    {
     "data": {
      "text/plain": [
       "(86216, 4)"
      ]
     },
     "execution_count": 50,
     "metadata": {},
     "output_type": "execute_result"
    }
   ],
   "source": [
    "df.shape"
   ]
  },
  {
   "cell_type": "code",
   "execution_count": 51,
   "id": "b948fba9",
   "metadata": {
    "execution": {
     "iopub.execute_input": "2023-12-26T12:58:10.308175Z",
     "iopub.status.busy": "2023-12-26T12:58:10.307713Z",
     "iopub.status.idle": "2023-12-26T12:58:10.489088Z",
     "shell.execute_reply": "2023-12-26T12:58:10.488162Z"
    },
    "papermill": {
     "duration": 0.206144,
     "end_time": "2023-12-26T12:58:10.491068",
     "exception": false,
     "start_time": "2023-12-26T12:58:10.284924",
     "status": "completed"
    },
    "tags": []
   },
   "outputs": [
    {
     "data": {
      "text/plain": [
       "<Axes: >"
      ]
     },
     "execution_count": 51,
     "metadata": {},
     "output_type": "execute_result"
    },
    {
     "data": {
      "image/png": "[encoded data removed]",
      "text/plain": [
       "<Figure size 640x480 with 1 Axes>"
      ]
     },
     "metadata": {},
     "output_type": "display_data"
    }
   ],
   "source": [
    "df['label'].hist()"
   ]
  },
  {
   "cell_type": "code",
   "execution_count": 52,
   "id": "d42476ee",
   "metadata": {
    "execution": {
     "iopub.execute_input": "2023-12-26T12:58:10.533840Z",
     "iopub.status.busy": "2023-12-26T12:58:10.532157Z",
     "iopub.status.idle": "2023-12-26T12:58:10.551224Z",
     "shell.execute_reply": "2023-12-26T12:58:10.550151Z"
    },
    "papermill": {
     "duration": 0.04356,
     "end_time": "2023-12-26T12:58:10.554494",
     "exception": false,
     "start_time": "2023-12-26T12:58:10.510934",
     "status": "completed"
    },
    "tags": []
   },
   "outputs": [
    {
     "data": {
      "text/html": [
       "<div>\n",
       "<style scoped>\n",
       "    .dataframe tbody tr th:only-of-type {\n",
       "        vertical-align: middle;\n",
       "    }\n",
       "\n",
       "    .dataframe tbody tr th {\n",
       "        vertical-align: top;\n",
       "    }\n",
       "\n",
       "    .dataframe thead th {\n",
       "        text-align: right;\n",
       "    }\n",
       "</style>\n",
       "<table border=\"1\" class=\"dataframe\">\n",
       "  <thead>\n",
       "    <tr style=\"text-align: right;\">\n",
       "      <th></th>\n",
       "      <th>actor</th>\n",
       "      <th>director</th>\n",
       "      <th>genre</th>\n",
       "      <th>label</th>\n",
       "    </tr>\n",
       "  </thead>\n",
       "  <tbody>\n",
       "    <tr>\n",
       "      <th>0</th>\n",
       "      <td>Chris Pratt</td>\n",
       "      <td>Colin Trevorrow</td>\n",
       "      <td>Action</td>\n",
       "      <td>1.508965</td>\n",
       "    </tr>\n",
       "    <tr>\n",
       "      <th>1</th>\n",
       "      <td>Chris Pratt</td>\n",
       "      <td>Colin Trevorrow</td>\n",
       "      <td>Adventure</td>\n",
       "      <td>1.508965</td>\n",
       "    </tr>\n",
       "    <tr>\n",
       "      <th>2</th>\n",
       "      <td>Chris Pratt</td>\n",
       "      <td>Colin Trevorrow</td>\n",
       "      <td>Science Fiction</td>\n",
       "      <td>1.508965</td>\n",
       "    </tr>\n",
       "    <tr>\n",
       "      <th>3</th>\n",
       "      <td>Chris Pratt</td>\n",
       "      <td>Colin Trevorrow</td>\n",
       "      <td>Thriller</td>\n",
       "      <td>1.508965</td>\n",
       "    </tr>\n",
       "    <tr>\n",
       "      <th>4</th>\n",
       "      <td>Bryce Dallas Howard</td>\n",
       "      <td>Colin Trevorrow</td>\n",
       "      <td>Action</td>\n",
       "      <td>1.508965</td>\n",
       "    </tr>\n",
       "    <tr>\n",
       "      <th>...</th>\n",
       "      <td>...</td>\n",
       "      <td>...</td>\n",
       "      <td>...</td>\n",
       "      <td>...</td>\n",
       "    </tr>\n",
       "    <tr>\n",
       "      <th>86206</th>\n",
       "      <td>Dick Sargent</td>\n",
       "      <td>Alan Rafkin</td>\n",
       "      <td>Romance</td>\n",
       "      <td>0.613737</td>\n",
       "    </tr>\n",
       "    <tr>\n",
       "      <th>86207</th>\n",
       "      <td>Skip Homeier</td>\n",
       "      <td>Alan Rafkin</td>\n",
       "      <td>Comedy</td>\n",
       "      <td>0.613737</td>\n",
       "    </tr>\n",
       "    <tr>\n",
       "      <th>86208</th>\n",
       "      <td>Skip Homeier</td>\n",
       "      <td>Alan Rafkin</td>\n",
       "      <td>Family</td>\n",
       "      <td>0.613737</td>\n",
       "    </tr>\n",
       "    <tr>\n",
       "      <th>86209</th>\n",
       "      <td>Skip Homeier</td>\n",
       "      <td>Alan Rafkin</td>\n",
       "      <td>Mystery</td>\n",
       "      <td>0.613737</td>\n",
       "    </tr>\n",
       "    <tr>\n",
       "      <th>86210</th>\n",
       "      <td>Skip Homeier</td>\n",
       "      <td>Alan Rafkin</td>\n",
       "      <td>Romance</td>\n",
       "      <td>0.613737</td>\n",
       "    </tr>\n",
       "  </tbody>\n",
       "</table>\n",
       "<p>78458 rows × 4 columns</p>\n",
       "</div>"
      ],
      "text/plain": [
       "                     actor         director            genre     label\n",
       "0              Chris Pratt  Colin Trevorrow           Action  1.508965\n",
       "1              Chris Pratt  Colin Trevorrow        Adventure  1.508965\n",
       "2              Chris Pratt  Colin Trevorrow  Science Fiction  1.508965\n",
       "3              Chris Pratt  Colin Trevorrow         Thriller  1.508965\n",
       "4      Bryce Dallas Howard  Colin Trevorrow           Action  1.508965\n",
       "...                    ...              ...              ...       ...\n",
       "86206         Dick Sargent      Alan Rafkin          Romance  0.613737\n",
       "86207         Skip Homeier      Alan Rafkin           Comedy  0.613737\n",
       "86208         Skip Homeier      Alan Rafkin           Family  0.613737\n",
       "86209         Skip Homeier      Alan Rafkin          Mystery  0.613737\n",
       "86210         Skip Homeier      Alan Rafkin          Romance  0.613737\n",
       "\n",
       "[78458 rows x 4 columns]"
      ]
     },
     "execution_count": 52,
     "metadata": {},
     "output_type": "execute_result"
    }
   ],
   "source": [
    "df.loc[df['label'] > 0.5]"
   ]
  },
  {
   "cell_type": "code",
   "execution_count": 53,
   "id": "5efe21f0",
   "metadata": {
    "execution": {
     "iopub.execute_input": "2023-12-26T12:58:10.596948Z",
     "iopub.status.busy": "2023-12-26T12:58:10.596250Z",
     "iopub.status.idle": "2023-12-26T12:58:10.927093Z",
     "shell.execute_reply": "2023-12-26T12:58:10.926218Z"
    },
    "papermill": {
     "duration": 0.355224,
     "end_time": "2023-12-26T12:58:10.929934",
     "exception": false,
     "start_time": "2023-12-26T12:58:10.574710",
     "status": "completed"
    },
    "tags": []
   },
   "outputs": [],
   "source": [
    "# encoding the categorical values\n",
    "\n",
    "from sklearn.preprocessing import LabelEncoder\n",
    "\n",
    "le = LabelEncoder()\n",
    "df['actor'] = le.fit_transform(df['actor'])\n",
    "mapping_actor = dict(zip(le.classes_, range(len(le.classes_))))\n",
    "df['director'] = le.fit_transform(df['director'])\n",
    "mapping_director = dict(zip(le.classes_, range(len(le.classes_))))\n",
    "df['genre'] = le.fit_transform(df['genre'])\n",
    "mapping_genre = dict(zip(le.classes_, range(len(le.classes_))))\n",
    "\n",
    "num_actor = len(mapping_actor)\n",
    "num_director = len(mapping_director)\n",
    "num_genre = len(mapping_genre)\n",
    "\n",
    "# converting the continous label into a binary label\n",
    "\n",
    "df['label'] = df['label'].apply(lambda x: 1 if x >= 0.5 else 0)"
   ]
  },
  {
   "cell_type": "code",
   "execution_count": 54,
   "id": "c26bf4e0",
   "metadata": {
    "execution": {
     "iopub.execute_input": "2023-12-26T12:58:10.976827Z",
     "iopub.status.busy": "2023-12-26T12:58:10.975747Z",
     "iopub.status.idle": "2023-12-26T12:58:10.982305Z",
     "shell.execute_reply": "2023-12-26T12:58:10.980788Z"
    },
    "papermill": {
     "duration": 0.033354,
     "end_time": "2023-12-26T12:58:10.984741",
     "exception": false,
     "start_time": "2023-12-26T12:58:10.951387",
     "status": "completed"
    },
    "tags": []
   },
   "outputs": [
    {
     "name": "stdout",
     "output_type": "stream",
     "text": [
      "1853 506 0\n"
     ]
    }
   ],
   "source": [
    "print(mapping_actor['Chris Pratt'], mapping_director['Colin Trevorrow'], mapping_genre['Action'])"
   ]
  },
  {
   "cell_type": "code",
   "execution_count": 55,
   "id": "3a82e019",
   "metadata": {
    "execution": {
     "iopub.execute_input": "2023-12-26T12:58:11.030538Z",
     "iopub.status.busy": "2023-12-26T12:58:11.029332Z",
     "iopub.status.idle": "2023-12-26T12:58:11.225320Z",
     "shell.execute_reply": "2023-12-26T12:58:11.223652Z"
    },
    "papermill": {
     "duration": 0.220842,
     "end_time": "2023-12-26T12:58:11.227882",
     "exception": false,
     "start_time": "2023-12-26T12:58:11.007040",
     "status": "completed"
    },
    "tags": []
   },
   "outputs": [
    {
     "data": {
      "text/plain": [
       "<Axes: >"
      ]
     },
     "execution_count": 55,
     "metadata": {},
     "output_type": "execute_result"
    },
    {
     "data": {
      "image/png": "[encoded data removed]",
      "text/plain": [
       "<Figure size 640x480 with 1 Axes>"
      ]
     },
     "metadata": {},
     "output_type": "display_data"
    }
   ],
   "source": [
    "df['label'].hist()"
   ]
  },
  {
   "cell_type": "code",
   "execution_count": 56,
   "id": "17873a09",
   "metadata": {
    "execution": {
     "iopub.execute_input": "2023-12-26T12:58:11.269017Z",
     "iopub.status.busy": "2023-12-26T12:58:11.268558Z",
     "iopub.status.idle": "2023-12-26T12:58:11.281827Z",
     "shell.execute_reply": "2023-12-26T12:58:11.280686Z"
    },
    "papermill": {
     "duration": 0.035934,
     "end_time": "2023-12-26T12:58:11.283662",
     "exception": false,
     "start_time": "2023-12-26T12:58:11.247728",
     "status": "completed"
    },
    "tags": []
   },
   "outputs": [
    {
     "data": {
      "text/plain": [
       "label\n",
       "1    78458\n",
       "0     7758\n",
       "Name: count, dtype: int64"
      ]
     },
     "execution_count": 56,
     "metadata": {},
     "output_type": "execute_result"
    }
   ],
   "source": [
    "df['label'].value_counts()"
   ]
  },
  {
   "cell_type": "code",
   "execution_count": 57,
   "id": "2b0dcc1e",
   "metadata": {
    "execution": {
     "iopub.execute_input": "2023-12-26T12:58:11.325622Z",
     "iopub.status.busy": "2023-12-26T12:58:11.324201Z",
     "iopub.status.idle": "2023-12-26T12:58:11.342087Z",
     "shell.execute_reply": "2023-12-26T12:58:11.340875Z"
    },
    "papermill": {
     "duration": 0.041149,
     "end_time": "2023-12-26T12:58:11.344173",
     "exception": false,
     "start_time": "2023-12-26T12:58:11.303024",
     "status": "completed"
    },
    "tags": []
   },
   "outputs": [
    {
     "data": {
      "text/html": [
       "<div>\n",
       "<style scoped>\n",
       "    .dataframe tbody tr th:only-of-type {\n",
       "        vertical-align: middle;\n",
       "    }\n",
       "\n",
       "    .dataframe tbody tr th {\n",
       "        vertical-align: top;\n",
       "    }\n",
       "\n",
       "    .dataframe thead th {\n",
       "        text-align: right;\n",
       "    }\n",
       "</style>\n",
       "<table border=\"1\" class=\"dataframe\">\n",
       "  <thead>\n",
       "    <tr style=\"text-align: right;\">\n",
       "      <th></th>\n",
       "      <th>actor</th>\n",
       "      <th>director</th>\n",
       "      <th>genre</th>\n",
       "      <th>label</th>\n",
       "    </tr>\n",
       "  </thead>\n",
       "  <tbody>\n",
       "    <tr>\n",
       "      <th>0</th>\n",
       "      <td>1853</td>\n",
       "      <td>506</td>\n",
       "      <td>0</td>\n",
       "      <td>1</td>\n",
       "    </tr>\n",
       "    <tr>\n",
       "      <th>1</th>\n",
       "      <td>1853</td>\n",
       "      <td>506</td>\n",
       "      <td>1</td>\n",
       "      <td>1</td>\n",
       "    </tr>\n",
       "    <tr>\n",
       "      <th>2</th>\n",
       "      <td>1853</td>\n",
       "      <td>506</td>\n",
       "      <td>15</td>\n",
       "      <td>1</td>\n",
       "    </tr>\n",
       "    <tr>\n",
       "      <th>3</th>\n",
       "      <td>1853</td>\n",
       "      <td>506</td>\n",
       "      <td>17</td>\n",
       "      <td>1</td>\n",
       "    </tr>\n",
       "    <tr>\n",
       "      <th>4</th>\n",
       "      <td>1444</td>\n",
       "      <td>506</td>\n",
       "      <td>0</td>\n",
       "      <td>1</td>\n",
       "    </tr>\n",
       "    <tr>\n",
       "      <th>...</th>\n",
       "      <td>...</td>\n",
       "      <td>...</td>\n",
       "      <td>...</td>\n",
       "      <td>...</td>\n",
       "    </tr>\n",
       "    <tr>\n",
       "      <th>86206</th>\n",
       "      <td>2734</td>\n",
       "      <td>54</td>\n",
       "      <td>14</td>\n",
       "      <td>1</td>\n",
       "    </tr>\n",
       "    <tr>\n",
       "      <th>86207</th>\n",
       "      <td>9643</td>\n",
       "      <td>54</td>\n",
       "      <td>3</td>\n",
       "      <td>1</td>\n",
       "    </tr>\n",
       "    <tr>\n",
       "      <th>86208</th>\n",
       "      <td>9643</td>\n",
       "      <td>54</td>\n",
       "      <td>7</td>\n",
       "      <td>1</td>\n",
       "    </tr>\n",
       "    <tr>\n",
       "      <th>86209</th>\n",
       "      <td>9643</td>\n",
       "      <td>54</td>\n",
       "      <td>13</td>\n",
       "      <td>1</td>\n",
       "    </tr>\n",
       "    <tr>\n",
       "      <th>86210</th>\n",
       "      <td>9643</td>\n",
       "      <td>54</td>\n",
       "      <td>14</td>\n",
       "      <td>1</td>\n",
       "    </tr>\n",
       "  </tbody>\n",
       "</table>\n",
       "<p>78458 rows × 4 columns</p>\n",
       "</div>"
      ],
      "text/plain": [
       "       actor  director  genre  label\n",
       "0       1853       506      0      1\n",
       "1       1853       506      1      1\n",
       "2       1853       506     15      1\n",
       "3       1853       506     17      1\n",
       "4       1444       506      0      1\n",
       "...      ...       ...    ...    ...\n",
       "86206   2734        54     14      1\n",
       "86207   9643        54      3      1\n",
       "86208   9643        54      7      1\n",
       "86209   9643        54     13      1\n",
       "86210   9643        54     14      1\n",
       "\n",
       "[78458 rows x 4 columns]"
      ]
     },
     "execution_count": 57,
     "metadata": {},
     "output_type": "execute_result"
    }
   ],
   "source": [
    "df.loc[df['label'] == 1]"
   ]
  },
  {
   "cell_type": "code",
   "execution_count": 58,
   "id": "c12e1a96",
   "metadata": {
    "execution": {
     "iopub.execute_input": "2023-12-26T12:58:11.386759Z",
     "iopub.status.busy": "2023-12-26T12:58:11.386232Z",
     "iopub.status.idle": "2023-12-26T12:58:11.391337Z",
     "shell.execute_reply": "2023-12-26T12:58:11.390671Z"
    },
    "papermill": {
     "duration": 0.028748,
     "end_time": "2023-12-26T12:58:11.393296",
     "exception": false,
     "start_time": "2023-12-26T12:58:11.364548",
     "status": "completed"
    },
    "tags": []
   },
   "outputs": [
    {
     "name": "stdout",
     "output_type": "stream",
     "text": [
      "10965 2959 21\n"
     ]
    }
   ],
   "source": [
    "print(num_actor, num_director, num_genre)"
   ]
  },
  {
   "cell_type": "code",
   "execution_count": 59,
   "id": "6d2fcc76",
   "metadata": {
    "execution": {
     "iopub.execute_input": "2023-12-26T12:58:11.436043Z",
     "iopub.status.busy": "2023-12-26T12:58:11.435597Z",
     "iopub.status.idle": "2023-12-26T12:58:11.444398Z",
     "shell.execute_reply": "2023-12-26T12:58:11.443402Z"
    },
    "papermill": {
     "duration": 0.032587,
     "end_time": "2023-12-26T12:58:11.446253",
     "exception": false,
     "start_time": "2023-12-26T12:58:11.413666",
     "status": "completed"
    },
    "tags": []
   },
   "outputs": [
    {
     "data": {
      "text/plain": [
       "actor       0\n",
       "director    0\n",
       "genre       0\n",
       "label       0\n",
       "dtype: int64"
      ]
     },
     "execution_count": 59,
     "metadata": {},
     "output_type": "execute_result"
    }
   ],
   "source": [
    "df.isnull().sum()"
   ]
  },
  {
   "cell_type": "code",
   "execution_count": 60,
   "id": "bc299b9a",
   "metadata": {
    "execution": {
     "iopub.execute_input": "2023-12-26T12:58:11.490450Z",
     "iopub.status.busy": "2023-12-26T12:58:11.489936Z",
     "iopub.status.idle": "2023-12-26T12:58:11.685763Z",
     "shell.execute_reply": "2023-12-26T12:58:11.684859Z"
    },
    "papermill": {
     "duration": 0.220819,
     "end_time": "2023-12-26T12:58:11.688019",
     "exception": false,
     "start_time": "2023-12-26T12:58:11.467200",
     "status": "completed"
    },
    "tags": []
   },
   "outputs": [],
   "source": [
    "# training the model\n",
    "\n",
    "from sklearn.model_selection import cross_val_score, cross_val_predict, RepeatedStratifiedKFold\n",
    "from sklearn.linear_model import LogisticRegression\n",
    "from sklearn.model_selection import train_test_split\n",
    "from sklearn.metrics import accuracy_score"
   ]
  },
  {
   "cell_type": "code",
   "execution_count": 61,
   "id": "b1672019",
   "metadata": {
    "execution": {
     "iopub.execute_input": "2023-12-26T12:58:11.729038Z",
     "iopub.status.busy": "2023-12-26T12:58:11.728543Z",
     "iopub.status.idle": "2023-12-26T12:58:11.750969Z",
     "shell.execute_reply": "2023-12-26T12:58:11.749666Z"
    },
    "papermill": {
     "duration": 0.045939,
     "end_time": "2023-12-26T12:58:11.753623",
     "exception": false,
     "start_time": "2023-12-26T12:58:11.707684",
     "status": "completed"
    },
    "tags": []
   },
   "outputs": [],
   "source": [
    "X = df.drop(columns = ['label'])\n",
    "y = df['label']\n",
    "\n",
    "X_train, X_test, y_train, y_test = train_test_split(X, y, test_size=0.2, random_state=42)"
   ]
  },
  {
   "cell_type": "code",
   "execution_count": 62,
   "id": "2ab85b88",
   "metadata": {
    "execution": {
     "iopub.execute_input": "2023-12-26T12:58:11.796545Z",
     "iopub.status.busy": "2023-12-26T12:58:11.796017Z",
     "iopub.status.idle": "2023-12-26T12:58:12.007589Z",
     "shell.execute_reply": "2023-12-26T12:58:12.006830Z"
    },
    "papermill": {
     "duration": 0.235708,
     "end_time": "2023-12-26T12:58:12.009869",
     "exception": false,
     "start_time": "2023-12-26T12:58:11.774161",
     "status": "completed"
    },
    "tags": []
   },
   "outputs": [
    {
     "name": "stdout",
     "output_type": "stream",
     "text": [
      "Accuracy: 91.02876362792856%\n"
     ]
    }
   ],
   "source": [
    "model = LogisticRegression(max_iter = 1000)\n",
    "model.fit(X_train, y_train)\n",
    "\n",
    "y_pred = model.predict(X_test)\n",
    "\n",
    "score = accuracy_score(y_test, y_pred)\n",
    "print(f'Accuracy: {score * 100}%')"
   ]
  },
  {
   "cell_type": "code",
   "execution_count": 63,
   "id": "7cc93201",
   "metadata": {
    "execution": {
     "iopub.execute_input": "2023-12-26T12:58:12.065177Z",
     "iopub.status.busy": "2023-12-26T12:58:12.064825Z",
     "iopub.status.idle": "2023-12-26T12:58:18.998640Z",
     "shell.execute_reply": "2023-12-26T12:58:18.997724Z"
    },
    "papermill": {
     "duration": 6.964378,
     "end_time": "2023-12-26T12:58:19.001191",
     "exception": false,
     "start_time": "2023-12-26T12:58:12.036813",
     "status": "completed"
    },
    "tags": []
   },
   "outputs": [
    {
     "name": "stdout",
     "output_type": "stream",
     "text": [
      "Cross-Validation Score: 91.00167035601193 (+/- 8.690976376194523e-05)\n"
     ]
    }
   ],
   "source": [
    "cv = RepeatedStratifiedKFold(n_splits=10, n_repeats=3, random_state=1)\n",
    "\n",
    "model = LogisticRegression(max_iter = 1000)\n",
    "scores = cross_val_score(model, X, y, cv=cv, scoring='accuracy')\n",
    "\n",
    "print(f'Cross-Validation Score: {scores.mean() * 100} (+/- {scores.std() * 2})')"
   ]
  },
  {
   "cell_type": "code",
   "execution_count": 64,
   "id": "7f25eeb4",
   "metadata": {
    "execution": {
     "iopub.execute_input": "2023-12-26T12:58:19.059224Z",
     "iopub.status.busy": "2023-12-26T12:58:19.058781Z",
     "iopub.status.idle": "2023-12-26T12:58:19.315573Z",
     "shell.execute_reply": "2023-12-26T12:58:19.314820Z"
    },
    "papermill": {
     "duration": 0.288215,
     "end_time": "2023-12-26T12:58:19.317646",
     "exception": false,
     "start_time": "2023-12-26T12:58:19.029431",
     "status": "completed"
    },
    "tags": []
   },
   "outputs": [
    {
     "data": {
      "text/html": [
       "<style>#sk-container-id-1 {color: black;background-color: white;}#sk-container-id-1 pre{padding: 0;}#sk-container-id-1 div.sk-toggleable {background-color: white;}#sk-container-id-1 label.sk-toggleable__label {cursor: pointer;display: block;width: 100%;margin-bottom: 0;padding: 0.3em;box-sizing: border-box;text-align: center;}#sk-container-id-1 label.sk-toggleable__label-arrow:before {content: \"▸\";float: left;margin-right: 0.25em;color: #696969;}#sk-container-id-1 label.sk-toggleable__label-arrow:hover:before {color: black;}#sk-container-id-1 div.sk-estimator:hover label.sk-toggleable__label-arrow:before {color: black;}#sk-container-id-1 div.sk-toggleable__content {max-height: 0;max-width: 0;overflow: hidden;text-align: left;background-color: #f0f8ff;}#sk-container-id-1 div.sk-toggleable__content pre {margin: 0.2em;color: black;border-radius: 0.25em;background-color: #f0f8ff;}#sk-container-id-1 input.sk-toggleable__control:checked~div.sk-toggleable__content {max-height: 200px;max-width: 100%;overflow: auto;}#sk-container-id-1 input.sk-toggleable__control:checked~label.sk-toggleable__label-arrow:before {content: \"▾\";}#sk-container-id-1 div.sk-estimator input.sk-toggleable__control:checked~label.sk-toggleable__label {background-color: #d4ebff;}#sk-container-id-1 div.sk-label input.sk-toggleable__control:checked~label.sk-toggleable__label {background-color: #d4ebff;}#sk-container-id-1 input.sk-hidden--visually {border: 0;clip: rect(1px 1px 1px 1px);clip: rect(1px, 1px, 1px, 1px);height: 1px;margin: -1px;overflow: hidden;padding: 0;position: absolute;width: 1px;}#sk-container-id-1 div.sk-estimator {font-family: monospace;background-color: #f0f8ff;border: 1px dotted black;border-radius: 0.25em;box-sizing: border-box;margin-bottom: 0.5em;}#sk-container-id-1 div.sk-estimator:hover {background-color: #d4ebff;}#sk-container-id-1 div.sk-parallel-item::after {content: \"\";width: 100%;border-bottom: 1px solid gray;flex-grow: 1;}#sk-container-id-1 div.sk-label:hover label.sk-toggleable__label {background-color: #d4ebff;}#sk-container-id-1 div.sk-serial::before {content: \"\";position: absolute;border-left: 1px solid gray;box-sizing: border-box;top: 0;bottom: 0;left: 50%;z-index: 0;}#sk-container-id-1 div.sk-serial {display: flex;flex-direction: column;align-items: center;background-color: white;padding-right: 0.2em;padding-left: 0.2em;position: relative;}#sk-container-id-1 div.sk-item {position: relative;z-index: 1;}#sk-container-id-1 div.sk-parallel {display: flex;align-items: stretch;justify-content: center;background-color: white;position: relative;}#sk-container-id-1 div.sk-item::before, #sk-container-id-1 div.sk-parallel-item::before {content: \"\";position: absolute;border-left: 1px solid gray;box-sizing: border-box;top: 0;bottom: 0;left: 50%;z-index: -1;}#sk-container-id-1 div.sk-parallel-item {display: flex;flex-direction: column;z-index: 1;position: relative;background-color: white;}#sk-container-id-1 div.sk-parallel-item:first-child::after {align-self: flex-end;width: 50%;}#sk-container-id-1 div.sk-parallel-item:last-child::after {align-self: flex-start;width: 50%;}#sk-container-id-1 div.sk-parallel-item:only-child::after {width: 0;}#sk-container-id-1 div.sk-dashed-wrapped {border: 1px dashed gray;margin: 0 0.4em 0.5em 0.4em;box-sizing: border-box;padding-bottom: 0.4em;background-color: white;}#sk-container-id-1 div.sk-label label {font-family: monospace;font-weight: bold;display: inline-block;line-height: 1.2em;}#sk-container-id-1 div.sk-label-container {text-align: center;}#sk-container-id-1 div.sk-container {/* jupyter's `normalize.less` sets `[hidden] { display: none; }` but bootstrap.min.css set `[hidden] { display: none !important; }` so we also need the `!important` here to be able to override the default hidden behavior on the sphinx rendered scikit-learn.org. See: https://github.com/scikit-learn/scikit-learn/issues/21755 */display: inline-block !important;position: relative;}#sk-container-id-1 div.sk-text-repr-fallback {display: none;}</style><div id=\"sk-container-id-1\" class=\"sk-top-container\"><div class=\"sk-text-repr-fallback\"><pre>LogisticRegression(max_iter=1000)</pre><b>In a Jupyter environment, please rerun this cell to show the HTML representation or trust the notebook. <br />On GitHub, the HTML representation is unable to render, please try loading this page with nbviewer.org.</b></div><div class=\"sk-container\" hidden><div class=\"sk-item\"><div class=\"sk-estimator sk-toggleable\"><input class=\"sk-toggleable__control sk-hidden--visually\" id=\"sk-estimator-id-1\" type=\"checkbox\" checked><label for=\"sk-estimator-id-1\" class=\"sk-toggleable__label sk-toggleable__label-arrow\">LogisticRegression</label><div class=\"sk-toggleable__content\"><pre>LogisticRegression(max_iter=1000)</pre></div></div></div></div></div>"
      ],
      "text/plain": [
       "LogisticRegression(max_iter=1000)"
      ]
     },
     "execution_count": 64,
     "metadata": {},
     "output_type": "execute_result"
    }
   ],
   "source": [
    "# outputting results\n",
    "\n",
    "model.fit(X, y)"
   ]
  },
  {
   "cell_type": "code",
   "execution_count": 65,
   "id": "0b86b08a",
   "metadata": {
    "execution": {
     "iopub.execute_input": "2023-12-26T12:58:19.373900Z",
     "iopub.status.busy": "2023-12-26T12:58:19.373474Z",
     "iopub.status.idle": "2023-12-26T12:58:19.382574Z",
     "shell.execute_reply": "2023-12-26T12:58:19.381880Z"
    },
    "papermill": {
     "duration": 0.042791,
     "end_time": "2023-12-26T12:58:19.388005",
     "exception": false,
     "start_time": "2023-12-26T12:58:19.345214",
     "status": "completed"
    },
    "tags": []
   },
   "outputs": [
    {
     "name": "stderr",
     "output_type": "stream",
     "text": [
      "/opt/conda/lib/python3.10/site-packages/sklearn/base.py:439: UserWarning: X does not have valid feature names, but LogisticRegression was fitted with feature names\n",
      "  warnings.warn(\n"
     ]
    },
    {
     "data": {
      "text/plain": [
       "array([[0.1067544, 0.8932456]])"
      ]
     },
     "execution_count": 65,
     "metadata": {},
     "output_type": "execute_result"
    }
   ],
   "source": [
    "actor_encoded = mapping_actor['Bryce Dallas Howard']\n",
    "director_encoded = mapping_director['Colin Trevorrow']\n",
    "genre_encoded = mapping_genre['Science Fiction']\n",
    "\n",
    "input_features = [[actor_encoded, director_encoded, genre_encoded]]\n",
    "probabilities = model.predict_proba(input_features)\n",
    "probabilities"
   ]
  },
  {
   "cell_type": "code",
   "execution_count": 66,
   "id": "352b9259",
   "metadata": {
    "execution": {
     "iopub.execute_input": "2023-12-26T12:58:19.439656Z",
     "iopub.status.busy": "2023-12-26T12:58:19.439264Z",
     "iopub.status.idle": "2023-12-26T12:58:19.443040Z",
     "shell.execute_reply": "2023-12-26T12:58:19.442231Z"
    },
    "papermill": {
     "duration": 0.02921,
     "end_time": "2023-12-26T12:58:19.444683",
     "exception": false,
     "start_time": "2023-12-26T12:58:19.415473",
     "status": "completed"
    },
    "tags": []
   },
   "outputs": [],
   "source": [
    "# For the first input sample [1, 1, 1], the model predicts a probability of approximately 0.998 for class 1 and a probability of approximately 0.002 for class 0.\n",
    "\n",
    "# Similarly, for the second input sample [1, 1, 2], the model predicts a probability of approximately 0.998 for class 1 and a probability of approximately 0.002 for class 0."
   ]
  }
 ],
 "metadata": {
  "kaggle": {
   "accelerator": "none",
   "dataSources": [
    {
     "datasetId": 18106,
     "sourceId": 23697,
     "sourceType": "datasetVersion"
    }
   ],
   "dockerImageVersionId": 30626,
   "isGpuEnabled": false,
   "isInternetEnabled": true,
   "language": "python",
   "sourceType": "notebook"
  },
  "kernelspec": {
   "display_name": "Python 3",
   "language": "python",
   "name": "python3"
  },
  "language_info": {
   "codemirror_mode": {
    "name": "ipython",
    "version": 3
   },
   "file_extension": ".py",
   "mimetype": "text/x-python",
   "name": "python",
   "nbconvert_exporter": "python",
   "pygments_lexer": "ipython3",
   "version": "3.10.12"
  },
  "papermill": {
   "default_parameters": {},
   "duration": 19.420407,
   "end_time": "2023-12-26T12:58:20.286980",
   "environment_variables": {},
   "exception": null,
   "input_path": "__notebook__.ipynb",
   "output_path": "__notebook__.ipynb",
   "parameters": {},
   "start_time": "2023-12-26T12:58:00.866573",
   "version": "2.4.0"
  }
 },
 "nbformat": 4,
 "nbformat_minor": 5
}
