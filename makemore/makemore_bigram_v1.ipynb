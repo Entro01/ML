{
  "nbformat": 4,
  "nbformat_minor": 0,
  "metadata": {
    "colab": {
      "provenance": [],
      "authorship_tag": "ABX9TyPACM0bzs777lYvONufUH6p",
      "include_colab_link": true
    },
    "kernelspec": {
      "name": "python3",
      "display_name": "Python 3"
    },
    "language_info": {
      "name": "python"
    }
  },
  "cells": [
    {
      "cell_type": "markdown",
      "metadata": {
        "id": "view-in-github",
        "colab_type": "text"
      },
      "source": [
        "<a href=\"https://colab.research.google.com/github/Entro01/ML-starter/blob/main/makemore.ipynb\" target=\"_parent\"><img src=\"https://colab.research.google.com/assets/colab-badge.svg\" alt=\"Open In Colab\"/></a>"
      ]
    },
    {
      "cell_type": "code",
      "execution_count": 46,
      "metadata": {
        "id": "-Jsv3bW8OEQx"
      },
      "outputs": [],
      "source": [
        "words = open('names.txt', 'r').read().splitlines()"
      ]
    },
    {
      "cell_type": "code",
      "source": [
        "print(words[:10])"
      ],
      "metadata": {
        "colab": {
          "base_uri": "https://localhost:8080/"
        },
        "id": "SoawIF9kOxWt",
        "outputId": "a4c7567a-7fac-470f-d630-4a1a9512e318"
      },
      "execution_count": 47,
      "outputs": [
        {
          "output_type": "stream",
          "name": "stdout",
          "text": [
            "['emma', 'olivia', 'ava', 'isabella', 'sophia', 'charlotte', 'mia', 'amelia', 'harper', 'evelyn']\n"
          ]
        }
      ]
    },
    {
      "cell_type": "code",
      "source": [
        "print(min(len(x) for x in words))\n",
        "print(max(len(x) for x in words))"
      ],
      "metadata": {
        "colab": {
          "base_uri": "https://localhost:8080/"
        },
        "id": "V__E6n3eO5zy",
        "outputId": "c55c828b-9dcd-46b9-ee40-639d0d878bda"
      },
      "execution_count": 48,
      "outputs": [
        {
          "output_type": "stream",
          "name": "stdout",
          "text": [
            "2\n",
            "15\n"
          ]
        }
      ]
    },
    {
      "cell_type": "code",
      "source": [
        "#bigram - only dealing with two characters at a time, always looking at the previous characater to predict the next one.\n",
        "\n",
        "b = {}\n",
        "for x in words:\n",
        "  x = ['<S>'] + list(x) + ['<E>']\n",
        "  for i,j in zip(x, x[1:]):\n",
        "    biagram = (i, j)\n",
        "    b[biagram] = b.get(biagram, 0) + 1\n",
        "print(b)"
      ],
      "metadata": {
        "id": "zKJ8ioImPZg2",
        "colab": {
          "base_uri": "https://localhost:8080/"
        },
        "outputId": "1bc4e48e-487a-42fb-d445-3c52fdb77620"
      },
      "execution_count": 49,
      "outputs": [
        {
          "output_type": "stream",
          "name": "stdout",
          "text": [
            "{('<S>', 'e'): 1531, ('e', 'm'): 769, ('m', 'm'): 168, ('m', 'a'): 2590, ('a', '<E>'): 6640, ('<S>', 'o'): 394, ('o', 'l'): 619, ('l', 'i'): 2480, ('i', 'v'): 269, ('v', 'i'): 911, ('i', 'a'): 2445, ('<S>', 'a'): 4410, ('a', 'v'): 834, ('v', 'a'): 642, ('<S>', 'i'): 591, ('i', 's'): 1316, ('s', 'a'): 1201, ('a', 'b'): 541, ('b', 'e'): 655, ('e', 'l'): 3248, ('l', 'l'): 1345, ('l', 'a'): 2623, ('<S>', 's'): 2055, ('s', 'o'): 531, ('o', 'p'): 95, ('p', 'h'): 204, ('h', 'i'): 729, ('<S>', 'c'): 1542, ('c', 'h'): 664, ('h', 'a'): 2244, ('a', 'r'): 3264, ('r', 'l'): 413, ('l', 'o'): 692, ('o', 't'): 118, ('t', 't'): 374, ('t', 'e'): 716, ('e', '<E>'): 3983, ('<S>', 'm'): 2538, ('m', 'i'): 1256, ('a', 'm'): 1634, ('m', 'e'): 818, ('<S>', 'h'): 874, ('r', 'p'): 14, ('p', 'e'): 197, ('e', 'r'): 1958, ('r', '<E>'): 1377, ('e', 'v'): 463, ('v', 'e'): 568, ('l', 'y'): 1588, ('y', 'n'): 1826, ('n', '<E>'): 6763, ('b', 'i'): 217, ('i', 'g'): 428, ('g', 'a'): 330, ('a', 'i'): 1650, ('i', 'l'): 1345, ('l', '<E>'): 1314, ('y', '<E>'): 2007, ('i', 'z'): 277, ('z', 'a'): 860, ('e', 't'): 580, ('t', 'h'): 647, ('h', '<E>'): 2409, ('r', 'y'): 773, ('o', 'f'): 34, ('f', 'i'): 160, ('c', 'a'): 815, ('r', 'i'): 3033, ('s', 'c'): 60, ('l', 'e'): 2921, ('t', '<E>'): 483, ('<S>', 'v'): 376, ('i', 'c'): 509, ('c', 't'): 35, ('t', 'o'): 667, ('o', 'r'): 1059, ('a', 'd'): 1042, ('d', 'i'): 674, ('o', 'n'): 2411, ('<S>', 'l'): 1572, ('l', 'u'): 324, ('u', 'n'): 275, ('n', 'a'): 2977, ('<S>', 'g'): 669, ('g', 'r'): 201, ('r', 'a'): 2356, ('a', 'c'): 470, ('c', 'e'): 551, ('h', 'l'): 185, ('o', 'e'): 132, ('<S>', 'p'): 515, ('e', 'n'): 2675, ('n', 'e'): 1359, ('a', 'y'): 2050, ('y', 'l'): 1104, ('<S>', 'r'): 1639, ('e', 'y'): 1070, ('<S>', 'z'): 929, ('z', 'o'): 110, ('<S>', 'n'): 1146, ('n', 'o'): 496, ('e', 'a'): 679, ('a', 'n'): 5438, ('n', 'n'): 1906, ('a', 'h'): 2332, ('d', 'd'): 149, ('a', 'u'): 381, ('u', 'b'): 103, ('b', 'r'): 842, ('r', 'e'): 1697, ('i', 'e'): 1653, ('s', 't'): 765, ('a', 't'): 687, ('t', 'a'): 1027, ('a', 'l'): 2528, ('a', 'z'): 435, ('z', 'e'): 373, ('i', 'o'): 588, ('u', 'r'): 414, ('r', 'o'): 869, ('u', 'd'): 136, ('d', 'r'): 424, ('<S>', 'b'): 1306, ('o', 'o'): 115, ('o', 'k'): 68, ('k', 'l'): 139, ('c', 'l'): 116, ('i', 'r'): 849, ('s', 'k'): 82, ('k', 'y'): 379, ('u', 'c'): 103, ('c', 'y'): 104, ('p', 'a'): 209, ('s', 'l'): 279, ('i', 'n'): 2126, ('o', 'v'): 176, ('g', 'e'): 334, ('e', 's'): 861, ('s', 'i'): 684, ('s', '<E>'): 1169, ('<S>', 'k'): 2963, ('k', 'e'): 895, ('e', 'd'): 384, ('d', 'y'): 317, ('n', 't'): 443, ('y', 'a'): 2143, ('<S>', 'w'): 307, ('w', 'i'): 148, ('o', 'w'): 114, ('w', '<E>'): 51, ('k', 'i'): 509, ('n', 's'): 278, ('a', 'o'): 63, ('o', 'm'): 261, ('i', '<E>'): 2489, ('a', 'a'): 556, ('i', 'y'): 779, ('d', 'e'): 1283, ('c', 'o'): 380, ('r', 'u'): 252, ('b', 'y'): 83, ('s', 'e'): 884, ('n', 'i'): 1725, ('i', 't'): 541, ('t', 'y'): 341, ('u', 't'): 82, ('t', 'u'): 78, ('u', 'm'): 154, ('m', 'n'): 20, ('g', 'i'): 190, ('t', 'i'): 532, ('<S>', 'q'): 92, ('q', 'u'): 206, ('u', 'i'): 121, ('a', 'e'): 692, ('e', 'h'): 152, ('v', 'y'): 121, ('p', 'i'): 61, ('i', 'p'): 53, ('y', 'd'): 272, ('e', 'x'): 132, ('x', 'a'): 103, ('<S>', 'j'): 2422, ('j', 'o'): 479, ('o', 's'): 504, ('e', 'p'): 83, ('j', 'u'): 202, ('u', 'l'): 301, ('<S>', 'd'): 1690, ('k', 'a'): 1731, ('e', 'e'): 1271, ('y', 't'): 104, ('d', 'l'): 60, ('c', 'k'): 316, ('n', 'z'): 145, ('z', 'i'): 364, ('a', 'g'): 168, ('d', 'a'): 1303, ('j', 'a'): 1473, ('h', 'e'): 674, ('<S>', 'x'): 134, ('x', 'i'): 102, ('i', 'm'): 427, ('e', 'i'): 818, ('<S>', 't'): 1308, ('<S>', 'f'): 417, ('f', 'a'): 242, ('n', 'd'): 704, ('r', 'g'): 76, ('a', 's'): 1118, ('s', 'h'): 1285, ('b', 'a'): 321, ('k', 'h'): 307, ('s', 'm'): 90, ('o', 'd'): 190, ('r', 's'): 190, ('g', 'h'): 360, ('s', 'y'): 215, ('y', 's'): 401, ('s', 's'): 461, ('e', 'c'): 153, ('c', 'i'): 271, ('m', 'o'): 452, ('r', 'k'): 90, ('n', 'l'): 195, ('d', 'n'): 31, ('r', 'd'): 187, ('o', 'i'): 69, ('t', 'r'): 352, ('m', 'b'): 112, ('r', 'm'): 162, ('n', 'y'): 465, ('d', 'o'): 378, ('o', 'a'): 149, ('o', 'c'): 114, ('m', 'y'): 287, ('s', 'u'): 185, ('m', 'c'): 51, ('p', 'r'): 151, ('o', 'u'): 275, ('r', 'n'): 140, ('w', 'a'): 280, ('e', 'b'): 121, ('c', 'c'): 42, ('a', 'w'): 161, ('w', 'y'): 73, ('y', 'e'): 301, ('e', 'o'): 269, ('a', 'k'): 568, ('n', 'g'): 273, ('k', 'o'): 344, ('b', 'l'): 103, ('h', 'o'): 287, ('e', 'g'): 125, ('f', 'r'): 114, ('s', 'p'): 51, ('l', 's'): 94, ('y', 'z'): 78, ('g', 'g'): 25, ('z', 'u'): 73, ('i', 'd'): 440, ('m', '<E>'): 516, ('o', 'g'): 44, ('j', 'e'): 440, ('g', 'n'): 27, ('y', 'r'): 291, ('c', '<E>'): 97, ('c', 'q'): 11, ('u', 'e'): 169, ('i', 'f'): 101, ('f', 'e'): 123, ('i', 'x'): 89, ('x', '<E>'): 164, ('o', 'y'): 103, ('g', 'o'): 83, ('g', 't'): 31, ('l', 't'): 77, ('g', 'w'): 26, ('w', 'e'): 149, ('l', 'd'): 138, ('a', 'p'): 82, ('h', 'n'): 138, ('t', 'l'): 134, ('m', 'r'): 97, ('n', 'c'): 213, ('l', 'b'): 52, ('i', 'k'): 445, ('<S>', 'y'): 535, ('t', 'z'): 105, ('h', 'r'): 204, ('j', 'i'): 119, ('h', 't'): 71, ('r', 'r'): 425, ('z', 'l'): 123, ('w', 'r'): 22, ('b', 'b'): 38, ('r', 't'): 208, ('l', 'v'): 72, ('e', 'j'): 55, ('o', 'h'): 171, ('u', 's'): 474, ('i', 'b'): 110, ('g', 'l'): 32, ('h', 'y'): 213, ('p', 'o'): 59, ('p', 'p'): 39, ('p', 'y'): 12, ('n', 'r'): 44, ('z', 'm'): 35, ('v', 'o'): 153, ('l', 'm'): 60, ('o', 'x'): 45, ('d', '<E>'): 516, ('i', 'u'): 109, ('v', '<E>'): 88, ('f', 'f'): 44, ('b', 'o'): 105, ('e', 'k'): 178, ('c', 'r'): 76, ('d', 'g'): 25, ('r', 'c'): 99, ('r', 'h'): 121, ('n', 'k'): 58, ('h', 'u'): 166, ('d', 's'): 29, ('a', 'x'): 182, ('y', 'c'): 115, ('e', 'w'): 50, ('v', 'k'): 3, ('z', 'h'): 43, ('w', 'h'): 23, ('t', 'n'): 22, ('x', 'l'): 39, ('g', 'u'): 85, ('u', 'a'): 163, ('u', 'p'): 16, ('u', 'g'): 47, ('d', 'u'): 92, ('l', 'c'): 25, ('r', 'b'): 41, ('a', 'q'): 60, ('b', '<E>'): 114, ('g', 'y'): 31, ('y', 'p'): 15, ('p', 't'): 17, ('e', 'z'): 181, ('z', 'r'): 32, ('f', 'l'): 20, ('o', '<E>'): 855, ('o', 'b'): 140, ('u', 'z'): 45, ('z', '<E>'): 160, ('i', 'q'): 52, ('y', 'v'): 106, ('n', 'v'): 55, ('d', 'h'): 118, ('g', 'd'): 19, ('t', 's'): 35, ('n', 'h'): 26, ('y', 'j'): 23, ('k', 'r'): 109, ('z', 'b'): 4, ('g', '<E>'): 108, ('a', 'j'): 175, ('r', 'j'): 25, ('m', 'p'): 38, ('p', 'b'): 2, ('y', 'o'): 271, ('z', 'y'): 147, ('p', 'l'): 16, ('l', 'k'): 24, ('i', 'j'): 76, ('x', 'e'): 36, ('y', 'u'): 141, ('l', 'n'): 14, ('u', 'x'): 34, ('i', 'h'): 95, ('w', 's'): 20, ('k', 's'): 95, ('m', 'u'): 139, ('y', 'k'): 86, ('e', 'f'): 82, ('k', '<E>'): 363, ('y', 'm'): 148, ('z', 'z'): 45, ('m', 'd'): 24, ('s', 'r'): 55, ('e', 'u'): 69, ('l', 'h'): 19, ('a', 'f'): 134, ('r', 'w'): 21, ('n', 'u'): 96, ('v', 'r'): 48, ('m', 's'): 35, ('<S>', 'u'): 78, ('f', 's'): 6, ('y', 'b'): 27, ('x', 'o'): 41, ('g', 's'): 30, ('x', 'y'): 30, ('w', 'n'): 58, ('j', 'h'): 45, ('f', 'n'): 4, ('n', 'j'): 44, ('r', 'v'): 80, ('n', 'm'): 19, ('t', 'c'): 17, ('s', 'w'): 24, ('k', 't'): 17, ('f', 't'): 18, ('x', 't'): 70, ('u', 'v'): 37, ('k', 'k'): 20, ('s', 'n'): 24, ('u', '<E>'): 155, ('j', 'r'): 11, ('y', 'x'): 28, ('h', 'm'): 117, ('e', 'q'): 14, ('u', 'o'): 10, ('f', '<E>'): 80, ('h', 'z'): 20, ('h', 'k'): 29, ('y', 'g'): 30, ('q', 'r'): 1, ('v', 'n'): 8, ('s', 'd'): 9, ('y', 'i'): 192, ('n', 'w'): 11, ('d', 'v'): 17, ('h', 'v'): 39, ('x', 'w'): 3, ('o', 'z'): 54, ('k', 'u'): 50, ('u', 'h'): 58, ('k', 'n'): 26, ('s', 'b'): 21, ('i', 'i'): 82, ('y', 'y'): 23, ('r', 'z'): 23, ('l', 'g'): 6, ('l', 'p'): 15, ('p', '<E>'): 33, ('b', 'u'): 45, ('f', 'u'): 10, ('b', 'h'): 41, ('f', 'y'): 14, ('u', 'w'): 86, ('x', 'u'): 5, ('q', '<E>'): 28, ('l', 'r'): 18, ('m', 'h'): 5, ('l', 'w'): 16, ('j', '<E>'): 71, ('s', 'v'): 14, ('m', 'l'): 5, ('n', 'f'): 11, ('u', 'j'): 14, ('f', 'o'): 60, ('j', 'l'): 9, ('t', 'g'): 2, ('j', 'm'): 5, ('v', 'v'): 7, ('p', 's'): 16, ('t', 'w'): 11, ('x', 'c'): 4, ('u', 'k'): 93, ('v', 'l'): 14, ('h', 'd'): 24, ('l', 'z'): 10, ('k', 'w'): 34, ('n', 'b'): 8, ('q', 's'): 2, ('i', 'w'): 8, ('c', 's'): 5, ('h', 's'): 31, ('m', 't'): 4, ('h', 'w'): 10, ('x', 'x'): 38, ('t', 'x'): 2, ('d', 'z'): 1, ('x', 'z'): 19, ('t', 'm'): 4, ('t', 'j'): 3, ('u', 'q'): 10, ('q', 'a'): 13, ('f', 'k'): 2, ('z', 'n'): 4, ('l', 'j'): 6, ('j', 'w'): 6, ('v', 'u'): 7, ('c', 'j'): 3, ('h', 'b'): 8, ('z', 't'): 4, ('p', 'u'): 4, ('m', 'z'): 11, ('x', 's'): 31, ('b', 't'): 2, ('u', 'y'): 13, ('d', 'j'): 9, ('j', 's'): 7, ('w', 'u'): 25, ('o', 'j'): 16, ('b', 's'): 8, ('d', 'w'): 23, ('w', 'o'): 36, ('j', 'n'): 2, ('w', 't'): 8, ('l', 'f'): 22, ('d', 'm'): 30, ('p', 'j'): 1, ('j', 'y'): 10, ('y', 'f'): 12, ('q', 'i'): 13, ('j', 'v'): 5, ('q', 'l'): 1, ('s', 'z'): 10, ('k', 'm'): 9, ('w', 'l'): 13, ('p', 'f'): 1, ('q', 'w'): 3, ('n', 'x'): 6, ('k', 'c'): 2, ('t', 'v'): 15, ('c', 'u'): 35, ('z', 'k'): 2, ('c', 'z'): 4, ('y', 'q'): 6, ('y', 'h'): 22, ('r', 'f'): 9, ('s', 'j'): 2, ('h', 'j'): 9, ('g', 'b'): 3, ('u', 'f'): 19, ('s', 'f'): 2, ('q', 'e'): 1, ('b', 'c'): 1, ('c', 'd'): 1, ('z', 'j'): 2, ('n', 'q'): 2, ('m', 'f'): 1, ('p', 'n'): 1, ('f', 'z'): 2, ('b', 'n'): 4, ('w', 'd'): 8, ('w', 'b'): 1, ('b', 'd'): 65, ('z', 's'): 4, ('p', 'c'): 1, ('h', 'g'): 2, ('m', 'j'): 7, ('w', 'w'): 2, ('k', 'j'): 2, ('h', 'p'): 1, ('j', 'k'): 2, ('o', 'q'): 3, ('f', 'w'): 4, ('f', 'h'): 1, ('w', 'm'): 2, ('b', 'j'): 1, ('r', 'q'): 16, ('z', 'c'): 2, ('z', 'v'): 2, ('f', 'g'): 1, ('n', 'p'): 5, ('z', 'g'): 1, ('d', 't'): 4, ('w', 'f'): 2, ('d', 'f'): 5, ('w', 'k'): 6, ('q', 'm'): 2, ('k', 'z'): 2, ('j', 'j'): 2, ('c', 'p'): 1, ('p', 'k'): 1, ('p', 'm'): 1, ('j', 'd'): 4, ('r', 'x'): 3, ('x', 'n'): 1, ('d', 'c'): 3, ('g', 'j'): 3, ('x', 'f'): 3, ('j', 'c'): 4, ('s', 'q'): 1, ('k', 'f'): 1, ('z', 'p'): 2, ('j', 't'): 2, ('k', 'b'): 2, ('m', 'k'): 1, ('m', 'w'): 2, ('x', 'h'): 1, ('h', 'f'): 2, ('x', 'd'): 5, ('y', 'w'): 4, ('z', 'w'): 3, ('d', 'k'): 3, ('c', 'g'): 2, ('u', 'u'): 3, ('t', 'f'): 2, ('g', 'm'): 6, ('m', 'v'): 3, ('c', 'x'): 3, ('h', 'c'): 2, ('g', 'f'): 1, ('q', 'o'): 2, ('l', 'q'): 3, ('v', 'b'): 1, ('j', 'p'): 1, ('k', 'd'): 2, ('g', 'z'): 1, ('v', 'd'): 1, ('d', 'b'): 1, ('v', 'h'): 1, ('k', 'v'): 2, ('h', 'h'): 1, ('s', 'g'): 2, ('g', 'v'): 1, ('d', 'q'): 1, ('x', 'b'): 1, ('w', 'z'): 1, ('h', 'q'): 1, ('j', 'b'): 1, ('z', 'd'): 2, ('x', 'm'): 1, ('w', 'g'): 1, ('t', 'b'): 1, ('z', 'x'): 1}\n"
          ]
        }
      ]
    },
    {
      "cell_type": "code",
      "source": [
        "sorted(b.items(), key = lambda k : -k[1])"
      ],
      "metadata": {
        "id": "nzwYDq08Z3d2"
      },
      "execution_count": null,
      "outputs": []
    },
    {
      "cell_type": "code",
      "source": [
        "import torch\n",
        "\n",
        "N = torch.zeros((27, 27), dtype = torch.int32)"
      ],
      "metadata": {
        "id": "FfbysF2aaXUZ"
      },
      "execution_count": 51,
      "outputs": []
    },
    {
      "cell_type": "code",
      "source": [
        "chrs = sorted(list(set(''.join(words))))\n",
        "stoi = {s: i + 1 for i,s in enumerate(chrs)}\n",
        "stoi['.'] = 0\n",
        "itos = {i:s for s, i in stoi.items()}"
      ],
      "metadata": {
        "id": "273Nm4VreqW-"
      },
      "execution_count": 52,
      "outputs": []
    },
    {
      "cell_type": "code",
      "source": [
        "for x in words:\n",
        "  x = ['.'] + list(x) + ['.']\n",
        "  for i,j in zip(x, x[1:]):\n",
        "    ii = stoi[i]\n",
        "    ji = stoi[j]\n",
        "    N[ii, ji] += 1"
      ],
      "metadata": {
        "id": "Ln1AauVicjK9"
      },
      "execution_count": 58,
      "outputs": []
    },
    {
      "cell_type": "code",
      "source": [
        "import matplotlib.pyplot as plt\n",
        "\n",
        "plt.imshow(N)"
      ],
      "metadata": {
        "colab": {
          "base_uri": "https://localhost:8080/",
          "height": 448
        },
        "id": "b-MMgZD9hNXS",
        "outputId": "a7cf1fc3-710b-4897-c24c-b2aeb2f777bc"
      },
      "execution_count": 54,
      "outputs": [
        {
          "output_type": "execute_result",
          "data": {
            "text/plain": [
              "<matplotlib.image.AxesImage at 0x7df96ef4a7a0>"
            ]
          },
          "metadata": {},
          "execution_count": 54
        },
        {
          "output_type": "display_data",
          "data": {
            "text/plain": [
              "<Figure size 640x480 with 1 Axes>"
            ],
            "image/png": "[encoded data removed]"
          },
          "metadata": {}
        }
      ]
    },
    {
      "cell_type": "code",
      "source": [
        "P = N.float()\n",
        "P = P / P.sum(1, keepdim = True)"
      ],
      "metadata": {
        "id": "U8gQCyMNiy47"
      },
      "execution_count": 85,
      "outputs": []
    },
    {
      "cell_type": "code",
      "source": [
        "P[0].sum()"
      ],
      "metadata": {
        "colab": {
          "base_uri": "https://localhost:8080/"
        },
        "id": "9S1W3AaWo9jB",
        "outputId": "e649eefe-6fea-48e9-ce7a-6dd651ed4c2c"
      },
      "execution_count": 87,
      "outputs": [
        {
          "output_type": "execute_result",
          "data": {
            "text/plain": [
              "tensor(1.)"
            ]
          },
          "metadata": {},
          "execution_count": 87
        }
      ]
    },
    {
      "cell_type": "code",
      "source": [
        "g = torch.Generator().manual_seed(2147483647)\n",
        "for i in range(10):\n",
        "  ix = 0\n",
        "  out = []\n",
        "  while True:\n",
        "    p = P[ix]\n",
        "    ix = torch.multinomial(p, num_samples = 1, replacement = True, generator = g).item()\n",
        "    out.append(itos[ix])\n",
        "    if ix == 0:\n",
        "      break\n",
        "  print(''.join(out))"
      ],
      "metadata": {
        "colab": {
          "base_uri": "https://localhost:8080/"
        },
        "id": "4oY4qW-qeNj_",
        "outputId": "2e01a290-4b06-4afa-da80-63e3aa93606a"
      },
      "execution_count": 89,
      "outputs": [
        {
          "output_type": "stream",
          "name": "stdout",
          "text": [
            "junide.\n",
            "janasah.\n",
            "p.\n",
            "cony.\n",
            "a.\n",
            "nn.\n",
            "kohin.\n",
            "tolian.\n",
            "juee.\n",
            "ksahnaauranilevias.\n"
          ]
        }
      ]
    }
  ]
}
