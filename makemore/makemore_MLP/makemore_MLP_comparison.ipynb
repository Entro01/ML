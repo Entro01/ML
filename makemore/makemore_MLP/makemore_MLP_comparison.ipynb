{
  "nbformat": 4,
  "nbformat_minor": 0,
  "metadata": {
    "colab": {
      "provenance": [],
      "authorship_tag": "ABX9TyOk+qGKkCiIrzdpjtfsZy5M",
      "include_colab_link": true
    },
    "kernelspec": {
      "name": "python3",
      "display_name": "Python 3"
    },
    "language_info": {
      "name": "python"
    }
  },
  "cells": [
    {
      "cell_type": "markdown",
      "metadata": {
        "id": "view-in-github",
        "colab_type": "text"
      },
      "source": [
        "<a href=\"https://colab.research.google.com/github/Entro01/ML-starter/blob/main/makemore/makemore_MLP/makemore_MLP_comparison.ipynb\" target=\"_parent\"><img src=\"https://colab.research.google.com/assets/colab-badge.svg\" alt=\"Open In Colab\"/></a>"
      ]
    },
    {
      "cell_type": "code",
      "execution_count": 1,
      "metadata": {
        "id": "r2i3cz48oclB"
      },
      "outputs": [],
      "source": [
        "import torch\n",
        "import matplotlib.pyplot as plt\n",
        "import torch.nn.functional as F"
      ]
    },
    {
      "cell_type": "code",
      "source": [
        "words = open('names.txt', 'r').read().splitlines()\n",
        "max(len(w) for w in words)"
      ],
      "metadata": {
        "colab": {
          "base_uri": "https://localhost:8080/"
        },
        "id": "dkC0-naron28",
        "outputId": "313af5fa-6070-44c4-8620-e55cc5f43908"
      },
      "execution_count": 5,
      "outputs": [
        {
          "output_type": "execute_result",
          "data": {
            "text/plain": [
              "15"
            ]
          },
          "metadata": {},
          "execution_count": 5
        }
      ]
    },
    {
      "cell_type": "code",
      "source": [
        "# building the vocabulary of characters\n",
        "\n",
        "chrs = sorted(list(set(''.join(words))))\n",
        "stoi = {s: i + 1 for i,s in enumerate(chrs)}\n",
        "stoi['.'] = 0\n",
        "itos = {i:s for s, i in stoi.items()}\n",
        "vocab_size = len(itos)\n",
        "vocab_size"
      ],
      "metadata": {
        "colab": {
          "base_uri": "https://localhost:8080/"
        },
        "id": "-FnES62boqCQ",
        "outputId": "249a1b83-63ba-4485-e4eb-d24f9987d59d"
      },
      "execution_count": 7,
      "outputs": [
        {
          "output_type": "execute_result",
          "data": {
            "text/plain": [
              "27"
            ]
          },
          "metadata": {},
          "execution_count": 7
        }
      ]
    },
    {
      "cell_type": "code",
      "source": [
        "# building the dataset\n",
        "\n",
        "block_size = 15\n",
        "\n",
        "def build_dataset(words):\n",
        "  X, Y = [], []\n",
        "  for w in words:\n",
        "    context = [0] * block_size\n",
        "    for ch in w + '.':\n",
        "      ix = stoi[ch]\n",
        "      X.append(context)\n",
        "      Y.append(ix)\n",
        "      context = context[1:] + [ix]\n",
        "  X = torch.tensor(X)\n",
        "  Y = torch.tensor(Y)\n",
        "  print(X.shape, Y.shape)\n",
        "  return X, Y\n",
        "\n",
        "import random\n",
        "random.seed(42)\n",
        "random.shuffle(words)\n",
        "n1 = int(0.8 * len(words))\n",
        "n2 = int(0.9 * len(words))\n",
        "\n",
        "Xtr, Ytr = build_dataset(words[:n1])\n",
        "Xdev, Ydev = build_dataset(words[n1:n2])\n",
        "Xte, Yte = build_dataset(words[n2:])"
      ],
      "metadata": {
        "colab": {
          "base_uri": "https://localhost:8080/"
        },
        "id": "zXD5wDnSpV5M",
        "outputId": "00ac2ecb-b7bf-4726-e35d-c16795c1f73d"
      },
      "execution_count": 8,
      "outputs": [
        {
          "output_type": "stream",
          "name": "stdout",
          "text": [
            "torch.Size([182580, 15]) torch.Size([182580])\n",
            "torch.Size([22767, 15]) torch.Size([22767])\n",
            "torch.Size([22799, 15]) torch.Size([22799])\n"
          ]
        }
      ]
    },
    {
      "cell_type": "code",
      "source": [
        "n_embd = 10 # dimensionality of the character embedding vectors\n",
        "n_hidden = 200 # no. of neurons in the hiddlen layer\n",
        "\n",
        "g = torch.Generator().manual_seed(2147483647)\n",
        "C = torch.randn(vocab_size, n_embd, generator = g)\n",
        "W1 = torch.randn(block_size * n_embd, n_hidden, generator = g)\n",
        "B1 = torch.randn(n_hidden, generator = g)\n",
        "W2 = torch.randn(n_hidden, vocab_size, generator = g)\n",
        "B2 = torch.randn(vocab_size, generator = g)\n",
        "\n",
        "parameters= [C, W1, B1, W2, B2]\n",
        "print(sum(p.nelement() for p in parameters)) # total parameters\n",
        "\n",
        "for p in parameters:\n",
        "  p.requires_grad = True"
      ],
      "metadata": {
        "colab": {
          "base_uri": "https://localhost:8080/"
        },
        "id": "TvtKi7rUpaOX",
        "outputId": "53cb2724-6c26-47f0-acaa-85f9861bccda"
      },
      "execution_count": 9,
      "outputs": [
        {
          "output_type": "stream",
          "name": "stdout",
          "text": [
            "35897\n"
          ]
        }
      ]
    },
    {
      "cell_type": "code",
      "source": [
        "max_steps = 200000\n",
        "batch_size = 32\n",
        "lossi = []\n",
        "\n",
        "for i in range(max_steps):\n",
        "\n",
        "  # creating a mini batch\n",
        "  ix = torch.randint(0, Xtr.shape[0], (batch_size,), generator = g)\n",
        "  Xb, Yb = Xtr[ix], Ytr[ix] # batch X, Y\n",
        "\n",
        "  # forward pass\n",
        "  emb = C[Xb] # embed the characters into vectors\n",
        "  embcat = emb.view(emb.shape[0], block_size * n_embd) # concatenating vectors\n",
        "  hpreact = embcat @ W1 + B1 # hidden layer pre-activation\n",
        "  h = torch.tanh(hpreact) # hidden layer\n",
        "  logits = h @ W2 + B2 # output layer\n",
        "  loss = F.cross_entropy(logits, Yb) # loss function\n",
        "\n",
        "  # backward pass\n",
        "  for p in parameters:\n",
        "    p.grad = None\n",
        "  loss.backward()\n",
        "\n",
        "  # update\n",
        "  lr = 0.1 if i < 100000 else 0.01 # step learning rate decay\n",
        "  for p in parameters:\n",
        "    p.data += -lr * p.grad\n",
        "\n",
        "  # track stats\n",
        "  if i % 10000 == 0:\n",
        "    print(f'{i:7d}/{max_steps:7d}: {loss.item():.4f}')\n",
        "  lossi.append(loss.log10().item())\n",
        "\n",
        "print(\"loss: \", loss.item())"
      ],
      "metadata": {
        "colab": {
          "base_uri": "https://localhost:8080/"
        },
        "id": "5mer9I-Sph4c",
        "outputId": "661f15b3-a029-4951-aa6e-3f9dc678793b"
      },
      "execution_count": 10,
      "outputs": [
        {
          "output_type": "stream",
          "name": "stdout",
          "text": [
            "      0/ 200000: 33.9889\n",
            "  10000/ 200000: 4.1343\n",
            "  20000/ 200000: 2.7378\n",
            "  30000/ 200000: 2.7106\n",
            "  40000/ 200000: 3.1223\n",
            "  50000/ 200000: 3.0420\n",
            "  60000/ 200000: 3.4094\n",
            "  70000/ 200000: 3.3833\n",
            "  80000/ 200000: 2.9036\n",
            "  90000/ 200000: 3.4433\n",
            " 100000/ 200000: 3.7778\n",
            " 110000/ 200000: 2.3009\n",
            " 120000/ 200000: 2.0222\n",
            " 130000/ 200000: 2.5106\n",
            " 140000/ 200000: 2.6826\n",
            " 150000/ 200000: 2.6425\n",
            " 160000/ 200000: 2.3775\n",
            " 170000/ 200000: 2.5416\n",
            " 180000/ 200000: 2.8144\n",
            " 190000/ 200000: 2.2388\n",
            "loss:  2.7617239952087402\n"
          ]
        }
      ]
    },
    {
      "cell_type": "code",
      "source": [
        "plt.plot(lossi)"
      ],
      "metadata": {
        "colab": {
          "base_uri": "https://localhost:8080/",
          "height": 448
        },
        "id": "fVmLoomrpkUb",
        "outputId": "19a826c5-1a37-4eec-a49c-e11d9e51ccb7"
      },
      "execution_count": 11,
      "outputs": [
        {
          "output_type": "execute_result",
          "data": {
            "text/plain": [
              "[<matplotlib.lines.Line2D at 0x786a3bd80d30>]"
            ]
          },
          "metadata": {},
          "execution_count": 11
        },
        {
          "output_type": "display_data",
          "data": {
            "text/plain": [
              "<Figure size 640x480 with 1 Axes>"
            ],
            "image/png": "[encoded data removed]"
          },
          "metadata": {}
        }
      ]
    },
    {
      "cell_type": "code",
      "source": [],
      "metadata": {
        "id": "lzL-BXS7qTmA"
      },
      "execution_count": null,
      "outputs": []
    }
  ]
}