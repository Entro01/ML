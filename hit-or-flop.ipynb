{
 "cells": [
  {
   "cell_type": "code",
   "execution_count": 1,
   "id": "d2b2a7c0",
   "metadata": {
    "_cell_guid": "b1076dfc-b9ad-4769-8c92-a6c4dae69d19",
    "_uuid": "8f2839f25d086af736a60e9eeb907d3b93b6e0e5",
    "execution": {
     "iopub.execute_input": "2023-12-27T05:36:08.021256Z",
     "iopub.status.busy": "2023-12-27T05:36:08.020912Z",
     "iopub.status.idle": "2023-12-27T05:36:09.364361Z",
     "shell.execute_reply": "2023-12-27T05:36:09.363072Z"
    },
    "papermill": {
     "duration": 1.361932,
     "end_time": "2023-12-27T05:36:09.366581",
     "exception": false,
     "start_time": "2023-12-27T05:36:08.004649",
     "status": "completed"
    },
    "tags": []
   },
   "outputs": [
    {
     "name": "stdout",
     "output_type": "stream",
     "text": [
      "/kaggle/input/tmdb-movies-dataset/tmdb_movies_data.csv\n"
     ]
    }
   ],
   "source": [
    "# This Python 3 environment comes with many helpful analytics libraries installed\n",
    "# It is defined by the kaggle/python Docker image: https://github.com/kaggle/docker-python\n",
    "# For example, here's several helpful packages to load\n",
    "\n",
    "import numpy as np # linear algebra\n",
    "import pandas as pd # data processing, CSV file I/O (e.g. pd.read_csv)\n",
    "import matplotlib.pyplot as plt\n",
    "import seaborn as sns\n",
    "\n",
    "# Input data files are available in the read-only \"../input/\" directory\n",
    "# For example, running this (by clicking run or pressing Shift+Enter) will list all files under the input directory\n",
    "\n",
    "import os\n",
    "for dirname, _, filenames in os.walk('/kaggle/input'):\n",
    "    for filename in filenames:\n",
    "        print(os.path.join(dirname, filename))\n",
    "\n",
    "# You can write up to 20GB to the current directory (/kaggle/working/) that gets preserved as output when you create a version using \"Save & Run All\" \n",
    "# You can also write temporary files to /kaggle/temp/, but they won't be saved outside of the current session"
   ]
  },
  {
   "cell_type": "code",
   "execution_count": 2,
   "id": "e2884c99",
   "metadata": {
    "execution": {
     "iopub.execute_input": "2023-12-27T05:36:09.395451Z",
     "iopub.status.busy": "2023-12-27T05:36:09.394486Z",
     "iopub.status.idle": "2023-12-27T05:36:09.399082Z",
     "shell.execute_reply": "2023-12-27T05:36:09.398020Z"
    },
    "papermill": {
     "duration": 0.020014,
     "end_time": "2023-12-27T05:36:09.400775",
     "exception": false,
     "start_time": "2023-12-27T05:36:09.380761",
     "status": "completed"
    },
    "tags": []
   },
   "outputs": [],
   "source": [
    "# Im trying to build a model that takes in the name of a cast member, director and genre and predicts weather their next project is going to be a hit or a flop."
   ]
  },
  {
   "cell_type": "code",
   "execution_count": 3,
   "id": "4d930840",
   "metadata": {
    "execution": {
     "iopub.execute_input": "2023-12-27T05:36:09.429806Z",
     "iopub.status.busy": "2023-12-27T05:36:09.429445Z",
     "iopub.status.idle": "2023-12-27T05:36:09.667750Z",
     "shell.execute_reply": "2023-12-27T05:36:09.666585Z"
    },
    "papermill": {
     "duration": 0.256681,
     "end_time": "2023-12-27T05:36:09.670128",
     "exception": false,
     "start_time": "2023-12-27T05:36:09.413447",
     "status": "completed"
    },
    "tags": []
   },
   "outputs": [],
   "source": [
    "df = pd.read_csv('/kaggle/input/tmdb-movies-dataset/tmdb_movies_data.csv')"
   ]
  },
  {
   "cell_type": "code",
   "execution_count": 4,
   "id": "11ea8204",
   "metadata": {
    "execution": {
     "iopub.execute_input": "2023-12-27T05:36:09.696286Z",
     "iopub.status.busy": "2023-12-27T05:36:09.695956Z",
     "iopub.status.idle": "2023-12-27T05:36:09.714978Z",
     "shell.execute_reply": "2023-12-27T05:36:09.714062Z"
    },
    "papermill": {
     "duration": 0.033861,
     "end_time": "2023-12-27T05:36:09.716773",
     "exception": false,
     "start_time": "2023-12-27T05:36:09.682912",
     "status": "completed"
    },
    "tags": []
   },
   "outputs": [],
   "source": [
    "#dropping irrelevant columns\n",
    "df = df.drop(['id', 'imdb_id', 'original_title', 'homepage', 'tagline', 'keywords', 'overview', 'runtime', 'production_companies', 'release_date', 'release_year', 'budget_adj', 'revenue_adj'], axis=1)"
   ]
  },
  {
   "cell_type": "code",
   "execution_count": 5,
   "id": "b271589a",
   "metadata": {
    "execution": {
     "iopub.execute_input": "2023-12-27T05:36:09.746289Z",
     "iopub.status.busy": "2023-12-27T05:36:09.745775Z",
     "iopub.status.idle": "2023-12-27T05:36:09.764229Z",
     "shell.execute_reply": "2023-12-27T05:36:09.763255Z"
    },
    "papermill": {
     "duration": 0.03526,
     "end_time": "2023-12-27T05:36:09.766021",
     "exception": false,
     "start_time": "2023-12-27T05:36:09.730761",
     "status": "completed"
    },
    "tags": []
   },
   "outputs": [
    {
     "data": {
      "text/html": [
       "<div>\n",
       "<style scoped>\n",
       "    .dataframe tbody tr th:only-of-type {\n",
       "        vertical-align: middle;\n",
       "    }\n",
       "\n",
       "    .dataframe tbody tr th {\n",
       "        vertical-align: top;\n",
       "    }\n",
       "\n",
       "    .dataframe thead th {\n",
       "        text-align: right;\n",
       "    }\n",
       "</style>\n",
       "<table border=\"1\" class=\"dataframe\">\n",
       "  <thead>\n",
       "    <tr style=\"text-align: right;\">\n",
       "      <th></th>\n",
       "      <th>popularity</th>\n",
       "      <th>budget</th>\n",
       "      <th>revenue</th>\n",
       "      <th>cast</th>\n",
       "      <th>director</th>\n",
       "      <th>genres</th>\n",
       "      <th>vote_count</th>\n",
       "      <th>vote_average</th>\n",
       "    </tr>\n",
       "  </thead>\n",
       "  <tbody>\n",
       "    <tr>\n",
       "      <th>0</th>\n",
       "      <td>32.985763</td>\n",
       "      <td>150000000</td>\n",
       "      <td>1513528810</td>\n",
       "      <td>Chris Pratt|Bryce Dallas Howard|Irrfan Khan|Vi...</td>\n",
       "      <td>Colin Trevorrow</td>\n",
       "      <td>Action|Adventure|Science Fiction|Thriller</td>\n",
       "      <td>5562</td>\n",
       "      <td>6.5</td>\n",
       "    </tr>\n",
       "    <tr>\n",
       "      <th>1</th>\n",
       "      <td>28.419936</td>\n",
       "      <td>150000000</td>\n",
       "      <td>378436354</td>\n",
       "      <td>Tom Hardy|Charlize Theron|Hugh Keays-Byrne|Nic...</td>\n",
       "      <td>George Miller</td>\n",
       "      <td>Action|Adventure|Science Fiction|Thriller</td>\n",
       "      <td>6185</td>\n",
       "      <td>7.1</td>\n",
       "    </tr>\n",
       "    <tr>\n",
       "      <th>2</th>\n",
       "      <td>13.112507</td>\n",
       "      <td>110000000</td>\n",
       "      <td>295238201</td>\n",
       "      <td>Shailene Woodley|Theo James|Kate Winslet|Ansel...</td>\n",
       "      <td>Robert Schwentke</td>\n",
       "      <td>Adventure|Science Fiction|Thriller</td>\n",
       "      <td>2480</td>\n",
       "      <td>6.3</td>\n",
       "    </tr>\n",
       "    <tr>\n",
       "      <th>3</th>\n",
       "      <td>11.173104</td>\n",
       "      <td>200000000</td>\n",
       "      <td>2068178225</td>\n",
       "      <td>Harrison Ford|Mark Hamill|Carrie Fisher|Adam D...</td>\n",
       "      <td>J.J. Abrams</td>\n",
       "      <td>Action|Adventure|Science Fiction|Fantasy</td>\n",
       "      <td>5292</td>\n",
       "      <td>7.5</td>\n",
       "    </tr>\n",
       "    <tr>\n",
       "      <th>4</th>\n",
       "      <td>9.335014</td>\n",
       "      <td>190000000</td>\n",
       "      <td>1506249360</td>\n",
       "      <td>Vin Diesel|Paul Walker|Jason Statham|Michelle ...</td>\n",
       "      <td>James Wan</td>\n",
       "      <td>Action|Crime|Thriller</td>\n",
       "      <td>2947</td>\n",
       "      <td>7.3</td>\n",
       "    </tr>\n",
       "  </tbody>\n",
       "</table>\n",
       "</div>"
      ],
      "text/plain": [
       "   popularity     budget     revenue  \\\n",
       "0   32.985763  150000000  1513528810   \n",
       "1   28.419936  150000000   378436354   \n",
       "2   13.112507  110000000   295238201   \n",
       "3   11.173104  200000000  2068178225   \n",
       "4    9.335014  190000000  1506249360   \n",
       "\n",
       "                                                cast          director  \\\n",
       "0  Chris Pratt|Bryce Dallas Howard|Irrfan Khan|Vi...   Colin Trevorrow   \n",
       "1  Tom Hardy|Charlize Theron|Hugh Keays-Byrne|Nic...     George Miller   \n",
       "2  Shailene Woodley|Theo James|Kate Winslet|Ansel...  Robert Schwentke   \n",
       "3  Harrison Ford|Mark Hamill|Carrie Fisher|Adam D...       J.J. Abrams   \n",
       "4  Vin Diesel|Paul Walker|Jason Statham|Michelle ...         James Wan   \n",
       "\n",
       "                                      genres  vote_count  vote_average  \n",
       "0  Action|Adventure|Science Fiction|Thriller        5562           6.5  \n",
       "1  Action|Adventure|Science Fiction|Thriller        6185           7.1  \n",
       "2         Adventure|Science Fiction|Thriller        2480           6.3  \n",
       "3   Action|Adventure|Science Fiction|Fantasy        5292           7.5  \n",
       "4                      Action|Crime|Thriller        2947           7.3  "
      ]
     },
     "execution_count": 5,
     "metadata": {},
     "output_type": "execute_result"
    }
   ],
   "source": [
    "df.head()"
   ]
  },
  {
   "cell_type": "code",
   "execution_count": 6,
   "id": "58249859",
   "metadata": {
    "execution": {
     "iopub.execute_input": "2023-12-27T05:36:09.793165Z",
     "iopub.status.busy": "2023-12-27T05:36:09.792842Z",
     "iopub.status.idle": "2023-12-27T05:36:09.801997Z",
     "shell.execute_reply": "2023-12-27T05:36:09.801175Z"
    },
    "papermill": {
     "duration": 0.024908,
     "end_time": "2023-12-27T05:36:09.803755",
     "exception": false,
     "start_time": "2023-12-27T05:36:09.778847",
     "status": "completed"
    },
    "tags": []
   },
   "outputs": [
    {
     "data": {
      "text/plain": [
       "popularity       0\n",
       "budget           0\n",
       "revenue          0\n",
       "cast            76\n",
       "director        44\n",
       "genres          23\n",
       "vote_count       0\n",
       "vote_average     0\n",
       "dtype: int64"
      ]
     },
     "execution_count": 6,
     "metadata": {},
     "output_type": "execute_result"
    }
   ],
   "source": [
    "df.isnull().sum()"
   ]
  },
  {
   "cell_type": "code",
   "execution_count": 7,
   "id": "d24563ba",
   "metadata": {
    "execution": {
     "iopub.execute_input": "2023-12-27T05:36:09.830407Z",
     "iopub.status.busy": "2023-12-27T05:36:09.830096Z",
     "iopub.status.idle": "2023-12-27T05:36:09.836472Z",
     "shell.execute_reply": "2023-12-27T05:36:09.835447Z"
    },
    "papermill": {
     "duration": 0.021732,
     "end_time": "2023-12-27T05:36:09.838193",
     "exception": false,
     "start_time": "2023-12-27T05:36:09.816461",
     "status": "completed"
    },
    "tags": []
   },
   "outputs": [
    {
     "name": "stdout",
     "output_type": "stream",
     "text": [
      "5696 6016\n"
     ]
    }
   ],
   "source": [
    "print(df['budget'].eq(0).sum(), df['revenue'].eq(0).sum())"
   ]
  },
  {
   "cell_type": "code",
   "execution_count": 8,
   "id": "bce38e2c",
   "metadata": {
    "execution": {
     "iopub.execute_input": "2023-12-27T05:36:09.864870Z",
     "iopub.status.busy": "2023-12-27T05:36:09.864579Z",
     "iopub.status.idle": "2023-12-27T05:36:09.872994Z",
     "shell.execute_reply": "2023-12-27T05:36:09.872072Z"
    },
    "papermill": {
     "duration": 0.023561,
     "end_time": "2023-12-27T05:36:09.874843",
     "exception": false,
     "start_time": "2023-12-27T05:36:09.851282",
     "status": "completed"
    },
    "tags": []
   },
   "outputs": [],
   "source": [
    "# removing those values from the dataset where the information about budget and revenue are both absent\n",
    "df = df[~(df[['budget', 'revenue']] == 0).all(axis=1)]"
   ]
  },
  {
   "cell_type": "code",
   "execution_count": 9,
   "id": "2338f34b",
   "metadata": {
    "execution": {
     "iopub.execute_input": "2023-12-27T05:36:09.901720Z",
     "iopub.status.busy": "2023-12-27T05:36:09.901407Z",
     "iopub.status.idle": "2023-12-27T05:36:09.907625Z",
     "shell.execute_reply": "2023-12-27T05:36:09.906778Z"
    },
    "papermill": {
     "duration": 0.021511,
     "end_time": "2023-12-27T05:36:09.909329",
     "exception": false,
     "start_time": "2023-12-27T05:36:09.887818",
     "status": "completed"
    },
    "tags": []
   },
   "outputs": [
    {
     "data": {
      "text/plain": [
       "(6165, 8)"
      ]
     },
     "execution_count": 9,
     "metadata": {},
     "output_type": "execute_result"
    }
   ],
   "source": [
    "df.shape"
   ]
  },
  {
   "cell_type": "code",
   "execution_count": 10,
   "id": "869ddb21",
   "metadata": {
    "execution": {
     "iopub.execute_input": "2023-12-27T05:36:09.936412Z",
     "iopub.status.busy": "2023-12-27T05:36:09.936099Z",
     "iopub.status.idle": "2023-12-27T05:36:09.941460Z",
     "shell.execute_reply": "2023-12-27T05:36:09.940596Z"
    },
    "papermill": {
     "duration": 0.020756,
     "end_time": "2023-12-27T05:36:09.943034",
     "exception": false,
     "start_time": "2023-12-27T05:36:09.922278",
     "status": "completed"
    },
    "tags": []
   },
   "outputs": [
    {
     "name": "stdout",
     "output_type": "stream",
     "text": [
      "995 1315\n"
     ]
    }
   ],
   "source": [
    "print(df['budget'].eq(0).sum(), df['revenue'].eq(0).sum())"
   ]
  },
  {
   "cell_type": "code",
   "execution_count": 11,
   "id": "aee9da57",
   "metadata": {
    "execution": {
     "iopub.execute_input": "2023-12-27T05:36:10.016141Z",
     "iopub.status.busy": "2023-12-27T05:36:10.015763Z",
     "iopub.status.idle": "2023-12-27T05:36:10.025600Z",
     "shell.execute_reply": "2023-12-27T05:36:10.024780Z"
    },
    "papermill": {
     "duration": 0.071777,
     "end_time": "2023-12-27T05:36:10.027484",
     "exception": false,
     "start_time": "2023-12-27T05:36:09.955707",
     "status": "completed"
    },
    "tags": []
   },
   "outputs": [
    {
     "data": {
      "text/plain": [
       "count    6.165000e+03\n",
       "mean     2.577824e+07\n",
       "std      3.737512e+07\n",
       "min      0.000000e+00\n",
       "25%      1.700000e+06\n",
       "50%      1.200000e+07\n",
       "75%      3.300000e+07\n",
       "max      4.250000e+08\n",
       "Name: budget, dtype: float64"
      ]
     },
     "execution_count": 11,
     "metadata": {},
     "output_type": "execute_result"
    }
   ],
   "source": [
    "df['budget'].describe()"
   ]
  },
  {
   "cell_type": "code",
   "execution_count": 12,
   "id": "f705c0e7",
   "metadata": {
    "execution": {
     "iopub.execute_input": "2023-12-27T05:36:10.055836Z",
     "iopub.status.busy": "2023-12-27T05:36:10.055539Z",
     "iopub.status.idle": "2023-12-27T05:36:10.064218Z",
     "shell.execute_reply": "2023-12-27T05:36:10.063465Z"
    },
    "papermill": {
     "duration": 0.02461,
     "end_time": "2023-12-27T05:36:10.065987",
     "exception": false,
     "start_time": "2023-12-27T05:36:10.041377",
     "status": "completed"
    },
    "tags": []
   },
   "outputs": [
    {
     "data": {
      "text/plain": [
       "count    6.165000e+03\n",
       "mean     7.018981e+07\n",
       "std      1.483194e+08\n",
       "min      0.000000e+00\n",
       "25%      1.184830e+05\n",
       "50%      1.654948e+07\n",
       "75%      7.144125e+07\n",
       "max      2.781506e+09\n",
       "Name: revenue, dtype: float64"
      ]
     },
     "execution_count": 12,
     "metadata": {},
     "output_type": "execute_result"
    }
   ],
   "source": [
    "df['revenue'].describe()"
   ]
  },
  {
   "cell_type": "code",
   "execution_count": 13,
   "id": "083591c5",
   "metadata": {
    "execution": {
     "iopub.execute_input": "2023-12-27T05:36:10.095965Z",
     "iopub.status.busy": "2023-12-27T05:36:10.095635Z",
     "iopub.status.idle": "2023-12-27T05:36:10.366721Z",
     "shell.execute_reply": "2023-12-27T05:36:10.365826Z"
    },
    "papermill": {
     "duration": 0.28878,
     "end_time": "2023-12-27T05:36:10.369228",
     "exception": false,
     "start_time": "2023-12-27T05:36:10.080448",
     "status": "completed"
    },
    "tags": []
   },
   "outputs": [
    {
     "data": {
      "image/png": "[encoded data removed]",
      "text/plain": [
       "<Figure size 640x480 with 1 Axes>"
      ]
     },
     "metadata": {},
     "output_type": "display_data"
    }
   ],
   "source": [
    "plt.hist(df['budget'])\n",
    "plt.title('Distribution of Values in budget')\n",
    "plt.xlabel('Value')\n",
    "plt.ylabel('Frequency')\n",
    "plt.show() "
   ]
  },
  {
   "cell_type": "code",
   "execution_count": 14,
   "id": "7ee1a7ae",
   "metadata": {
    "execution": {
     "iopub.execute_input": "2023-12-27T05:36:10.400432Z",
     "iopub.status.busy": "2023-12-27T05:36:10.399615Z",
     "iopub.status.idle": "2023-12-27T05:36:10.729004Z",
     "shell.execute_reply": "2023-12-27T05:36:10.727387Z"
    },
    "papermill": {
     "duration": 0.346384,
     "end_time": "2023-12-27T05:36:10.730890",
     "exception": false,
     "start_time": "2023-12-27T05:36:10.384506",
     "status": "completed"
    },
    "tags": []
   },
   "outputs": [
    {
     "data": {
      "text/plain": [
       "<Axes: >"
      ]
     },
     "execution_count": 14,
     "metadata": {},
     "output_type": "execute_result"
    },
    {
     "data": {
      "image/png": "[encoded data removed]",
      "text/plain": [
       "<Figure size 640x480 with 1 Axes>"
      ]
     },
     "metadata": {},
     "output_type": "display_data"
    }
   ],
   "source": [
    "df[df['budget'] < 2.577824e+07]['budget'].plot.line()"
   ]
  },
  {
   "cell_type": "code",
   "execution_count": 15,
   "id": "58944852",
   "metadata": {
    "execution": {
     "iopub.execute_input": "2023-12-27T05:36:10.760278Z",
     "iopub.status.busy": "2023-12-27T05:36:10.759908Z",
     "iopub.status.idle": "2023-12-27T05:36:10.877708Z",
     "shell.execute_reply": "2023-12-27T05:36:10.876985Z"
    },
    "papermill": {
     "duration": 0.13464,
     "end_time": "2023-12-27T05:36:10.879731",
     "exception": false,
     "start_time": "2023-12-27T05:36:10.745091",
     "status": "completed"
    },
    "tags": []
   },
   "outputs": [],
   "source": [
    "# filling in null values for budget and revenue\n",
    "# since we cannot just replace the null values with the mean of the column, we are assuming that these movies made at least as much as their budget\n",
    "\n",
    "df['revenue'] = df.apply(lambda row: row['budget'] if row['revenue'] == 0 else row['revenue'], axis=1)\n",
    "df['budget'] = df.apply(lambda row: row['revenue'] if row['budget'] == 0 else row['budget'], axis=1)\n"
   ]
  },
  {
   "cell_type": "code",
   "execution_count": 16,
   "id": "bd353ab5",
   "metadata": {
    "execution": {
     "iopub.execute_input": "2023-12-27T05:36:10.909971Z",
     "iopub.status.busy": "2023-12-27T05:36:10.909503Z",
     "iopub.status.idle": "2023-12-27T05:36:10.914113Z",
     "shell.execute_reply": "2023-12-27T05:36:10.913553Z"
    },
    "papermill": {
     "duration": 0.022033,
     "end_time": "2023-12-27T05:36:10.916036",
     "exception": false,
     "start_time": "2023-12-27T05:36:10.894003",
     "status": "completed"
    },
    "tags": []
   },
   "outputs": [
    {
     "name": "stdout",
     "output_type": "stream",
     "text": [
      "0 0\n"
     ]
    }
   ],
   "source": [
    "print(df['budget'].eq(0).sum(), df['revenue'].eq(0).sum())"
   ]
  },
  {
   "cell_type": "code",
   "execution_count": 17,
   "id": "3e91bf65",
   "metadata": {
    "execution": {
     "iopub.execute_input": "2023-12-27T05:36:10.946021Z",
     "iopub.status.busy": "2023-12-27T05:36:10.945613Z",
     "iopub.status.idle": "2023-12-27T05:36:10.949410Z",
     "shell.execute_reply": "2023-12-27T05:36:10.948827Z"
    },
    "papermill": {
     "duration": 0.0208,
     "end_time": "2023-12-27T05:36:10.951418",
     "exception": false,
     "start_time": "2023-12-27T05:36:10.930618",
     "status": "completed"
    },
    "tags": []
   },
   "outputs": [],
   "source": [
    "df['profit'] = df['revenue'] / df['budget']"
   ]
  },
  {
   "cell_type": "code",
   "execution_count": 18,
   "id": "483de44e",
   "metadata": {
    "execution": {
     "iopub.execute_input": "2023-12-27T05:36:10.981297Z",
     "iopub.status.busy": "2023-12-27T05:36:10.981007Z",
     "iopub.status.idle": "2023-12-27T05:36:10.995065Z",
     "shell.execute_reply": "2023-12-27T05:36:10.993946Z"
    },
    "papermill": {
     "duration": 0.030968,
     "end_time": "2023-12-27T05:36:10.996888",
     "exception": false,
     "start_time": "2023-12-27T05:36:10.965920",
     "status": "completed"
    },
    "tags": []
   },
   "outputs": [
    {
     "data": {
      "text/html": [
       "<div>\n",
       "<style scoped>\n",
       "    .dataframe tbody tr th:only-of-type {\n",
       "        vertical-align: middle;\n",
       "    }\n",
       "\n",
       "    .dataframe tbody tr th {\n",
       "        vertical-align: top;\n",
       "    }\n",
       "\n",
       "    .dataframe thead th {\n",
       "        text-align: right;\n",
       "    }\n",
       "</style>\n",
       "<table border=\"1\" class=\"dataframe\">\n",
       "  <thead>\n",
       "    <tr style=\"text-align: right;\">\n",
       "      <th></th>\n",
       "      <th>popularity</th>\n",
       "      <th>budget</th>\n",
       "      <th>revenue</th>\n",
       "      <th>cast</th>\n",
       "      <th>director</th>\n",
       "      <th>genres</th>\n",
       "      <th>vote_count</th>\n",
       "      <th>vote_average</th>\n",
       "      <th>profit</th>\n",
       "    </tr>\n",
       "  </thead>\n",
       "  <tbody>\n",
       "    <tr>\n",
       "      <th>0</th>\n",
       "      <td>32.985763</td>\n",
       "      <td>150000000</td>\n",
       "      <td>1513528810</td>\n",
       "      <td>Chris Pratt|Bryce Dallas Howard|Irrfan Khan|Vi...</td>\n",
       "      <td>Colin Trevorrow</td>\n",
       "      <td>Action|Adventure|Science Fiction|Thriller</td>\n",
       "      <td>5562</td>\n",
       "      <td>6.5</td>\n",
       "      <td>10.090192</td>\n",
       "    </tr>\n",
       "    <tr>\n",
       "      <th>1</th>\n",
       "      <td>28.419936</td>\n",
       "      <td>150000000</td>\n",
       "      <td>378436354</td>\n",
       "      <td>Tom Hardy|Charlize Theron|Hugh Keays-Byrne|Nic...</td>\n",
       "      <td>George Miller</td>\n",
       "      <td>Action|Adventure|Science Fiction|Thriller</td>\n",
       "      <td>6185</td>\n",
       "      <td>7.1</td>\n",
       "      <td>2.522909</td>\n",
       "    </tr>\n",
       "    <tr>\n",
       "      <th>2</th>\n",
       "      <td>13.112507</td>\n",
       "      <td>110000000</td>\n",
       "      <td>295238201</td>\n",
       "      <td>Shailene Woodley|Theo James|Kate Winslet|Ansel...</td>\n",
       "      <td>Robert Schwentke</td>\n",
       "      <td>Adventure|Science Fiction|Thriller</td>\n",
       "      <td>2480</td>\n",
       "      <td>6.3</td>\n",
       "      <td>2.683984</td>\n",
       "    </tr>\n",
       "    <tr>\n",
       "      <th>3</th>\n",
       "      <td>11.173104</td>\n",
       "      <td>200000000</td>\n",
       "      <td>2068178225</td>\n",
       "      <td>Harrison Ford|Mark Hamill|Carrie Fisher|Adam D...</td>\n",
       "      <td>J.J. Abrams</td>\n",
       "      <td>Action|Adventure|Science Fiction|Fantasy</td>\n",
       "      <td>5292</td>\n",
       "      <td>7.5</td>\n",
       "      <td>10.340891</td>\n",
       "    </tr>\n",
       "    <tr>\n",
       "      <th>4</th>\n",
       "      <td>9.335014</td>\n",
       "      <td>190000000</td>\n",
       "      <td>1506249360</td>\n",
       "      <td>Vin Diesel|Paul Walker|Jason Statham|Michelle ...</td>\n",
       "      <td>James Wan</td>\n",
       "      <td>Action|Crime|Thriller</td>\n",
       "      <td>2947</td>\n",
       "      <td>7.3</td>\n",
       "      <td>7.927628</td>\n",
       "    </tr>\n",
       "  </tbody>\n",
       "</table>\n",
       "</div>"
      ],
      "text/plain": [
       "   popularity     budget     revenue  \\\n",
       "0   32.985763  150000000  1513528810   \n",
       "1   28.419936  150000000   378436354   \n",
       "2   13.112507  110000000   295238201   \n",
       "3   11.173104  200000000  2068178225   \n",
       "4    9.335014  190000000  1506249360   \n",
       "\n",
       "                                                cast          director  \\\n",
       "0  Chris Pratt|Bryce Dallas Howard|Irrfan Khan|Vi...   Colin Trevorrow   \n",
       "1  Tom Hardy|Charlize Theron|Hugh Keays-Byrne|Nic...     George Miller   \n",
       "2  Shailene Woodley|Theo James|Kate Winslet|Ansel...  Robert Schwentke   \n",
       "3  Harrison Ford|Mark Hamill|Carrie Fisher|Adam D...       J.J. Abrams   \n",
       "4  Vin Diesel|Paul Walker|Jason Statham|Michelle ...         James Wan   \n",
       "\n",
       "                                      genres  vote_count  vote_average  \\\n",
       "0  Action|Adventure|Science Fiction|Thriller        5562           6.5   \n",
       "1  Action|Adventure|Science Fiction|Thriller        6185           7.1   \n",
       "2         Adventure|Science Fiction|Thriller        2480           6.3   \n",
       "3   Action|Adventure|Science Fiction|Fantasy        5292           7.5   \n",
       "4                      Action|Crime|Thriller        2947           7.3   \n",
       "\n",
       "      profit  \n",
       "0  10.090192  \n",
       "1   2.522909  \n",
       "2   2.683984  \n",
       "3  10.340891  \n",
       "4   7.927628  "
      ]
     },
     "execution_count": 18,
     "metadata": {},
     "output_type": "execute_result"
    }
   ],
   "source": [
    "df.head()"
   ]
  },
  {
   "cell_type": "code",
   "execution_count": 19,
   "id": "aac73ae1",
   "metadata": {
    "execution": {
     "iopub.execute_input": "2023-12-27T05:36:11.029377Z",
     "iopub.status.busy": "2023-12-27T05:36:11.028996Z",
     "iopub.status.idle": "2023-12-27T05:36:11.039466Z",
     "shell.execute_reply": "2023-12-27T05:36:11.038551Z"
    },
    "papermill": {
     "duration": 0.029804,
     "end_time": "2023-12-27T05:36:11.041424",
     "exception": false,
     "start_time": "2023-12-27T05:36:11.011620",
     "status": "completed"
    },
    "tags": []
   },
   "outputs": [
    {
     "data": {
      "text/plain": [
       "count    6.165000e+03\n",
       "mean     1.866928e+02\n",
       "std      1.300062e+04\n",
       "min      2.400000e-07\n",
       "25%      1.000000e+00\n",
       "50%      1.000000e+00\n",
       "75%      2.727273e+00\n",
       "max      1.018619e+06\n",
       "Name: profit, dtype: float64"
      ]
     },
     "execution_count": 19,
     "metadata": {},
     "output_type": "execute_result"
    }
   ],
   "source": [
    "df['profit'].describe()"
   ]
  },
  {
   "cell_type": "code",
   "execution_count": 20,
   "id": "1e7c6c63",
   "metadata": {
    "execution": {
     "iopub.execute_input": "2023-12-27T05:36:11.071758Z",
     "iopub.status.busy": "2023-12-27T05:36:11.071447Z",
     "iopub.status.idle": "2023-12-27T05:36:11.083711Z",
     "shell.execute_reply": "2023-12-27T05:36:11.082716Z"
    },
    "papermill": {
     "duration": 0.029438,
     "end_time": "2023-12-27T05:36:11.085503",
     "exception": false,
     "start_time": "2023-12-27T05:36:11.056065",
     "status": "completed"
    },
    "tags": []
   },
   "outputs": [
    {
     "data": {
      "text/html": [
       "<div>\n",
       "<style scoped>\n",
       "    .dataframe tbody tr th:only-of-type {\n",
       "        vertical-align: middle;\n",
       "    }\n",
       "\n",
       "    .dataframe tbody tr th {\n",
       "        vertical-align: top;\n",
       "    }\n",
       "\n",
       "    .dataframe thead th {\n",
       "        text-align: right;\n",
       "    }\n",
       "</style>\n",
       "<table border=\"1\" class=\"dataframe\">\n",
       "  <thead>\n",
       "    <tr style=\"text-align: right;\">\n",
       "      <th></th>\n",
       "      <th>popularity</th>\n",
       "      <th>budget</th>\n",
       "      <th>revenue</th>\n",
       "      <th>cast</th>\n",
       "      <th>director</th>\n",
       "      <th>genres</th>\n",
       "      <th>vote_count</th>\n",
       "      <th>vote_average</th>\n",
       "      <th>profit</th>\n",
       "    </tr>\n",
       "  </thead>\n",
       "  <tbody>\n",
       "    <tr>\n",
       "      <th>10495</th>\n",
       "      <td>0.772494</td>\n",
       "      <td>113</td>\n",
       "      <td>115103979</td>\n",
       "      <td>Ralph Macchio|Pat Morita|Martin Kove|Charlie T...</td>\n",
       "      <td>John G. Avildsen</td>\n",
       "      <td>Adventure|Drama|Action|Romance|Family</td>\n",
       "      <td>211</td>\n",
       "      <td>5.8</td>\n",
       "      <td>1.018619e+06</td>\n",
       "    </tr>\n",
       "  </tbody>\n",
       "</table>\n",
       "</div>"
      ],
      "text/plain": [
       "       popularity  budget    revenue  \\\n",
       "10495    0.772494     113  115103979   \n",
       "\n",
       "                                                    cast          director  \\\n",
       "10495  Ralph Macchio|Pat Morita|Martin Kove|Charlie T...  John G. Avildsen   \n",
       "\n",
       "                                      genres  vote_count  vote_average  \\\n",
       "10495  Adventure|Drama|Action|Romance|Family         211           5.8   \n",
       "\n",
       "             profit  \n",
       "10495  1.018619e+06  "
      ]
     },
     "execution_count": 20,
     "metadata": {},
     "output_type": "execute_result"
    }
   ],
   "source": [
    "df.loc[df['profit'] > 1.0e+06]"
   ]
  },
  {
   "cell_type": "code",
   "execution_count": 21,
   "id": "63dafbaf",
   "metadata": {
    "execution": {
     "iopub.execute_input": "2023-12-27T05:36:11.117580Z",
     "iopub.status.busy": "2023-12-27T05:36:11.117200Z",
     "iopub.status.idle": "2023-12-27T05:36:11.121854Z",
     "shell.execute_reply": "2023-12-27T05:36:11.120923Z"
    },
    "papermill": {
     "duration": 0.022428,
     "end_time": "2023-12-27T05:36:11.123589",
     "exception": false,
     "start_time": "2023-12-27T05:36:11.101161",
     "status": "completed"
    },
    "tags": []
   },
   "outputs": [],
   "source": [
    "# we want to remove the erroneous outliers like this one"
   ]
  },
  {
   "cell_type": "code",
   "execution_count": 22,
   "id": "3f609e5c",
   "metadata": {
    "execution": {
     "iopub.execute_input": "2023-12-27T05:36:11.153140Z",
     "iopub.status.busy": "2023-12-27T05:36:11.152795Z",
     "iopub.status.idle": "2023-12-27T05:36:11.356721Z",
     "shell.execute_reply": "2023-12-27T05:36:11.355832Z"
    },
    "papermill": {
     "duration": 0.220799,
     "end_time": "2023-12-27T05:36:11.358515",
     "exception": false,
     "start_time": "2023-12-27T05:36:11.137716",
     "status": "completed"
    },
    "tags": []
   },
   "outputs": [
    {
     "data": {
      "image/png": "[encoded data removed]",
      "text/plain": [
       "<Figure size 640x480 with 1 Axes>"
      ]
     },
     "metadata": {},
     "output_type": "display_data"
    }
   ],
   "source": [
    "plt.hist(df['profit'])\n",
    "plt.title('Distribution of Values in profit')\n",
    "plt.xlabel('Value')\n",
    "plt.ylabel('Frequency')\n",
    "plt.show() "
   ]
  },
  {
   "cell_type": "code",
   "execution_count": 23,
   "id": "802f1ac2",
   "metadata": {
    "execution": {
     "iopub.execute_input": "2023-12-27T05:36:11.391510Z",
     "iopub.status.busy": "2023-12-27T05:36:11.390408Z",
     "iopub.status.idle": "2023-12-27T05:36:11.565291Z",
     "shell.execute_reply": "2023-12-27T05:36:11.564661Z"
    },
    "papermill": {
     "duration": 0.193416,
     "end_time": "2023-12-27T05:36:11.567020",
     "exception": false,
     "start_time": "2023-12-27T05:36:11.373604",
     "status": "completed"
    },
    "tags": []
   },
   "outputs": [
    {
     "data": {
      "text/plain": [
       "<Axes: >"
      ]
     },
     "execution_count": 23,
     "metadata": {},
     "output_type": "execute_result"
    },
    {
     "data": {
      "image/png": "[encoded data removed]",
      "text/plain": [
       "<Figure size 640x480 with 1 Axes>"
      ]
     },
     "metadata": {},
     "output_type": "display_data"
    }
   ],
   "source": [
    "df['profit'].plot.line()"
   ]
  },
  {
   "cell_type": "code",
   "execution_count": 24,
   "id": "7f524ac6",
   "metadata": {
    "execution": {
     "iopub.execute_input": "2023-12-27T05:36:11.598662Z",
     "iopub.status.busy": "2023-12-27T05:36:11.597795Z",
     "iopub.status.idle": "2023-12-27T05:36:11.604031Z",
     "shell.execute_reply": "2023-12-27T05:36:11.603335Z"
    },
    "papermill": {
     "duration": 0.023634,
     "end_time": "2023-12-27T05:36:11.605722",
     "exception": false,
     "start_time": "2023-12-27T05:36:11.582088",
     "status": "completed"
    },
    "tags": []
   },
   "outputs": [],
   "source": [
    "df.loc[10495, 'profit'] = 1"
   ]
  },
  {
   "cell_type": "code",
   "execution_count": 25,
   "id": "bd4edf9d",
   "metadata": {
    "execution": {
     "iopub.execute_input": "2023-12-27T05:36:11.637609Z",
     "iopub.status.busy": "2023-12-27T05:36:11.637283Z",
     "iopub.status.idle": "2023-12-27T05:36:11.646522Z",
     "shell.execute_reply": "2023-12-27T05:36:11.645500Z"
    },
    "papermill": {
     "duration": 0.027603,
     "end_time": "2023-12-27T05:36:11.648726",
     "exception": false,
     "start_time": "2023-12-27T05:36:11.621123",
     "status": "completed"
    },
    "tags": []
   },
   "outputs": [
    {
     "data": {
      "text/plain": [
       "count    6.165000e+03\n",
       "mean     2.146677e+01\n",
       "std      8.489389e+02\n",
       "min      2.400000e-07\n",
       "25%      1.000000e+00\n",
       "50%      1.000000e+00\n",
       "75%      2.727273e+00\n",
       "max      5.877193e+04\n",
       "Name: profit, dtype: float64"
      ]
     },
     "execution_count": 25,
     "metadata": {},
     "output_type": "execute_result"
    }
   ],
   "source": [
    "df['profit'].describe()"
   ]
  },
  {
   "cell_type": "code",
   "execution_count": 26,
   "id": "20b3b1a8",
   "metadata": {
    "execution": {
     "iopub.execute_input": "2023-12-27T05:36:11.680292Z",
     "iopub.status.busy": "2023-12-27T05:36:11.679939Z",
     "iopub.status.idle": "2023-12-27T05:36:11.686696Z",
     "shell.execute_reply": "2023-12-27T05:36:11.685882Z"
    },
    "papermill": {
     "duration": 0.024623,
     "end_time": "2023-12-27T05:36:11.688377",
     "exception": false,
     "start_time": "2023-12-27T05:36:11.663754",
     "status": "completed"
    },
    "tags": []
   },
   "outputs": [],
   "source": [
    "# clipping the profit to 500 (the highest roi movie has made 5000 times its budget)\n",
    "df['profit'] = df['profit'].clip(upper=500)\n",
    "df = df.drop(['revenue', 'budget'], axis = 1)"
   ]
  },
  {
   "cell_type": "code",
   "execution_count": 27,
   "id": "cd74fd9e",
   "metadata": {
    "execution": {
     "iopub.execute_input": "2023-12-27T05:36:11.720448Z",
     "iopub.status.busy": "2023-12-27T05:36:11.720053Z",
     "iopub.status.idle": "2023-12-27T05:36:11.730703Z",
     "shell.execute_reply": "2023-12-27T05:36:11.729950Z"
    },
    "papermill": {
     "duration": 0.029305,
     "end_time": "2023-12-27T05:36:11.732597",
     "exception": false,
     "start_time": "2023-12-27T05:36:11.703292",
     "status": "completed"
    },
    "tags": []
   },
   "outputs": [
    {
     "data": {
      "text/plain": [
       "count    6.165000e+03\n",
       "mean     4.022804e+00\n",
       "std      2.167214e+01\n",
       "min      2.400000e-07\n",
       "25%      1.000000e+00\n",
       "50%      1.000000e+00\n",
       "75%      2.727273e+00\n",
       "max      5.000000e+02\n",
       "Name: profit, dtype: float64"
      ]
     },
     "execution_count": 27,
     "metadata": {},
     "output_type": "execute_result"
    }
   ],
   "source": [
    "df['profit'].describe()"
   ]
  },
  {
   "cell_type": "code",
   "execution_count": 28,
   "id": "4ebae779",
   "metadata": {
    "execution": {
     "iopub.execute_input": "2023-12-27T05:36:11.766829Z",
     "iopub.status.busy": "2023-12-27T05:36:11.766158Z",
     "iopub.status.idle": "2023-12-27T05:36:11.778045Z",
     "shell.execute_reply": "2023-12-27T05:36:11.777064Z"
    },
    "papermill": {
     "duration": 0.030931,
     "end_time": "2023-12-27T05:36:11.779803",
     "exception": false,
     "start_time": "2023-12-27T05:36:11.748872",
     "status": "completed"
    },
    "tags": []
   },
   "outputs": [
    {
     "data": {
      "text/html": [
       "<div>\n",
       "<style scoped>\n",
       "    .dataframe tbody tr th:only-of-type {\n",
       "        vertical-align: middle;\n",
       "    }\n",
       "\n",
       "    .dataframe tbody tr th {\n",
       "        vertical-align: top;\n",
       "    }\n",
       "\n",
       "    .dataframe thead th {\n",
       "        text-align: right;\n",
       "    }\n",
       "</style>\n",
       "<table border=\"1\" class=\"dataframe\">\n",
       "  <thead>\n",
       "    <tr style=\"text-align: right;\">\n",
       "      <th></th>\n",
       "      <th>popularity</th>\n",
       "      <th>cast</th>\n",
       "      <th>director</th>\n",
       "      <th>genres</th>\n",
       "      <th>vote_count</th>\n",
       "      <th>vote_average</th>\n",
       "      <th>profit</th>\n",
       "    </tr>\n",
       "  </thead>\n",
       "  <tbody>\n",
       "    <tr>\n",
       "      <th>0</th>\n",
       "      <td>32.985763</td>\n",
       "      <td>Chris Pratt|Bryce Dallas Howard|Irrfan Khan|Vi...</td>\n",
       "      <td>Colin Trevorrow</td>\n",
       "      <td>Action|Adventure|Science Fiction|Thriller</td>\n",
       "      <td>5562</td>\n",
       "      <td>6.5</td>\n",
       "      <td>10.090192</td>\n",
       "    </tr>\n",
       "    <tr>\n",
       "      <th>1</th>\n",
       "      <td>28.419936</td>\n",
       "      <td>Tom Hardy|Charlize Theron|Hugh Keays-Byrne|Nic...</td>\n",
       "      <td>George Miller</td>\n",
       "      <td>Action|Adventure|Science Fiction|Thriller</td>\n",
       "      <td>6185</td>\n",
       "      <td>7.1</td>\n",
       "      <td>2.522909</td>\n",
       "    </tr>\n",
       "    <tr>\n",
       "      <th>2</th>\n",
       "      <td>13.112507</td>\n",
       "      <td>Shailene Woodley|Theo James|Kate Winslet|Ansel...</td>\n",
       "      <td>Robert Schwentke</td>\n",
       "      <td>Adventure|Science Fiction|Thriller</td>\n",
       "      <td>2480</td>\n",
       "      <td>6.3</td>\n",
       "      <td>2.683984</td>\n",
       "    </tr>\n",
       "    <tr>\n",
       "      <th>3</th>\n",
       "      <td>11.173104</td>\n",
       "      <td>Harrison Ford|Mark Hamill|Carrie Fisher|Adam D...</td>\n",
       "      <td>J.J. Abrams</td>\n",
       "      <td>Action|Adventure|Science Fiction|Fantasy</td>\n",
       "      <td>5292</td>\n",
       "      <td>7.5</td>\n",
       "      <td>10.340891</td>\n",
       "    </tr>\n",
       "    <tr>\n",
       "      <th>4</th>\n",
       "      <td>9.335014</td>\n",
       "      <td>Vin Diesel|Paul Walker|Jason Statham|Michelle ...</td>\n",
       "      <td>James Wan</td>\n",
       "      <td>Action|Crime|Thriller</td>\n",
       "      <td>2947</td>\n",
       "      <td>7.3</td>\n",
       "      <td>7.927628</td>\n",
       "    </tr>\n",
       "  </tbody>\n",
       "</table>\n",
       "</div>"
      ],
      "text/plain": [
       "   popularity                                               cast  \\\n",
       "0   32.985763  Chris Pratt|Bryce Dallas Howard|Irrfan Khan|Vi...   \n",
       "1   28.419936  Tom Hardy|Charlize Theron|Hugh Keays-Byrne|Nic...   \n",
       "2   13.112507  Shailene Woodley|Theo James|Kate Winslet|Ansel...   \n",
       "3   11.173104  Harrison Ford|Mark Hamill|Carrie Fisher|Adam D...   \n",
       "4    9.335014  Vin Diesel|Paul Walker|Jason Statham|Michelle ...   \n",
       "\n",
       "           director                                     genres  vote_count  \\\n",
       "0   Colin Trevorrow  Action|Adventure|Science Fiction|Thriller        5562   \n",
       "1     George Miller  Action|Adventure|Science Fiction|Thriller        6185   \n",
       "2  Robert Schwentke         Adventure|Science Fiction|Thriller        2480   \n",
       "3       J.J. Abrams   Action|Adventure|Science Fiction|Fantasy        5292   \n",
       "4         James Wan                      Action|Crime|Thriller        2947   \n",
       "\n",
       "   vote_average     profit  \n",
       "0           6.5  10.090192  \n",
       "1           7.1   2.522909  \n",
       "2           6.3   2.683984  \n",
       "3           7.5  10.340891  \n",
       "4           7.3   7.927628  "
      ]
     },
     "execution_count": 28,
     "metadata": {},
     "output_type": "execute_result"
    }
   ],
   "source": [
    "df.head()"
   ]
  },
  {
   "cell_type": "code",
   "execution_count": 29,
   "id": "95c412b2",
   "metadata": {
    "execution": {
     "iopub.execute_input": "2023-12-27T05:36:11.813219Z",
     "iopub.status.busy": "2023-12-27T05:36:11.812890Z",
     "iopub.status.idle": "2023-12-27T05:36:12.005481Z",
     "shell.execute_reply": "2023-12-27T05:36:12.004605Z"
    },
    "papermill": {
     "duration": 0.212073,
     "end_time": "2023-12-27T05:36:12.007473",
     "exception": false,
     "start_time": "2023-12-27T05:36:11.795400",
     "status": "completed"
    },
    "tags": []
   },
   "outputs": [
    {
     "data": {
      "text/plain": [
       "<Axes: >"
      ]
     },
     "execution_count": 29,
     "metadata": {},
     "output_type": "execute_result"
    },
    {
     "data": {
      "image/png": "[encoded data removed]",
      "text/plain": [
       "<Figure size 640x480 with 1 Axes>"
      ]
     },
     "metadata": {},
     "output_type": "display_data"
    }
   ],
   "source": [
    "df['profit'].plot.line()"
   ]
  },
  {
   "cell_type": "code",
   "execution_count": 30,
   "id": "c52de3da",
   "metadata": {
    "execution": {
     "iopub.execute_input": "2023-12-27T05:36:12.042020Z",
     "iopub.status.busy": "2023-12-27T05:36:12.041037Z",
     "iopub.status.idle": "2023-12-27T05:36:12.235456Z",
     "shell.execute_reply": "2023-12-27T05:36:12.233673Z"
    },
    "papermill": {
     "duration": 0.213736,
     "end_time": "2023-12-27T05:36:12.237294",
     "exception": false,
     "start_time": "2023-12-27T05:36:12.023558",
     "status": "completed"
    },
    "tags": []
   },
   "outputs": [
    {
     "data": {
      "image/png": "[encoded data removed]",
      "text/plain": [
       "<Figure size 640x480 with 1 Axes>"
      ]
     },
     "metadata": {},
     "output_type": "display_data"
    }
   ],
   "source": [
    "#df.loc[df['profit'] < 100]['profit'].plot.line()\n",
    "plt.hist(df.loc[df['profit'] < 10]['profit'])\n",
    "plt.title('Distribution of Values in profit')\n",
    "plt.xlabel('Value')\n",
    "plt.ylabel('Frequency')\n",
    "plt.show() "
   ]
  },
  {
   "cell_type": "code",
   "execution_count": 31,
   "id": "010df6cc",
   "metadata": {
    "execution": {
     "iopub.execute_input": "2023-12-27T05:36:12.270591Z",
     "iopub.status.busy": "2023-12-27T05:36:12.269780Z",
     "iopub.status.idle": "2023-12-27T05:36:12.280531Z",
     "shell.execute_reply": "2023-12-27T05:36:12.279895Z"
    },
    "papermill": {
     "duration": 0.029036,
     "end_time": "2023-12-27T05:36:12.282127",
     "exception": false,
     "start_time": "2023-12-27T05:36:12.253091",
     "status": "completed"
    },
    "tags": []
   },
   "outputs": [
    {
     "data": {
      "text/plain": [
       "count    6165.000000\n",
       "mean        7.255604\n",
       "std         0.662759\n",
       "min         0.000000\n",
       "25%         7.103724\n",
       "50%         7.103724\n",
       "75%         7.571306\n",
       "max        10.000000\n",
       "Name: profit, dtype: float64"
      ]
     },
     "execution_count": 31,
     "metadata": {},
     "output_type": "execute_result"
    }
   ],
   "source": [
    "# squishing the profit range down to (1-10)\n",
    "# we are assuming that the movies that make more than 2.5x there original budget are considered a hit.\n",
    "# therefore, looking at the graph, we can tell that around 4300 movies out of 6165 are flops.\n",
    "# we will keep this figure in mind to classify our label.\n",
    "\n",
    "df['profit'] = np.log10(df['profit'])\n",
    "\n",
    "df['profit'] = (df['profit'] - df['profit'].min()) / (df['profit'].max() - df['profit'].min()) * 10\n",
    "\n",
    "df['profit'].describe()"
   ]
  },
  {
   "cell_type": "code",
   "execution_count": 32,
   "id": "ee079e39",
   "metadata": {
    "execution": {
     "iopub.execute_input": "2023-12-27T05:36:12.315812Z",
     "iopub.status.busy": "2023-12-27T05:36:12.315350Z",
     "iopub.status.idle": "2023-12-27T05:36:12.488993Z",
     "shell.execute_reply": "2023-12-27T05:36:12.488112Z"
    },
    "papermill": {
     "duration": 0.193138,
     "end_time": "2023-12-27T05:36:12.491308",
     "exception": false,
     "start_time": "2023-12-27T05:36:12.298170",
     "status": "completed"
    },
    "tags": []
   },
   "outputs": [
    {
     "data": {
      "image/png": "[encoded data removed]",
      "text/plain": [
       "<Figure size 640x480 with 1 Axes>"
      ]
     },
     "metadata": {},
     "output_type": "display_data"
    }
   ],
   "source": [
    "plt.hist(df.loc[df['profit'] < 7.5]['profit'])\n",
    "plt.show()"
   ]
  },
  {
   "cell_type": "code",
   "execution_count": 33,
   "id": "05edcbfd",
   "metadata": {
    "execution": {
     "iopub.execute_input": "2023-12-27T05:36:12.525449Z",
     "iopub.status.busy": "2023-12-27T05:36:12.525087Z",
     "iopub.status.idle": "2023-12-27T05:36:12.528752Z",
     "shell.execute_reply": "2023-12-27T05:36:12.527854Z"
    },
    "papermill": {
     "duration": 0.023137,
     "end_time": "2023-12-27T05:36:12.530920",
     "exception": false,
     "start_time": "2023-12-27T05:36:12.507783",
     "status": "completed"
    },
    "tags": []
   },
   "outputs": [],
   "source": [
    "# as we can observe in the histogram, our 2.5x value falls at about 7.5 in the newly created range."
   ]
  },
  {
   "cell_type": "code",
   "execution_count": 34,
   "id": "40f06617",
   "metadata": {
    "execution": {
     "iopub.execute_input": "2023-12-27T05:36:12.567451Z",
     "iopub.status.busy": "2023-12-27T05:36:12.567098Z",
     "iopub.status.idle": "2023-12-27T05:36:12.572226Z",
     "shell.execute_reply": "2023-12-27T05:36:12.571375Z"
    },
    "papermill": {
     "duration": 0.025355,
     "end_time": "2023-12-27T05:36:12.574208",
     "exception": false,
     "start_time": "2023-12-27T05:36:12.548853",
     "status": "completed"
    },
    "tags": []
   },
   "outputs": [],
   "source": [
    "# now we have to create a label by taking in account the popularity, vote count, vote average and the profit made by the movies.\n",
    "# the most influential criteria to be considered is profit, typically, a movie must make 2.5x the original budget in order to be considered profitable."
   ]
  },
  {
   "cell_type": "code",
   "execution_count": 35,
   "id": "3b00d9fa",
   "metadata": {
    "execution": {
     "iopub.execute_input": "2023-12-27T05:36:12.609116Z",
     "iopub.status.busy": "2023-12-27T05:36:12.608748Z",
     "iopub.status.idle": "2023-12-27T05:36:12.619911Z",
     "shell.execute_reply": "2023-12-27T05:36:12.618466Z"
    },
    "papermill": {
     "duration": 0.030925,
     "end_time": "2023-12-27T05:36:12.621870",
     "exception": false,
     "start_time": "2023-12-27T05:36:12.590945",
     "status": "completed"
    },
    "tags": []
   },
   "outputs": [
    {
     "name": "stdout",
     "output_type": "stream",
     "text": [
      "            popularity  vote_count    profit\n",
      "popularity    1.000000    0.794867  0.260848\n",
      "vote_count    0.794867    1.000000  0.291991\n",
      "profit        0.260848    0.291991  1.000000\n"
     ]
    }
   ],
   "source": [
    "correlation = df[['popularity', 'vote_count', 'profit']].corr()\n",
    "print(correlation)"
   ]
  },
  {
   "cell_type": "code",
   "execution_count": 36,
   "id": "ad5c0e44",
   "metadata": {
    "execution": {
     "iopub.execute_input": "2023-12-27T05:36:12.656084Z",
     "iopub.status.busy": "2023-12-27T05:36:12.655751Z",
     "iopub.status.idle": "2023-12-27T05:36:12.660024Z",
     "shell.execute_reply": "2023-12-27T05:36:12.659162Z"
    },
    "papermill": {
     "duration": 0.023001,
     "end_time": "2023-12-27T05:36:12.661810",
     "exception": false,
     "start_time": "2023-12-27T05:36:12.638809",
     "status": "completed"
    },
    "tags": []
   },
   "outputs": [],
   "source": [
    "# as we can see, the profit and popularity columns are not correlated\n",
    "# we expect this to effect the future success of a project involving the same cast and crew\n",
    "# we can expect the rating of a movie to also have an impact on the future success of a project by the cast and crew"
   ]
  },
  {
   "cell_type": "code",
   "execution_count": 37,
   "id": "ec58ca3f",
   "metadata": {
    "execution": {
     "iopub.execute_input": "2023-12-27T05:36:12.695087Z",
     "iopub.status.busy": "2023-12-27T05:36:12.694800Z",
     "iopub.status.idle": "2023-12-27T05:36:12.706147Z",
     "shell.execute_reply": "2023-12-27T05:36:12.704929Z"
    },
    "papermill": {
     "duration": 0.030152,
     "end_time": "2023-12-27T05:36:12.708005",
     "exception": false,
     "start_time": "2023-12-27T05:36:12.677853",
     "status": "completed"
    },
    "tags": []
   },
   "outputs": [
    {
     "name": "stdout",
     "output_type": "stream",
     "text": [
      "count    6165.000000\n",
      "mean      355.901217\n",
      "std       733.167342\n",
      "min        10.000000\n",
      "25%        31.000000\n",
      "50%        96.000000\n",
      "75%       324.000000\n",
      "max      9767.000000\n",
      "Name: vote_count, dtype: float64\n",
      "count    6165.000000\n",
      "mean        6.038994\n",
      "std         0.872593\n",
      "min         1.500000\n",
      "25%         5.500000\n",
      "50%         6.100000\n",
      "75%         6.600000\n",
      "max         8.400000\n",
      "Name: vote_average, dtype: float64\n"
     ]
    }
   ],
   "source": [
    "print(df['vote_count'].describe())\n",
    "print(df['vote_average'].describe())"
   ]
  },
  {
   "cell_type": "code",
   "execution_count": 38,
   "id": "30087d2b",
   "metadata": {
    "execution": {
     "iopub.execute_input": "2023-12-27T05:36:12.742129Z",
     "iopub.status.busy": "2023-12-27T05:36:12.741814Z",
     "iopub.status.idle": "2023-12-27T05:36:12.954922Z",
     "shell.execute_reply": "2023-12-27T05:36:12.953698Z"
    },
    "papermill": {
     "duration": 0.232001,
     "end_time": "2023-12-27T05:36:12.956703",
     "exception": false,
     "start_time": "2023-12-27T05:36:12.724702",
     "status": "completed"
    },
    "tags": []
   },
   "outputs": [
    {
     "data": {
      "image/png": "[encoded data removed]",
      "text/plain": [
       "<Figure size 640x480 with 1 Axes>"
      ]
     },
     "metadata": {},
     "output_type": "display_data"
    }
   ],
   "source": [
    "plt.hist(df['vote_average'])\n",
    "plt.title('Distribution of Values in true_vote')\n",
    "plt.xlabel('Value')\n",
    "plt.ylabel('Frequency')\n",
    "plt.show() "
   ]
  },
  {
   "cell_type": "code",
   "execution_count": 39,
   "id": "1b4e9b9d",
   "metadata": {
    "execution": {
     "iopub.execute_input": "2023-12-27T05:36:12.991294Z",
     "iopub.status.busy": "2023-12-27T05:36:12.990949Z",
     "iopub.status.idle": "2023-12-27T05:36:13.006024Z",
     "shell.execute_reply": "2023-12-27T05:36:13.004849Z"
    },
    "papermill": {
     "duration": 0.034569,
     "end_time": "2023-12-27T05:36:13.008250",
     "exception": false,
     "start_time": "2023-12-27T05:36:12.973681",
     "status": "completed"
    },
    "tags": []
   },
   "outputs": [
    {
     "data": {
      "text/html": [
       "<div>\n",
       "<style scoped>\n",
       "    .dataframe tbody tr th:only-of-type {\n",
       "        vertical-align: middle;\n",
       "    }\n",
       "\n",
       "    .dataframe tbody tr th {\n",
       "        vertical-align: top;\n",
       "    }\n",
       "\n",
       "    .dataframe thead th {\n",
       "        text-align: right;\n",
       "    }\n",
       "</style>\n",
       "<table border=\"1\" class=\"dataframe\">\n",
       "  <thead>\n",
       "    <tr style=\"text-align: right;\">\n",
       "      <th></th>\n",
       "      <th>popularity</th>\n",
       "      <th>cast</th>\n",
       "      <th>director</th>\n",
       "      <th>genres</th>\n",
       "      <th>profit</th>\n",
       "      <th>true_vote</th>\n",
       "    </tr>\n",
       "  </thead>\n",
       "  <tbody>\n",
       "    <tr>\n",
       "      <th>0</th>\n",
       "      <td>32.985763</td>\n",
       "      <td>Chris Pratt|Bryce Dallas Howard|Irrfan Khan|Vi...</td>\n",
       "      <td>Colin Trevorrow</td>\n",
       "      <td>Action|Adventure|Science Fiction|Thriller</td>\n",
       "      <td>8.181012</td>\n",
       "      <td>7.069469</td>\n",
       "    </tr>\n",
       "    <tr>\n",
       "      <th>1</th>\n",
       "      <td>28.419936</td>\n",
       "      <td>Tom Hardy|Charlize Theron|Hugh Keays-Byrne|Nic...</td>\n",
       "      <td>George Miller</td>\n",
       "      <td>Action|Adventure|Science Fiction|Thriller</td>\n",
       "      <td>7.535006</td>\n",
       "      <td>7.733255</td>\n",
       "    </tr>\n",
       "    <tr>\n",
       "      <th>2</th>\n",
       "      <td>13.112507</td>\n",
       "      <td>Shailene Woodley|Theo James|Kate Winslet|Ansel...</td>\n",
       "      <td>Robert Schwentke</td>\n",
       "      <td>Adventure|Science Fiction|Thriller</td>\n",
       "      <td>7.563849</td>\n",
       "      <td>6.553916</td>\n",
       "    </tr>\n",
       "    <tr>\n",
       "      <th>3</th>\n",
       "      <td>11.173104</td>\n",
       "      <td>Harrison Ford|Mark Hamill|Carrie Fisher|Adam D...</td>\n",
       "      <td>J.J. Abrams</td>\n",
       "      <td>Action|Adventure|Science Fiction|Fantasy</td>\n",
       "      <td>8.192450</td>\n",
       "      <td>8.041825</td>\n",
       "    </tr>\n",
       "    <tr>\n",
       "      <th>4</th>\n",
       "      <td>9.335014</td>\n",
       "      <td>Vin Diesel|Paul Walker|Jason Statham|Michelle ...</td>\n",
       "      <td>James Wan</td>\n",
       "      <td>Action|Crime|Thriller</td>\n",
       "      <td>8.068598</td>\n",
       "      <td>7.601730</td>\n",
       "    </tr>\n",
       "  </tbody>\n",
       "</table>\n",
       "</div>"
      ],
      "text/plain": [
       "   popularity                                               cast  \\\n",
       "0   32.985763  Chris Pratt|Bryce Dallas Howard|Irrfan Khan|Vi...   \n",
       "1   28.419936  Tom Hardy|Charlize Theron|Hugh Keays-Byrne|Nic...   \n",
       "2   13.112507  Shailene Woodley|Theo James|Kate Winslet|Ansel...   \n",
       "3   11.173104  Harrison Ford|Mark Hamill|Carrie Fisher|Adam D...   \n",
       "4    9.335014  Vin Diesel|Paul Walker|Jason Statham|Michelle ...   \n",
       "\n",
       "           director                                     genres    profit  \\\n",
       "0   Colin Trevorrow  Action|Adventure|Science Fiction|Thriller  8.181012   \n",
       "1     George Miller  Action|Adventure|Science Fiction|Thriller  7.535006   \n",
       "2  Robert Schwentke         Adventure|Science Fiction|Thriller  7.563849   \n",
       "3       J.J. Abrams   Action|Adventure|Science Fiction|Fantasy  8.192450   \n",
       "4         James Wan                      Action|Crime|Thriller  8.068598   \n",
       "\n",
       "   true_vote  \n",
       "0   7.069469  \n",
       "1   7.733255  \n",
       "2   6.553916  \n",
       "3   8.041825  \n",
       "4   7.601730  "
      ]
     },
     "execution_count": 39,
     "metadata": {},
     "output_type": "execute_result"
    }
   ],
   "source": [
    "# calculating the true rating\n",
    "# we will add a reliability score to every rating on the basis of how many people actually voted for the movie\n",
    "df['true_vote'] = (df['vote_average'] + (df['vote_count'] / df['vote_count'].max()))\n",
    "df = df.drop(['vote_average', 'vote_count'], axis = 1)\n",
    "df.head()"
   ]
  },
  {
   "cell_type": "code",
   "execution_count": 40,
   "id": "de73ca99",
   "metadata": {
    "execution": {
     "iopub.execute_input": "2023-12-27T05:36:13.045196Z",
     "iopub.status.busy": "2023-12-27T05:36:13.044125Z",
     "iopub.status.idle": "2023-12-27T05:36:13.053562Z",
     "shell.execute_reply": "2023-12-27T05:36:13.052729Z"
    },
    "papermill": {
     "duration": 0.029358,
     "end_time": "2023-12-27T05:36:13.055208",
     "exception": false,
     "start_time": "2023-12-27T05:36:13.025850",
     "status": "completed"
    },
    "tags": []
   },
   "outputs": [
    {
     "data": {
      "text/plain": [
       "count    6165.000000\n",
       "mean        6.075433\n",
       "std         0.900579\n",
       "min         1.501536\n",
       "25%         5.512491\n",
       "50%         6.112798\n",
       "75%         6.701331\n",
       "max         8.989127\n",
       "Name: true_vote, dtype: float64"
      ]
     },
     "execution_count": 40,
     "metadata": {},
     "output_type": "execute_result"
    }
   ],
   "source": [
    "df['true_vote'].describe()"
   ]
  },
  {
   "cell_type": "code",
   "execution_count": 41,
   "id": "542caa1d",
   "metadata": {
    "execution": {
     "iopub.execute_input": "2023-12-27T05:36:13.091789Z",
     "iopub.status.busy": "2023-12-27T05:36:13.091174Z",
     "iopub.status.idle": "2023-12-27T05:36:13.285028Z",
     "shell.execute_reply": "2023-12-27T05:36:13.283968Z"
    },
    "papermill": {
     "duration": 0.214099,
     "end_time": "2023-12-27T05:36:13.286966",
     "exception": false,
     "start_time": "2023-12-27T05:36:13.072867",
     "status": "completed"
    },
    "tags": []
   },
   "outputs": [
    {
     "data": {
      "image/png": "[encoded data removed]",
      "text/plain": [
       "<Figure size 640x480 with 1 Axes>"
      ]
     },
     "metadata": {},
     "output_type": "display_data"
    }
   ],
   "source": [
    "plt.hist(df['true_vote'])\n",
    "plt.title('Distribution of Values in true_vote')\n",
    "plt.xlabel('Value')\n",
    "plt.ylabel('Frequency')\n",
    "plt.show() "
   ]
  },
  {
   "cell_type": "code",
   "execution_count": 42,
   "id": "87ef7050",
   "metadata": {
    "execution": {
     "iopub.execute_input": "2023-12-27T05:36:13.322801Z",
     "iopub.status.busy": "2023-12-27T05:36:13.321748Z",
     "iopub.status.idle": "2023-12-27T05:36:13.333366Z",
     "shell.execute_reply": "2023-12-27T05:36:13.332415Z"
    },
    "papermill": {
     "duration": 0.031323,
     "end_time": "2023-12-27T05:36:13.335373",
     "exception": false,
     "start_time": "2023-12-27T05:36:13.304050",
     "status": "completed"
    },
    "tags": []
   },
   "outputs": [
    {
     "data": {
      "text/html": [
       "<div>\n",
       "<style scoped>\n",
       "    .dataframe tbody tr th:only-of-type {\n",
       "        vertical-align: middle;\n",
       "    }\n",
       "\n",
       "    .dataframe tbody tr th {\n",
       "        vertical-align: top;\n",
       "    }\n",
       "\n",
       "    .dataframe thead th {\n",
       "        text-align: right;\n",
       "    }\n",
       "</style>\n",
       "<table border=\"1\" class=\"dataframe\">\n",
       "  <thead>\n",
       "    <tr style=\"text-align: right;\">\n",
       "      <th></th>\n",
       "      <th>popularity</th>\n",
       "      <th>cast</th>\n",
       "      <th>director</th>\n",
       "      <th>genres</th>\n",
       "      <th>profit</th>\n",
       "      <th>true_vote</th>\n",
       "    </tr>\n",
       "  </thead>\n",
       "  <tbody>\n",
       "    <tr>\n",
       "      <th>0</th>\n",
       "      <td>32.985763</td>\n",
       "      <td>Chris Pratt|Bryce Dallas Howard|Irrfan Khan|Vi...</td>\n",
       "      <td>Colin Trevorrow</td>\n",
       "      <td>Action|Adventure|Science Fiction|Thriller</td>\n",
       "      <td>8.181012</td>\n",
       "      <td>7.069469</td>\n",
       "    </tr>\n",
       "    <tr>\n",
       "      <th>1</th>\n",
       "      <td>28.419936</td>\n",
       "      <td>Tom Hardy|Charlize Theron|Hugh Keays-Byrne|Nic...</td>\n",
       "      <td>George Miller</td>\n",
       "      <td>Action|Adventure|Science Fiction|Thriller</td>\n",
       "      <td>7.535006</td>\n",
       "      <td>7.733255</td>\n",
       "    </tr>\n",
       "    <tr>\n",
       "      <th>2</th>\n",
       "      <td>13.112507</td>\n",
       "      <td>Shailene Woodley|Theo James|Kate Winslet|Ansel...</td>\n",
       "      <td>Robert Schwentke</td>\n",
       "      <td>Adventure|Science Fiction|Thriller</td>\n",
       "      <td>7.563849</td>\n",
       "      <td>6.553916</td>\n",
       "    </tr>\n",
       "    <tr>\n",
       "      <th>3</th>\n",
       "      <td>11.173104</td>\n",
       "      <td>Harrison Ford|Mark Hamill|Carrie Fisher|Adam D...</td>\n",
       "      <td>J.J. Abrams</td>\n",
       "      <td>Action|Adventure|Science Fiction|Fantasy</td>\n",
       "      <td>8.192450</td>\n",
       "      <td>8.041825</td>\n",
       "    </tr>\n",
       "    <tr>\n",
       "      <th>4</th>\n",
       "      <td>9.335014</td>\n",
       "      <td>Vin Diesel|Paul Walker|Jason Statham|Michelle ...</td>\n",
       "      <td>James Wan</td>\n",
       "      <td>Action|Crime|Thriller</td>\n",
       "      <td>8.068598</td>\n",
       "      <td>7.601730</td>\n",
       "    </tr>\n",
       "  </tbody>\n",
       "</table>\n",
       "</div>"
      ],
      "text/plain": [
       "   popularity                                               cast  \\\n",
       "0   32.985763  Chris Pratt|Bryce Dallas Howard|Irrfan Khan|Vi...   \n",
       "1   28.419936  Tom Hardy|Charlize Theron|Hugh Keays-Byrne|Nic...   \n",
       "2   13.112507  Shailene Woodley|Theo James|Kate Winslet|Ansel...   \n",
       "3   11.173104  Harrison Ford|Mark Hamill|Carrie Fisher|Adam D...   \n",
       "4    9.335014  Vin Diesel|Paul Walker|Jason Statham|Michelle ...   \n",
       "\n",
       "           director                                     genres    profit  \\\n",
       "0   Colin Trevorrow  Action|Adventure|Science Fiction|Thriller  8.181012   \n",
       "1     George Miller  Action|Adventure|Science Fiction|Thriller  7.535006   \n",
       "2  Robert Schwentke         Adventure|Science Fiction|Thriller  7.563849   \n",
       "3       J.J. Abrams   Action|Adventure|Science Fiction|Fantasy  8.192450   \n",
       "4         James Wan                      Action|Crime|Thriller  8.068598   \n",
       "\n",
       "   true_vote  \n",
       "0   7.069469  \n",
       "1   7.733255  \n",
       "2   6.553916  \n",
       "3   8.041825  \n",
       "4   7.601730  "
      ]
     },
     "execution_count": 42,
     "metadata": {},
     "output_type": "execute_result"
    }
   ],
   "source": [
    "df.head()"
   ]
  },
  {
   "cell_type": "code",
   "execution_count": 43,
   "id": "0708341f",
   "metadata": {
    "execution": {
     "iopub.execute_input": "2023-12-27T05:36:13.372653Z",
     "iopub.status.busy": "2023-12-27T05:36:13.371777Z",
     "iopub.status.idle": "2023-12-27T05:36:13.567510Z",
     "shell.execute_reply": "2023-12-27T05:36:13.566562Z"
    },
    "papermill": {
     "duration": 0.216326,
     "end_time": "2023-12-27T05:36:13.569835",
     "exception": false,
     "start_time": "2023-12-27T05:36:13.353509",
     "status": "completed"
    },
    "tags": []
   },
   "outputs": [
    {
     "data": {
      "image/png": "[encoded data removed]",
      "text/plain": [
       "<Figure size 640x480 with 1 Axes>"
      ]
     },
     "metadata": {},
     "output_type": "display_data"
    }
   ],
   "source": [
    "plt.hist(df['popularity'])\n",
    "plt.title('Distribution of Values in popularity')\n",
    "plt.xlabel('Value')\n",
    "plt.ylabel('Frequency')\n",
    "plt.show() "
   ]
  },
  {
   "cell_type": "code",
   "execution_count": 44,
   "id": "a5b5389e",
   "metadata": {
    "execution": {
     "iopub.execute_input": "2023-12-27T05:36:13.607197Z",
     "iopub.status.busy": "2023-12-27T05:36:13.606868Z",
     "iopub.status.idle": "2023-12-27T05:36:13.620467Z",
     "shell.execute_reply": "2023-12-27T05:36:13.619279Z"
    },
    "papermill": {
     "duration": 0.034252,
     "end_time": "2023-12-27T05:36:13.622362",
     "exception": false,
     "start_time": "2023-12-27T05:36:13.588110",
     "status": "completed"
    },
    "tags": []
   },
   "outputs": [
    {
     "data": {
      "text/html": [
       "<div>\n",
       "<style scoped>\n",
       "    .dataframe tbody tr th:only-of-type {\n",
       "        vertical-align: middle;\n",
       "    }\n",
       "\n",
       "    .dataframe tbody tr th {\n",
       "        vertical-align: top;\n",
       "    }\n",
       "\n",
       "    .dataframe thead th {\n",
       "        text-align: right;\n",
       "    }\n",
       "</style>\n",
       "<table border=\"1\" class=\"dataframe\">\n",
       "  <thead>\n",
       "    <tr style=\"text-align: right;\">\n",
       "      <th></th>\n",
       "      <th>popularity</th>\n",
       "      <th>cast</th>\n",
       "      <th>director</th>\n",
       "      <th>genres</th>\n",
       "      <th>profit</th>\n",
       "      <th>true_vote</th>\n",
       "    </tr>\n",
       "  </thead>\n",
       "  <tbody>\n",
       "    <tr>\n",
       "      <th>0</th>\n",
       "      <td>10.000000</td>\n",
       "      <td>Chris Pratt|Bryce Dallas Howard|Irrfan Khan|Vi...</td>\n",
       "      <td>Colin Trevorrow</td>\n",
       "      <td>Action|Adventure|Science Fiction|Thriller</td>\n",
       "      <td>8.181012</td>\n",
       "      <td>7.069469</td>\n",
       "    </tr>\n",
       "    <tr>\n",
       "      <th>1</th>\n",
       "      <td>8.615772</td>\n",
       "      <td>Tom Hardy|Charlize Theron|Hugh Keays-Byrne|Nic...</td>\n",
       "      <td>George Miller</td>\n",
       "      <td>Action|Adventure|Science Fiction|Thriller</td>\n",
       "      <td>7.535006</td>\n",
       "      <td>7.733255</td>\n",
       "    </tr>\n",
       "    <tr>\n",
       "      <th>2</th>\n",
       "      <td>3.974998</td>\n",
       "      <td>Shailene Woodley|Theo James|Kate Winslet|Ansel...</td>\n",
       "      <td>Robert Schwentke</td>\n",
       "      <td>Adventure|Science Fiction|Thriller</td>\n",
       "      <td>7.563849</td>\n",
       "      <td>6.553916</td>\n",
       "    </tr>\n",
       "    <tr>\n",
       "      <th>3</th>\n",
       "      <td>3.387026</td>\n",
       "      <td>Harrison Ford|Mark Hamill|Carrie Fisher|Adam D...</td>\n",
       "      <td>J.J. Abrams</td>\n",
       "      <td>Action|Adventure|Science Fiction|Fantasy</td>\n",
       "      <td>8.192450</td>\n",
       "      <td>8.041825</td>\n",
       "    </tr>\n",
       "    <tr>\n",
       "      <th>4</th>\n",
       "      <td>2.829770</td>\n",
       "      <td>Vin Diesel|Paul Walker|Jason Statham|Michelle ...</td>\n",
       "      <td>James Wan</td>\n",
       "      <td>Action|Crime|Thriller</td>\n",
       "      <td>8.068598</td>\n",
       "      <td>7.601730</td>\n",
       "    </tr>\n",
       "  </tbody>\n",
       "</table>\n",
       "</div>"
      ],
      "text/plain": [
       "   popularity                                               cast  \\\n",
       "0   10.000000  Chris Pratt|Bryce Dallas Howard|Irrfan Khan|Vi...   \n",
       "1    8.615772  Tom Hardy|Charlize Theron|Hugh Keays-Byrne|Nic...   \n",
       "2    3.974998  Shailene Woodley|Theo James|Kate Winslet|Ansel...   \n",
       "3    3.387026  Harrison Ford|Mark Hamill|Carrie Fisher|Adam D...   \n",
       "4    2.829770  Vin Diesel|Paul Walker|Jason Statham|Michelle ...   \n",
       "\n",
       "           director                                     genres    profit  \\\n",
       "0   Colin Trevorrow  Action|Adventure|Science Fiction|Thriller  8.181012   \n",
       "1     George Miller  Action|Adventure|Science Fiction|Thriller  7.535006   \n",
       "2  Robert Schwentke         Adventure|Science Fiction|Thriller  7.563849   \n",
       "3       J.J. Abrams   Action|Adventure|Science Fiction|Fantasy  8.192450   \n",
       "4         James Wan                      Action|Crime|Thriller  8.068598   \n",
       "\n",
       "   true_vote  \n",
       "0   7.069469  \n",
       "1   7.733255  \n",
       "2   6.553916  \n",
       "3   8.041825  \n",
       "4   7.601730  "
      ]
     },
     "execution_count": 44,
     "metadata": {},
     "output_type": "execute_result"
    }
   ],
   "source": [
    "# squishing the popularity column down\n",
    "diff = df['popularity'].max() - df['popularity'].min()\n",
    "df['popularity'] = (df['popularity'] - df['popularity'].min()) / diff * 10\n",
    "\n",
    "df.head()"
   ]
  },
  {
   "cell_type": "code",
   "execution_count": 45,
   "id": "4707d7c9",
   "metadata": {
    "execution": {
     "iopub.execute_input": "2023-12-27T05:36:13.658916Z",
     "iopub.status.busy": "2023-12-27T05:36:13.658627Z",
     "iopub.status.idle": "2023-12-27T05:36:13.669524Z",
     "shell.execute_reply": "2023-12-27T05:36:13.668703Z"
    },
    "papermill": {
     "duration": 0.031258,
     "end_time": "2023-12-27T05:36:13.671656",
     "exception": false,
     "start_time": "2023-12-27T05:36:13.640398",
     "status": "completed"
    },
    "tags": []
   },
   "outputs": [
    {
     "data": {
      "text/plain": [
       "count    6165.000000\n",
       "mean        0.275355\n",
       "std         0.376163\n",
       "min         0.000000\n",
       "25%         0.097380\n",
       "50%         0.172628\n",
       "75%         0.318173\n",
       "max        10.000000\n",
       "Name: popularity, dtype: float64"
      ]
     },
     "execution_count": 45,
     "metadata": {},
     "output_type": "execute_result"
    }
   ],
   "source": [
    "df['popularity'].describe()"
   ]
  },
  {
   "cell_type": "code",
   "execution_count": 46,
   "id": "316a1f91",
   "metadata": {
    "execution": {
     "iopub.execute_input": "2023-12-27T05:36:13.710196Z",
     "iopub.status.busy": "2023-12-27T05:36:13.709928Z",
     "iopub.status.idle": "2023-12-27T05:36:13.903757Z",
     "shell.execute_reply": "2023-12-27T05:36:13.902685Z"
    },
    "papermill": {
     "duration": 0.215066,
     "end_time": "2023-12-27T05:36:13.905920",
     "exception": false,
     "start_time": "2023-12-27T05:36:13.690854",
     "status": "completed"
    },
    "tags": []
   },
   "outputs": [
    {
     "data": {
      "image/png": "[encoded data removed]",
      "text/plain": [
       "<Figure size 640x480 with 1 Axes>"
      ]
     },
     "metadata": {},
     "output_type": "display_data"
    }
   ],
   "source": [
    "plt.hist(df['popularity'])\n",
    "plt.title('Distribution of Values in popularity')\n",
    "plt.xlabel('Value')\n",
    "plt.ylabel('Frequency')\n",
    "plt.show() "
   ]
  },
  {
   "cell_type": "code",
   "execution_count": 47,
   "id": "c13439ff",
   "metadata": {
    "execution": {
     "iopub.execute_input": "2023-12-27T05:36:13.944514Z",
     "iopub.status.busy": "2023-12-27T05:36:13.943695Z",
     "iopub.status.idle": "2023-12-27T05:36:13.951375Z",
     "shell.execute_reply": "2023-12-27T05:36:13.950500Z"
    },
    "papermill": {
     "duration": 0.029261,
     "end_time": "2023-12-27T05:36:13.953833",
     "exception": false,
     "start_time": "2023-12-27T05:36:13.924572",
     "status": "completed"
    },
    "tags": []
   },
   "outputs": [],
   "source": [
    "# now we will create our label using popularity, true_vote and investability\n",
    "# assuming that profit has a weightage of 70%, and true_vote and popularity have the weightage of 10% and 20% respectively.\n",
    "df['label'] = df['profit'] * 0.7 +  df['true_vote'] * 0.1 + df['popularity'] * 0.2\n",
    "df = df.drop(['popularity', 'true_vote', 'profit'], axis = 1)"
   ]
  },
  {
   "cell_type": "code",
   "execution_count": 48,
   "id": "df26f780",
   "metadata": {
    "execution": {
     "iopub.execute_input": "2023-12-27T05:36:13.991602Z",
     "iopub.status.busy": "2023-12-27T05:36:13.991324Z",
     "iopub.status.idle": "2023-12-27T05:36:14.001423Z",
     "shell.execute_reply": "2023-12-27T05:36:14.000431Z"
    },
    "papermill": {
     "duration": 0.030682,
     "end_time": "2023-12-27T05:36:14.003339",
     "exception": false,
     "start_time": "2023-12-27T05:36:13.972657",
     "status": "completed"
    },
    "tags": []
   },
   "outputs": [
    {
     "data": {
      "text/html": [
       "<div>\n",
       "<style scoped>\n",
       "    .dataframe tbody tr th:only-of-type {\n",
       "        vertical-align: middle;\n",
       "    }\n",
       "\n",
       "    .dataframe tbody tr th {\n",
       "        vertical-align: top;\n",
       "    }\n",
       "\n",
       "    .dataframe thead th {\n",
       "        text-align: right;\n",
       "    }\n",
       "</style>\n",
       "<table border=\"1\" class=\"dataframe\">\n",
       "  <thead>\n",
       "    <tr style=\"text-align: right;\">\n",
       "      <th></th>\n",
       "      <th>cast</th>\n",
       "      <th>director</th>\n",
       "      <th>genres</th>\n",
       "      <th>label</th>\n",
       "    </tr>\n",
       "  </thead>\n",
       "  <tbody>\n",
       "    <tr>\n",
       "      <th>0</th>\n",
       "      <td>Chris Pratt|Bryce Dallas Howard|Irrfan Khan|Vi...</td>\n",
       "      <td>Colin Trevorrow</td>\n",
       "      <td>Action|Adventure|Science Fiction|Thriller</td>\n",
       "      <td>8.433656</td>\n",
       "    </tr>\n",
       "    <tr>\n",
       "      <th>1</th>\n",
       "      <td>Tom Hardy|Charlize Theron|Hugh Keays-Byrne|Nic...</td>\n",
       "      <td>George Miller</td>\n",
       "      <td>Action|Adventure|Science Fiction|Thriller</td>\n",
       "      <td>7.770984</td>\n",
       "    </tr>\n",
       "    <tr>\n",
       "      <th>2</th>\n",
       "      <td>Shailene Woodley|Theo James|Kate Winslet|Ansel...</td>\n",
       "      <td>Robert Schwentke</td>\n",
       "      <td>Adventure|Science Fiction|Thriller</td>\n",
       "      <td>6.745086</td>\n",
       "    </tr>\n",
       "    <tr>\n",
       "      <th>3</th>\n",
       "      <td>Harrison Ford|Mark Hamill|Carrie Fisher|Adam D...</td>\n",
       "      <td>J.J. Abrams</td>\n",
       "      <td>Action|Adventure|Science Fiction|Fantasy</td>\n",
       "      <td>7.216303</td>\n",
       "    </tr>\n",
       "    <tr>\n",
       "      <th>4</th>\n",
       "      <td>Vin Diesel|Paul Walker|Jason Statham|Michelle ...</td>\n",
       "      <td>James Wan</td>\n",
       "      <td>Action|Crime|Thriller</td>\n",
       "      <td>6.974146</td>\n",
       "    </tr>\n",
       "  </tbody>\n",
       "</table>\n",
       "</div>"
      ],
      "text/plain": [
       "                                                cast          director  \\\n",
       "0  Chris Pratt|Bryce Dallas Howard|Irrfan Khan|Vi...   Colin Trevorrow   \n",
       "1  Tom Hardy|Charlize Theron|Hugh Keays-Byrne|Nic...     George Miller   \n",
       "2  Shailene Woodley|Theo James|Kate Winslet|Ansel...  Robert Schwentke   \n",
       "3  Harrison Ford|Mark Hamill|Carrie Fisher|Adam D...       J.J. Abrams   \n",
       "4  Vin Diesel|Paul Walker|Jason Statham|Michelle ...         James Wan   \n",
       "\n",
       "                                      genres     label  \n",
       "0  Action|Adventure|Science Fiction|Thriller  8.433656  \n",
       "1  Action|Adventure|Science Fiction|Thriller  7.770984  \n",
       "2         Adventure|Science Fiction|Thriller  6.745086  \n",
       "3   Action|Adventure|Science Fiction|Fantasy  7.216303  \n",
       "4                      Action|Crime|Thriller  6.974146  "
      ]
     },
     "execution_count": 48,
     "metadata": {},
     "output_type": "execute_result"
    }
   ],
   "source": [
    "df.head()"
   ]
  },
  {
   "cell_type": "code",
   "execution_count": 49,
   "id": "afd1cc27",
   "metadata": {
    "execution": {
     "iopub.execute_input": "2023-12-27T05:36:14.042844Z",
     "iopub.status.busy": "2023-12-27T05:36:14.042554Z",
     "iopub.status.idle": "2023-12-27T05:36:14.231771Z",
     "shell.execute_reply": "2023-12-27T05:36:14.230659Z"
    },
    "papermill": {
     "duration": 0.212091,
     "end_time": "2023-12-27T05:36:14.234536",
     "exception": false,
     "start_time": "2023-12-27T05:36:14.022445",
     "status": "completed"
    },
    "tags": []
   },
   "outputs": [
    {
     "data": {
      "image/png": "[encoded data removed]",
      "text/plain": [
       "<Figure size 640x480 with 1 Axes>"
      ]
     },
     "metadata": {},
     "output_type": "display_data"
    }
   ],
   "source": [
    "plt.hist(df['label'])\n",
    "plt.title('Distribution of Values in label')\n",
    "plt.xlabel('Value')\n",
    "plt.ylabel('Frequency')\n",
    "plt.show() "
   ]
  },
  {
   "cell_type": "code",
   "execution_count": 50,
   "id": "c98af653",
   "metadata": {
    "execution": {
     "iopub.execute_input": "2023-12-27T05:36:14.275036Z",
     "iopub.status.busy": "2023-12-27T05:36:14.274713Z",
     "iopub.status.idle": "2023-12-27T05:36:14.444839Z",
     "shell.execute_reply": "2023-12-27T05:36:14.443746Z"
    },
    "papermill": {
     "duration": 0.192809,
     "end_time": "2023-12-27T05:36:14.446785",
     "exception": false,
     "start_time": "2023-12-27T05:36:14.253976",
     "status": "completed"
    },
    "tags": []
   },
   "outputs": [
    {
     "data": {
      "image/png": "[encoded data removed]",
      "text/plain": [
       "<Figure size 640x480 with 1 Axes>"
      ]
     },
     "metadata": {},
     "output_type": "display_data"
    }
   ],
   "source": [
    "plt.hist(df.loc[df['label'] < 6]['label'])\n",
    "plt.show()"
   ]
  },
  {
   "cell_type": "code",
   "execution_count": 51,
   "id": "7e6a2995",
   "metadata": {
    "execution": {
     "iopub.execute_input": "2023-12-27T05:36:14.488458Z",
     "iopub.status.busy": "2023-12-27T05:36:14.487502Z",
     "iopub.status.idle": "2023-12-27T05:36:14.491052Z",
     "shell.execute_reply": "2023-12-27T05:36:14.490472Z"
    },
    "papermill": {
     "duration": 0.026156,
     "end_time": "2023-12-27T05:36:14.492587",
     "exception": false,
     "start_time": "2023-12-27T05:36:14.466431",
     "status": "completed"
    },
    "tags": []
   },
   "outputs": [],
   "source": [
    "# as we can see, our desired set of movies that made a profit falls at value 6 in the label.\n",
    "# this will dictate how we split our class while training our model."
   ]
  },
  {
   "cell_type": "code",
   "execution_count": 52,
   "id": "09a0d66c",
   "metadata": {
    "execution": {
     "iopub.execute_input": "2023-12-27T05:36:14.530082Z",
     "iopub.status.busy": "2023-12-27T05:36:14.529778Z",
     "iopub.status.idle": "2023-12-27T05:36:14.610629Z",
     "shell.execute_reply": "2023-12-27T05:36:14.609713Z"
    },
    "papermill": {
     "duration": 0.102324,
     "end_time": "2023-12-27T05:36:14.613094",
     "exception": false,
     "start_time": "2023-12-27T05:36:14.510770",
     "status": "completed"
    },
    "tags": []
   },
   "outputs": [],
   "source": [
    "# separating the cast and genre names into individual entries\n",
    "df['cast'] = df['cast'].str.split('|')\n",
    "df['director'] = df['director'].str.split('|')\n",
    "df['genres'] = df['genres'].str.split('|')\n",
    "\n",
    "df = df.explode('cast').reset_index(drop=True)\n",
    "df = df.explode('director').reset_index(drop=True)\n",
    "df = df.explode('genres').reset_index(drop=True)\n",
    "\n",
    "df.rename(columns={'genres': 'genre', 'cast': 'actor'}, inplace=True)"
   ]
  },
  {
   "cell_type": "code",
   "execution_count": 53,
   "id": "8b0c7dbc",
   "metadata": {
    "execution": {
     "iopub.execute_input": "2023-12-27T05:36:14.653607Z",
     "iopub.status.busy": "2023-12-27T05:36:14.653298Z",
     "iopub.status.idle": "2023-12-27T05:36:14.662695Z",
     "shell.execute_reply": "2023-12-27T05:36:14.661800Z"
    },
    "papermill": {
     "duration": 0.031431,
     "end_time": "2023-12-27T05:36:14.664591",
     "exception": false,
     "start_time": "2023-12-27T05:36:14.633160",
     "status": "completed"
    },
    "tags": []
   },
   "outputs": [
    {
     "data": {
      "text/html": [
       "<div>\n",
       "<style scoped>\n",
       "    .dataframe tbody tr th:only-of-type {\n",
       "        vertical-align: middle;\n",
       "    }\n",
       "\n",
       "    .dataframe tbody tr th {\n",
       "        vertical-align: top;\n",
       "    }\n",
       "\n",
       "    .dataframe thead th {\n",
       "        text-align: right;\n",
       "    }\n",
       "</style>\n",
       "<table border=\"1\" class=\"dataframe\">\n",
       "  <thead>\n",
       "    <tr style=\"text-align: right;\">\n",
       "      <th></th>\n",
       "      <th>actor</th>\n",
       "      <th>director</th>\n",
       "      <th>genre</th>\n",
       "      <th>label</th>\n",
       "    </tr>\n",
       "  </thead>\n",
       "  <tbody>\n",
       "    <tr>\n",
       "      <th>0</th>\n",
       "      <td>Chris Pratt</td>\n",
       "      <td>Colin Trevorrow</td>\n",
       "      <td>Action</td>\n",
       "      <td>8.433656</td>\n",
       "    </tr>\n",
       "    <tr>\n",
       "      <th>1</th>\n",
       "      <td>Chris Pratt</td>\n",
       "      <td>Colin Trevorrow</td>\n",
       "      <td>Adventure</td>\n",
       "      <td>8.433656</td>\n",
       "    </tr>\n",
       "    <tr>\n",
       "      <th>2</th>\n",
       "      <td>Chris Pratt</td>\n",
       "      <td>Colin Trevorrow</td>\n",
       "      <td>Science Fiction</td>\n",
       "      <td>8.433656</td>\n",
       "    </tr>\n",
       "    <tr>\n",
       "      <th>3</th>\n",
       "      <td>Chris Pratt</td>\n",
       "      <td>Colin Trevorrow</td>\n",
       "      <td>Thriller</td>\n",
       "      <td>8.433656</td>\n",
       "    </tr>\n",
       "    <tr>\n",
       "      <th>4</th>\n",
       "      <td>Bryce Dallas Howard</td>\n",
       "      <td>Colin Trevorrow</td>\n",
       "      <td>Action</td>\n",
       "      <td>8.433656</td>\n",
       "    </tr>\n",
       "  </tbody>\n",
       "</table>\n",
       "</div>"
      ],
      "text/plain": [
       "                 actor         director            genre     label\n",
       "0          Chris Pratt  Colin Trevorrow           Action  8.433656\n",
       "1          Chris Pratt  Colin Trevorrow        Adventure  8.433656\n",
       "2          Chris Pratt  Colin Trevorrow  Science Fiction  8.433656\n",
       "3          Chris Pratt  Colin Trevorrow         Thriller  8.433656\n",
       "4  Bryce Dallas Howard  Colin Trevorrow           Action  8.433656"
      ]
     },
     "execution_count": 53,
     "metadata": {},
     "output_type": "execute_result"
    }
   ],
   "source": [
    "df.head()"
   ]
  },
  {
   "cell_type": "code",
   "execution_count": 54,
   "id": "e3ca57dc",
   "metadata": {
    "execution": {
     "iopub.execute_input": "2023-12-27T05:36:14.703762Z",
     "iopub.status.busy": "2023-12-27T05:36:14.703472Z",
     "iopub.status.idle": "2023-12-27T05:36:14.895820Z",
     "shell.execute_reply": "2023-12-27T05:36:14.894928Z"
    },
    "papermill": {
     "duration": 0.214044,
     "end_time": "2023-12-27T05:36:14.897827",
     "exception": false,
     "start_time": "2023-12-27T05:36:14.683783",
     "status": "completed"
    },
    "tags": []
   },
   "outputs": [],
   "source": [
    "# extracting this dataframe for use in app\n",
    "\n",
    "import pandas as pd\n",
    "\n",
    "df.to_csv('output.csv', index=False)"
   ]
  },
  {
   "cell_type": "code",
   "execution_count": 55,
   "id": "fdc57906",
   "metadata": {
    "execution": {
     "iopub.execute_input": "2023-12-27T05:36:14.936303Z",
     "iopub.status.busy": "2023-12-27T05:36:14.935974Z",
     "iopub.status.idle": "2023-12-27T05:36:14.941828Z",
     "shell.execute_reply": "2023-12-27T05:36:14.940591Z"
    },
    "papermill": {
     "duration": 0.027264,
     "end_time": "2023-12-27T05:36:14.943690",
     "exception": false,
     "start_time": "2023-12-27T05:36:14.916426",
     "status": "completed"
    },
    "tags": []
   },
   "outputs": [
    {
     "data": {
      "text/plain": [
       "(86216, 4)"
      ]
     },
     "execution_count": 55,
     "metadata": {},
     "output_type": "execute_result"
    }
   ],
   "source": [
    "df.shape"
   ]
  },
  {
   "cell_type": "code",
   "execution_count": 56,
   "id": "5b5aeb85",
   "metadata": {
    "execution": {
     "iopub.execute_input": "2023-12-27T05:36:14.982052Z",
     "iopub.status.busy": "2023-12-27T05:36:14.981753Z",
     "iopub.status.idle": "2023-12-27T05:36:15.319595Z",
     "shell.execute_reply": "2023-12-27T05:36:15.318304Z"
    },
    "papermill": {
     "duration": 0.359655,
     "end_time": "2023-12-27T05:36:15.321851",
     "exception": false,
     "start_time": "2023-12-27T05:36:14.962196",
     "status": "completed"
    },
    "tags": []
   },
   "outputs": [],
   "source": [
    "# encoding the categorical values\n",
    "\n",
    "from sklearn.preprocessing import LabelEncoder\n",
    "\n",
    "le = LabelEncoder()\n",
    "df['actor'] = le.fit_transform(df['actor'])\n",
    "mapping_actor = dict(zip(le.classes_, range(len(le.classes_))))\n",
    "df['director'] = le.fit_transform(df['director'])\n",
    "mapping_director = dict(zip(le.classes_, range(len(le.classes_))))\n",
    "df['genre'] = le.fit_transform(df['genre'])\n",
    "mapping_genre = dict(zip(le.classes_, range(len(le.classes_))))\n",
    "\n",
    "num_actor = len(mapping_actor)\n",
    "num_director = len(mapping_director)\n",
    "num_genre = len(mapping_genre)\n",
    "\n",
    "# converting the continous label into a binary label\n",
    "\n",
    "df['label'] = df['label'].apply(lambda x: 1 if x >= 6 else 0)"
   ]
  },
  {
   "cell_type": "code",
   "execution_count": 57,
   "id": "cf4c5f97",
   "metadata": {
    "execution": {
     "iopub.execute_input": "2023-12-27T05:36:15.362378Z",
     "iopub.status.busy": "2023-12-27T05:36:15.361944Z",
     "iopub.status.idle": "2023-12-27T05:36:15.369533Z",
     "shell.execute_reply": "2023-12-27T05:36:15.368741Z"
    },
    "papermill": {
     "duration": 0.030712,
     "end_time": "2023-12-27T05:36:15.371661",
     "exception": false,
     "start_time": "2023-12-27T05:36:15.340949",
     "status": "completed"
    },
    "tags": []
   },
   "outputs": [
    {
     "name": "stdout",
     "output_type": "stream",
     "text": [
      "1853 506 0\n"
     ]
    }
   ],
   "source": [
    "print(mapping_actor['Chris Pratt'], mapping_director['Colin Trevorrow'], mapping_genre['Action'])"
   ]
  },
  {
   "cell_type": "code",
   "execution_count": 58,
   "id": "b84dc58d",
   "metadata": {
    "execution": {
     "iopub.execute_input": "2023-12-27T05:36:15.422655Z",
     "iopub.status.busy": "2023-12-27T05:36:15.422329Z",
     "iopub.status.idle": "2023-12-27T05:36:15.650180Z",
     "shell.execute_reply": "2023-12-27T05:36:15.649511Z"
    },
    "papermill": {
     "duration": 0.257094,
     "end_time": "2023-12-27T05:36:15.652100",
     "exception": false,
     "start_time": "2023-12-27T05:36:15.395006",
     "status": "completed"
    },
    "tags": []
   },
   "outputs": [
    {
     "data": {
      "text/plain": [
       "<Axes: >"
      ]
     },
     "execution_count": 58,
     "metadata": {},
     "output_type": "execute_result"
    },
    {
     "data": {
      "image/png": "[encoded data removed]",
      "text/plain": [
       "<Figure size 640x480 with 1 Axes>"
      ]
     },
     "metadata": {},
     "output_type": "display_data"
    }
   ],
   "source": [
    "df['label'].hist()"
   ]
  },
  {
   "cell_type": "code",
   "execution_count": 59,
   "id": "c7a2d2ba",
   "metadata": {
    "execution": {
     "iopub.execute_input": "2023-12-27T05:36:15.693669Z",
     "iopub.status.busy": "2023-12-27T05:36:15.693325Z",
     "iopub.status.idle": "2023-12-27T05:36:15.703566Z",
     "shell.execute_reply": "2023-12-27T05:36:15.702732Z"
    },
    "papermill": {
     "duration": 0.033089,
     "end_time": "2023-12-27T05:36:15.705283",
     "exception": false,
     "start_time": "2023-12-27T05:36:15.672194",
     "status": "completed"
    },
    "tags": []
   },
   "outputs": [
    {
     "data": {
      "text/plain": [
       "label\n",
       "0    63984\n",
       "1    22232\n",
       "Name: count, dtype: int64"
      ]
     },
     "execution_count": 59,
     "metadata": {},
     "output_type": "execute_result"
    }
   ],
   "source": [
    "df['label'].value_counts()"
   ]
  },
  {
   "cell_type": "code",
   "execution_count": 60,
   "id": "83b3f484",
   "metadata": {
    "execution": {
     "iopub.execute_input": "2023-12-27T05:36:15.745215Z",
     "iopub.status.busy": "2023-12-27T05:36:15.744569Z",
     "iopub.status.idle": "2023-12-27T05:36:15.756098Z",
     "shell.execute_reply": "2023-12-27T05:36:15.755153Z"
    },
    "papermill": {
     "duration": 0.033288,
     "end_time": "2023-12-27T05:36:15.757844",
     "exception": false,
     "start_time": "2023-12-27T05:36:15.724556",
     "status": "completed"
    },
    "tags": []
   },
   "outputs": [
    {
     "data": {
      "text/html": [
       "<div>\n",
       "<style scoped>\n",
       "    .dataframe tbody tr th:only-of-type {\n",
       "        vertical-align: middle;\n",
       "    }\n",
       "\n",
       "    .dataframe tbody tr th {\n",
       "        vertical-align: top;\n",
       "    }\n",
       "\n",
       "    .dataframe thead th {\n",
       "        text-align: right;\n",
       "    }\n",
       "</style>\n",
       "<table border=\"1\" class=\"dataframe\">\n",
       "  <thead>\n",
       "    <tr style=\"text-align: right;\">\n",
       "      <th></th>\n",
       "      <th>actor</th>\n",
       "      <th>director</th>\n",
       "      <th>genre</th>\n",
       "      <th>label</th>\n",
       "    </tr>\n",
       "  </thead>\n",
       "  <tbody>\n",
       "    <tr>\n",
       "      <th>0</th>\n",
       "      <td>1853</td>\n",
       "      <td>506</td>\n",
       "      <td>0</td>\n",
       "      <td>1</td>\n",
       "    </tr>\n",
       "    <tr>\n",
       "      <th>1</th>\n",
       "      <td>1853</td>\n",
       "      <td>506</td>\n",
       "      <td>1</td>\n",
       "      <td>1</td>\n",
       "    </tr>\n",
       "    <tr>\n",
       "      <th>2</th>\n",
       "      <td>1853</td>\n",
       "      <td>506</td>\n",
       "      <td>15</td>\n",
       "      <td>1</td>\n",
       "    </tr>\n",
       "    <tr>\n",
       "      <th>3</th>\n",
       "      <td>1853</td>\n",
       "      <td>506</td>\n",
       "      <td>17</td>\n",
       "      <td>1</td>\n",
       "    </tr>\n",
       "    <tr>\n",
       "      <th>4</th>\n",
       "      <td>1444</td>\n",
       "      <td>506</td>\n",
       "      <td>0</td>\n",
       "      <td>1</td>\n",
       "    </tr>\n",
       "    <tr>\n",
       "      <th>...</th>\n",
       "      <td>...</td>\n",
       "      <td>...</td>\n",
       "      <td>...</td>\n",
       "      <td>...</td>\n",
       "    </tr>\n",
       "    <tr>\n",
       "      <th>86121</th>\n",
       "      <td>6357</td>\n",
       "      <td>95</td>\n",
       "      <td>17</td>\n",
       "      <td>1</td>\n",
       "    </tr>\n",
       "    <tr>\n",
       "      <th>86122</th>\n",
       "      <td>3909</td>\n",
       "      <td>95</td>\n",
       "      <td>13</td>\n",
       "      <td>1</td>\n",
       "    </tr>\n",
       "    <tr>\n",
       "      <th>86123</th>\n",
       "      <td>3909</td>\n",
       "      <td>95</td>\n",
       "      <td>17</td>\n",
       "      <td>1</td>\n",
       "    </tr>\n",
       "    <tr>\n",
       "      <th>86124</th>\n",
       "      <td>10003</td>\n",
       "      <td>95</td>\n",
       "      <td>13</td>\n",
       "      <td>1</td>\n",
       "    </tr>\n",
       "    <tr>\n",
       "      <th>86125</th>\n",
       "      <td>10003</td>\n",
       "      <td>95</td>\n",
       "      <td>17</td>\n",
       "      <td>1</td>\n",
       "    </tr>\n",
       "  </tbody>\n",
       "</table>\n",
       "<p>22232 rows × 4 columns</p>\n",
       "</div>"
      ],
      "text/plain": [
       "       actor  director  genre  label\n",
       "0       1853       506      0      1\n",
       "1       1853       506      1      1\n",
       "2       1853       506     15      1\n",
       "3       1853       506     17      1\n",
       "4       1444       506      0      1\n",
       "...      ...       ...    ...    ...\n",
       "86121   6357        95     17      1\n",
       "86122   3909        95     13      1\n",
       "86123   3909        95     17      1\n",
       "86124  10003        95     13      1\n",
       "86125  10003        95     17      1\n",
       "\n",
       "[22232 rows x 4 columns]"
      ]
     },
     "execution_count": 60,
     "metadata": {},
     "output_type": "execute_result"
    }
   ],
   "source": [
    "df.loc[df['label'] == 1]"
   ]
  },
  {
   "cell_type": "code",
   "execution_count": 61,
   "id": "4d0b5ddc",
   "metadata": {
    "execution": {
     "iopub.execute_input": "2023-12-27T05:36:15.798814Z",
     "iopub.status.busy": "2023-12-27T05:36:15.797730Z",
     "iopub.status.idle": "2023-12-27T05:36:15.803731Z",
     "shell.execute_reply": "2023-12-27T05:36:15.802721Z"
    },
    "papermill": {
     "duration": 0.028608,
     "end_time": "2023-12-27T05:36:15.806082",
     "exception": false,
     "start_time": "2023-12-27T05:36:15.777474",
     "status": "completed"
    },
    "tags": []
   },
   "outputs": [
    {
     "name": "stdout",
     "output_type": "stream",
     "text": [
      "10965 2959 21\n"
     ]
    }
   ],
   "source": [
    "print(num_actor, num_director, num_genre)"
   ]
  },
  {
   "cell_type": "code",
   "execution_count": 62,
   "id": "bc9bdccf",
   "metadata": {
    "execution": {
     "iopub.execute_input": "2023-12-27T05:36:15.858650Z",
     "iopub.status.busy": "2023-12-27T05:36:15.858223Z",
     "iopub.status.idle": "2023-12-27T05:36:15.867739Z",
     "shell.execute_reply": "2023-12-27T05:36:15.866847Z"
    },
    "papermill": {
     "duration": 0.041489,
     "end_time": "2023-12-27T05:36:15.869542",
     "exception": false,
     "start_time": "2023-12-27T05:36:15.828053",
     "status": "completed"
    },
    "tags": []
   },
   "outputs": [
    {
     "data": {
      "text/plain": [
       "actor       0\n",
       "director    0\n",
       "genre       0\n",
       "label       0\n",
       "dtype: int64"
      ]
     },
     "execution_count": 62,
     "metadata": {},
     "output_type": "execute_result"
    }
   ],
   "source": [
    "df.isnull().sum()"
   ]
  },
  {
   "cell_type": "code",
   "execution_count": 63,
   "id": "193e7677",
   "metadata": {
    "execution": {
     "iopub.execute_input": "2023-12-27T05:36:15.922577Z",
     "iopub.status.busy": "2023-12-27T05:36:15.922186Z",
     "iopub.status.idle": "2023-12-27T05:36:16.101519Z",
     "shell.execute_reply": "2023-12-27T05:36:16.100502Z"
    },
    "papermill": {
     "duration": 0.208698,
     "end_time": "2023-12-27T05:36:16.103780",
     "exception": false,
     "start_time": "2023-12-27T05:36:15.895082",
     "status": "completed"
    },
    "tags": []
   },
   "outputs": [],
   "source": [
    "# training the model\n",
    "\n",
    "from sklearn.model_selection import cross_val_score, cross_val_predict, RepeatedStratifiedKFold\n",
    "from sklearn.linear_model import LogisticRegression\n",
    "from sklearn.model_selection import train_test_split\n",
    "from sklearn.metrics import accuracy_score"
   ]
  },
  {
   "cell_type": "code",
   "execution_count": 64,
   "id": "282c333b",
   "metadata": {
    "execution": {
     "iopub.execute_input": "2023-12-27T05:36:16.144864Z",
     "iopub.status.busy": "2023-12-27T05:36:16.144527Z",
     "iopub.status.idle": "2023-12-27T05:36:16.159558Z",
     "shell.execute_reply": "2023-12-27T05:36:16.158826Z"
    },
    "papermill": {
     "duration": 0.037601,
     "end_time": "2023-12-27T05:36:16.161259",
     "exception": false,
     "start_time": "2023-12-27T05:36:16.123658",
     "status": "completed"
    },
    "tags": []
   },
   "outputs": [],
   "source": [
    "X = df.drop(columns = ['label'])\n",
    "y = df['label']\n",
    "\n",
    "X_train, X_test, y_train, y_test = train_test_split(X, y, test_size=0.2, random_state=42)"
   ]
  },
  {
   "cell_type": "code",
   "execution_count": 65,
   "id": "c5b46bdc",
   "metadata": {
    "execution": {
     "iopub.execute_input": "2023-12-27T05:36:16.203420Z",
     "iopub.status.busy": "2023-12-27T05:36:16.202911Z",
     "iopub.status.idle": "2023-12-27T05:36:16.332059Z",
     "shell.execute_reply": "2023-12-27T05:36:16.331356Z"
    },
    "papermill": {
     "duration": 0.153126,
     "end_time": "2023-12-27T05:36:16.334293",
     "exception": false,
     "start_time": "2023-12-27T05:36:16.181167",
     "status": "completed"
    },
    "tags": []
   },
   "outputs": [
    {
     "name": "stdout",
     "output_type": "stream",
     "text": [
      "Accuracy: 74.36789607979587%\n"
     ]
    }
   ],
   "source": [
    "model = LogisticRegression(max_iter = 1000)\n",
    "model.fit(X_train, y_train)\n",
    "\n",
    "y_pred = model.predict(X_test)\n",
    "\n",
    "score = accuracy_score(y_test, y_pred)\n",
    "print(f'Accuracy: {score * 100}%')"
   ]
  },
  {
   "cell_type": "code",
   "execution_count": 66,
   "id": "ae857a3e",
   "metadata": {
    "execution": {
     "iopub.execute_input": "2023-12-27T05:36:16.389449Z",
     "iopub.status.busy": "2023-12-27T05:36:16.388468Z",
     "iopub.status.idle": "2023-12-27T05:36:20.617731Z",
     "shell.execute_reply": "2023-12-27T05:36:20.617031Z"
    },
    "papermill": {
     "duration": 4.259004,
     "end_time": "2023-12-27T05:36:20.619825",
     "exception": false,
     "start_time": "2023-12-27T05:36:16.360821",
     "status": "completed"
    },
    "tags": []
   },
   "outputs": [
    {
     "name": "stdout",
     "output_type": "stream",
     "text": [
      "Cross-Validation Score: 74.2136030678864 (+/- 8.513468597732274e-05)\n"
     ]
    }
   ],
   "source": [
    "cv = RepeatedStratifiedKFold(n_splits=10, n_repeats=3, random_state=1)\n",
    "\n",
    "model = LogisticRegression(max_iter = 1000)\n",
    "scores = cross_val_score(model, X, y, cv=cv, scoring='accuracy')\n",
    "\n",
    "print(f'Cross-Validation Score: {scores.mean() * 100} (+/- {scores.std() * 2})')"
   ]
  },
  {
   "cell_type": "code",
   "execution_count": 67,
   "id": "480551dc",
   "metadata": {
    "execution": {
     "iopub.execute_input": "2023-12-27T05:36:20.676479Z",
     "iopub.status.busy": "2023-12-27T05:36:20.676120Z",
     "iopub.status.idle": "2023-12-27T05:36:20.889040Z",
     "shell.execute_reply": "2023-12-27T05:36:20.888026Z"
    },
    "papermill": {
     "duration": 0.242114,
     "end_time": "2023-12-27T05:36:20.891007",
     "exception": false,
     "start_time": "2023-12-27T05:36:20.648893",
     "status": "completed"
    },
    "tags": []
   },
   "outputs": [
    {
     "data": {
      "text/html": [
       "<style>#sk-container-id-1 {color: black;background-color: white;}#sk-container-id-1 pre{padding: 0;}#sk-container-id-1 div.sk-toggleable {background-color: white;}#sk-container-id-1 label.sk-toggleable__label {cursor: pointer;display: block;width: 100%;margin-bottom: 0;padding: 0.3em;box-sizing: border-box;text-align: center;}#sk-container-id-1 label.sk-toggleable__label-arrow:before {content: \"▸\";float: left;margin-right: 0.25em;color: #696969;}#sk-container-id-1 label.sk-toggleable__label-arrow:hover:before {color: black;}#sk-container-id-1 div.sk-estimator:hover label.sk-toggleable__label-arrow:before {color: black;}#sk-container-id-1 div.sk-toggleable__content {max-height: 0;max-width: 0;overflow: hidden;text-align: left;background-color: #f0f8ff;}#sk-container-id-1 div.sk-toggleable__content pre {margin: 0.2em;color: black;border-radius: 0.25em;background-color: #f0f8ff;}#sk-container-id-1 input.sk-toggleable__control:checked~div.sk-toggleable__content {max-height: 200px;max-width: 100%;overflow: auto;}#sk-container-id-1 input.sk-toggleable__control:checked~label.sk-toggleable__label-arrow:before {content: \"▾\";}#sk-container-id-1 div.sk-estimator input.sk-toggleable__control:checked~label.sk-toggleable__label {background-color: #d4ebff;}#sk-container-id-1 div.sk-label input.sk-toggleable__control:checked~label.sk-toggleable__label {background-color: #d4ebff;}#sk-container-id-1 input.sk-hidden--visually {border: 0;clip: rect(1px 1px 1px 1px);clip: rect(1px, 1px, 1px, 1px);height: 1px;margin: -1px;overflow: hidden;padding: 0;position: absolute;width: 1px;}#sk-container-id-1 div.sk-estimator {font-family: monospace;background-color: #f0f8ff;border: 1px dotted black;border-radius: 0.25em;box-sizing: border-box;margin-bottom: 0.5em;}#sk-container-id-1 div.sk-estimator:hover {background-color: #d4ebff;}#sk-container-id-1 div.sk-parallel-item::after {content: \"\";width: 100%;border-bottom: 1px solid gray;flex-grow: 1;}#sk-container-id-1 div.sk-label:hover label.sk-toggleable__label {background-color: #d4ebff;}#sk-container-id-1 div.sk-serial::before {content: \"\";position: absolute;border-left: 1px solid gray;box-sizing: border-box;top: 0;bottom: 0;left: 50%;z-index: 0;}#sk-container-id-1 div.sk-serial {display: flex;flex-direction: column;align-items: center;background-color: white;padding-right: 0.2em;padding-left: 0.2em;position: relative;}#sk-container-id-1 div.sk-item {position: relative;z-index: 1;}#sk-container-id-1 div.sk-parallel {display: flex;align-items: stretch;justify-content: center;background-color: white;position: relative;}#sk-container-id-1 div.sk-item::before, #sk-container-id-1 div.sk-parallel-item::before {content: \"\";position: absolute;border-left: 1px solid gray;box-sizing: border-box;top: 0;bottom: 0;left: 50%;z-index: -1;}#sk-container-id-1 div.sk-parallel-item {display: flex;flex-direction: column;z-index: 1;position: relative;background-color: white;}#sk-container-id-1 div.sk-parallel-item:first-child::after {align-self: flex-end;width: 50%;}#sk-container-id-1 div.sk-parallel-item:last-child::after {align-self: flex-start;width: 50%;}#sk-container-id-1 div.sk-parallel-item:only-child::after {width: 0;}#sk-container-id-1 div.sk-dashed-wrapped {border: 1px dashed gray;margin: 0 0.4em 0.5em 0.4em;box-sizing: border-box;padding-bottom: 0.4em;background-color: white;}#sk-container-id-1 div.sk-label label {font-family: monospace;font-weight: bold;display: inline-block;line-height: 1.2em;}#sk-container-id-1 div.sk-label-container {text-align: center;}#sk-container-id-1 div.sk-container {/* jupyter's `normalize.less` sets `[hidden] { display: none; }` but bootstrap.min.css set `[hidden] { display: none !important; }` so we also need the `!important` here to be able to override the default hidden behavior on the sphinx rendered scikit-learn.org. See: https://github.com/scikit-learn/scikit-learn/issues/21755 */display: inline-block !important;position: relative;}#sk-container-id-1 div.sk-text-repr-fallback {display: none;}</style><div id=\"sk-container-id-1\" class=\"sk-top-container\"><div class=\"sk-text-repr-fallback\"><pre>LogisticRegression(max_iter=1000)</pre><b>In a Jupyter environment, please rerun this cell to show the HTML representation or trust the notebook. <br />On GitHub, the HTML representation is unable to render, please try loading this page with nbviewer.org.</b></div><div class=\"sk-container\" hidden><div class=\"sk-item\"><div class=\"sk-estimator sk-toggleable\"><input class=\"sk-toggleable__control sk-hidden--visually\" id=\"sk-estimator-id-1\" type=\"checkbox\" checked><label for=\"sk-estimator-id-1\" class=\"sk-toggleable__label sk-toggleable__label-arrow\">LogisticRegression</label><div class=\"sk-toggleable__content\"><pre>LogisticRegression(max_iter=1000)</pre></div></div></div></div></div>"
      ],
      "text/plain": [
       "LogisticRegression(max_iter=1000)"
      ]
     },
     "execution_count": 67,
     "metadata": {},
     "output_type": "execute_result"
    }
   ],
   "source": [
    "# outputting results\n",
    "\n",
    "model.fit(X, y)"
   ]
  },
  {
   "cell_type": "code",
   "execution_count": 68,
   "id": "5c1f38c4",
   "metadata": {
    "execution": {
     "iopub.execute_input": "2023-12-27T05:36:20.948821Z",
     "iopub.status.busy": "2023-12-27T05:36:20.948466Z",
     "iopub.status.idle": "2023-12-27T05:36:20.958269Z",
     "shell.execute_reply": "2023-12-27T05:36:20.957314Z"
    },
    "papermill": {
     "duration": 0.040583,
     "end_time": "2023-12-27T05:36:20.960335",
     "exception": false,
     "start_time": "2023-12-27T05:36:20.919752",
     "status": "completed"
    },
    "tags": []
   },
   "outputs": [
    {
     "name": "stderr",
     "output_type": "stream",
     "text": [
      "/opt/conda/lib/python3.10/site-packages/sklearn/base.py:439: UserWarning: X does not have valid feature names, but LogisticRegression was fitted with feature names\n",
      "  warnings.warn(\n"
     ]
    },
    {
     "data": {
      "text/plain": [
       "array([[0.76153729, 0.23846271]])"
      ]
     },
     "execution_count": 68,
     "metadata": {},
     "output_type": "execute_result"
    }
   ],
   "source": [
    "actor_encoded = mapping_actor['Bryce Dallas Howard']\n",
    "director_encoded = mapping_director['Colin Trevorrow']\n",
    "genre_encoded = mapping_genre['Science Fiction']\n",
    "\n",
    "input_features = [[actor_encoded, director_encoded, genre_encoded]]\n",
    "probabilities = model.predict_proba(input_features)\n",
    "probabilities"
   ]
  },
  {
   "cell_type": "code",
   "execution_count": 69,
   "id": "a77a2a46",
   "metadata": {
    "execution": {
     "iopub.execute_input": "2023-12-27T05:36:21.013313Z",
     "iopub.status.busy": "2023-12-27T05:36:21.012987Z",
     "iopub.status.idle": "2023-12-27T05:36:21.017187Z",
     "shell.execute_reply": "2023-12-27T05:36:21.016290Z"
    },
    "papermill": {
     "duration": 0.030881,
     "end_time": "2023-12-27T05:36:21.019060",
     "exception": false,
     "start_time": "2023-12-27T05:36:20.988179",
     "status": "completed"
    },
    "tags": []
   },
   "outputs": [],
   "source": [
    "# For the first input sample [1, 1, 1], the model predicts a probability of approximately 0.998 for class 1 and a probability of approximately 0.002 for class 0.\n",
    "\n",
    "# Similarly, for the second input sample [1, 1, 2], the model predicts a probability of approximately 0.998 for class 1 and a probability of approximately 0.002 for class 0."
   ]
  }
 ],
 "metadata": {
  "kaggle": {
   "accelerator": "none",
   "dataSources": [
    {
     "datasetId": 18106,
     "sourceId": 23697,
     "sourceType": "datasetVersion"
    }
   ],
   "dockerImageVersionId": 30626,
   "isGpuEnabled": false,
   "isInternetEnabled": true,
   "language": "python",
   "sourceType": "notebook"
  },
  "kernelspec": {
   "display_name": "Python 3",
   "language": "python",
   "name": "python3"
  },
  "language_info": {
   "codemirror_mode": {
    "name": "ipython",
    "version": 3
   },
   "file_extension": ".py",
   "mimetype": "text/x-python",
   "name": "python",
   "nbconvert_exporter": "python",
   "pygments_lexer": "ipython3",
   "version": "3.10.12"
  },
  "papermill": {
   "default_parameters": {},
   "duration": 15.996123,
   "end_time": "2023-12-27T05:36:21.558171",
   "environment_variables": {},
   "exception": null,
   "input_path": "__notebook__.ipynb",
   "output_path": "__notebook__.ipynb",
   "parameters": {},
   "start_time": "2023-12-27T05:36:05.562048",
   "version": "2.4.0"
  }
 },
 "nbformat": 4,
 "nbformat_minor": 5
}
