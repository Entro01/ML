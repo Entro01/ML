{
  "nbformat": 4,
  "nbformat_minor": 0,
  "metadata": {
    "colab": {
      "provenance": [],
      "authorship_tag": "ABX9TyPLSwr0Klk4lbLZ8eVqbs4j",
      "include_colab_link": true
    },
    "kernelspec": {
      "name": "python3",
      "display_name": "Python 3"
    },
    "language_info": {
      "name": "python"
    }
  },
  "cells": [
    {
      "cell_type": "markdown",
      "metadata": {
        "id": "view-in-github",
        "colab_type": "text"
      },
      "source": [
        "<a href=\"https://colab.research.google.com/github/Entro01/ML-starter/blob/main/makemore/makemore_bigram/makrmore_bigram_v2.ipynb\" target=\"_parent\"><img src=\"https://colab.research.google.com/assets/colab-badge.svg\" alt=\"Open In Colab\"/></a>"
      ]
    },
    {
      "cell_type": "code",
      "execution_count": 85,
      "metadata": {
        "id": "-Jsv3bW8OEQx"
      },
      "outputs": [],
      "source": [
        "words = open('names.txt', 'r').read().splitlines()"
      ]
    },
    {
      "cell_type": "code",
      "source": [
        "print(words[:10])"
      ],
      "metadata": {
        "colab": {
          "base_uri": "https://localhost:8080/"
        },
        "id": "SoawIF9kOxWt",
        "outputId": "cbd93c3d-061c-42fd-83f5-31b016cdca56"
      },
      "execution_count": 86,
      "outputs": [
        {
          "output_type": "stream",
          "name": "stdout",
          "text": [
            "['emma', 'olivia', 'ava', 'isabella', 'sophia', 'charlotte', 'mia', 'amelia', 'harper', 'evelyn']\n"
          ]
        }
      ]
    },
    {
      "cell_type": "code",
      "source": [
        "print(min(len(x) for x in words))\n",
        "print(max(len(x) for x in words))"
      ],
      "metadata": {
        "colab": {
          "base_uri": "https://localhost:8080/"
        },
        "id": "V__E6n3eO5zy",
        "outputId": "0afc8041-d060-4ed6-d2c4-30a32a3f352c"
      },
      "execution_count": 87,
      "outputs": [
        {
          "output_type": "stream",
          "name": "stdout",
          "text": [
            "2\n",
            "15\n"
          ]
        }
      ]
    },
    {
      "cell_type": "code",
      "source": [
        "#bigram - only dealing with two characters at a time, always looking at the previous characater to predict the next one.\n",
        "\n",
        "b = {}\n",
        "for x in words[:3]:\n",
        "  x = ['<S>'] + list(x) + ['<E>']\n",
        "  for i,j in zip(x, x[1:]):\n",
        "    biagram = (i, j)\n",
        "    b[biagram] = b.get(biagram, 0) + 1\n",
        "print(b)"
      ],
      "metadata": {
        "id": "zKJ8ioImPZg2",
        "colab": {
          "base_uri": "https://localhost:8080/"
        },
        "outputId": "f890eca4-9d04-453f-ef5c-aadd9f313c49"
      },
      "execution_count": 88,
      "outputs": [
        {
          "output_type": "stream",
          "name": "stdout",
          "text": [
            "{('<S>', 'e'): 1, ('e', 'm'): 1, ('m', 'm'): 1, ('m', 'a'): 1, ('a', '<E>'): 3, ('<S>', 'o'): 1, ('o', 'l'): 1, ('l', 'i'): 1, ('i', 'v'): 1, ('v', 'i'): 1, ('i', 'a'): 1, ('<S>', 'a'): 1, ('a', 'v'): 1, ('v', 'a'): 1}\n"
          ]
        }
      ]
    },
    {
      "cell_type": "code",
      "source": [
        "sorted(b.items(), key = lambda k : -k[1])"
      ],
      "metadata": {
        "id": "nzwYDq08Z3d2",
        "colab": {
          "base_uri": "https://localhost:8080/"
        },
        "outputId": "189aa3db-4112-47c1-9974-0a204ec1239f"
      },
      "execution_count": 106,
      "outputs": [
        {
          "output_type": "execute_result",
          "data": {
            "text/plain": [
              "[(('a', '<E>'), 3),\n",
              " (('<S>', 'e'), 1),\n",
              " (('e', 'm'), 1),\n",
              " (('m', 'm'), 1),\n",
              " (('m', 'a'), 1),\n",
              " (('<S>', 'o'), 1),\n",
              " (('o', 'l'), 1),\n",
              " (('l', 'i'), 1),\n",
              " (('i', 'v'), 1),\n",
              " (('v', 'i'), 1),\n",
              " (('i', 'a'), 1),\n",
              " (('<S>', 'a'), 1),\n",
              " (('a', 'v'), 1),\n",
              " (('v', 'a'), 1)]"
            ]
          },
          "metadata": {},
          "execution_count": 106
        }
      ]
    },
    {
      "cell_type": "code",
      "source": [
        "import torch\n",
        "\n",
        "N = torch.zeros((27, 27), dtype = torch.int32)"
      ],
      "metadata": {
        "id": "FfbysF2aaXUZ"
      },
      "execution_count": 90,
      "outputs": []
    },
    {
      "cell_type": "code",
      "source": [
        "chrs = sorted(list(set(''.join(words))))\n",
        "stoi = {s: i + 1 for i,s in enumerate(chrs)}\n",
        "stoi['.'] = 0\n",
        "itos = {i:s for s, i in stoi.items()}"
      ],
      "metadata": {
        "id": "273Nm4VreqW-"
      },
      "execution_count": 91,
      "outputs": []
    },
    {
      "cell_type": "code",
      "source": [
        "for x in words:\n",
        "  x = ['.'] + list(x) + ['.']\n",
        "  for i,j in zip(x, x[1:]):\n",
        "    ii = stoi[i]\n",
        "    ji = stoi[j]\n",
        "    N[ii, ji] += 1"
      ],
      "metadata": {
        "id": "Ln1AauVicjK9"
      },
      "execution_count": 92,
      "outputs": []
    },
    {
      "cell_type": "code",
      "source": [
        "import matplotlib.pyplot as plt\n",
        "\n",
        "plt.imshow(N)"
      ],
      "metadata": {
        "colab": {
          "base_uri": "https://localhost:8080/",
          "height": 448
        },
        "id": "b-MMgZD9hNXS",
        "outputId": "d7a2ab77-20fe-4a1e-9e36-30560b488793"
      },
      "execution_count": 93,
      "outputs": [
        {
          "output_type": "execute_result",
          "data": {
            "text/plain": [
              "<matplotlib.image.AxesImage at 0x78be1c530220>"
            ]
          },
          "metadata": {},
          "execution_count": 93
        },
        {
          "output_type": "display_data",
          "data": {
            "text/plain": [
              "<Figure size 640x480 with 1 Axes>"
            ],
            "image/png": "[encoded data removed]"
          },
          "metadata": {}
        }
      ]
    },
    {
      "cell_type": "code",
      "source": [
        "P = (N+1).float() # N + 1 to remove the 0 values so that the model doesnt produce an infinite nll for the baigrams that dont appear in the training set (model smoothing)\n",
        "P = P / P.sum(1, keepdim = True)"
      ],
      "metadata": {
        "id": "U8gQCyMNiy47"
      },
      "execution_count": 94,
      "outputs": []
    },
    {
      "cell_type": "code",
      "source": [
        "P[0].sum()"
      ],
      "metadata": {
        "colab": {
          "base_uri": "https://localhost:8080/"
        },
        "id": "9S1W3AaWo9jB",
        "outputId": "6bd8a1ac-c382-4ece-acd0-847ac5d5b873"
      },
      "execution_count": 95,
      "outputs": [
        {
          "output_type": "execute_result",
          "data": {
            "text/plain": [
              "tensor(1.)"
            ]
          },
          "metadata": {},
          "execution_count": 95
        }
      ]
    },
    {
      "cell_type": "code",
      "source": [
        "# generating new names\n",
        "\n",
        "g = torch.Generator().manual_seed(2147483647)\n",
        "for i in range(10):\n",
        "  ix = 0\n",
        "  out = []\n",
        "  while True:\n",
        "    p = P[ix]\n",
        "    ix = torch.multinomial(p, num_samples = 1, replacement = True, generator = g).item()\n",
        "    out.append(itos[ix])\n",
        "    if ix == 0:\n",
        "      break\n",
        "  print(''.join(out))"
      ],
      "metadata": {
        "colab": {
          "base_uri": "https://localhost:8080/"
        },
        "id": "4oY4qW-qeNj_",
        "outputId": "1d8a4634-1b60-4a76-ab43-23658dbbc2c3"
      },
      "execution_count": 96,
      "outputs": [
        {
          "output_type": "stream",
          "name": "stdout",
          "text": [
            "junide.\n",
            "janasah.\n",
            "p.\n",
            "cony.\n",
            "a.\n",
            "nn.\n",
            "kohin.\n",
            "tolian.\n",
            "juee.\n",
            "ksahnaauranilevias.\n"
          ]
        }
      ]
    },
    {
      "cell_type": "code",
      "source": [
        "# evaluating the quality of the model\n",
        "# our goal is to maximize the likelihood of the data wrt model parameters\n",
        "# maximizing the likelihood = maximizing the log likelihood = minimizing the negative log likelihood = minimizing the average negative log likelihood\n",
        "\n",
        "log_likelihood = 0.0\n",
        "n = 0\n",
        "for x in [\"karajan\"]:\n",
        "#for x in words:\n",
        "  x = ['.'] + list(x) + ['.']\n",
        "  for i,j in zip(x, x[1:]):\n",
        "    ii = stoi[i]\n",
        "    ji = stoi[j]\n",
        "    logprob = torch.log(P[ii, ji])\n",
        "    log_likelihood += logprob\n",
        "    n += 1\n",
        "    print(f'{i}{j}: {logprob:.4f}')\n",
        "print(f'log likelihood: {log_likelihood}')\n",
        "nll = -log_likelihood\n",
        "print(f'nll: {nll / n}')"
      ],
      "metadata": {
        "colab": {
          "base_uri": "https://localhost:8080/"
        },
        "id": "ZgNIl5XOP1QB",
        "outputId": "403ba7ff-7b07-4748-a799-05ed9ce2b4fe"
      },
      "execution_count": 97,
      "outputs": [
        {
          "output_type": "stream",
          "name": "stdout",
          "text": [
            ".k: -2.3811\n",
            "ka: -1.0735\n",
            "ar: -2.3405\n",
            "ra: -1.6863\n",
            "aj: -5.2610\n",
            "ja: -0.6860\n",
            "an: -1.8302\n",
            "n.: -0.9982\n",
            "log likelihood: -16.256832122802734\n",
            "nll: 2.032104015350342\n"
          ]
        }
      ]
    },
    {
      "cell_type": "code",
      "source": [
        "# using gradient based optimization to tune the parameters of a neural network to minimize the loss function (nll)"
      ],
      "metadata": {
        "id": "ncY5Gy3ObXoF"
      },
      "execution_count": 98,
      "outputs": []
    },
    {
      "cell_type": "code",
      "source": [
        "# creating the training set (x,y)\n",
        "\n",
        "xs, ys = [], []\n",
        "\n",
        "for x in words[:1]:\n",
        "  x = ['.'] + list(x) + ['.']\n",
        "  for i,j in zip(x, x[1:]):\n",
        "    ii = stoi[i]\n",
        "    ji = stoi[j]\n",
        "    xs.append(ii)\n",
        "    ys.append(ji)\n",
        "xs = torch.tensor(xs)\n",
        "ys = torch.tensor(ys)"
      ],
      "metadata": {
        "id": "nxMQVOHqc6HD"
      },
      "execution_count": 99,
      "outputs": []
    },
    {
      "cell_type": "code",
      "source": [
        "xs"
      ],
      "metadata": {
        "colab": {
          "base_uri": "https://localhost:8080/"
        },
        "id": "IFnEfJcApiZv",
        "outputId": "5c62885b-de10-43aa-8deb-0fe81da0d9a9"
      },
      "execution_count": 115,
      "outputs": [
        {
          "output_type": "execute_result",
          "data": {
            "text/plain": [
              "tensor([ 0,  5, 13, 13,  1])"
            ]
          },
          "metadata": {},
          "execution_count": 115
        }
      ]
    },
    {
      "cell_type": "code",
      "source": [
        "# one hot encoding\n",
        "\n",
        "import torch.nn.functional as F\n",
        "\n",
        "xenc = F.one_hot(xs, num_classes = 27).float()\n",
        "xenc"
      ],
      "metadata": {
        "colab": {
          "base_uri": "https://localhost:8080/"
        },
        "id": "2r6xnNjFteAI",
        "outputId": "610d2ad2-6ea9-48a8-f6dd-f173898f2479"
      },
      "execution_count": 100,
      "outputs": [
        {
          "output_type": "execute_result",
          "data": {
            "text/plain": [
              "tensor([[1., 0., 0., 0., 0., 0., 0., 0., 0., 0., 0., 0., 0., 0., 0., 0., 0., 0.,\n",
              "         0., 0., 0., 0., 0., 0., 0., 0., 0.],\n",
              "        [0., 0., 0., 0., 0., 1., 0., 0., 0., 0., 0., 0., 0., 0., 0., 0., 0., 0.,\n",
              "         0., 0., 0., 0., 0., 0., 0., 0., 0.],\n",
              "        [0., 0., 0., 0., 0., 0., 0., 0., 0., 0., 0., 0., 0., 1., 0., 0., 0., 0.,\n",
              "         0., 0., 0., 0., 0., 0., 0., 0., 0.],\n",
              "        [0., 0., 0., 0., 0., 0., 0., 0., 0., 0., 0., 0., 0., 1., 0., 0., 0., 0.,\n",
              "         0., 0., 0., 0., 0., 0., 0., 0., 0.],\n",
              "        [0., 1., 0., 0., 0., 0., 0., 0., 0., 0., 0., 0., 0., 0., 0., 0., 0., 0.,\n",
              "         0., 0., 0., 0., 0., 0., 0., 0., 0.]])"
            ]
          },
          "metadata": {},
          "execution_count": 100
        }
      ]
    },
    {
      "cell_type": "code",
      "source": [
        "xenc.shape"
      ],
      "metadata": {
        "colab": {
          "base_uri": "https://localhost:8080/"
        },
        "id": "CUyEtzH4uYXr",
        "outputId": "e7f97275-fc6c-48eb-bbf3-7a18b01b4022"
      },
      "execution_count": 101,
      "outputs": [
        {
          "output_type": "execute_result",
          "data": {
            "text/plain": [
              "torch.Size([5, 27])"
            ]
          },
          "metadata": {},
          "execution_count": 101
        }
      ]
    },
    {
      "cell_type": "code",
      "source": [
        "plt.imshow(xenc)"
      ],
      "metadata": {
        "colab": {
          "base_uri": "https://localhost:8080/",
          "height": 170
        },
        "id": "amW4xivsugwr",
        "outputId": "bd38c8f3-575e-4217-bfab-285e6740ad0e"
      },
      "execution_count": 102,
      "outputs": [
        {
          "output_type": "execute_result",
          "data": {
            "text/plain": [
              "<matplotlib.image.AxesImage at 0x78be1c1e3460>"
            ]
          },
          "metadata": {},
          "execution_count": 102
        },
        {
          "output_type": "display_data",
          "data": {
            "text/plain": [
              "<Figure size 640x480 with 1 Axes>"
            ],
            "image/png": "[encoded data removed]"
          },
          "metadata": {}
        }
      ]
    },
    {
      "cell_type": "code",
      "source": [
        "xenc.dtype"
      ],
      "metadata": {
        "colab": {
          "base_uri": "https://localhost:8080/"
        },
        "id": "y-JQ7AKyuj1v",
        "outputId": "b94c2d97-3583-4882-eed6-c9130a62dbb7"
      },
      "execution_count": 103,
      "outputs": [
        {
          "output_type": "execute_result",
          "data": {
            "text/plain": [
              "torch.float32"
            ]
          },
          "metadata": {},
          "execution_count": 103
        }
      ]
    },
    {
      "cell_type": "code",
      "source": [
        "# creating the first neuron layer\n",
        "# the individual rows of the W matrix represents the different classes in the input and the individual columns represent the weights of the individual neurons.\n",
        "\n",
        "g = torch.Generator().manual_seed(2147483647)\n",
        "\n",
        "W = torch.randn(27,27, generator = g) # creating 27 neurons\n",
        "\n",
        "# this layer of neurons is a linear layer, it doesnt have a bias\n",
        "\n",
        "logits = xenc @ W # log count\n",
        "\n",
        "logits # output of the linear layer\n",
        "\n",
        "# (5,27) . (27, 27) --> (5,27)\n",
        "# this is the neurons activations on these  inputs"
      ],
      "metadata": {
        "colab": {
          "base_uri": "https://localhost:8080/"
        },
        "id": "jYyTv14Vuv16",
        "outputId": "5686cd75-04e8-4c69-b466-74a980c12c24"
      },
      "execution_count": 118,
      "outputs": [
        {
          "output_type": "execute_result",
          "data": {
            "text/plain": [
              "tensor([[ 1.5674e+00, -2.3729e-01, -2.7385e-02, -1.1008e+00,  2.8588e-01,\n",
              "         -2.9643e-02, -1.5471e+00,  6.0489e-01,  7.9136e-02,  9.0462e-01,\n",
              "         -4.7125e-01,  7.8682e-01, -3.2843e-01, -4.3297e-01,  1.3729e+00,\n",
              "          2.9334e+00,  1.5618e+00, -1.6261e+00,  6.7716e-01, -8.4039e-01,\n",
              "          9.8488e-01, -1.4837e-01, -1.4795e+00,  4.4830e-01, -7.0730e-02,\n",
              "          2.4968e+00,  2.4448e+00],\n",
              "        [ 4.7236e-01,  1.4830e+00,  3.1748e-01,  1.0588e+00,  2.3982e+00,\n",
              "          4.6827e-01, -6.5650e-01,  6.1662e-01, -6.2197e-01,  5.1007e-01,\n",
              "          1.3563e+00,  2.3445e-01, -4.5585e-01, -1.3132e-03, -5.1161e-01,\n",
              "          5.5570e-01,  4.7458e-01, -1.3867e+00,  1.6229e+00,  1.7197e-01,\n",
              "          9.8846e-01,  5.0657e-01,  1.0198e+00, -1.9062e+00, -4.2753e-01,\n",
              "         -2.1259e+00,  9.6041e-01],\n",
              "        [ 1.9359e-01,  1.0532e+00,  6.3393e-01,  2.5786e-01,  9.6408e-01,\n",
              "         -2.4855e-01,  2.4756e-02, -3.0404e-02,  1.5622e+00, -4.4852e-01,\n",
              "         -1.2345e+00,  1.1220e+00, -6.7381e-01,  3.7882e-02, -5.5881e-01,\n",
              "         -8.2709e-01,  8.2253e-01, -7.5100e-01,  9.2778e-01, -1.4849e+00,\n",
              "         -2.1293e-01, -1.1860e+00, -6.6092e-01, -2.3348e-01,  1.5447e+00,\n",
              "          6.0061e-01, -7.0909e-01],\n",
              "        [ 1.9359e-01,  1.0532e+00,  6.3393e-01,  2.5786e-01,  9.6408e-01,\n",
              "         -2.4855e-01,  2.4756e-02, -3.0404e-02,  1.5622e+00, -4.4852e-01,\n",
              "         -1.2345e+00,  1.1220e+00, -6.7381e-01,  3.7882e-02, -5.5881e-01,\n",
              "         -8.2709e-01,  8.2253e-01, -7.5100e-01,  9.2778e-01, -1.4849e+00,\n",
              "         -2.1293e-01, -1.1860e+00, -6.6092e-01, -2.3348e-01,  1.5447e+00,\n",
              "          6.0061e-01, -7.0909e-01],\n",
              "        [-6.7006e-01, -1.2199e+00,  3.0314e-01, -1.0725e+00,  7.2762e-01,\n",
              "          5.1114e-02,  1.3095e+00, -8.0220e-01, -8.5042e-01, -1.8068e+00,\n",
              "          1.2523e+00, -1.2256e+00,  1.2165e+00, -9.6478e-01, -2.3211e-01,\n",
              "         -3.4762e-01,  3.3244e-01, -1.3263e+00,  1.1224e+00,  5.9641e-01,\n",
              "          4.5846e-01,  5.4011e-02, -1.7400e+00,  1.1560e-01,  8.0319e-01,\n",
              "          5.4108e-01, -1.1646e+00]])"
            ]
          },
          "metadata": {},
          "execution_count": 118
        }
      ]
    },
    {
      "cell_type": "code",
      "source": [
        "logits[2,15] # the firing rate of 15th neuron looking at the 2nd input"
      ],
      "metadata": {
        "colab": {
          "base_uri": "https://localhost:8080/"
        },
        "id": "A5k9aF-Gv0PF",
        "outputId": "b980e870-45ec-43f0-8150-7e25b547bb03"
      },
      "execution_count": 119,
      "outputs": [
        {
          "output_type": "execute_result",
          "data": {
            "text/plain": [
              "tensor(-0.8271)"
            ]
          },
          "metadata": {},
          "execution_count": 119
        }
      ]
    },
    {
      "cell_type": "code",
      "source": [
        "# converting the logits into a probablity distribution\n",
        "counts = logits.exp() # equivalent to N\n",
        "probs = counts / counts.sum(1, keepdims=True) # probabilities for the next character (output of the softmax layer)\n",
        "# these two lines together are called a softmax - it is the layer in a neural network that outputs a probability distribution (normalisation function)\n",
        "# this is used on top of a linear layer to make the neural network output probabilities\n",
        "\n",
        "probs"
      ],
      "metadata": {
        "colab": {
          "base_uri": "https://localhost:8080/"
        },
        "id": "Kw4Vd6TCsOtz",
        "outputId": "5f0f29d8-9782-4c1e-f68f-992a381bd545"
      },
      "execution_count": 121,
      "outputs": [
        {
          "output_type": "execute_result",
          "data": {
            "text/plain": [
              "tensor([[0.0607, 0.0100, 0.0123, 0.0042, 0.0168, 0.0123, 0.0027, 0.0232, 0.0137,\n",
              "         0.0313, 0.0079, 0.0278, 0.0091, 0.0082, 0.0500, 0.2378, 0.0603, 0.0025,\n",
              "         0.0249, 0.0055, 0.0339, 0.0109, 0.0029, 0.0198, 0.0118, 0.1537, 0.1459],\n",
              "        [0.0290, 0.0796, 0.0248, 0.0521, 0.1989, 0.0289, 0.0094, 0.0335, 0.0097,\n",
              "         0.0301, 0.0702, 0.0228, 0.0115, 0.0181, 0.0108, 0.0315, 0.0291, 0.0045,\n",
              "         0.0916, 0.0215, 0.0486, 0.0300, 0.0501, 0.0027, 0.0118, 0.0022, 0.0472],\n",
              "        [0.0312, 0.0737, 0.0484, 0.0333, 0.0674, 0.0200, 0.0263, 0.0249, 0.1226,\n",
              "         0.0164, 0.0075, 0.0789, 0.0131, 0.0267, 0.0147, 0.0112, 0.0585, 0.0121,\n",
              "         0.0650, 0.0058, 0.0208, 0.0078, 0.0133, 0.0203, 0.1204, 0.0469, 0.0126],\n",
              "        [0.0312, 0.0737, 0.0484, 0.0333, 0.0674, 0.0200, 0.0263, 0.0249, 0.1226,\n",
              "         0.0164, 0.0075, 0.0789, 0.0131, 0.0267, 0.0147, 0.0112, 0.0585, 0.0121,\n",
              "         0.0650, 0.0058, 0.0208, 0.0078, 0.0133, 0.0203, 0.1204, 0.0469, 0.0126],\n",
              "        [0.0150, 0.0086, 0.0396, 0.0100, 0.0606, 0.0308, 0.1084, 0.0131, 0.0125,\n",
              "         0.0048, 0.1024, 0.0086, 0.0988, 0.0112, 0.0232, 0.0207, 0.0408, 0.0078,\n",
              "         0.0899, 0.0531, 0.0463, 0.0309, 0.0051, 0.0329, 0.0654, 0.0503, 0.0091]])"
            ]
          },
          "metadata": {},
          "execution_count": 121
        }
      ]
    },
    {
      "cell_type": "code",
      "source": [
        "prob.shape"
      ],
      "metadata": {
        "colab": {
          "base_uri": "https://localhost:8080/"
        },
        "id": "-BtvUhjw3Ajb",
        "outputId": "0b3aa055-62ce-465f-e76f-d66b40cc1f93"
      },
      "execution_count": 122,
      "outputs": [
        {
          "output_type": "execute_result",
          "data": {
            "text/plain": [
              "torch.Size([5, 27])"
            ]
          },
          "metadata": {},
          "execution_count": 122
        }
      ]
    },
    {
      "cell_type": "code",
      "source": [
        "# now we can tune the weights (W) to get different probability distributions.\n",
        "# we have to optimize W using our loss function"
      ],
      "metadata": {
        "id": "0TDYsGO7ww5i"
      },
      "execution_count": null,
      "outputs": []
    }
  ]
}