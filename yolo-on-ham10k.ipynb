{
 "cells": [
  {
   "cell_type": "code",
   "execution_count": 1,
   "id": "dbb09d5e",
   "metadata": {
    "execution": {
     "iopub.execute_input": "2024-04-18T09:53:00.191708Z",
     "iopub.status.busy": "2024-04-18T09:53:00.190877Z",
     "iopub.status.idle": "2024-04-18T09:53:07.863026Z",
     "shell.execute_reply": "2024-04-18T09:53:07.861135Z"
    },
    "papermill": {
     "duration": 7.683027,
     "end_time": "2024-04-18T09:53:07.865886",
     "exception": false,
     "start_time": "2024-04-18T09:53:00.182859",
     "status": "completed"
    },
    "tags": []
   },
   "outputs": [
    {
     "name": "stdout",
     "output_type": "stream",
     "text": [
      "/kaggle\n",
      "/kaggle/temp/dataset/train\n",
      "\u001b[0m\u001b[01;34mAKIEC\u001b[0m/  \u001b[01;34mBCC\u001b[0m/  \u001b[01;34mBKL\u001b[0m/  \u001b[01;34mDF\u001b[0m/  \u001b[01;34mMEL\u001b[0m/  \u001b[01;34mNV\u001b[0m/  \u001b[01;34mVASC\u001b[0m/\r\n",
      "/kaggle/temp/dataset/val\n",
      "\u001b[0m\u001b[01;34mAKIEC\u001b[0m/  \u001b[01;34mBCC\u001b[0m/  \u001b[01;34mBKL\u001b[0m/  \u001b[01;34mDF\u001b[0m/  \u001b[01;34mMEL\u001b[0m/  \u001b[01;34mNV\u001b[0m/  \u001b[01;34mVASC\u001b[0m/\r\n",
      "/kaggle/temp/dataset/test\n",
      "\u001b[0m\u001b[01;34mAKIEC\u001b[0m/  \u001b[01;34mBCC\u001b[0m/  \u001b[01;34mBKL\u001b[0m/  \u001b[01;34mDF\u001b[0m/  \u001b[01;34mMEL\u001b[0m/  \u001b[01;34mNV\u001b[0m/  \u001b[01;34mVASC\u001b[0m/\r\n",
      "/kaggle/temp\n"
     ]
    }
   ],
   "source": [
    "%cd /kaggle\n",
    "!mkdir -p temp/dataset/train temp/dataset/val temp/dataset/test\n",
    "\n",
    "%cd /kaggle/temp/dataset/train\n",
    "!mkdir MEL NV BCC AKIEC BKL DF VASC \n",
    "%ls\n",
    "\n",
    "%cd /kaggle/temp/dataset/val\n",
    "!mkdir MEL NV BCC AKIEC BKL DF VASC \n",
    "%ls\n",
    "\n",
    "%cd /kaggle/temp/dataset/test\n",
    "!mkdir MEL NV BCC AKIEC BKL DF VASC \n",
    "%ls\n",
    "\n",
    "%cd /kaggle/temp/"
   ]
  },
  {
   "cell_type": "code",
   "execution_count": 2,
   "id": "8d306710",
   "metadata": {
    "execution": {
     "iopub.execute_input": "2024-04-18T09:53:07.878975Z",
     "iopub.status.busy": "2024-04-18T09:53:07.878276Z",
     "iopub.status.idle": "2024-04-18T09:53:10.204424Z",
     "shell.execute_reply": "2024-04-18T09:53:10.203254Z"
    },
    "papermill": {
     "duration": 2.335761,
     "end_time": "2024-04-18T09:53:10.207094",
     "exception": false,
     "start_time": "2024-04-18T09:53:07.871333",
     "status": "completed"
    },
    "tags": []
   },
   "outputs": [],
   "source": [
    "from glob import glob\n",
    "import pandas as pd\n",
    "from sklearn.model_selection import train_test_split\n",
    "import shutil"
   ]
  },
  {
   "cell_type": "code",
   "execution_count": 3,
   "id": "7a9734ef",
   "metadata": {
    "execution": {
     "iopub.execute_input": "2024-04-18T09:53:10.220127Z",
     "iopub.status.busy": "2024-04-18T09:53:10.218784Z",
     "iopub.status.idle": "2024-04-18T09:53:11.092251Z",
     "shell.execute_reply": "2024-04-18T09:53:11.091176Z"
    },
    "papermill": {
     "duration": 0.882491,
     "end_time": "2024-04-18T09:53:11.094839",
     "exception": false,
     "start_time": "2024-04-18T09:53:10.212348",
     "status": "completed"
    },
    "tags": []
   },
   "outputs": [],
   "source": [
    "imgs = glob('/kaggle/input/ham1000-segmentation-and-classification/images/*.jpg')"
   ]
  },
  {
   "cell_type": "code",
   "execution_count": 4,
   "id": "df4e6366",
   "metadata": {
    "execution": {
     "iopub.execute_input": "2024-04-18T09:53:11.108409Z",
     "iopub.status.busy": "2024-04-18T09:53:11.107036Z",
     "iopub.status.idle": "2024-04-18T09:53:11.148642Z",
     "shell.execute_reply": "2024-04-18T09:53:11.147745Z"
    },
    "papermill": {
     "duration": 0.051491,
     "end_time": "2024-04-18T09:53:11.151800",
     "exception": false,
     "start_time": "2024-04-18T09:53:11.100309",
     "status": "completed"
    },
    "tags": []
   },
   "outputs": [],
   "source": [
    "annot = pd.read_csv('/kaggle/input/ham1000-segmentation-and-classification/GroundTruth.csv')"
   ]
  },
  {
   "cell_type": "code",
   "execution_count": 5,
   "id": "9ea0c243",
   "metadata": {
    "execution": {
     "iopub.execute_input": "2024-04-18T09:53:11.164430Z",
     "iopub.status.busy": "2024-04-18T09:53:11.163885Z",
     "iopub.status.idle": "2024-04-18T09:53:11.182144Z",
     "shell.execute_reply": "2024-04-18T09:53:11.181108Z"
    },
    "papermill": {
     "duration": 0.027581,
     "end_time": "2024-04-18T09:53:11.184860",
     "exception": false,
     "start_time": "2024-04-18T09:53:11.157279",
     "status": "completed"
    },
    "tags": []
   },
   "outputs": [],
   "source": [
    "X_train_val, X_test = train_test_split(annot,train_size =0.9, shuffle = True, random_state = 8)"
   ]
  },
  {
   "cell_type": "code",
   "execution_count": 6,
   "id": "a161e8ad",
   "metadata": {
    "execution": {
     "iopub.execute_input": "2024-04-18T09:53:11.197933Z",
     "iopub.status.busy": "2024-04-18T09:53:11.197515Z",
     "iopub.status.idle": "2024-04-18T09:53:11.205165Z",
     "shell.execute_reply": "2024-04-18T09:53:11.204201Z"
    },
    "papermill": {
     "duration": 0.017167,
     "end_time": "2024-04-18T09:53:11.207496",
     "exception": false,
     "start_time": "2024-04-18T09:53:11.190329",
     "status": "completed"
    },
    "tags": []
   },
   "outputs": [],
   "source": [
    "X_train, X_val = train_test_split(X_train_val,train_size =0.8, shuffle = True, random_state = 8)"
   ]
  },
  {
   "cell_type": "code",
   "execution_count": 7,
   "id": "05be8439",
   "metadata": {
    "execution": {
     "iopub.execute_input": "2024-04-18T09:53:11.220188Z",
     "iopub.status.busy": "2024-04-18T09:53:11.219804Z",
     "iopub.status.idle": "2024-04-18T09:53:11.228264Z",
     "shell.execute_reply": "2024-04-18T09:53:11.227156Z"
    },
    "papermill": {
     "duration": 0.017664,
     "end_time": "2024-04-18T09:53:11.230629",
     "exception": false,
     "start_time": "2024-04-18T09:53:11.212965",
     "status": "completed"
    },
    "tags": []
   },
   "outputs": [
    {
     "data": {
      "text/plain": [
       "Index(['MEL', 'NV', 'BCC', 'AKIEC', 'BKL', 'DF', 'VASC'], dtype='object')"
      ]
     },
     "execution_count": 7,
     "metadata": {},
     "output_type": "execute_result"
    }
   ],
   "source": [
    "cls = X_train.columns[1:]\n",
    "cls"
   ]
  },
  {
   "cell_type": "code",
   "execution_count": 8,
   "id": "41b83d2f",
   "metadata": {
    "execution": {
     "iopub.execute_input": "2024-04-18T09:53:11.244019Z",
     "iopub.status.busy": "2024-04-18T09:53:11.243137Z",
     "iopub.status.idle": "2024-04-18T09:55:31.214524Z",
     "shell.execute_reply": "2024-04-18T09:55:31.213080Z"
    },
    "papermill": {
     "duration": 139.98146,
     "end_time": "2024-04-18T09:55:31.217644",
     "exception": false,
     "start_time": "2024-04-18T09:53:11.236184",
     "status": "completed"
    },
    "tags": []
   },
   "outputs": [],
   "source": [
    "for cl in cls:\n",
    "    imgs_name = X_train[X_train[cl]==1]['image'].to_list()\n",
    "    for img in imgs_name:\n",
    "        shutil.copy(f'/kaggle/input/ham1000-segmentation-and-classification/images/{img}.jpg', \n",
    "                   f'/kaggle/temp/dataset/train/{cl}')\n",
    "        \n",
    "for cl in cls:\n",
    "    imgs_name = X_val[X_val[cl]==1]['image'].to_list()\n",
    "    for img in imgs_name:\n",
    "        shutil.copy(f'/kaggle/input/ham1000-segmentation-and-classification/images/{img}.jpg', \n",
    "                   f'/kaggle/temp/dataset/val/{cl}')\n",
    "\n",
    "for cl in cls:\n",
    "    imgs_name = X_test[X_test[cl]==1]['image'].to_list()\n",
    "    for img in imgs_name:\n",
    "        shutil.copy(f'/kaggle/input/ham1000-segmentation-and-classification/images/{img}.jpg', \n",
    "                   f'/kaggle/temp/dataset/test/{cl}')"
   ]
  },
  {
   "cell_type": "code",
   "execution_count": 9,
   "id": "34329aa2",
   "metadata": {
    "execution": {
     "iopub.execute_input": "2024-04-18T09:55:31.232570Z",
     "iopub.status.busy": "2024-04-18T09:55:31.232141Z",
     "iopub.status.idle": "2024-04-18T09:55:34.636477Z",
     "shell.execute_reply": "2024-04-18T09:55:34.634963Z"
    },
    "papermill": {
     "duration": 3.415398,
     "end_time": "2024-04-18T09:55:34.639340",
     "exception": false,
     "start_time": "2024-04-18T09:55:31.223942",
     "status": "completed"
    },
    "tags": []
   },
   "outputs": [
    {
     "name": "stdout",
     "output_type": "stream",
     "text": [
      "7210\r\n",
      "1803\r\n",
      "1002\r\n"
     ]
    }
   ],
   "source": [
    "%ls /kaggle/temp/dataset/train/*/* | wc -l\n",
    "\n",
    "%ls /kaggle/temp/dataset/val/*/* | wc -l\n",
    "\n",
    "%ls /kaggle/temp/dataset/test/*/* | wc -l"
   ]
  },
  {
   "cell_type": "code",
   "execution_count": 10,
   "id": "d8224077",
   "metadata": {
    "execution": {
     "iopub.execute_input": "2024-04-18T09:55:34.653618Z",
     "iopub.status.busy": "2024-04-18T09:55:34.653168Z",
     "iopub.status.idle": "2024-04-18T09:56:00.637151Z",
     "shell.execute_reply": "2024-04-18T09:56:00.636115Z"
    },
    "papermill": {
     "duration": 25.994535,
     "end_time": "2024-04-18T09:56:00.639966",
     "exception": false,
     "start_time": "2024-04-18T09:55:34.645431",
     "status": "completed"
    },
    "tags": []
   },
   "outputs": [
    {
     "name": "stdout",
     "output_type": "stream",
     "text": [
      "/kaggle/temp\n",
      "Cloning into 'yolov5'...\r\n",
      "remote: Enumerating objects: 16559, done.\u001b[K\r\n",
      "remote: Counting objects: 100% (37/37), done.\u001b[K\r\n",
      "remote: Compressing objects: 100% (24/24), done.\u001b[K\r\n",
      "remote: Total 16559 (delta 18), reused 29 (delta 13), pack-reused 16522\u001b[K\r\n",
      "Receiving objects: 100% (16559/16559), 15.01 MiB | 12.97 MiB/s, done.\r\n",
      "Resolving deltas: 100% (11377/11377), done.\r\n",
      "/kaggle/temp/yolov5\n",
      "\u001b[31mERROR: pip's dependency resolver does not currently take into account all the packages that are installed. This behaviour is the source of the following dependency conflicts.\r\n",
      "spopt 0.6.0 requires shapely>=2.0.1, but you have shapely 1.8.5.post1 which is incompatible.\r\n",
      "ydata-profiling 4.6.4 requires numpy<1.26,>=1.16.0, but you have numpy 1.26.4 which is incompatible.\u001b[0m\u001b[31m\r\n",
      "\u001b[0m"
     ]
    }
   ],
   "source": [
    "%cd /kaggle/temp/\n",
    "!git clone https://github.com/ultralytics/yolov5.git\n",
    "%cd yolov5\n",
    "!pip install -qr requirements.txt"
   ]
  },
  {
   "cell_type": "code",
   "execution_count": 11,
   "id": "0f98f14f",
   "metadata": {
    "execution": {
     "iopub.execute_input": "2024-04-18T09:56:00.660460Z",
     "iopub.status.busy": "2024-04-18T09:56:00.660036Z",
     "iopub.status.idle": "2024-04-18T09:56:01.745220Z",
     "shell.execute_reply": "2024-04-18T09:56:01.743773Z"
    },
    "papermill": {
     "duration": 1.098855,
     "end_time": "2024-04-18T09:56:01.748109",
     "exception": false,
     "start_time": "2024-04-18T09:56:00.649254",
     "status": "completed"
    },
    "tags": []
   },
   "outputs": [
    {
     "name": "stdout",
     "output_type": "stream",
     "text": [
      "dataset  yolov5\r\n"
     ]
    }
   ],
   "source": [
    "!ls /kaggle/temp/"
   ]
  },
  {
   "cell_type": "code",
   "execution_count": 12,
   "id": "2aacc026",
   "metadata": {
    "execution": {
     "iopub.execute_input": "2024-04-18T09:56:01.770927Z",
     "iopub.status.busy": "2024-04-18T09:56:01.770458Z",
     "iopub.status.idle": "2024-04-18T11:24:40.020795Z",
     "shell.execute_reply": "2024-04-18T11:24:40.015977Z"
    },
    "papermill": {
     "duration": 5318.26531,
     "end_time": "2024-04-18T11:24:40.024656",
     "exception": false,
     "start_time": "2024-04-18T09:56:01.759346",
     "status": "completed"
    },
    "tags": []
   },
   "outputs": [
    {
     "name": "stdout",
     "output_type": "stream",
     "text": [
      "\u001b[34m\u001b[1mwandb\u001b[0m: WARNING ⚠️ wandb is deprecated and will be removed in a future release. See supported integrations at https://github.com/ultralytics/yolov5#integrations.\r\n",
      "2024-04-18 09:56:17.708580: E external/local_xla/xla/stream_executor/cuda/cuda_dnn.cc:9261] Unable to register cuDNN factory: Attempting to register factory for plugin cuDNN when one has already been registered\r\n",
      "2024-04-18 09:56:17.708744: E external/local_xla/xla/stream_executor/cuda/cuda_fft.cc:607] Unable to register cuFFT factory: Attempting to register factory for plugin cuFFT when one has already been registered\r\n",
      "2024-04-18 09:56:17.872310: E external/local_xla/xla/stream_executor/cuda/cuda_blas.cc:1515] Unable to register cuBLAS factory: Attempting to register factory for plugin cuBLAS when one has already been registered\r\n",
      "\u001b[34m\u001b[1mwandb\u001b[0m: (1) Create a W&B account\r\n",
      "\u001b[34m\u001b[1mwandb\u001b[0m: (2) Use an existing W&B account\r\n",
      "\u001b[34m\u001b[1mwandb\u001b[0m: (3) Don't visualize my results\r\n",
      "\u001b[34m\u001b[1mwandb\u001b[0m: Enter your choice: (30 second timeout) \r\n",
      "\u001b[34m\u001b[1mwandb\u001b[0m: W&B disabled due to login timeout.\r\n",
      "\u001b[34m\u001b[1mclassify/train: \u001b[0mmodel=yolov5s-cls.pt, data=/kaggle/temp/dataset, epochs=10, batch_size=64, imgsz=224, nosave=False, cache=None, device=, workers=8, project=/kaggle/working/train, name=exp, exist_ok=False, pretrained=False, optimizer=Adam, lr0=0.001, decay=5e-05, label_smoothing=0.1, cutoff=None, dropout=None, verbose=False, seed=0, local_rank=-1\r\n",
      "\u001b[34m\u001b[1mgithub: \u001b[0mup to date with https://github.com/ultralytics/yolov5 ✅\r\n",
      "YOLOv5 🚀 v7.0-304-g22361691 Python-3.10.13 torch-2.1.2+cpu CPU\r\n",
      "\r\n",
      "\u001b[34m\u001b[1mTensorBoard: \u001b[0mStart with 'tensorboard --logdir /kaggle/working/train', view at http://localhost:6006/\r\n",
      "\u001b[34m\u001b[1malbumentations: \u001b[0mRandomResizedCrop(p=1.0, height=224, width=224, scale=(0.08, 1.0), ratio=(0.75, 1.3333333333333333), interpolation=1), HorizontalFlip(p=0.5), ColorJitter(p=0.5, brightness=[0.6, 1.4], contrast=[0.6, 1.4], saturation=[0.6, 1.4], hue=[0, 0]), Normalize(p=1.0, mean=(0.485, 0.456, 0.406), std=(0.229, 0.224, 0.225), max_pixel_value=255.0), ToTensorV2(always_apply=True, p=1.0, transpose_mask=False)\r\n",
      "/opt/conda/lib/python3.10/multiprocessing/popen_fork.py:66: RuntimeWarning: os.fork() was called. os.fork() is incompatible with multithreaded code, and JAX is multithreaded, so this will likely lead to a deadlock.\r\n",
      "  self.pid = os.fork()\r\n",
      "Downloading https://github.com/ultralytics/yolov5/releases/download/v7.0/yolov5s-cls.pt to yolov5s-cls.pt...\r\n",
      "100%|██████████████████████████████████████| 10.5M/10.5M [00:00<00:00, 27.2MB/s]\r\n",
      "\r\n",
      "Model summary: 149 layers, 4181447 parameters, 4181447 gradients, 10.5 GFLOPs\r\n",
      "\u001b[34m\u001b[1moptimizer:\u001b[0m Adam(lr=0.001) with parameter groups 32 weight(decay=0.0), 33 weight(decay=5e-05), 33 bias\r\n",
      "Image sizes 224 train, 224 test\r\n",
      "Using 3 dataloader workers\r\n",
      "Logging results to \u001b[1m/kaggle/working/train/exp\u001b[0m\r\n",
      "Starting yolov5s-cls.pt training on /kaggle/temp/dataset dataset with 7 classes for 10 epochs...\r\n",
      "\r\n",
      "     Epoch   GPU_mem  train_loss   test_loss    top1_acc    top5_acc\r\n",
      "      1/10        0G        1.26        1.27       0.684        0.96: 100%|█████\r\n",
      "      2/10        0G         1.2        1.22       0.642       0.972: 100%|█████\r\n",
      "      3/10        0G        1.17        1.16       0.701       0.973: 100%|█████\r\n",
      "      4/10        0G        1.14        1.11       0.687       0.975: 100%|█████\r\n",
      "      5/10        0G        1.12        1.11       0.708       0.977: 100%|█████\r\n",
      "      6/10        0G        1.11        1.07       0.706       0.976: 100%|█████\r\n",
      "      7/10        0G        1.11        1.06       0.708       0.977: 100%|█████\r\n",
      "      8/10        0G        1.09        1.07       0.709       0.977: 100%|█████\r\n",
      "      9/10        0G        1.08        1.04       0.724       0.977: 100%|█████\r\n",
      "     10/10        0G        1.07        1.04       0.712       0.977: 100%|█████\r\n",
      "\r\n",
      "Training complete (1.454 hours)\r\n",
      "Results saved to \u001b[1m/kaggle/working/train/exp\u001b[0m\r\n",
      "Predict:         python classify/predict.py --weights /kaggle/working/train/exp/weights/best.pt --source im.jpg\r\n",
      "Validate:        python classify/val.py --weights /kaggle/working/train/exp/weights/best.pt --data /kaggle/temp/dataset\r\n",
      "Export:          python export.py --weights /kaggle/working/train/exp/weights/best.pt --include onnx\r\n",
      "PyTorch Hub:     model = torch.hub.load('ultralytics/yolov5', 'custom', '/kaggle/working/train/exp/weights/best.pt')\r\n",
      "Visualize:       https://netron.app\r\n",
      "\r\n"
     ]
    }
   ],
   "source": [
    "!python classify/train.py --model yolov5s-cls.pt --data /kaggle/temp/dataset --epochs 10 --img 224 \\\n",
    "--project /kaggle/working/train --pretrained 'False'"
   ]
  },
  {
   "cell_type": "code",
   "execution_count": 13,
   "id": "5abb5d1b",
   "metadata": {
    "execution": {
     "iopub.execute_input": "2024-04-18T11:24:40.290042Z",
     "iopub.status.busy": "2024-04-18T11:24:40.288477Z",
     "iopub.status.idle": "2024-04-18T11:25:28.036093Z",
     "shell.execute_reply": "2024-04-18T11:25:28.034724Z"
    },
    "papermill": {
     "duration": 47.884506,
     "end_time": "2024-04-18T11:25:28.038973",
     "exception": false,
     "start_time": "2024-04-18T11:24:40.154467",
     "status": "completed"
    },
    "tags": []
   },
   "outputs": [
    {
     "name": "stdout",
     "output_type": "stream",
     "text": [
      "\u001b[34m\u001b[1mclassify/val: \u001b[0mdata=/kaggle/temp/dataset, weights=['/kaggle/working/train/exp/weights/best.pt'], batch_size=128, imgsz=224, device=, workers=8, verbose=True, project=runs/val-cls, name=exp, exist_ok=False, half=False, dnn=False\r\n",
      "YOLOv5 🚀 v7.0-304-g22361691 Python-3.10.13 torch-2.1.2+cpu CPU\r\n",
      "\r\n",
      "Fusing layers... \r\n",
      "Model summary: 117 layers, 4175655 parameters, 0 gradients, 10.4 GFLOPs\r\n",
      "/opt/conda/lib/python3.10/multiprocessing/popen_fork.py:66: RuntimeWarning: os.fork() was called. os.fork() is incompatible with multithreaded code, and JAX is multithreaded, so this will likely lead to a deadlock.\r\n",
      "  self.pid = os.fork()\r\n",
      "testing: 100%|██████████| 8/8 [00:33<00:00,  4.23s/it]\r\n",
      "                   Class      Images    top1_acc    top5_acc\r\n",
      "                     all        1002       0.724       0.977\r\n",
      "                   AKIEC          28       0.107       0.964\r\n",
      "                     BCC          48      0.0417           1\r\n",
      "                     BKL         116       0.569           1\r\n",
      "                      DF          19           0      0.0526\r\n",
      "                     MEL          97       0.206           1\r\n",
      "                      NV         685       0.924       0.997\r\n",
      "                    VASC           9       0.111       0.778\r\n",
      "Speed: 0.0ms pre-process, 31.1ms inference, 0.0ms post-process per image at shape (1, 3, 224, 224)\r\n",
      "Results saved to \u001b[1mruns/val-cls/exp\u001b[0m\r\n"
     ]
    }
   ],
   "source": [
    "!python classify/val.py --weights /kaggle/working/train/exp/weights/best.pt --data /kaggle/temp/dataset"
   ]
  }
 ],
 "metadata": {
  "kaggle": {
   "accelerator": "none",
   "dataSources": [
    {
     "datasetId": 1370616,
     "sourceId": 2275763,
     "sourceType": "datasetVersion"
    }
   ],
   "dockerImageVersionId": 30684,
   "isGpuEnabled": false,
   "isInternetEnabled": true,
   "language": "python",
   "sourceType": "notebook"
  },
  "kernelspec": {
   "display_name": "Python 3",
   "language": "python",
   "name": "python3"
  },
  "language_info": {
   "codemirror_mode": {
    "name": "ipython",
    "version": 3
   },
   "file_extension": ".py",
   "mimetype": "text/x-python",
   "name": "python",
   "nbconvert_exporter": "python",
   "pygments_lexer": "ipython3",
   "version": "3.10.13"
  },
  "papermill": {
   "default_parameters": {},
   "duration": 5552.079106,
   "end_time": "2024-04-18T11:25:29.106894",
   "environment_variables": {},
   "exception": null,
   "input_path": "__notebook__.ipynb",
   "output_path": "__notebook__.ipynb",
   "parameters": {},
   "start_time": "2024-04-18T09:52:57.027788",
   "version": "2.5.0"
  }
 },
 "nbformat": 4,
 "nbformat_minor": 5
}
