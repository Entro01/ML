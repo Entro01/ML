{
 "cells": [
  {
   "cell_type": "code",
   "execution_count": 1,
   "id": "41a14b37",
   "metadata": {
    "_cell_guid": "b1076dfc-b9ad-4769-8c92-a6c4dae69d19",
    "_uuid": "8f2839f25d086af736a60e9eeb907d3b93b6e0e5",
    "execution": {
     "iopub.execute_input": "2023-12-26T06:23:53.489009Z",
     "iopub.status.busy": "2023-12-26T06:23:53.488168Z",
     "iopub.status.idle": "2023-12-26T06:23:55.467063Z",
     "shell.execute_reply": "2023-12-26T06:23:55.465342Z"
    },
    "papermill": {
     "duration": 1.998744,
     "end_time": "2023-12-26T06:23:55.470659",
     "exception": false,
     "start_time": "2023-12-26T06:23:53.471915",
     "status": "completed"
    },
    "tags": []
   },
   "outputs": [
    {
     "name": "stdout",
     "output_type": "stream",
     "text": [
      "/kaggle/input/tmdb-movies-dataset/tmdb_movies_data.csv\n"
     ]
    }
   ],
   "source": [
    "# This Python 3 environment comes with many helpful analytics libraries installed\n",
    "# It is defined by the kaggle/python Docker image: https://github.com/kaggle/docker-python\n",
    "# For example, here's several helpful packages to load\n",
    "\n",
    "import numpy as np # linear algebra\n",
    "import pandas as pd # data processing, CSV file I/O (e.g. pd.read_csv)\n",
    "import matplotlib.pyplot as plt\n",
    "import seaborn as sns\n",
    "\n",
    "# Input data files are available in the read-only \"../input/\" directory\n",
    "# For example, running this (by clicking run or pressing Shift+Enter) will list all files under the input directory\n",
    "\n",
    "import os\n",
    "for dirname, _, filenames in os.walk('/kaggle/input'):\n",
    "    for filename in filenames:\n",
    "        print(os.path.join(dirname, filename))\n",
    "\n",
    "# You can write up to 20GB to the current directory (/kaggle/working/) that gets preserved as output when you create a version using \"Save & Run All\" \n",
    "# You can also write temporary files to /kaggle/temp/, but they won't be saved outside of the current session"
   ]
  },
  {
   "cell_type": "code",
   "execution_count": 2,
   "id": "690fe8dc",
   "metadata": {
    "execution": {
     "iopub.execute_input": "2023-12-26T06:23:55.500701Z",
     "iopub.status.busy": "2023-12-26T06:23:55.499587Z",
     "iopub.status.idle": "2023-12-26T06:23:55.505160Z",
     "shell.execute_reply": "2023-12-26T06:23:55.504030Z"
    },
    "papermill": {
     "duration": 0.022557,
     "end_time": "2023-12-26T06:23:55.507549",
     "exception": false,
     "start_time": "2023-12-26T06:23:55.484992",
     "status": "completed"
    },
    "tags": []
   },
   "outputs": [],
   "source": [
    "# Im trying to build a model that takes in the name of a cast member, director and genre and predicts weather their next project is going to be a hit or a flop."
   ]
  },
  {
   "cell_type": "code",
   "execution_count": 3,
   "id": "40aa9957",
   "metadata": {
    "execution": {
     "iopub.execute_input": "2023-12-26T06:23:55.536145Z",
     "iopub.status.busy": "2023-12-26T06:23:55.535733Z",
     "iopub.status.idle": "2023-12-26T06:23:55.848010Z",
     "shell.execute_reply": "2023-12-26T06:23:55.846782Z"
    },
    "papermill": {
     "duration": 0.330548,
     "end_time": "2023-12-26T06:23:55.851378",
     "exception": false,
     "start_time": "2023-12-26T06:23:55.520830",
     "status": "completed"
    },
    "tags": []
   },
   "outputs": [],
   "source": [
    "df = pd.read_csv('/kaggle/input/tmdb-movies-dataset/tmdb_movies_data.csv')"
   ]
  },
  {
   "cell_type": "code",
   "execution_count": 4,
   "id": "73ebd0d9",
   "metadata": {
    "execution": {
     "iopub.execute_input": "2023-12-26T06:23:55.880743Z",
     "iopub.status.busy": "2023-12-26T06:23:55.880340Z",
     "iopub.status.idle": "2023-12-26T06:23:55.905112Z",
     "shell.execute_reply": "2023-12-26T06:23:55.904075Z"
    },
    "papermill": {
     "duration": 0.042575,
     "end_time": "2023-12-26T06:23:55.907860",
     "exception": false,
     "start_time": "2023-12-26T06:23:55.865285",
     "status": "completed"
    },
    "tags": []
   },
   "outputs": [],
   "source": [
    "#dropping irrelevant columns\n",
    "df = df.drop(['id', 'imdb_id', 'original_title', 'homepage', 'tagline', 'keywords', 'overview', 'runtime', 'production_companies', 'release_date', 'release_year', 'budget_adj', 'revenue_adj'], axis=1)"
   ]
  },
  {
   "cell_type": "code",
   "execution_count": 5,
   "id": "bbf17c2c",
   "metadata": {
    "execution": {
     "iopub.execute_input": "2023-12-26T06:23:55.936045Z",
     "iopub.status.busy": "2023-12-26T06:23:55.935623Z",
     "iopub.status.idle": "2023-12-26T06:23:55.958695Z",
     "shell.execute_reply": "2023-12-26T06:23:55.957083Z"
    },
    "papermill": {
     "duration": 0.040233,
     "end_time": "2023-12-26T06:23:55.961303",
     "exception": false,
     "start_time": "2023-12-26T06:23:55.921070",
     "status": "completed"
    },
    "tags": []
   },
   "outputs": [
    {
     "data": {
      "text/html": [
       "<div>\n",
       "<style scoped>\n",
       "    .dataframe tbody tr th:only-of-type {\n",
       "        vertical-align: middle;\n",
       "    }\n",
       "\n",
       "    .dataframe tbody tr th {\n",
       "        vertical-align: top;\n",
       "    }\n",
       "\n",
       "    .dataframe thead th {\n",
       "        text-align: right;\n",
       "    }\n",
       "</style>\n",
       "<table border=\"1\" class=\"dataframe\">\n",
       "  <thead>\n",
       "    <tr style=\"text-align: right;\">\n",
       "      <th></th>\n",
       "      <th>popularity</th>\n",
       "      <th>budget</th>\n",
       "      <th>revenue</th>\n",
       "      <th>cast</th>\n",
       "      <th>director</th>\n",
       "      <th>genres</th>\n",
       "      <th>vote_count</th>\n",
       "      <th>vote_average</th>\n",
       "    </tr>\n",
       "  </thead>\n",
       "  <tbody>\n",
       "    <tr>\n",
       "      <th>0</th>\n",
       "      <td>32.985763</td>\n",
       "      <td>150000000</td>\n",
       "      <td>1513528810</td>\n",
       "      <td>Chris Pratt|Bryce Dallas Howard|Irrfan Khan|Vi...</td>\n",
       "      <td>Colin Trevorrow</td>\n",
       "      <td>Action|Adventure|Science Fiction|Thriller</td>\n",
       "      <td>5562</td>\n",
       "      <td>6.5</td>\n",
       "    </tr>\n",
       "    <tr>\n",
       "      <th>1</th>\n",
       "      <td>28.419936</td>\n",
       "      <td>150000000</td>\n",
       "      <td>378436354</td>\n",
       "      <td>Tom Hardy|Charlize Theron|Hugh Keays-Byrne|Nic...</td>\n",
       "      <td>George Miller</td>\n",
       "      <td>Action|Adventure|Science Fiction|Thriller</td>\n",
       "      <td>6185</td>\n",
       "      <td>7.1</td>\n",
       "    </tr>\n",
       "    <tr>\n",
       "      <th>2</th>\n",
       "      <td>13.112507</td>\n",
       "      <td>110000000</td>\n",
       "      <td>295238201</td>\n",
       "      <td>Shailene Woodley|Theo James|Kate Winslet|Ansel...</td>\n",
       "      <td>Robert Schwentke</td>\n",
       "      <td>Adventure|Science Fiction|Thriller</td>\n",
       "      <td>2480</td>\n",
       "      <td>6.3</td>\n",
       "    </tr>\n",
       "    <tr>\n",
       "      <th>3</th>\n",
       "      <td>11.173104</td>\n",
       "      <td>200000000</td>\n",
       "      <td>2068178225</td>\n",
       "      <td>Harrison Ford|Mark Hamill|Carrie Fisher|Adam D...</td>\n",
       "      <td>J.J. Abrams</td>\n",
       "      <td>Action|Adventure|Science Fiction|Fantasy</td>\n",
       "      <td>5292</td>\n",
       "      <td>7.5</td>\n",
       "    </tr>\n",
       "    <tr>\n",
       "      <th>4</th>\n",
       "      <td>9.335014</td>\n",
       "      <td>190000000</td>\n",
       "      <td>1506249360</td>\n",
       "      <td>Vin Diesel|Paul Walker|Jason Statham|Michelle ...</td>\n",
       "      <td>James Wan</td>\n",
       "      <td>Action|Crime|Thriller</td>\n",
       "      <td>2947</td>\n",
       "      <td>7.3</td>\n",
       "    </tr>\n",
       "  </tbody>\n",
       "</table>\n",
       "</div>"
      ],
      "text/plain": [
       "   popularity     budget     revenue  \\\n",
       "0   32.985763  150000000  1513528810   \n",
       "1   28.419936  150000000   378436354   \n",
       "2   13.112507  110000000   295238201   \n",
       "3   11.173104  200000000  2068178225   \n",
       "4    9.335014  190000000  1506249360   \n",
       "\n",
       "                                                cast          director  \\\n",
       "0  Chris Pratt|Bryce Dallas Howard|Irrfan Khan|Vi...   Colin Trevorrow   \n",
       "1  Tom Hardy|Charlize Theron|Hugh Keays-Byrne|Nic...     George Miller   \n",
       "2  Shailene Woodley|Theo James|Kate Winslet|Ansel...  Robert Schwentke   \n",
       "3  Harrison Ford|Mark Hamill|Carrie Fisher|Adam D...       J.J. Abrams   \n",
       "4  Vin Diesel|Paul Walker|Jason Statham|Michelle ...         James Wan   \n",
       "\n",
       "                                      genres  vote_count  vote_average  \n",
       "0  Action|Adventure|Science Fiction|Thriller        5562           6.5  \n",
       "1  Action|Adventure|Science Fiction|Thriller        6185           7.1  \n",
       "2         Adventure|Science Fiction|Thriller        2480           6.3  \n",
       "3   Action|Adventure|Science Fiction|Fantasy        5292           7.5  \n",
       "4                      Action|Crime|Thriller        2947           7.3  "
      ]
     },
     "execution_count": 5,
     "metadata": {},
     "output_type": "execute_result"
    }
   ],
   "source": [
    "df.head()"
   ]
  },
  {
   "cell_type": "code",
   "execution_count": 6,
   "id": "397b472b",
   "metadata": {
    "execution": {
     "iopub.execute_input": "2023-12-26T06:23:55.990909Z",
     "iopub.status.busy": "2023-12-26T06:23:55.990439Z",
     "iopub.status.idle": "2023-12-26T06:23:56.000810Z",
     "shell.execute_reply": "2023-12-26T06:23:55.999473Z"
    },
    "papermill": {
     "duration": 0.028651,
     "end_time": "2023-12-26T06:23:56.003497",
     "exception": false,
     "start_time": "2023-12-26T06:23:55.974846",
     "status": "completed"
    },
    "tags": []
   },
   "outputs": [],
   "source": [
    "df['profit'] = df['revenue'] - df['budget']\n",
    "\n",
    "df = df.drop(['revenue', 'budget'], axis = 1)"
   ]
  },
  {
   "cell_type": "code",
   "execution_count": 7,
   "id": "aa83c404",
   "metadata": {
    "execution": {
     "iopub.execute_input": "2023-12-26T06:23:56.032324Z",
     "iopub.status.busy": "2023-12-26T06:23:56.031873Z",
     "iopub.status.idle": "2023-12-26T06:23:56.045550Z",
     "shell.execute_reply": "2023-12-26T06:23:56.044632Z"
    },
    "papermill": {
     "duration": 0.031085,
     "end_time": "2023-12-26T06:23:56.047944",
     "exception": false,
     "start_time": "2023-12-26T06:23:56.016859",
     "status": "completed"
    },
    "tags": []
   },
   "outputs": [
    {
     "data": {
      "text/html": [
       "<div>\n",
       "<style scoped>\n",
       "    .dataframe tbody tr th:only-of-type {\n",
       "        vertical-align: middle;\n",
       "    }\n",
       "\n",
       "    .dataframe tbody tr th {\n",
       "        vertical-align: top;\n",
       "    }\n",
       "\n",
       "    .dataframe thead th {\n",
       "        text-align: right;\n",
       "    }\n",
       "</style>\n",
       "<table border=\"1\" class=\"dataframe\">\n",
       "  <thead>\n",
       "    <tr style=\"text-align: right;\">\n",
       "      <th></th>\n",
       "      <th>popularity</th>\n",
       "      <th>cast</th>\n",
       "      <th>director</th>\n",
       "      <th>genres</th>\n",
       "      <th>vote_count</th>\n",
       "      <th>vote_average</th>\n",
       "      <th>profit</th>\n",
       "    </tr>\n",
       "  </thead>\n",
       "  <tbody>\n",
       "    <tr>\n",
       "      <th>0</th>\n",
       "      <td>32.985763</td>\n",
       "      <td>Chris Pratt|Bryce Dallas Howard|Irrfan Khan|Vi...</td>\n",
       "      <td>Colin Trevorrow</td>\n",
       "      <td>Action|Adventure|Science Fiction|Thriller</td>\n",
       "      <td>5562</td>\n",
       "      <td>6.5</td>\n",
       "      <td>1363528810</td>\n",
       "    </tr>\n",
       "    <tr>\n",
       "      <th>1</th>\n",
       "      <td>28.419936</td>\n",
       "      <td>Tom Hardy|Charlize Theron|Hugh Keays-Byrne|Nic...</td>\n",
       "      <td>George Miller</td>\n",
       "      <td>Action|Adventure|Science Fiction|Thriller</td>\n",
       "      <td>6185</td>\n",
       "      <td>7.1</td>\n",
       "      <td>228436354</td>\n",
       "    </tr>\n",
       "    <tr>\n",
       "      <th>2</th>\n",
       "      <td>13.112507</td>\n",
       "      <td>Shailene Woodley|Theo James|Kate Winslet|Ansel...</td>\n",
       "      <td>Robert Schwentke</td>\n",
       "      <td>Adventure|Science Fiction|Thriller</td>\n",
       "      <td>2480</td>\n",
       "      <td>6.3</td>\n",
       "      <td>185238201</td>\n",
       "    </tr>\n",
       "    <tr>\n",
       "      <th>3</th>\n",
       "      <td>11.173104</td>\n",
       "      <td>Harrison Ford|Mark Hamill|Carrie Fisher|Adam D...</td>\n",
       "      <td>J.J. Abrams</td>\n",
       "      <td>Action|Adventure|Science Fiction|Fantasy</td>\n",
       "      <td>5292</td>\n",
       "      <td>7.5</td>\n",
       "      <td>1868178225</td>\n",
       "    </tr>\n",
       "    <tr>\n",
       "      <th>4</th>\n",
       "      <td>9.335014</td>\n",
       "      <td>Vin Diesel|Paul Walker|Jason Statham|Michelle ...</td>\n",
       "      <td>James Wan</td>\n",
       "      <td>Action|Crime|Thriller</td>\n",
       "      <td>2947</td>\n",
       "      <td>7.3</td>\n",
       "      <td>1316249360</td>\n",
       "    </tr>\n",
       "  </tbody>\n",
       "</table>\n",
       "</div>"
      ],
      "text/plain": [
       "   popularity                                               cast  \\\n",
       "0   32.985763  Chris Pratt|Bryce Dallas Howard|Irrfan Khan|Vi...   \n",
       "1   28.419936  Tom Hardy|Charlize Theron|Hugh Keays-Byrne|Nic...   \n",
       "2   13.112507  Shailene Woodley|Theo James|Kate Winslet|Ansel...   \n",
       "3   11.173104  Harrison Ford|Mark Hamill|Carrie Fisher|Adam D...   \n",
       "4    9.335014  Vin Diesel|Paul Walker|Jason Statham|Michelle ...   \n",
       "\n",
       "           director                                     genres  vote_count  \\\n",
       "0   Colin Trevorrow  Action|Adventure|Science Fiction|Thriller        5562   \n",
       "1     George Miller  Action|Adventure|Science Fiction|Thriller        6185   \n",
       "2  Robert Schwentke         Adventure|Science Fiction|Thriller        2480   \n",
       "3       J.J. Abrams   Action|Adventure|Science Fiction|Fantasy        5292   \n",
       "4         James Wan                      Action|Crime|Thriller        2947   \n",
       "\n",
       "   vote_average      profit  \n",
       "0           6.5  1363528810  \n",
       "1           7.1   228436354  \n",
       "2           6.3   185238201  \n",
       "3           7.5  1868178225  \n",
       "4           7.3  1316249360  "
      ]
     },
     "execution_count": 7,
     "metadata": {},
     "output_type": "execute_result"
    }
   ],
   "source": [
    "df.head()"
   ]
  },
  {
   "cell_type": "code",
   "execution_count": 8,
   "id": "9f68a595",
   "metadata": {
    "execution": {
     "iopub.execute_input": "2023-12-26T06:23:56.077833Z",
     "iopub.status.busy": "2023-12-26T06:23:56.077082Z",
     "iopub.status.idle": "2023-12-26T06:23:56.081565Z",
     "shell.execute_reply": "2023-12-26T06:23:56.080436Z"
    },
    "papermill": {
     "duration": 0.022315,
     "end_time": "2023-12-26T06:23:56.084072",
     "exception": false,
     "start_time": "2023-12-26T06:23:56.061757",
     "status": "completed"
    },
    "tags": []
   },
   "outputs": [],
   "source": [
    "# now we have to create a label by taking in account the popularity, vote count, vote average and the profit made by the movies."
   ]
  },
  {
   "cell_type": "code",
   "execution_count": 9,
   "id": "4a4bbd2c",
   "metadata": {
    "execution": {
     "iopub.execute_input": "2023-12-26T06:23:56.114350Z",
     "iopub.status.busy": "2023-12-26T06:23:56.113354Z",
     "iopub.status.idle": "2023-12-26T06:23:56.126111Z",
     "shell.execute_reply": "2023-12-26T06:23:56.124686Z"
    },
    "papermill": {
     "duration": 0.030712,
     "end_time": "2023-12-26T06:23:56.128882",
     "exception": false,
     "start_time": "2023-12-26T06:23:56.098170",
     "status": "completed"
    },
    "tags": []
   },
   "outputs": [
    {
     "name": "stdout",
     "output_type": "stream",
     "text": [
      "            popularity  vote_count    profit\n",
      "popularity    1.000000    0.800828  0.628991\n",
      "vote_count    0.800828    1.000000  0.755905\n",
      "profit        0.628991    0.755905  1.000000\n"
     ]
    }
   ],
   "source": [
    "correlation = df[['popularity', 'vote_count', 'profit']].corr()\n",
    "print(correlation)"
   ]
  },
  {
   "cell_type": "code",
   "execution_count": 10,
   "id": "a6e780cf",
   "metadata": {
    "execution": {
     "iopub.execute_input": "2023-12-26T06:23:56.158853Z",
     "iopub.status.busy": "2023-12-26T06:23:56.158024Z",
     "iopub.status.idle": "2023-12-26T06:23:56.162698Z",
     "shell.execute_reply": "2023-12-26T06:23:56.161807Z"
    },
    "papermill": {
     "duration": 0.022488,
     "end_time": "2023-12-26T06:23:56.165155",
     "exception": false,
     "start_time": "2023-12-26T06:23:56.142667",
     "status": "completed"
    },
    "tags": []
   },
   "outputs": [],
   "source": [
    "# as we can see, the profit and popularity columns are not strictly corelated\n",
    "# this can be explained by reasoning that not all people who were excited for a movie went to watch it or by taking into account that different movies have different budgets\n",
    "# we expect this to effect the future success of a project involving the same cast and crew\n",
    "# we can expect the rating of a movie to also have an impact on the future success of a project by the cast and crew"
   ]
  },
  {
   "cell_type": "code",
   "execution_count": 11,
   "id": "5fecdc0f",
   "metadata": {
    "execution": {
     "iopub.execute_input": "2023-12-26T06:23:56.194945Z",
     "iopub.status.busy": "2023-12-26T06:23:56.194195Z",
     "iopub.status.idle": "2023-12-26T06:23:56.209635Z",
     "shell.execute_reply": "2023-12-26T06:23:56.207813Z"
    },
    "papermill": {
     "duration": 0.033394,
     "end_time": "2023-12-26T06:23:56.212336",
     "exception": false,
     "start_time": "2023-12-26T06:23:56.178942",
     "status": "completed"
    },
    "tags": []
   },
   "outputs": [
    {
     "name": "stdout",
     "output_type": "stream",
     "text": [
      "count    10866.000000\n",
      "mean       217.389748\n",
      "std        575.619058\n",
      "min         10.000000\n",
      "25%         17.000000\n",
      "50%         38.000000\n",
      "75%        145.750000\n",
      "max       9767.000000\n",
      "Name: vote_count, dtype: float64\n",
      "count    10866.000000\n",
      "mean         5.974922\n",
      "std          0.935142\n",
      "min          1.500000\n",
      "25%          5.400000\n",
      "50%          6.000000\n",
      "75%          6.600000\n",
      "max          9.200000\n",
      "Name: vote_average, dtype: float64\n"
     ]
    }
   ],
   "source": [
    "print(df['vote_count'].describe())\n",
    "print(df['vote_average'].describe())"
   ]
  },
  {
   "cell_type": "code",
   "execution_count": 12,
   "id": "c93f6046",
   "metadata": {
    "execution": {
     "iopub.execute_input": "2023-12-26T06:23:56.242423Z",
     "iopub.status.busy": "2023-12-26T06:23:56.241646Z",
     "iopub.status.idle": "2023-12-26T06:23:56.684386Z",
     "shell.execute_reply": "2023-12-26T06:23:56.683373Z"
    },
    "papermill": {
     "duration": 0.46042,
     "end_time": "2023-12-26T06:23:56.686750",
     "exception": false,
     "start_time": "2023-12-26T06:23:56.226330",
     "status": "completed"
    },
    "tags": []
   },
   "outputs": [
    {
     "data": {
      "image/png": "[encoded data removed]",
      "text/plain": [
       "<Figure size 640x480 with 1 Axes>"
      ]
     },
     "metadata": {},
     "output_type": "display_data"
    }
   ],
   "source": [
    "plt.hist(df['vote_average'])\n",
    "plt.title('Distribution of Values in true_vote')\n",
    "plt.xlabel('Value')\n",
    "plt.ylabel('Frequency')\n",
    "plt.show() "
   ]
  },
  {
   "cell_type": "code",
   "execution_count": 13,
   "id": "4816ecc9",
   "metadata": {
    "execution": {
     "iopub.execute_input": "2023-12-26T06:23:56.718081Z",
     "iopub.status.busy": "2023-12-26T06:23:56.716912Z",
     "iopub.status.idle": "2023-12-26T06:23:56.736993Z",
     "shell.execute_reply": "2023-12-26T06:23:56.735830Z"
    },
    "papermill": {
     "duration": 0.038412,
     "end_time": "2023-12-26T06:23:56.739471",
     "exception": false,
     "start_time": "2023-12-26T06:23:56.701059",
     "status": "completed"
    },
    "tags": []
   },
   "outputs": [
    {
     "data": {
      "text/html": [
       "<div>\n",
       "<style scoped>\n",
       "    .dataframe tbody tr th:only-of-type {\n",
       "        vertical-align: middle;\n",
       "    }\n",
       "\n",
       "    .dataframe tbody tr th {\n",
       "        vertical-align: top;\n",
       "    }\n",
       "\n",
       "    .dataframe thead th {\n",
       "        text-align: right;\n",
       "    }\n",
       "</style>\n",
       "<table border=\"1\" class=\"dataframe\">\n",
       "  <thead>\n",
       "    <tr style=\"text-align: right;\">\n",
       "      <th></th>\n",
       "      <th>popularity</th>\n",
       "      <th>cast</th>\n",
       "      <th>director</th>\n",
       "      <th>genres</th>\n",
       "      <th>profit</th>\n",
       "      <th>true_vote</th>\n",
       "    </tr>\n",
       "  </thead>\n",
       "  <tbody>\n",
       "    <tr>\n",
       "      <th>0</th>\n",
       "      <td>32.985763</td>\n",
       "      <td>Chris Pratt|Bryce Dallas Howard|Irrfan Khan|Vi...</td>\n",
       "      <td>Colin Trevorrow</td>\n",
       "      <td>Action|Adventure|Science Fiction|Thriller</td>\n",
       "      <td>1363528810</td>\n",
       "      <td>0.706947</td>\n",
       "    </tr>\n",
       "    <tr>\n",
       "      <th>1</th>\n",
       "      <td>28.419936</td>\n",
       "      <td>Tom Hardy|Charlize Theron|Hugh Keays-Byrne|Nic...</td>\n",
       "      <td>George Miller</td>\n",
       "      <td>Action|Adventure|Science Fiction|Thriller</td>\n",
       "      <td>228436354</td>\n",
       "      <td>0.773325</td>\n",
       "    </tr>\n",
       "    <tr>\n",
       "      <th>2</th>\n",
       "      <td>13.112507</td>\n",
       "      <td>Shailene Woodley|Theo James|Kate Winslet|Ansel...</td>\n",
       "      <td>Robert Schwentke</td>\n",
       "      <td>Adventure|Science Fiction|Thriller</td>\n",
       "      <td>185238201</td>\n",
       "      <td>0.655392</td>\n",
       "    </tr>\n",
       "    <tr>\n",
       "      <th>3</th>\n",
       "      <td>11.173104</td>\n",
       "      <td>Harrison Ford|Mark Hamill|Carrie Fisher|Adam D...</td>\n",
       "      <td>J.J. Abrams</td>\n",
       "      <td>Action|Adventure|Science Fiction|Fantasy</td>\n",
       "      <td>1868178225</td>\n",
       "      <td>0.804182</td>\n",
       "    </tr>\n",
       "    <tr>\n",
       "      <th>4</th>\n",
       "      <td>9.335014</td>\n",
       "      <td>Vin Diesel|Paul Walker|Jason Statham|Michelle ...</td>\n",
       "      <td>James Wan</td>\n",
       "      <td>Action|Crime|Thriller</td>\n",
       "      <td>1316249360</td>\n",
       "      <td>0.760173</td>\n",
       "    </tr>\n",
       "  </tbody>\n",
       "</table>\n",
       "</div>"
      ],
      "text/plain": [
       "   popularity                                               cast  \\\n",
       "0   32.985763  Chris Pratt|Bryce Dallas Howard|Irrfan Khan|Vi...   \n",
       "1   28.419936  Tom Hardy|Charlize Theron|Hugh Keays-Byrne|Nic...   \n",
       "2   13.112507  Shailene Woodley|Theo James|Kate Winslet|Ansel...   \n",
       "3   11.173104  Harrison Ford|Mark Hamill|Carrie Fisher|Adam D...   \n",
       "4    9.335014  Vin Diesel|Paul Walker|Jason Statham|Michelle ...   \n",
       "\n",
       "           director                                     genres      profit  \\\n",
       "0   Colin Trevorrow  Action|Adventure|Science Fiction|Thriller  1363528810   \n",
       "1     George Miller  Action|Adventure|Science Fiction|Thriller   228436354   \n",
       "2  Robert Schwentke         Adventure|Science Fiction|Thriller   185238201   \n",
       "3       J.J. Abrams   Action|Adventure|Science Fiction|Fantasy  1868178225   \n",
       "4         James Wan                      Action|Crime|Thriller  1316249360   \n",
       "\n",
       "   true_vote  \n",
       "0   0.706947  \n",
       "1   0.773325  \n",
       "2   0.655392  \n",
       "3   0.804182  \n",
       "4   0.760173  "
      ]
     },
     "execution_count": 13,
     "metadata": {},
     "output_type": "execute_result"
    }
   ],
   "source": [
    "# calculating the true rating\n",
    "# we will add a reliability score to every rating on the basis of how many people actually voted for the movie\n",
    "df['true_vote'] = (df['vote_average'] + (df['vote_count'] / df['vote_count'].max())) * 0.10\n",
    "df = df.drop(['vote_average', 'vote_count'], axis = 1)\n",
    "df.head()"
   ]
  },
  {
   "cell_type": "code",
   "execution_count": 14,
   "id": "4af76848",
   "metadata": {
    "execution": {
     "iopub.execute_input": "2023-12-26T06:23:56.771878Z",
     "iopub.status.busy": "2023-12-26T06:23:56.771434Z",
     "iopub.status.idle": "2023-12-26T06:23:56.781482Z",
     "shell.execute_reply": "2023-12-26T06:23:56.780082Z"
    },
    "papermill": {
     "duration": 0.029184,
     "end_time": "2023-12-26T06:23:56.783831",
     "exception": false,
     "start_time": "2023-12-26T06:23:56.754647",
     "status": "completed"
    },
    "tags": []
   },
   "outputs": [
    {
     "name": "stdout",
     "output_type": "stream",
     "text": [
      "count    10866.000000\n",
      "mean         0.599718\n",
      "std          0.095181\n",
      "min          0.150102\n",
      "25%          0.540358\n",
      "50%          0.601860\n",
      "75%          0.662311\n",
      "max          0.920143\n",
      "Name: true_vote, dtype: float64\n"
     ]
    }
   ],
   "source": [
    "print(df['true_vote'].describe())"
   ]
  },
  {
   "cell_type": "code",
   "execution_count": 15,
   "id": "4d1dc9e9",
   "metadata": {
    "execution": {
     "iopub.execute_input": "2023-12-26T06:23:56.816442Z",
     "iopub.status.busy": "2023-12-26T06:23:56.815752Z",
     "iopub.status.idle": "2023-12-26T06:23:57.147964Z",
     "shell.execute_reply": "2023-12-26T06:23:57.146764Z"
    },
    "papermill": {
     "duration": 0.351485,
     "end_time": "2023-12-26T06:23:57.150863",
     "exception": false,
     "start_time": "2023-12-26T06:23:56.799378",
     "status": "completed"
    },
    "tags": []
   },
   "outputs": [
    {
     "data": {
      "image/png": "[encoded data removed]",
      "text/plain": [
       "<Figure size 640x480 with 1 Axes>"
      ]
     },
     "metadata": {},
     "output_type": "display_data"
    }
   ],
   "source": [
    "plt.hist(df['true_vote'])\n",
    "plt.title('Distribution of Values in true_vote')\n",
    "plt.xlabel('Value')\n",
    "plt.ylabel('Frequency')\n",
    "plt.show() "
   ]
  },
  {
   "cell_type": "code",
   "execution_count": 16,
   "id": "4b3c534e",
   "metadata": {
    "execution": {
     "iopub.execute_input": "2023-12-26T06:23:57.184584Z",
     "iopub.status.busy": "2023-12-26T06:23:57.184163Z",
     "iopub.status.idle": "2023-12-26T06:23:57.196312Z",
     "shell.execute_reply": "2023-12-26T06:23:57.195167Z"
    },
    "papermill": {
     "duration": 0.032686,
     "end_time": "2023-12-26T06:23:57.198919",
     "exception": false,
     "start_time": "2023-12-26T06:23:57.166233",
     "status": "completed"
    },
    "tags": []
   },
   "outputs": [
    {
     "data": {
      "text/plain": [
       "count    1.086600e+04\n",
       "mean     2.519762e+07\n",
       "std      9.658799e+07\n",
       "min     -4.139124e+08\n",
       "25%      0.000000e+00\n",
       "50%      0.000000e+00\n",
       "75%      9.083358e+06\n",
       "max      2.544506e+09\n",
       "Name: profit, dtype: float64"
      ]
     },
     "execution_count": 16,
     "metadata": {},
     "output_type": "execute_result"
    }
   ],
   "source": [
    "df['profit'].describe()"
   ]
  },
  {
   "cell_type": "code",
   "execution_count": 17,
   "id": "59319ae3",
   "metadata": {
    "execution": {
     "iopub.execute_input": "2023-12-26T06:23:57.232909Z",
     "iopub.status.busy": "2023-12-26T06:23:57.232441Z",
     "iopub.status.idle": "2023-12-26T06:23:57.550989Z",
     "shell.execute_reply": "2023-12-26T06:23:57.549803Z"
    },
    "papermill": {
     "duration": 0.33864,
     "end_time": "2023-12-26T06:23:57.553671",
     "exception": false,
     "start_time": "2023-12-26T06:23:57.215031",
     "status": "completed"
    },
    "tags": []
   },
   "outputs": [
    {
     "data": {
      "image/png": "[encoded data removed]",
      "text/plain": [
       "<Figure size 640x480 with 1 Axes>"
      ]
     },
     "metadata": {},
     "output_type": "display_data"
    }
   ],
   "source": [
    "plt.hist(df['profit'])\n",
    "plt.title('Distribution of Values in profit')\n",
    "plt.xlabel('Value')\n",
    "plt.ylabel('Frequency')\n",
    "plt.show() "
   ]
  },
  {
   "cell_type": "code",
   "execution_count": 18,
   "id": "3078a8b2",
   "metadata": {
    "execution": {
     "iopub.execute_input": "2023-12-26T06:23:57.587457Z",
     "iopub.status.busy": "2023-12-26T06:23:57.587035Z",
     "iopub.status.idle": "2023-12-26T06:23:57.613655Z",
     "shell.execute_reply": "2023-12-26T06:23:57.612484Z"
    },
    "papermill": {
     "duration": 0.046491,
     "end_time": "2023-12-26T06:23:57.616363",
     "exception": false,
     "start_time": "2023-12-26T06:23:57.569872",
     "status": "completed"
    },
    "tags": []
   },
   "outputs": [
    {
     "data": {
      "text/html": [
       "<div>\n",
       "<style scoped>\n",
       "    .dataframe tbody tr th:only-of-type {\n",
       "        vertical-align: middle;\n",
       "    }\n",
       "\n",
       "    .dataframe tbody tr th {\n",
       "        vertical-align: top;\n",
       "    }\n",
       "\n",
       "    .dataframe thead th {\n",
       "        text-align: right;\n",
       "    }\n",
       "</style>\n",
       "<table border=\"1\" class=\"dataframe\">\n",
       "  <thead>\n",
       "    <tr style=\"text-align: right;\">\n",
       "      <th></th>\n",
       "      <th>popularity</th>\n",
       "      <th>cast</th>\n",
       "      <th>director</th>\n",
       "      <th>genres</th>\n",
       "      <th>true_vote</th>\n",
       "      <th>investability</th>\n",
       "    </tr>\n",
       "  </thead>\n",
       "  <tbody>\n",
       "    <tr>\n",
       "      <th>0</th>\n",
       "      <td>32.985763</td>\n",
       "      <td>Chris Pratt|Bryce Dallas Howard|Irrfan Khan|Vi...</td>\n",
       "      <td>Colin Trevorrow</td>\n",
       "      <td>Action|Adventure|Science Fiction|Thriller</td>\n",
       "      <td>0.706947</td>\n",
       "      <td>0.535872</td>\n",
       "    </tr>\n",
       "    <tr>\n",
       "      <th>1</th>\n",
       "      <td>28.419936</td>\n",
       "      <td>Tom Hardy|Charlize Theron|Hugh Keays-Byrne|Nic...</td>\n",
       "      <td>George Miller</td>\n",
       "      <td>Action|Adventure|Science Fiction|Thriller</td>\n",
       "      <td>0.773325</td>\n",
       "      <td>0.089776</td>\n",
       "    </tr>\n",
       "    <tr>\n",
       "      <th>2</th>\n",
       "      <td>13.112507</td>\n",
       "      <td>Shailene Woodley|Theo James|Kate Winslet|Ansel...</td>\n",
       "      <td>Robert Schwentke</td>\n",
       "      <td>Adventure|Science Fiction|Thriller</td>\n",
       "      <td>0.655392</td>\n",
       "      <td>0.072799</td>\n",
       "    </tr>\n",
       "    <tr>\n",
       "      <th>3</th>\n",
       "      <td>11.173104</td>\n",
       "      <td>Harrison Ford|Mark Hamill|Carrie Fisher|Adam D...</td>\n",
       "      <td>J.J. Abrams</td>\n",
       "      <td>Action|Adventure|Science Fiction|Fantasy</td>\n",
       "      <td>0.804182</td>\n",
       "      <td>0.734201</td>\n",
       "    </tr>\n",
       "    <tr>\n",
       "      <th>4</th>\n",
       "      <td>9.335014</td>\n",
       "      <td>Vin Diesel|Paul Walker|Jason Statham|Michelle ...</td>\n",
       "      <td>James Wan</td>\n",
       "      <td>Action|Crime|Thriller</td>\n",
       "      <td>0.760173</td>\n",
       "      <td>0.517291</td>\n",
       "    </tr>\n",
       "  </tbody>\n",
       "</table>\n",
       "</div>"
      ],
      "text/plain": [
       "   popularity                                               cast  \\\n",
       "0   32.985763  Chris Pratt|Bryce Dallas Howard|Irrfan Khan|Vi...   \n",
       "1   28.419936  Tom Hardy|Charlize Theron|Hugh Keays-Byrne|Nic...   \n",
       "2   13.112507  Shailene Woodley|Theo James|Kate Winslet|Ansel...   \n",
       "3   11.173104  Harrison Ford|Mark Hamill|Carrie Fisher|Adam D...   \n",
       "4    9.335014  Vin Diesel|Paul Walker|Jason Statham|Michelle ...   \n",
       "\n",
       "           director                                     genres  true_vote  \\\n",
       "0   Colin Trevorrow  Action|Adventure|Science Fiction|Thriller   0.706947   \n",
       "1     George Miller  Action|Adventure|Science Fiction|Thriller   0.773325   \n",
       "2  Robert Schwentke         Adventure|Science Fiction|Thriller   0.655392   \n",
       "3       J.J. Abrams   Action|Adventure|Science Fiction|Fantasy   0.804182   \n",
       "4         James Wan                      Action|Crime|Thriller   0.760173   \n",
       "\n",
       "   investability  \n",
       "0       0.535872  \n",
       "1       0.089776  \n",
       "2       0.072799  \n",
       "3       0.734201  \n",
       "4       0.517291  "
      ]
     },
     "execution_count": 18,
     "metadata": {},
     "output_type": "execute_result"
    }
   ],
   "source": [
    "# calculating investability \n",
    "# the profits made by a movie will effect the chances of a similar project being funded in the future\n",
    "# subsequently, the amount of funding is correlated to the success of a movie\n",
    "# while calculating this metric, movies will be rated from 1-10 and the movies that made a loss will be rated 0\n",
    "\n",
    "# adjusting the profit by assuming that 25% of the budget (although some movies end up spending more money on marketing than they do on production) \n",
    "df['profit'] = df['profit'] - (df['profit'] * 0.25)\n",
    "\n",
    "# trimming away the movies that made a loss\n",
    "df['profit'] = df['profit'].apply(lambda x: 0 if x < 0 else x)\n",
    "\n",
    "# calculating investability\n",
    "df['investability'] = df['profit'] / df['profit'].max()\n",
    "\n",
    "df = df.drop(['profit'], axis = 1)\n",
    "\n",
    "df.head()"
   ]
  },
  {
   "cell_type": "code",
   "execution_count": 19,
   "id": "a7a84262",
   "metadata": {
    "execution": {
     "iopub.execute_input": "2023-12-26T06:23:57.721966Z",
     "iopub.status.busy": "2023-12-26T06:23:57.721329Z",
     "iopub.status.idle": "2023-12-26T06:23:58.040004Z",
     "shell.execute_reply": "2023-12-26T06:23:58.038741Z"
    },
    "papermill": {
     "duration": 0.408554,
     "end_time": "2023-12-26T06:23:58.042995",
     "exception": false,
     "start_time": "2023-12-26T06:23:57.634441",
     "status": "completed"
    },
    "tags": []
   },
   "outputs": [
    {
     "data": {
      "image/png": "[encoded data removed]",
      "text/plain": [
       "<Figure size 640x480 with 1 Axes>"
      ]
     },
     "metadata": {},
     "output_type": "display_data"
    }
   ],
   "source": [
    "plt.hist(df['investability'])\n",
    "plt.title('Distribution of Values in investability')\n",
    "plt.xlabel('Value')\n",
    "plt.ylabel('Frequency')\n",
    "plt.show() "
   ]
  },
  {
   "cell_type": "code",
   "execution_count": 20,
   "id": "edba95a8",
   "metadata": {
    "execution": {
     "iopub.execute_input": "2023-12-26T06:23:58.088052Z",
     "iopub.status.busy": "2023-12-26T06:23:58.087113Z",
     "iopub.status.idle": "2023-12-26T06:23:58.428765Z",
     "shell.execute_reply": "2023-12-26T06:23:58.427607Z"
    },
    "papermill": {
     "duration": 0.363154,
     "end_time": "2023-12-26T06:23:58.431422",
     "exception": false,
     "start_time": "2023-12-26T06:23:58.068268",
     "status": "completed"
    },
    "tags": []
   },
   "outputs": [
    {
     "data": {
      "image/png": "[encoded data removed]",
      "text/plain": [
       "<Figure size 640x480 with 1 Axes>"
      ]
     },
     "metadata": {},
     "output_type": "display_data"
    }
   ],
   "source": [
    "plt.hist(df['popularity'])\n",
    "plt.title('Distribution of Values in popularity')\n",
    "plt.xlabel('Value')\n",
    "plt.ylabel('Frequency')\n",
    "plt.show() "
   ]
  },
  {
   "cell_type": "code",
   "execution_count": 21,
   "id": "c5627be7",
   "metadata": {
    "execution": {
     "iopub.execute_input": "2023-12-26T06:23:58.469576Z",
     "iopub.status.busy": "2023-12-26T06:23:58.468270Z",
     "iopub.status.idle": "2023-12-26T06:23:58.486445Z",
     "shell.execute_reply": "2023-12-26T06:23:58.485197Z"
    },
    "papermill": {
     "duration": 0.040999,
     "end_time": "2023-12-26T06:23:58.490326",
     "exception": false,
     "start_time": "2023-12-26T06:23:58.449327",
     "status": "completed"
    },
    "tags": []
   },
   "outputs": [
    {
     "data": {
      "text/html": [
       "<div>\n",
       "<style scoped>\n",
       "    .dataframe tbody tr th:only-of-type {\n",
       "        vertical-align: middle;\n",
       "    }\n",
       "\n",
       "    .dataframe tbody tr th {\n",
       "        vertical-align: top;\n",
       "    }\n",
       "\n",
       "    .dataframe thead th {\n",
       "        text-align: right;\n",
       "    }\n",
       "</style>\n",
       "<table border=\"1\" class=\"dataframe\">\n",
       "  <thead>\n",
       "    <tr style=\"text-align: right;\">\n",
       "      <th></th>\n",
       "      <th>popularity</th>\n",
       "      <th>cast</th>\n",
       "      <th>director</th>\n",
       "      <th>genres</th>\n",
       "      <th>true_vote</th>\n",
       "      <th>investability</th>\n",
       "    </tr>\n",
       "  </thead>\n",
       "  <tbody>\n",
       "    <tr>\n",
       "      <th>0</th>\n",
       "      <td>1.000000</td>\n",
       "      <td>Chris Pratt|Bryce Dallas Howard|Irrfan Khan|Vi...</td>\n",
       "      <td>Colin Trevorrow</td>\n",
       "      <td>Action|Adventure|Science Fiction|Thriller</td>\n",
       "      <td>0.706947</td>\n",
       "      <td>0.535872</td>\n",
       "    </tr>\n",
       "    <tr>\n",
       "      <th>1</th>\n",
       "      <td>0.861582</td>\n",
       "      <td>Tom Hardy|Charlize Theron|Hugh Keays-Byrne|Nic...</td>\n",
       "      <td>George Miller</td>\n",
       "      <td>Action|Adventure|Science Fiction|Thriller</td>\n",
       "      <td>0.773325</td>\n",
       "      <td>0.089776</td>\n",
       "    </tr>\n",
       "    <tr>\n",
       "      <th>2</th>\n",
       "      <td>0.397519</td>\n",
       "      <td>Shailene Woodley|Theo James|Kate Winslet|Ansel...</td>\n",
       "      <td>Robert Schwentke</td>\n",
       "      <td>Adventure|Science Fiction|Thriller</td>\n",
       "      <td>0.655392</td>\n",
       "      <td>0.072799</td>\n",
       "    </tr>\n",
       "    <tr>\n",
       "      <th>3</th>\n",
       "      <td>0.338724</td>\n",
       "      <td>Harrison Ford|Mark Hamill|Carrie Fisher|Adam D...</td>\n",
       "      <td>J.J. Abrams</td>\n",
       "      <td>Action|Adventure|Science Fiction|Fantasy</td>\n",
       "      <td>0.804182</td>\n",
       "      <td>0.734201</td>\n",
       "    </tr>\n",
       "    <tr>\n",
       "      <th>4</th>\n",
       "      <td>0.283000</td>\n",
       "      <td>Vin Diesel|Paul Walker|Jason Statham|Michelle ...</td>\n",
       "      <td>James Wan</td>\n",
       "      <td>Action|Crime|Thriller</td>\n",
       "      <td>0.760173</td>\n",
       "      <td>0.517291</td>\n",
       "    </tr>\n",
       "  </tbody>\n",
       "</table>\n",
       "</div>"
      ],
      "text/plain": [
       "   popularity                                               cast  \\\n",
       "0    1.000000  Chris Pratt|Bryce Dallas Howard|Irrfan Khan|Vi...   \n",
       "1    0.861582  Tom Hardy|Charlize Theron|Hugh Keays-Byrne|Nic...   \n",
       "2    0.397519  Shailene Woodley|Theo James|Kate Winslet|Ansel...   \n",
       "3    0.338724  Harrison Ford|Mark Hamill|Carrie Fisher|Adam D...   \n",
       "4    0.283000  Vin Diesel|Paul Walker|Jason Statham|Michelle ...   \n",
       "\n",
       "           director                                     genres  true_vote  \\\n",
       "0   Colin Trevorrow  Action|Adventure|Science Fiction|Thriller   0.706947   \n",
       "1     George Miller  Action|Adventure|Science Fiction|Thriller   0.773325   \n",
       "2  Robert Schwentke         Adventure|Science Fiction|Thriller   0.655392   \n",
       "3       J.J. Abrams   Action|Adventure|Science Fiction|Fantasy   0.804182   \n",
       "4         James Wan                      Action|Crime|Thriller   0.760173   \n",
       "\n",
       "   investability  \n",
       "0       0.535872  \n",
       "1       0.089776  \n",
       "2       0.072799  \n",
       "3       0.734201  \n",
       "4       0.517291  "
      ]
     },
     "execution_count": 21,
     "metadata": {},
     "output_type": "execute_result"
    }
   ],
   "source": [
    "# squishing the popularity column down\n",
    "diff = df['popularity'].max() - df['popularity'].min()\n",
    "df['popularity'] = (df['popularity'] - df['popularity'].min()) / diff\n",
    "\n",
    "df.head()"
   ]
  },
  {
   "cell_type": "code",
   "execution_count": 22,
   "id": "df703d7a",
   "metadata": {
    "execution": {
     "iopub.execute_input": "2023-12-26T06:23:58.532773Z",
     "iopub.status.busy": "2023-12-26T06:23:58.532341Z",
     "iopub.status.idle": "2023-12-26T06:23:58.546052Z",
     "shell.execute_reply": "2023-12-26T06:23:58.545192Z"
    },
    "papermill": {
     "duration": 0.03755,
     "end_time": "2023-12-26T06:23:58.549160",
     "exception": false,
     "start_time": "2023-12-26T06:23:58.511610",
     "status": "completed"
    },
    "tags": []
   },
   "outputs": [
    {
     "data": {
      "text/plain": [
       "count    10866.000000\n",
       "mean         0.019596\n",
       "std          0.030322\n",
       "min          0.000000\n",
       "25%          0.006291\n",
       "50%          0.011635\n",
       "75%          0.021638\n",
       "max          1.000000\n",
       "Name: popularity, dtype: float64"
      ]
     },
     "execution_count": 22,
     "metadata": {},
     "output_type": "execute_result"
    }
   ],
   "source": [
    "df['popularity'].describe()"
   ]
  },
  {
   "cell_type": "code",
   "execution_count": 23,
   "id": "9a2628a3",
   "metadata": {
    "execution": {
     "iopub.execute_input": "2023-12-26T06:23:58.588864Z",
     "iopub.status.busy": "2023-12-26T06:23:58.588363Z",
     "iopub.status.idle": "2023-12-26T06:23:58.892042Z",
     "shell.execute_reply": "2023-12-26T06:23:58.890535Z"
    },
    "papermill": {
     "duration": 0.325735,
     "end_time": "2023-12-26T06:23:58.894991",
     "exception": false,
     "start_time": "2023-12-26T06:23:58.569256",
     "status": "completed"
    },
    "tags": []
   },
   "outputs": [
    {
     "data": {
      "image/png": "[encoded data removed]",
      "text/plain": [
       "<Figure size 640x480 with 1 Axes>"
      ]
     },
     "metadata": {},
     "output_type": "display_data"
    }
   ],
   "source": [
    "plt.hist(df['popularity'])\n",
    "plt.title('Distribution of Values in popularity')\n",
    "plt.xlabel('Value')\n",
    "plt.ylabel('Frequency')\n",
    "plt.show() "
   ]
  },
  {
   "cell_type": "code",
   "execution_count": 24,
   "id": "6be679e4",
   "metadata": {
    "execution": {
     "iopub.execute_input": "2023-12-26T06:23:58.933764Z",
     "iopub.status.busy": "2023-12-26T06:23:58.933333Z",
     "iopub.status.idle": "2023-12-26T06:23:58.943846Z",
     "shell.execute_reply": "2023-12-26T06:23:58.943026Z"
    },
    "papermill": {
     "duration": 0.032582,
     "end_time": "2023-12-26T06:23:58.946203",
     "exception": false,
     "start_time": "2023-12-26T06:23:58.913621",
     "status": "completed"
    },
    "tags": []
   },
   "outputs": [],
   "source": [
    "# now we will create our label using popularity, true_vote and investability\n",
    "# assuming that popularity has a weightage of 80%, and true_vote and investability have the weightage of 10% respectively.\n",
    "df['label'] = df['popularity'] * 0.8 +  df['true_vote'] * 0.1 + df['investability'] * 0.1\n",
    "df = df.drop(['popularity', 'true_vote', 'investability'], axis = 1)"
   ]
  },
  {
   "cell_type": "code",
   "execution_count": 25,
   "id": "5788d690",
   "metadata": {
    "execution": {
     "iopub.execute_input": "2023-12-26T06:23:58.985674Z",
     "iopub.status.busy": "2023-12-26T06:23:58.984394Z",
     "iopub.status.idle": "2023-12-26T06:23:58.997844Z",
     "shell.execute_reply": "2023-12-26T06:23:58.996684Z"
    },
    "papermill": {
     "duration": 0.036321,
     "end_time": "2023-12-26T06:23:59.000426",
     "exception": false,
     "start_time": "2023-12-26T06:23:58.964105",
     "status": "completed"
    },
    "tags": []
   },
   "outputs": [
    {
     "data": {
      "text/html": [
       "<div>\n",
       "<style scoped>\n",
       "    .dataframe tbody tr th:only-of-type {\n",
       "        vertical-align: middle;\n",
       "    }\n",
       "\n",
       "    .dataframe tbody tr th {\n",
       "        vertical-align: top;\n",
       "    }\n",
       "\n",
       "    .dataframe thead th {\n",
       "        text-align: right;\n",
       "    }\n",
       "</style>\n",
       "<table border=\"1\" class=\"dataframe\">\n",
       "  <thead>\n",
       "    <tr style=\"text-align: right;\">\n",
       "      <th></th>\n",
       "      <th>cast</th>\n",
       "      <th>director</th>\n",
       "      <th>genres</th>\n",
       "      <th>label</th>\n",
       "    </tr>\n",
       "  </thead>\n",
       "  <tbody>\n",
       "    <tr>\n",
       "      <th>0</th>\n",
       "      <td>Chris Pratt|Bryce Dallas Howard|Irrfan Khan|Vi...</td>\n",
       "      <td>Colin Trevorrow</td>\n",
       "      <td>Action|Adventure|Science Fiction|Thriller</td>\n",
       "      <td>0.924282</td>\n",
       "    </tr>\n",
       "    <tr>\n",
       "      <th>1</th>\n",
       "      <td>Tom Hardy|Charlize Theron|Hugh Keays-Byrne|Nic...</td>\n",
       "      <td>George Miller</td>\n",
       "      <td>Action|Adventure|Science Fiction|Thriller</td>\n",
       "      <td>0.775575</td>\n",
       "    </tr>\n",
       "    <tr>\n",
       "      <th>2</th>\n",
       "      <td>Shailene Woodley|Theo James|Kate Winslet|Ansel...</td>\n",
       "      <td>Robert Schwentke</td>\n",
       "      <td>Adventure|Science Fiction|Thriller</td>\n",
       "      <td>0.390834</td>\n",
       "    </tr>\n",
       "    <tr>\n",
       "      <th>3</th>\n",
       "      <td>Harrison Ford|Mark Hamill|Carrie Fisher|Adam D...</td>\n",
       "      <td>J.J. Abrams</td>\n",
       "      <td>Action|Adventure|Science Fiction|Fantasy</td>\n",
       "      <td>0.424817</td>\n",
       "    </tr>\n",
       "    <tr>\n",
       "      <th>4</th>\n",
       "      <td>Vin Diesel|Paul Walker|Jason Statham|Michelle ...</td>\n",
       "      <td>James Wan</td>\n",
       "      <td>Action|Crime|Thriller</td>\n",
       "      <td>0.354146</td>\n",
       "    </tr>\n",
       "  </tbody>\n",
       "</table>\n",
       "</div>"
      ],
      "text/plain": [
       "                                                cast          director  \\\n",
       "0  Chris Pratt|Bryce Dallas Howard|Irrfan Khan|Vi...   Colin Trevorrow   \n",
       "1  Tom Hardy|Charlize Theron|Hugh Keays-Byrne|Nic...     George Miller   \n",
       "2  Shailene Woodley|Theo James|Kate Winslet|Ansel...  Robert Schwentke   \n",
       "3  Harrison Ford|Mark Hamill|Carrie Fisher|Adam D...       J.J. Abrams   \n",
       "4  Vin Diesel|Paul Walker|Jason Statham|Michelle ...         James Wan   \n",
       "\n",
       "                                      genres     label  \n",
       "0  Action|Adventure|Science Fiction|Thriller  0.924282  \n",
       "1  Action|Adventure|Science Fiction|Thriller  0.775575  \n",
       "2         Adventure|Science Fiction|Thriller  0.390834  \n",
       "3   Action|Adventure|Science Fiction|Fantasy  0.424817  \n",
       "4                      Action|Crime|Thriller  0.354146  "
      ]
     },
     "execution_count": 25,
     "metadata": {},
     "output_type": "execute_result"
    }
   ],
   "source": [
    "df.head()"
   ]
  },
  {
   "cell_type": "code",
   "execution_count": 26,
   "id": "73611aa6",
   "metadata": {
    "execution": {
     "iopub.execute_input": "2023-12-26T06:23:59.039034Z",
     "iopub.status.busy": "2023-12-26T06:23:59.038182Z",
     "iopub.status.idle": "2023-12-26T06:23:59.334725Z",
     "shell.execute_reply": "2023-12-26T06:23:59.333441Z"
    },
    "papermill": {
     "duration": 0.319389,
     "end_time": "2023-12-26T06:23:59.337977",
     "exception": false,
     "start_time": "2023-12-26T06:23:59.018588",
     "status": "completed"
    },
    "tags": []
   },
   "outputs": [
    {
     "data": {
      "image/png": "[encoded data removed]",
      "text/plain": [
       "<Figure size 640x480 with 1 Axes>"
      ]
     },
     "metadata": {},
     "output_type": "display_data"
    }
   ],
   "source": [
    "plt.hist(df['label'])\n",
    "plt.title('Distribution of Values in label')\n",
    "plt.xlabel('Value')\n",
    "plt.ylabel('Frequency')\n",
    "plt.show() "
   ]
  },
  {
   "cell_type": "code",
   "execution_count": 27,
   "id": "091446b9",
   "metadata": {
    "execution": {
     "iopub.execute_input": "2023-12-26T06:23:59.377543Z",
     "iopub.status.busy": "2023-12-26T06:23:59.377147Z",
     "iopub.status.idle": "2023-12-26T06:23:59.622246Z",
     "shell.execute_reply": "2023-12-26T06:23:59.620994Z"
    },
    "papermill": {
     "duration": 0.268434,
     "end_time": "2023-12-26T06:23:59.625234",
     "exception": false,
     "start_time": "2023-12-26T06:23:59.356800",
     "status": "completed"
    },
    "tags": []
   },
   "outputs": [],
   "source": [
    "# separating the cast and genre names into individual entries\n",
    "df['cast'] = df['cast'].str.split('|')\n",
    "df['director'] = df['director'].str.split('|')\n",
    "df['genres'] = df['genres'].str.split('|')\n",
    "\n",
    "df = df.explode('cast').reset_index(drop=True)\n",
    "df = df.explode('director').reset_index(drop=True)\n",
    "df = df.explode('genres').reset_index(drop=True)\n",
    "\n",
    "df.rename(columns={'genres': 'genre', 'cast': 'actor'}, inplace=True)"
   ]
  },
  {
   "cell_type": "code",
   "execution_count": 28,
   "id": "e55d2cad",
   "metadata": {
    "execution": {
     "iopub.execute_input": "2023-12-26T06:23:59.665964Z",
     "iopub.status.busy": "2023-12-26T06:23:59.665550Z",
     "iopub.status.idle": "2023-12-26T06:23:59.678899Z",
     "shell.execute_reply": "2023-12-26T06:23:59.677685Z"
    },
    "papermill": {
     "duration": 0.036941,
     "end_time": "2023-12-26T06:23:59.681755",
     "exception": false,
     "start_time": "2023-12-26T06:23:59.644814",
     "status": "completed"
    },
    "tags": []
   },
   "outputs": [
    {
     "data": {
      "text/html": [
       "<div>\n",
       "<style scoped>\n",
       "    .dataframe tbody tr th:only-of-type {\n",
       "        vertical-align: middle;\n",
       "    }\n",
       "\n",
       "    .dataframe tbody tr th {\n",
       "        vertical-align: top;\n",
       "    }\n",
       "\n",
       "    .dataframe thead th {\n",
       "        text-align: right;\n",
       "    }\n",
       "</style>\n",
       "<table border=\"1\" class=\"dataframe\">\n",
       "  <thead>\n",
       "    <tr style=\"text-align: right;\">\n",
       "      <th></th>\n",
       "      <th>actor</th>\n",
       "      <th>director</th>\n",
       "      <th>genre</th>\n",
       "      <th>label</th>\n",
       "    </tr>\n",
       "  </thead>\n",
       "  <tbody>\n",
       "    <tr>\n",
       "      <th>0</th>\n",
       "      <td>Chris Pratt</td>\n",
       "      <td>Colin Trevorrow</td>\n",
       "      <td>Action</td>\n",
       "      <td>0.924282</td>\n",
       "    </tr>\n",
       "    <tr>\n",
       "      <th>1</th>\n",
       "      <td>Chris Pratt</td>\n",
       "      <td>Colin Trevorrow</td>\n",
       "      <td>Adventure</td>\n",
       "      <td>0.924282</td>\n",
       "    </tr>\n",
       "    <tr>\n",
       "      <th>2</th>\n",
       "      <td>Chris Pratt</td>\n",
       "      <td>Colin Trevorrow</td>\n",
       "      <td>Science Fiction</td>\n",
       "      <td>0.924282</td>\n",
       "    </tr>\n",
       "    <tr>\n",
       "      <th>3</th>\n",
       "      <td>Chris Pratt</td>\n",
       "      <td>Colin Trevorrow</td>\n",
       "      <td>Thriller</td>\n",
       "      <td>0.924282</td>\n",
       "    </tr>\n",
       "    <tr>\n",
       "      <th>4</th>\n",
       "      <td>Bryce Dallas Howard</td>\n",
       "      <td>Colin Trevorrow</td>\n",
       "      <td>Action</td>\n",
       "      <td>0.924282</td>\n",
       "    </tr>\n",
       "  </tbody>\n",
       "</table>\n",
       "</div>"
      ],
      "text/plain": [
       "                 actor         director            genre     label\n",
       "0          Chris Pratt  Colin Trevorrow           Action  0.924282\n",
       "1          Chris Pratt  Colin Trevorrow        Adventure  0.924282\n",
       "2          Chris Pratt  Colin Trevorrow  Science Fiction  0.924282\n",
       "3          Chris Pratt  Colin Trevorrow         Thriller  0.924282\n",
       "4  Bryce Dallas Howard  Colin Trevorrow           Action  0.924282"
      ]
     },
     "execution_count": 28,
     "metadata": {},
     "output_type": "execute_result"
    }
   ],
   "source": [
    "df.head()"
   ]
  },
  {
   "cell_type": "code",
   "execution_count": 29,
   "id": "3fecce1b",
   "metadata": {
    "execution": {
     "iopub.execute_input": "2023-12-26T06:23:59.722487Z",
     "iopub.status.busy": "2023-12-26T06:23:59.722016Z",
     "iopub.status.idle": "2023-12-26T06:23:59.729090Z",
     "shell.execute_reply": "2023-12-26T06:23:59.727815Z"
    },
    "papermill": {
     "duration": 0.030453,
     "end_time": "2023-12-26T06:23:59.731863",
     "exception": false,
     "start_time": "2023-12-26T06:23:59.701410",
     "status": "completed"
    },
    "tags": []
   },
   "outputs": [
    {
     "data": {
      "text/plain": [
       "(144265, 4)"
      ]
     },
     "execution_count": 29,
     "metadata": {},
     "output_type": "execute_result"
    }
   ],
   "source": [
    "df.shape"
   ]
  },
  {
   "cell_type": "code",
   "execution_count": 30,
   "id": "fe00f3a6",
   "metadata": {
    "execution": {
     "iopub.execute_input": "2023-12-26T06:23:59.773874Z",
     "iopub.status.busy": "2023-12-26T06:23:59.773368Z",
     "iopub.status.idle": "2023-12-26T06:24:00.338494Z",
     "shell.execute_reply": "2023-12-26T06:24:00.337479Z"
    },
    "papermill": {
     "duration": 0.590118,
     "end_time": "2023-12-26T06:24:00.341223",
     "exception": false,
     "start_time": "2023-12-26T06:23:59.751105",
     "status": "completed"
    },
    "tags": []
   },
   "outputs": [],
   "source": [
    "# encoding the categorical values\n",
    "\n",
    "from sklearn.preprocessing import LabelEncoder\n",
    "\n",
    "le = LabelEncoder()\n",
    "df['actor'] = le.fit_transform(df['actor'])\n",
    "mapping_actor = dict(zip(le.classes_, range(len(le.classes_))))\n",
    "df['director'] = le.fit_transform(df['director'])\n",
    "mapping_director = dict(zip(le.classes_, range(len(le.classes_))))\n",
    "df['genre'] = le.fit_transform(df['genre'])\n",
    "mapping_genre = dict(zip(le.classes_, range(len(le.classes_))))\n",
    "\n",
    "num_actor = len(mapping_actor)\n",
    "num_director = len(mapping_director)\n",
    "num_genre = len(mapping_genre)\n",
    "\n",
    "# converting the continous label into a binary label\n",
    "\n",
    "df['label'] = df['label'].apply(lambda x: 1 if x >= 0.5 else 0)"
   ]
  },
  {
   "cell_type": "code",
   "execution_count": 31,
   "id": "2a31a800",
   "metadata": {
    "execution": {
     "iopub.execute_input": "2023-12-26T06:24:00.383003Z",
     "iopub.status.busy": "2023-12-26T06:24:00.382250Z",
     "iopub.status.idle": "2023-12-26T06:24:00.806684Z",
     "shell.execute_reply": "2023-12-26T06:24:00.805335Z"
    },
    "papermill": {
     "duration": 0.448453,
     "end_time": "2023-12-26T06:24:00.809837",
     "exception": false,
     "start_time": "2023-12-26T06:24:00.361384",
     "status": "completed"
    },
    "tags": []
   },
   "outputs": [],
   "source": [
    "# extracting this dataframe for use in app\n",
    "\n",
    "import pandas as pd\n",
    "\n",
    "df.to_csv('output.csv', index=False)"
   ]
  },
  {
   "cell_type": "code",
   "execution_count": 32,
   "id": "5a13a06e",
   "metadata": {
    "execution": {
     "iopub.execute_input": "2023-12-26T06:24:00.851254Z",
     "iopub.status.busy": "2023-12-26T06:24:00.850829Z",
     "iopub.status.idle": "2023-12-26T06:24:00.857571Z",
     "shell.execute_reply": "2023-12-26T06:24:00.856287Z"
    },
    "papermill": {
     "duration": 0.030603,
     "end_time": "2023-12-26T06:24:00.860442",
     "exception": false,
     "start_time": "2023-12-26T06:24:00.829839",
     "status": "completed"
    },
    "tags": []
   },
   "outputs": [
    {
     "data": {
      "text/plain": [
       "<function print>"
      ]
     },
     "execution_count": 32,
     "metadata": {},
     "output_type": "execute_result"
    }
   ],
   "source": [
    "print"
   ]
  },
  {
   "cell_type": "code",
   "execution_count": 33,
   "id": "74b190d0",
   "metadata": {
    "execution": {
     "iopub.execute_input": "2023-12-26T06:24:00.901734Z",
     "iopub.status.busy": "2023-12-26T06:24:00.901285Z",
     "iopub.status.idle": "2023-12-26T06:24:00.906677Z",
     "shell.execute_reply": "2023-12-26T06:24:00.905495Z"
    },
    "papermill": {
     "duration": 0.030178,
     "end_time": "2023-12-26T06:24:00.910338",
     "exception": false,
     "start_time": "2023-12-26T06:24:00.880160",
     "status": "completed"
    },
    "tags": []
   },
   "outputs": [
    {
     "name": "stdout",
     "output_type": "stream",
     "text": [
      "19027 5363 21\n"
     ]
    }
   ],
   "source": [
    "print(num_actor, num_director, num_genre)"
   ]
  },
  {
   "cell_type": "code",
   "execution_count": 34,
   "id": "bfe198ab",
   "metadata": {
    "execution": {
     "iopub.execute_input": "2023-12-26T06:24:00.951424Z",
     "iopub.status.busy": "2023-12-26T06:24:00.950974Z",
     "iopub.status.idle": "2023-12-26T06:24:00.960766Z",
     "shell.execute_reply": "2023-12-26T06:24:00.959905Z"
    },
    "papermill": {
     "duration": 0.032923,
     "end_time": "2023-12-26T06:24:00.963179",
     "exception": false,
     "start_time": "2023-12-26T06:24:00.930256",
     "status": "completed"
    },
    "tags": []
   },
   "outputs": [
    {
     "data": {
      "text/plain": [
       "actor       0\n",
       "director    0\n",
       "genre       0\n",
       "label       0\n",
       "dtype: int64"
      ]
     },
     "execution_count": 34,
     "metadata": {},
     "output_type": "execute_result"
    }
   ],
   "source": [
    "df.isnull().sum()"
   ]
  },
  {
   "cell_type": "code",
   "execution_count": 35,
   "id": "040e9e98",
   "metadata": {
    "execution": {
     "iopub.execute_input": "2023-12-26T06:24:01.006080Z",
     "iopub.status.busy": "2023-12-26T06:24:01.005314Z",
     "iopub.status.idle": "2023-12-26T06:24:01.259015Z",
     "shell.execute_reply": "2023-12-26T06:24:01.257600Z"
    },
    "papermill": {
     "duration": 0.279334,
     "end_time": "2023-12-26T06:24:01.262504",
     "exception": false,
     "start_time": "2023-12-26T06:24:00.983170",
     "status": "completed"
    },
    "tags": []
   },
   "outputs": [],
   "source": [
    "# training the model\n",
    "\n",
    "from sklearn.model_selection import cross_val_score, cross_val_predict, RepeatedStratifiedKFold\n",
    "from sklearn.linear_model import LogisticRegression\n",
    "from sklearn.model_selection import train_test_split\n",
    "from sklearn.metrics import accuracy_score"
   ]
  },
  {
   "cell_type": "code",
   "execution_count": 36,
   "id": "e068b8b8",
   "metadata": {
    "execution": {
     "iopub.execute_input": "2023-12-26T06:24:01.305875Z",
     "iopub.status.busy": "2023-12-26T06:24:01.305000Z",
     "iopub.status.idle": "2023-12-26T06:24:01.342305Z",
     "shell.execute_reply": "2023-12-26T06:24:01.341120Z"
    },
    "papermill": {
     "duration": 0.063407,
     "end_time": "2023-12-26T06:24:01.345817",
     "exception": false,
     "start_time": "2023-12-26T06:24:01.282410",
     "status": "completed"
    },
    "tags": []
   },
   "outputs": [],
   "source": [
    "X = df.drop(columns = ['label'])\n",
    "y = df['label']\n",
    "\n",
    "X_train, X_test, y_train, y_test = train_test_split(X, y, test_size=0.2, random_state=42)"
   ]
  },
  {
   "cell_type": "code",
   "execution_count": 37,
   "id": "3d8e6a99",
   "metadata": {
    "execution": {
     "iopub.execute_input": "2023-12-26T06:24:01.388339Z",
     "iopub.status.busy": "2023-12-26T06:24:01.387919Z",
     "iopub.status.idle": "2023-12-26T06:24:02.197699Z",
     "shell.execute_reply": "2023-12-26T06:24:02.196162Z"
    },
    "papermill": {
     "duration": 0.835973,
     "end_time": "2023-12-26T06:24:02.202791",
     "exception": false,
     "start_time": "2023-12-26T06:24:01.366818",
     "status": "completed"
    },
    "tags": []
   },
   "outputs": [
    {
     "name": "stdout",
     "output_type": "stream",
     "text": [
      "Accuracy: 99.95147818251135%\n"
     ]
    }
   ],
   "source": [
    "model = LogisticRegression(max_iter = 1000)\n",
    "model.fit(X_train, y_train)\n",
    "\n",
    "y_pred = model.predict(X_test)\n",
    "\n",
    "score = accuracy_score(y_test, y_pred)\n",
    "print(f'Accuracy: {score * 100}%')"
   ]
  },
  {
   "cell_type": "code",
   "execution_count": 38,
   "id": "a11e949c",
   "metadata": {
    "execution": {
     "iopub.execute_input": "2023-12-26T06:24:02.302351Z",
     "iopub.status.busy": "2023-12-26T06:24:02.301606Z",
     "iopub.status.idle": "2023-12-26T06:24:27.180250Z",
     "shell.execute_reply": "2023-12-26T06:24:27.178730Z"
    },
    "papermill": {
     "duration": 24.935891,
     "end_time": "2023-12-26T06:24:27.185081",
     "exception": false,
     "start_time": "2023-12-26T06:24:02.249190",
     "status": "completed"
    },
    "tags": []
   },
   "outputs": [
    {
     "name": "stdout",
     "output_type": "stream",
     "text": [
      "Cross-Validation Score: 99.9618758349053 (+/- 6.929045564396662e-05)\n"
     ]
    }
   ],
   "source": [
    "cv = RepeatedStratifiedKFold(n_splits=10, n_repeats=3, random_state=1)\n",
    "\n",
    "model = LogisticRegression(max_iter = 1000)\n",
    "scores = cross_val_score(model, X, y, cv=cv, scoring='accuracy')\n",
    "\n",
    "print(f'Cross-Validation Score: {scores.mean() * 100} (+/- {scores.std() * 2})')"
   ]
  },
  {
   "cell_type": "code",
   "execution_count": 39,
   "id": "f8383596",
   "metadata": {
    "execution": {
     "iopub.execute_input": "2023-12-26T06:24:27.274097Z",
     "iopub.status.busy": "2023-12-26T06:24:27.273349Z",
     "iopub.status.idle": "2023-12-26T06:24:28.098812Z",
     "shell.execute_reply": "2023-12-26T06:24:28.096912Z"
    },
    "papermill": {
     "duration": 0.876322,
     "end_time": "2023-12-26T06:24:28.103540",
     "exception": false,
     "start_time": "2023-12-26T06:24:27.227218",
     "status": "completed"
    },
    "tags": []
   },
   "outputs": [
    {
     "data": {
      "text/html": [
       "<style>#sk-container-id-1 {color: black;background-color: white;}#sk-container-id-1 pre{padding: 0;}#sk-container-id-1 div.sk-toggleable {background-color: white;}#sk-container-id-1 label.sk-toggleable__label {cursor: pointer;display: block;width: 100%;margin-bottom: 0;padding: 0.3em;box-sizing: border-box;text-align: center;}#sk-container-id-1 label.sk-toggleable__label-arrow:before {content: \"▸\";float: left;margin-right: 0.25em;color: #696969;}#sk-container-id-1 label.sk-toggleable__label-arrow:hover:before {color: black;}#sk-container-id-1 div.sk-estimator:hover label.sk-toggleable__label-arrow:before {color: black;}#sk-container-id-1 div.sk-toggleable__content {max-height: 0;max-width: 0;overflow: hidden;text-align: left;background-color: #f0f8ff;}#sk-container-id-1 div.sk-toggleable__content pre {margin: 0.2em;color: black;border-radius: 0.25em;background-color: #f0f8ff;}#sk-container-id-1 input.sk-toggleable__control:checked~div.sk-toggleable__content {max-height: 200px;max-width: 100%;overflow: auto;}#sk-container-id-1 input.sk-toggleable__control:checked~label.sk-toggleable__label-arrow:before {content: \"▾\";}#sk-container-id-1 div.sk-estimator input.sk-toggleable__control:checked~label.sk-toggleable__label {background-color: #d4ebff;}#sk-container-id-1 div.sk-label input.sk-toggleable__control:checked~label.sk-toggleable__label {background-color: #d4ebff;}#sk-container-id-1 input.sk-hidden--visually {border: 0;clip: rect(1px 1px 1px 1px);clip: rect(1px, 1px, 1px, 1px);height: 1px;margin: -1px;overflow: hidden;padding: 0;position: absolute;width: 1px;}#sk-container-id-1 div.sk-estimator {font-family: monospace;background-color: #f0f8ff;border: 1px dotted black;border-radius: 0.25em;box-sizing: border-box;margin-bottom: 0.5em;}#sk-container-id-1 div.sk-estimator:hover {background-color: #d4ebff;}#sk-container-id-1 div.sk-parallel-item::after {content: \"\";width: 100%;border-bottom: 1px solid gray;flex-grow: 1;}#sk-container-id-1 div.sk-label:hover label.sk-toggleable__label {background-color: #d4ebff;}#sk-container-id-1 div.sk-serial::before {content: \"\";position: absolute;border-left: 1px solid gray;box-sizing: border-box;top: 0;bottom: 0;left: 50%;z-index: 0;}#sk-container-id-1 div.sk-serial {display: flex;flex-direction: column;align-items: center;background-color: white;padding-right: 0.2em;padding-left: 0.2em;position: relative;}#sk-container-id-1 div.sk-item {position: relative;z-index: 1;}#sk-container-id-1 div.sk-parallel {display: flex;align-items: stretch;justify-content: center;background-color: white;position: relative;}#sk-container-id-1 div.sk-item::before, #sk-container-id-1 div.sk-parallel-item::before {content: \"\";position: absolute;border-left: 1px solid gray;box-sizing: border-box;top: 0;bottom: 0;left: 50%;z-index: -1;}#sk-container-id-1 div.sk-parallel-item {display: flex;flex-direction: column;z-index: 1;position: relative;background-color: white;}#sk-container-id-1 div.sk-parallel-item:first-child::after {align-self: flex-end;width: 50%;}#sk-container-id-1 div.sk-parallel-item:last-child::after {align-self: flex-start;width: 50%;}#sk-container-id-1 div.sk-parallel-item:only-child::after {width: 0;}#sk-container-id-1 div.sk-dashed-wrapped {border: 1px dashed gray;margin: 0 0.4em 0.5em 0.4em;box-sizing: border-box;padding-bottom: 0.4em;background-color: white;}#sk-container-id-1 div.sk-label label {font-family: monospace;font-weight: bold;display: inline-block;line-height: 1.2em;}#sk-container-id-1 div.sk-label-container {text-align: center;}#sk-container-id-1 div.sk-container {/* jupyter's `normalize.less` sets `[hidden] { display: none; }` but bootstrap.min.css set `[hidden] { display: none !important; }` so we also need the `!important` here to be able to override the default hidden behavior on the sphinx rendered scikit-learn.org. See: https://github.com/scikit-learn/scikit-learn/issues/21755 */display: inline-block !important;position: relative;}#sk-container-id-1 div.sk-text-repr-fallback {display: none;}</style><div id=\"sk-container-id-1\" class=\"sk-top-container\"><div class=\"sk-text-repr-fallback\"><pre>LogisticRegression(max_iter=1000)</pre><b>In a Jupyter environment, please rerun this cell to show the HTML representation or trust the notebook. <br />On GitHub, the HTML representation is unable to render, please try loading this page with nbviewer.org.</b></div><div class=\"sk-container\" hidden><div class=\"sk-item\"><div class=\"sk-estimator sk-toggleable\"><input class=\"sk-toggleable__control sk-hidden--visually\" id=\"sk-estimator-id-1\" type=\"checkbox\" checked><label for=\"sk-estimator-id-1\" class=\"sk-toggleable__label sk-toggleable__label-arrow\">LogisticRegression</label><div class=\"sk-toggleable__content\"><pre>LogisticRegression(max_iter=1000)</pre></div></div></div></div></div>"
      ],
      "text/plain": [
       "LogisticRegression(max_iter=1000)"
      ]
     },
     "execution_count": 39,
     "metadata": {},
     "output_type": "execute_result"
    }
   ],
   "source": [
    "# outputting results\n",
    "\n",
    "model.fit(X, y)"
   ]
  },
  {
   "cell_type": "code",
   "execution_count": 40,
   "id": "9025e0ea",
   "metadata": {
    "execution": {
     "iopub.execute_input": "2023-12-26T06:24:28.192658Z",
     "iopub.status.busy": "2023-12-26T06:24:28.191934Z",
     "iopub.status.idle": "2023-12-26T06:24:28.208137Z",
     "shell.execute_reply": "2023-12-26T06:24:28.206972Z"
    },
    "papermill": {
     "duration": 0.064039,
     "end_time": "2023-12-26T06:24:28.210742",
     "exception": false,
     "start_time": "2023-12-26T06:24:28.146703",
     "status": "completed"
    },
    "tags": []
   },
   "outputs": [
    {
     "name": "stderr",
     "output_type": "stream",
     "text": [
      "/opt/conda/lib/python3.10/site-packages/sklearn/base.py:439: UserWarning: X does not have valid feature names, but LogisticRegression was fitted with feature names\n",
      "  warnings.warn(\n"
     ]
    },
    {
     "data": {
      "text/plain": [
       "array([[0.9981218, 0.0018782],\n",
       "       [0.9981034, 0.0018966]])"
      ]
     },
     "execution_count": 40,
     "metadata": {},
     "output_type": "execute_result"
    }
   ],
   "source": [
    "input_features = [[1, 1, 1], [1, 1, 2]]\n",
    "probabilities = model.predict_proba(input_features)\n",
    "probabilities"
   ]
  },
  {
   "cell_type": "code",
   "execution_count": 41,
   "id": "4fa81141",
   "metadata": {
    "execution": {
     "iopub.execute_input": "2023-12-26T06:24:28.254722Z",
     "iopub.status.busy": "2023-12-26T06:24:28.253888Z",
     "iopub.status.idle": "2023-12-26T06:24:28.258315Z",
     "shell.execute_reply": "2023-12-26T06:24:28.257458Z"
    },
    "papermill": {
     "duration": 0.029394,
     "end_time": "2023-12-26T06:24:28.260741",
     "exception": false,
     "start_time": "2023-12-26T06:24:28.231347",
     "status": "completed"
    },
    "tags": []
   },
   "outputs": [],
   "source": [
    "# For the first input sample [1, 1, 1], the model predicts a probability of approximately 0.998 for class 1 and a probability of approximately 0.002 for class 0.\n",
    "\n",
    "# Similarly, for the second input sample [1, 1, 2], the model predicts a probability of approximately 0.998 for class 1 and a probability of approximately 0.002 for class 0."
   ]
  }
 ],
 "metadata": {
  "kaggle": {
   "accelerator": "none",
   "dataSources": [
    {
     "datasetId": 18106,
     "sourceId": 23697,
     "sourceType": "datasetVersion"
    }
   ],
   "dockerImageVersionId": 30626,
   "isGpuEnabled": false,
   "isInternetEnabled": true,
   "language": "python",
   "sourceType": "notebook"
  },
  "kernelspec": {
   "display_name": "Python 3",
   "language": "python",
   "name": "python3"
  },
  "language_info": {
   "codemirror_mode": {
    "name": "ipython",
    "version": 3
   },
   "file_extension": ".py",
   "mimetype": "text/x-python",
   "name": "python",
   "nbconvert_exporter": "python",
   "pygments_lexer": "ipython3",
   "version": "3.10.12"
  },
  "papermill": {
   "default_parameters": {},
   "duration": 39.125807,
   "end_time": "2023-12-26T06:24:29.002469",
   "environment_variables": {},
   "exception": null,
   "input_path": "__notebook__.ipynb",
   "output_path": "__notebook__.ipynb",
   "parameters": {},
   "start_time": "2023-12-26T06:23:49.876662",
   "version": "2.4.0"
  }
 },
 "nbformat": 4,
 "nbformat_minor": 5
}
